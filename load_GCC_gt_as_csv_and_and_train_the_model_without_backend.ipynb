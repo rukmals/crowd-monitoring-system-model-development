{
  "nbformat": 4,
  "nbformat_minor": 0,
  "metadata": {
    "colab": {
      "name": "load  GCC gt as csv and and train the model without backend.ipynb",
      "provenance": [],
      "collapsed_sections": [],
      "authorship_tag": "ABX9TyMmEn3fANu06oRnd+skkKiW",
      "include_colab_link": true
    },
    "kernelspec": {
      "display_name": "Python 3",
      "name": "python3"
    },
    "language_info": {
      "name": "python"
    }
  },
  "cells": [
    {
      "cell_type": "markdown",
      "metadata": {
        "id": "view-in-github",
        "colab_type": "text"
      },
      "source": [
        "<a href=\"https://colab.research.google.com/github/rukmals/crowd-monitoring-system-model-development/blob/main/load_GCC_gt_as_csv_and_and_train_the_model_without_backend.ipynb\" target=\"_parent\"><img src=\"https://colab.research.google.com/assets/colab-badge.svg\" alt=\"Open In Colab\"/></a>"
      ]
    },
    {
      "cell_type": "code",
      "metadata": {
        "id": "kWCvpL-qLEzC",
        "colab": {
          "base_uri": "https://localhost:8080/"
        },
        "outputId": "fe9a04d5-03d9-435f-f5c8-aab3a880ed14"
      },
      "source": [
        "from google.colab import drive\n",
        "drive.mount('/content/drive')"
      ],
      "execution_count": null,
      "outputs": [
        {
          "output_type": "stream",
          "name": "stdout",
          "text": [
            "Go to this URL in a browser: https://accounts.google.com/o/oauth2/auth?client_id=947318989803-6bn6qk8qdgf4n4g3pfee6491hc0brc4i.apps.googleusercontent.com&redirect_uri=urn%3aietf%3awg%3aoauth%3a2.0%3aoob&scope=email%20https%3a%2f%2fwww.googleapis.com%2fauth%2fdocs.test%20https%3a%2f%2fwww.googleapis.com%2fauth%2fdrive%20https%3a%2f%2fwww.googleapis.com%2fauth%2fdrive.photos.readonly%20https%3a%2f%2fwww.googleapis.com%2fauth%2fpeopleapi.readonly%20https%3a%2f%2fwww.googleapis.com%2fauth%2fdrive.activity.readonly%20https%3a%2f%2fwww.googleapis.com%2fauth%2fexperimentsandconfigs%20https%3a%2f%2fwww.googleapis.com%2fauth%2fphotos.native&response_type=code\n",
            "\n",
            "Enter your authorization code:\n",
            "4/1AX4XfWjjCvnUPDiH01QjQmWRv_tFdkdop1Vmg0dHCUSX3hiCNg2Oj3tzyyM\n",
            "Mounted at /content/drive\n"
          ]
        }
      ]
    },
    {
      "cell_type": "code",
      "metadata": {
        "colab": {
          "base_uri": "https://localhost:8080/"
        },
        "id": "QwHrZ8FfLbtK",
        "outputId": "cb1ee136-4514-422a-f4c6-4ba68e16a5da"
      },
      "source": [
        "!ln -sf /opt/bin/nvidia-smi /usr/bin/nvidia-smi\n",
        "!pip install gputil\n",
        "!pip install psutil\n",
        "!pip install humanize"
      ],
      "execution_count": null,
      "outputs": [
        {
          "output_type": "stream",
          "name": "stdout",
          "text": [
            "Collecting gputil\n",
            "  Downloading GPUtil-1.4.0.tar.gz (5.5 kB)\n",
            "Building wheels for collected packages: gputil\n",
            "  Building wheel for gputil (setup.py) ... \u001b[?25l\u001b[?25hdone\n",
            "  Created wheel for gputil: filename=GPUtil-1.4.0-py3-none-any.whl size=7411 sha256=7e3730a1bdcd1a3a100ccb009c84c8d3e9eaa7bc36a85ce52eac003e648a41fc\n",
            "  Stored in directory: /root/.cache/pip/wheels/6e/f8/83/534c52482d6da64622ddbf72cd93c35d2ef2881b78fd08ff0c\n",
            "Successfully built gputil\n",
            "Installing collected packages: gputil\n",
            "Successfully installed gputil-1.4.0\n",
            "Requirement already satisfied: psutil in /usr/local/lib/python3.7/dist-packages (5.4.8)\n",
            "Requirement already satisfied: humanize in /usr/local/lib/python3.7/dist-packages (0.5.1)\n"
          ]
        }
      ]
    },
    {
      "cell_type": "code",
      "metadata": {
        "colab": {
          "base_uri": "https://localhost:8080/"
        },
        "id": "NpiL-7tBLoba",
        "outputId": "02bbfce4-a499-4c38-cef0-09197b10fa5d"
      },
      "source": [
        "import psutil\n",
        "import humanize\n",
        "import os\n",
        "import GPUtil as GPU\n",
        "GPUs = GPU.getGPUs()\n",
        "# XXX: only one GPU on Colab and isn’t guaranteed\n",
        "gpu = GPUs[0]\n",
        "def printm():\n",
        " process = psutil.Process(os.getpid())\n",
        " print(\"Gen RAM Free: \" + humanize.naturalsize( psutil.virtual_memory().available ), \" | Proc size: \" + humanize.naturalsize( process.memory_info().rss))\n",
        " print(\"GPU RAM Free: {0:.0f}MB | Used: {1:.0f}MB | Util {2:3.0f}% | Total {3:.0f}MB\".format(gpu.memoryFree, gpu.memoryUsed, gpu.memoryUtil*100, gpu.memoryTotal))\n",
        "printm()"
      ],
      "execution_count": null,
      "outputs": [
        {
          "output_type": "stream",
          "name": "stdout",
          "text": [
            "Gen RAM Free: 26.3 GB  | Proc size: 118.6 MB\n",
            "GPU RAM Free: 16280MB | Used: 0MB | Util   0% | Total 16280MB\n"
          ]
        }
      ]
    },
    {
      "cell_type": "code",
      "metadata": {
        "id": "amOitkNdNiZC"
      },
      "source": [
        "import random\n",
        "import os\n",
        "from PIL import Image,ImageFilter,ImageDraw\n",
        "import numpy as np\n",
        "import h5py\n",
        "from PIL import ImageStat\n",
        "import glob\n",
        "from sklearn.model_selection import train_test_split\n",
        "import json\n",
        "\n",
        "import sys\n",
        "import warnings\n",
        "# import from library\n",
        "import torch\n",
        "import torch.nn as nn\n",
        "from torch.autograd import Variable\n",
        "from torchvision import datasets, transforms\n",
        "import numpy as np\n",
        "import argparse\n",
        "import json\n",
        "import cv2\n",
        "import time\n",
        "from torchvision import models"
      ],
      "execution_count": null,
      "outputs": []
    },
    {
      "cell_type": "code",
      "metadata": {
        "id": "i3557jjBLqu4"
      },
      "source": [
        "import torch\n",
        "import torch.nn as nn\n",
        "import torch.nn.functional as F\n",
        "from torchvision import models\n",
        "\n",
        "class Conv2d(nn.Module):\n",
        "    def __init__(self, in_channels, out_channels, kernel_size, \\\n",
        "                stride=1, NL='relu', same_padding=False, bn=False, dilation=1):\n",
        "        super(Conv2d, self).__init__()\n",
        "        padding = int((kernel_size - 1) // 2) if same_padding else 0\n",
        "        self.conv = []\n",
        "        if dilation==1:\n",
        "            self.conv = nn.Conv2d(in_channels, out_channels, kernel_size, stride, padding=padding, dilation=dilation)\n",
        "        else:\n",
        "            self.conv = nn.Conv2d(in_channels, out_channels, kernel_size, stride, padding=dilation, dilation=dilation)\n",
        "        self.bn = nn.BatchNorm2d(out_channels, eps=0.001, momentum=0, affine=True) if bn else nn.Identity()\n",
        "        if NL == 'relu' :\n",
        "            self.relu = nn.ReLU(inplace=True)\n",
        "        elif NL == 'prelu':\n",
        "            self.relu = nn.PReLU()\n",
        "        else:\n",
        "            self.relu = None\n",
        "\n",
        "    def forward(self, x):\n",
        "      x = self.conv(x)\n",
        "      if self.bn is not None:\n",
        "          x = self.bn(x)\n",
        "      if self.relu is not None:\n",
        "          x = self.relu(x)   \n",
        "      return x\n",
        "  \n",
        "# the module definition for the multi-branch in the density head\n",
        "class MultiBranchModule(nn.Module):\n",
        "    def __init__(self, in_channels, sync=False):\n",
        "        super(MultiBranchModule, self).__init__()\n",
        "        self.branch_column1_1 = BasicConv2d(in_channels, in_channels//2, kernel_size=1, sync=sync)\n",
        "        self.branch_column1_2 = BasicConv2d(in_channels//2, in_channels, kernel_size=1, sync=sync)\n",
        "\n",
        "        self.branch_column2_1 = BasicConv2d(in_channels, in_channels//2, kernel_size=1, sync=sync)\n",
        "        self.branch_column2_2 = BasicConv2d(in_channels // 2, in_channels, kernel_size=(3, 3), padding=(1, 1), sync=sync)\n",
        "\n",
        "        self.branch_column3_1 = BasicConv2d(in_channels, in_channels//2, kernel_size=1, sync=sync)\n",
        "        self.branch_column3_2 = BasicConv2d(in_channels // 2, in_channels, kernel_size=5, padding=2, sync=sync)\n",
        "\n",
        "    def forward(self, x):\n",
        "        branch_1 = self.branch_column1_1(x)\n",
        "        branch_1 = self.branch_column1_2(branch_1)\n",
        "\n",
        "        branch_2 = self.branch_column2_1(x)\n",
        "        branch_2 = self.branch_column2_2(branch_2)\n",
        "\n",
        "        branch_3 = self.branch_column3_1(x)\n",
        "        branch_3 = self.branch_column3_2(branch_3)\n",
        "\n",
        "        outputs = [branch_1, branch_2, branch_3, x]\n",
        "        return torch.cat(outputs, 1)\n",
        "\n",
        "# the module definition for the basic conv module\n",
        "class BasicConv2d(nn.Module):\n",
        "\n",
        "    def __init__(self, in_channels, out_channels, sync=False, **kwargs):\n",
        "        super(BasicConv2d, self).__init__()\n",
        "        self.conv = nn.Conv2d(in_channels, out_channels, bias=False, **kwargs)\n",
        "        if sync:\n",
        "            # for sync bn\n",
        "            print('use sync inception')\n",
        "            self.bn = nn.SyncBatchNorm(out_channels, eps=0.001)\n",
        "        else:\n",
        "            self.bn = nn.BatchNorm2d(out_channels, eps=0.001)\n",
        "\n",
        "    def forward(self, x):\n",
        "        x = self.conv(x)\n",
        "        x = self.bn(x)\n",
        "        return F.relu(x, inplace=True)\n",
        "\n",
        "\n",
        "class TestNet(nn.Module):\n",
        "    def __init__(self, pretrained=True):\n",
        "        super(TestNet, self).__init__()\n",
        "        \n",
        "        vgg = models.vgg16_bn(pretrained=pretrained)\n",
        "        \n",
        "        self.backend_feat  = [256,128,64]\n",
        "\n",
        "\n",
        "        # Front End Development VGG - 16 \n",
        "        features = list(vgg.features.children())\n",
        "        # get each stage of the VGG - 16\n",
        "        self.features1 = nn.Sequential(*features[0:6])\n",
        "        self.features2 = nn.Sequential(*features[6:13])\n",
        "        self.features3 = nn.Sequential(*features[13:23])\n",
        "        self.features4 = nn.Sequential(*features[23:33])\n",
        "        self.features5 = nn.Sequential(*features[33:43])\n",
        "\n",
        "        # Front End Development P1 to P5 \n",
        "        self.p5 = nn.Sequential(\n",
        "            Conv2d(512, 1024, 3, same_padding=True, NL='relu'),\n",
        "            Conv2d(1024, 512, 3, same_padding=True, NL='relu'),\n",
        "        )\n",
        "\n",
        "        self.p4 = nn.Sequential(\n",
        "            Conv2d(1024, 512, 3, same_padding=True, NL='relu'),\n",
        "            Conv2d(512, 256, 3, same_padding=True, NL='relu'),\n",
        "        )\n",
        "\n",
        "        self.p3 = nn.Sequential(\n",
        "            Conv2d(512 , 256, 3, same_padding=True, NL='relu'),\n",
        "            Conv2d(256, 128, 3, same_padding=True, NL='relu'),\n",
        "        )\n",
        "\n",
        "        self.p2 = nn.Sequential(\n",
        "            Conv2d(256, 128, 3, same_padding=True, NL='relu'),\n",
        "            Conv2d(128, 64, 3, same_padding=True, NL='relu'),\n",
        "        )\n",
        "\n",
        "        self.p1 = nn.Sequential(\n",
        "            Conv2d(128, 64, 3, same_padding=True, NL='relu'),\n",
        "            Conv2d(64, 64, 3, same_padding=True, NL='relu'),\n",
        "        ) \n",
        "\n",
        "        # Multi-Branch moules\n",
        "        self.multi_branch5 = nn.Sequential(\n",
        "            MultiBranchModule(512),\n",
        "            Conv2d(2048, 1, 1, same_padding=True)\n",
        "        )\n",
        "\n",
        "        self.multi_branch4 = nn.Sequential(\n",
        "            MultiBranchModule(256),\n",
        "            Conv2d(1024, 1, 1, same_padding=True)\n",
        "        )\n",
        "\n",
        "        self.multi_branch3 = nn.Sequential(\n",
        "            MultiBranchModule(128),\n",
        "            Conv2d(512, 1, 1, same_padding=True)\n",
        "        )\n",
        "\n",
        "        self.multi_branch2 = nn.Sequential(\n",
        "            MultiBranchModule(64),\n",
        "            Conv2d(256, 1, 1, same_padding=True)\n",
        "        )\n",
        "\n",
        "        self.multi_branch1 = nn.Sequential(\n",
        "            MultiBranchModule(64),\n",
        "            Conv2d(256, 1, 1, same_padding=True)\n",
        "        )\n",
        "\n",
        "        self.backend = make_layers(self.backend_feat,in_channels = 5,dilation = True)\n",
        "\n",
        "        self.output_layer = nn.Conv2d(5, 1, kernel_size=1)\n",
        "\n",
        "    \n",
        "    \n",
        "    def forward(self, x):\n",
        "        size = x.size()\n",
        "        x1 = self.features1(x)\n",
        "        x2 = self.features2(x1)\n",
        "        x3 = self.features3(x2)\n",
        "        x4 = self.features4(x3)\n",
        "        x5 = self.features5(x4)\n",
        "\n",
        "        # Front End Development P1 to P5 \n",
        "        x = self.p5(x5)\n",
        "        x5_out = x\n",
        "        x = F.upsample_bilinear(x, size=x4.size()[2:])\n",
        "\n",
        "        x = torch.cat([x4, x], 1)\n",
        "        x = self.p4(x)\n",
        "        x4_out = x\n",
        "        x = F.upsample_bilinear(x, size=x3.size()[2:])\n",
        "\n",
        "        x = torch.cat([x3, x], 1)\n",
        "        x = self.p3(x)\n",
        "        x3_out = x\n",
        "        x = F.upsample_bilinear(x, size=x2.size()[2:])\n",
        "\n",
        "        x = torch.cat([x2, x], 1)\n",
        "        x = self.p2(x)\n",
        "        x2_out = x\n",
        "        x = F.upsample_bilinear(x, size=x1.size()[2:])\n",
        "\n",
        "        x = torch.cat([x1, x], 1)\n",
        "        x = self.p1(x)\n",
        "        x1_out = x\n",
        "\n",
        "\n",
        "        # multi-branch predictions\n",
        "        x5_density = self.multi_branch5(x5_out)\n",
        "        x4_density = self.multi_branch4(x4_out)\n",
        "        x3_density = self.multi_branch3(x3_out)\n",
        "        x2_density = self.multi_branch2(x2_out)\n",
        "        x1_density = self.multi_branch1(x1_out)\n",
        "\n",
        "        # upsample the multi-branch predictions to be the same with the input size\n",
        "        x5_density = F.upsample_nearest(x5_density, size=x1.size()[2:])\n",
        "        x4_density = F.upsample_nearest(x4_density, size=x1.size()[2:])\n",
        "        x3_density = F.upsample_nearest(x3_density, size=x1.size()[2:])\n",
        "        x2_density = F.upsample_nearest(x2_density, size=x1.size()[2:])\n",
        "        x1_density = F.upsample_nearest(x1_density, size=x1.size()[2:])\n",
        "\n",
        "\n",
        "        density_map = torch.cat([x5_density, x4_density, x3_density, x2_density, x1_density], 1)\n",
        "\n",
        "\n",
        "        #x_out = self.backend(density_map)\n",
        "        density_map_out = self.output_layer(density_map)\n",
        "        return density_map_out\n",
        "        #return density_map\n",
        "                \n",
        "                \n",
        "def make_layers(cfg, in_channels = 3,batch_norm=False,dilation = False):\n",
        "    layers = []\n",
        "    dilation_rates = [2,3,5]\n",
        "    #for v in cfg:\n",
        "    for v in range(len(cfg)):\n",
        "        if cfg[v] == 'M':\n",
        "            layers += [nn.MaxPool2d(kernel_size=2, stride=2)]\n",
        "        else:\n",
        "            conv2d = nn.Conv2d(in_channels, cfg[v], kernel_size=3, padding=dilation_rates[v],dilation = dilation_rates[v])\n",
        "            if batch_norm:\n",
        "                layers += [conv2d, nn.BatchNorm2d(cfg[v]), nn.ReLU(inplace=True)]\n",
        "            else:\n",
        "                layers += [conv2d, nn.ReLU(inplace=True)]\n",
        "            in_channels = cfg[v]\n",
        "    return nn.Sequential(*layers)"
      ],
      "execution_count": null,
      "outputs": []
    },
    {
      "cell_type": "code",
      "metadata": {
        "id": "w1QMlYgDLxn8"
      },
      "source": [
        "import numbers\n",
        "import random\n",
        "import numpy as np\n",
        "from PIL import Image, ImageOps, ImageFilter\n",
        "import torch\n",
        "\n",
        "class LabelNormalize(object):\n",
        "    def __init__(self, para):\n",
        "        self.para = para\n",
        "\n",
        "    def __call__(self, tensor):\n",
        "        # tensor = 1./(tensor+self.para).log()\n",
        "        tensor = torch.from_numpy(np.array(tensor))\n",
        "        tensor = tensor*self.para\n",
        "        return tensor\n",
        "\n",
        "\n",
        "class Compose(object):\n",
        "    def __init__(self, transforms):\n",
        "        self.transforms = transforms\n",
        "\n",
        "    def __call__(self, img, mask, bbx=None):\n",
        "        if bbx is None:\n",
        "            for t in self.transforms:\n",
        "                img, mask = t(img, mask)\n",
        "            return img, mask\n",
        "        for t in self.transforms:\n",
        "            img, mask, bbx = t(img, mask, bbx)\n",
        "        return img, mask, bbx\n",
        "\n",
        "class RandomHorizontallyFlip(object):\n",
        "    def __call__(self, img, mask, bbx=None):\n",
        "        if random.random() < 0.5:\n",
        "            if bbx is None:\n",
        "                return img.transpose(Image.FLIP_LEFT_RIGHT), mask.transpose(Image.FLIP_LEFT_RIGHT)\n",
        "            w, h = img.size\n",
        "            xmin = w - bbx[:,3]\n",
        "            xmax = w - bbx[:,1]\n",
        "            bbx[:,1] = xmin\n",
        "            bbx[:,3] = xmax\n",
        "            return img.transpose(Image.FLIP_LEFT_RIGHT), mask.transpose(Image.FLIP_LEFT_RIGHT), bbx\n",
        "        if bbx is None:\n",
        "            return img, mask\n",
        "        return img, mask, bbx\n",
        "\n",
        "class RandomCrop(object):\n",
        "    def __init__(self, size, padding=0):\n",
        "        if isinstance(size, numbers.Number):\n",
        "            self.size = (int(size), int(size))\n",
        "        else:\n",
        "            self.size = size\n",
        "        self.padding = padding\n",
        "\n",
        "    def __call__(self, img, mask):\n",
        "\n",
        "        w, h = img.size\n",
        "        th, tw  = self.size\n",
        "        if w == tw and h == th:\n",
        "            return img, mask\n",
        "        if w < tw or h < th:\n",
        "            return img.resize((tw, th), Image.BILINEAR), mask.resize((tw, th), Image.NEAREST)\n",
        "\n",
        "        x1 = random.randint(0, w - tw)\n",
        "        y1 = random.randint(0, h - th)\n",
        "        return img.crop((x1, y1, x1 + tw, y1 + th)), mask.crop((x1, y1, x1 + tw, y1 + th))"
      ],
      "execution_count": null,
      "outputs": []
    },
    {
      "cell_type": "code",
      "metadata": {
        "id": "lJ-2k7BAL50R"
      },
      "source": [
        "import os\n",
        "import random\n",
        "import pandas as pd\n",
        "import torch\n",
        "import numpy as np\n",
        "from torch.utils.data import Dataset\n",
        "from PIL import Image\n",
        "\n",
        "def load_data(img_path,train = True):\n",
        "    #path = \"/content/drive/MyDrive/GCC_CSV_DataSet/Part 0/scene_00_0/csv_den_maps_k15_s4_544_960\"\n",
        "    gt_path = img_path.replace('.png','.csv').replace('pngs_544_960','csv_den_maps_k15_s4_544_960')\n",
        "    img = Image.open(img_path)\n",
        "    target = pd.read_csv(gt_path, sep=',', header=None).values\n",
        "    target = target.astype(np.float32, copy=False)\n",
        "    target = Image.fromarray(target)\n",
        "    return img,target\n",
        "\n",
        "\n",
        "class ListDataset(Dataset):\n",
        "    def __init__(self, root, shape=None, shuffle=True, main_transform = None , img_transform=None, gt_transform = None, train=False, batch_size=1, num_workers=4):\n",
        "        \"\"\"\n",
        "        if you have different image size, then batch_size must be 1\n",
        "        :param root:\n",
        "        :param shape:\n",
        "        :param shuffle:\n",
        "        :param transform:\n",
        "        :param train:\n",
        "        :param seen:\n",
        "        :param batch_size:\n",
        "        :param num_workers:\n",
        "        \"\"\"\n",
        "        #if train:\n",
        "            #root = root *4\n",
        "        if shuffle:\n",
        "            random.shuffle(root)\n",
        "        \n",
        "        self.nSamples = len(root)\n",
        "        self.lines = root\n",
        "        self.main_transform = main_transform\n",
        "        self.img_transform = img_transform\n",
        "        self.gt_transform = gt_transform\n",
        "        self.train = train\n",
        "        self.shape = shape\n",
        "        self.batch_size = batch_size\n",
        "        self.num_workers = num_workers\n",
        "        \n",
        "    def __len__(self):\n",
        "        return self.nSamples\n",
        "\n",
        "    def __getitem__(self, index):\n",
        "        assert index <= len(self), 'index range error' \n",
        "        \n",
        "        img_path = self.lines[index]\n",
        "        \n",
        "        img,target = load_data(img_path,self.train)\n",
        "\n",
        "        if self.main_transform is not None:\n",
        "            img, target = self.main_transform(img, target)\n",
        "        if self.img_transform is not None:\n",
        "            img = self.img_transform(img)\n",
        "        if self.gt_transform is not None:\n",
        "            target = self.gt_transform(target)   \n",
        "        return img,target"
      ],
      "execution_count": null,
      "outputs": []
    },
    {
      "cell_type": "code",
      "metadata": {
        "id": "y9JI_qLxL-SG",
        "colab": {
          "base_uri": "https://localhost:8080/",
          "height": 66,
          "referenced_widgets": [
            "89663d1490fe499ab221745be1920dec"
          ]
        },
        "outputId": "1ff7642d-b02b-4fdb-d6ea-4336bd0e31de"
      },
      "source": [
        "model = TestNet()\n",
        "model = model.cuda()"
      ],
      "execution_count": null,
      "outputs": [
        {
          "output_type": "stream",
          "name": "stderr",
          "text": [
            "Downloading: \"https://download.pytorch.org/models/vgg16_bn-6c64b313.pth\" to /root/.cache/torch/hub/checkpoints/vgg16_bn-6c64b313.pth\n"
          ]
        },
        {
          "output_type": "display_data",
          "data": {
            "application/vnd.jupyter.widget-view+json": {
              "model_id": "89663d1490fe499ab221745be1920dec",
              "version_minor": 0,
              "version_major": 2
            },
            "text/plain": [
              "  0%|          | 0.00/528M [00:00<?, ?B/s]"
            ]
          },
          "metadata": {}
        }
      ]
    },
    {
      "cell_type": "code",
      "metadata": {
        "id": "3b3BMdhvMCyJ"
      },
      "source": [
        "def get_image_path(file_path):\n",
        "  file_path_list = file_path.split(\" \")\n",
        "  scene = file_path_list[3][4:]\n",
        "  image_number = file_path_list[4]\n",
        "  image_path = \"/content/drive/MyDrive/GCC_CSV_DataSet/\"+\"Part\"+\"_\"+scene[7]+scene+\"/\"+\"pngs_544_960/\"+image_number+\".png\"\n",
        "  return image_path\n",
        "  \n",
        "def get_image_pathlist(path_list, part):\n",
        "    image_path_list_part_ = []\n",
        "    for line_ in path_list:\n",
        "        if line_.find(part)!=-1:\n",
        "            image_path_list_part_.append(line_)\n",
        "    return image_path_list_part_\n",
        "\n",
        "def extract_image_path_list(image_file, part):\n",
        "  file_ = open(image_file, 'r')\n",
        "  file_list = file_.readlines()\n",
        "  image_path_list_train = []  \n",
        "  for line in file_list:\n",
        "      image_path_list_train.append(get_image_path(line))\n",
        "  train_list = get_image_pathlist(image_path_list_train, part)\n",
        "  print(\"data size: \",len(train_list))\n",
        "  return train_list\n",
        "\n"
      ],
      "execution_count": null,
      "outputs": []
    },
    {
      "cell_type": "code",
      "metadata": {
        "id": "iyIrTXhZfZX6"
      },
      "source": [
        "#img , target = load_data(\"/content/drive/MyDrive/GCC_CSV_DataSet/Part 0/scene_00_2/pngs_544_960/1536454705.png\")\n",
        "#gt_transform = transforms.Compose([LabelNormalize(100)])\n",
        "#target = gt_transform(target)\n",
        "#target[120]"
      ],
      "execution_count": null,
      "outputs": []
    },
    {
      "cell_type": "code",
      "metadata": {
        "colab": {
          "base_uri": "https://localhost:8080/"
        },
        "id": "0EtfrDC8Mf5q",
        "outputId": "30843f20-7a2a-4697-c3d6-c89da26639b4"
      },
      "source": [
        "train_list = '/content/drive/MyDrive/GCC/train_list.txt'\n",
        "part0_train_list = extract_image_path_list(train_list, \"Part_0\")\n",
        "part1_train_list = extract_image_path_list(train_list, \"Part_1\")\n",
        "part2_train_list = extract_image_path_list(train_list, \"Part_2\")\n",
        "part3_train_list = extract_image_path_list(train_list, \"Part_3\")\n",
        "part4_train_list = extract_image_path_list(train_list, \"Part_4\")\n",
        "part5_train_list = extract_image_path_list(train_list, \"Part_5\")\n",
        "part6_train_list = extract_image_path_list(train_list, \"Part_6\")\n",
        "part7_train_list = extract_image_path_list(train_list, \"Part_7\")\n",
        "part8_train_list = extract_image_path_list(train_list, \"Part_8\")\n",
        "part9_train_list = extract_image_path_list(train_list, \"Part_9\")"
      ],
      "execution_count": null,
      "outputs": [
        {
          "output_type": "stream",
          "name": "stdout",
          "text": [
            "data size:  1320\n",
            "data size:  1160\n",
            "data size:  1258\n",
            "data size:  1135\n",
            "data size:  1055\n",
            "data size:  1037\n",
            "data size:  1000\n",
            "data size:  1026\n",
            "data size:  992\n",
            "data size:  1461\n"
          ]
        }
      ]
    },
    {
      "cell_type": "code",
      "metadata": {
        "colab": {
          "base_uri": "https://localhost:8080/"
        },
        "id": "UbLio890MlVn",
        "outputId": "3fa6b22a-38c6-449e-aeb6-ebf62cd6ef8c"
      },
      "source": [
        "test_list = '/content/drive/MyDrive/GCC/test_list.txt'\n",
        "part0_test_list = extract_image_path_list(test_list, \"Part_0\")\n",
        "part1_test_list = extract_image_path_list(test_list, \"Part_1\")\n",
        "part2_test_list = extract_image_path_list(test_list, \"Part_2\")\n",
        "part3_test_list = extract_image_path_list(test_list, \"Part_3\")\n",
        "part4_test_list = extract_image_path_list(test_list, \"Part_4\")\n",
        "part5_test_list = extract_image_path_list(test_list, \"Part_5\")\n",
        "part6_test_list = extract_image_path_list(test_list, \"Part_6\")\n",
        "part7_test_list = extract_image_path_list(test_list, \"Part_7\")\n",
        "part8_test_list = extract_image_path_list(test_list, \"Part_8\")\n",
        "part9_test_list = extract_image_path_list(test_list, \"Part_9\")"
      ],
      "execution_count": null,
      "outputs": [
        {
          "output_type": "stream",
          "name": "stdout",
          "text": [
            "data size:  473\n",
            "data size:  385\n",
            "data size:  415\n",
            "data size:  368\n",
            "data size:  356\n",
            "data size:  335\n",
            "data size:  341\n",
            "data size:  322\n",
            "data size:  335\n",
            "data size:  438\n"
          ]
        }
      ]
    },
    {
      "cell_type": "code",
      "metadata": {
        "id": "PE7Nh17HT0Be"
      },
      "source": [
        "train_data = part0_train_list + part1_train_list+part2_train_list+part3_train_list+part4_train_list+part5_train_list+part6_train_list+part7_train_list+part8_train_list+part9_train_list\n",
        "test_data = part0_test_list + part1_test_list+part2_test_list+part3_test_list+part4_test_list+part5_test_list+part6_test_list+part7_test_list+part8_test_list+part9_test_list"
      ],
      "execution_count": null,
      "outputs": []
    },
    {
      "cell_type": "code",
      "metadata": {
        "colab": {
          "base_uri": "https://localhost:8080/",
          "height": 35
        },
        "id": "At5WOXT1gao2",
        "outputId": "4c124e74-c50b-40bd-e0ee-21e493b153ed"
      },
      "source": [
        "test_data[0]"
      ],
      "execution_count": null,
      "outputs": [
        {
          "output_type": "execute_result",
          "data": {
            "application/vnd.google.colaboratory.intrinsic+json": {
              "type": "string"
            },
            "text/plain": [
              "'/content/drive/MyDrive/GCC_CSV_DataSet/Part_0/scene_00_0/pngs_544_960/1536387597.png'"
            ]
          },
          "metadata": {},
          "execution_count": 55
        }
      ]
    },
    {
      "cell_type": "code",
      "metadata": {
        "id": "gUF3XAxSMs-t"
      },
      "source": [
        "sou_main_transform = Compose([\n",
        "        RandomCrop((480,480)),\n",
        "        RandomHorizontallyFlip(),\n",
        "        # Rand_Augment()\n",
        "    ])\n",
        "train_loader = torch.utils.data.DataLoader(ListDataset(train_data,shuffle=True,\n",
        "                                                                main_transform = sou_main_transform,\n",
        "                                                                img_transform=transforms.Compose([\n",
        "                                                                transforms.ToTensor(), \n",
        "                                                                transforms.Normalize(mean=[0.302234709263, 0.291243076324, 0.269087553024],\n",
        "                                                                                 std=[0.227743327618, 0.211051672697, 0.184846073389]),\n",
        "                                                                ]),\n",
        "                                                                gt_transform = transforms.Compose([\n",
        "                                                                                LabelNormalize(100)\n",
        "                                                                ]),\n",
        "                                                                train=True,\n",
        "                                                                batch_size=4,\n",
        "                                                                num_workers=2),batch_size=4)"
      ],
      "execution_count": null,
      "outputs": []
    },
    {
      "cell_type": "code",
      "metadata": {
        "id": "Smrt_CsFO77T"
      },
      "source": [
        "test_loader = torch.utils.data.DataLoader(ListDataset(test_data,shuffle=False,\n",
        "                                                                main_transform = None,\n",
        "                                                                img_transform=transforms.Compose([\n",
        "                                                                transforms.ToTensor(), \n",
        "                                                                transforms.Normalize(mean=[0.302234709263, 0.291243076324, 0.269087553024],\n",
        "                                                                                 std=[0.227743327618, 0.211051672697, 0.184846073389]),\n",
        "                                                                ]),\n",
        "                                                                gt_transform = transforms.Compose([\n",
        "                                                                                LabelNormalize(100)\n",
        "                                                                ]),\n",
        "                                                                train=True,\n",
        "                                                                batch_size=4,\n",
        "                                                                num_workers=2),batch_size=4)"
      ],
      "execution_count": null,
      "outputs": []
    },
    {
      "cell_type": "code",
      "metadata": {
        "colab": {
          "base_uri": "https://localhost:8080/"
        },
        "id": "qTXyNkc4NY9_",
        "outputId": "3c397449-8907-48b4-c6a3-56b31cf237c6"
      },
      "source": [
        "lr = 1e-5\n",
        "criterion = nn.MSELoss(size_average=False).cuda()\n",
        "\n",
        "#optimizer = torch.optim.SGD(model.parameters(), lr,momentum=0.95,weight_decay=5 * 1e-4)\n",
        "\n",
        "optimizer = torch.optim.Adam(model.parameters(), lr=lr, weight_decay=1e-4)\n",
        "\n",
        "scheduler = torch.optim.lr_scheduler.StepLR(optimizer, step_size=2, gamma=0.98)"
      ],
      "execution_count": null,
      "outputs": [
        {
          "output_type": "stream",
          "name": "stderr",
          "text": [
            "/usr/local/lib/python3.7/dist-packages/torch/nn/_reduction.py:42: UserWarning: size_average and reduce args will be deprecated, please use reduction='sum' instead.\n",
            "  warnings.warn(warning.format(ret))\n"
          ]
        }
      ]
    },
    {
      "cell_type": "code",
      "metadata": {
        "id": "5kyh5kLuNryj"
      },
      "source": [
        "class AverageMeter(object):\n",
        "    \"\"\"Computes and stores the average and current value\"\"\"\n",
        "\n",
        "    def __init__(self):\n",
        "        self.reset()\n",
        "\n",
        "    def reset(self):\n",
        "        self.cur_val = 0\n",
        "        self.avg = 0\n",
        "        self.sum = 0\n",
        "        self.count = 0\n",
        "\n",
        "    def update(self, cur_val):\n",
        "        self.cur_val = cur_val\n",
        "        self.sum += cur_val\n",
        "        self.count += 1\n",
        "        self.avg = self.sum / self.count"
      ],
      "execution_count": null,
      "outputs": []
    },
    {
      "cell_type": "code",
      "metadata": {
        "id": "ry8xBvsGNui5"
      },
      "source": [
        "\n",
        "def mae_mse_update(pred,label,maes,mses=None,ssims=None,psnrs=None,losses=None,cls_id=None):\n",
        "        for num in range(pred.size()[0]):\n",
        "            sub_pred = pred[num].data.cpu().squeeze().numpy()/ 100\n",
        "            sub_label = label[num].data.cpu().squeeze().numpy() / 100\n",
        "            pred_cnt = np.sum(sub_pred)\n",
        "            gt_cnt =   np.sum(sub_label)\n",
        "            mae = abs(pred_cnt - gt_cnt)\n",
        "            mse = (pred_cnt - gt_cnt)*(pred_cnt - gt_cnt)\n",
        "\n",
        "            if ssims and psnrs is not None:\n",
        "                ssims.update(get_ssim(sub_label,sub_pred))\n",
        "                psnrs.update(get_psnr(sub_label,sub_pred))\n",
        "\n",
        "            if cls_id is not None:\n",
        "                maes.update(mae,cls_id)\n",
        "                if losses is not None:\n",
        "                    loss = F.mse_loss(pred.detach().squeeze(), label.detach().squeeze())\n",
        "                    losses.update(loss.item(),cls_id)\n",
        "                if mses is not None:\n",
        "                    mses.update(mse,cls_id)\n",
        "            else:\n",
        "                maes.update(mae)\n",
        "                if losses is not None:\n",
        "                    loss = F.mse_loss(pred.detach().squeeze(), label.detach().squeeze())\n",
        "                    losses.update(loss.item())\n",
        "                if mses is not None:\n",
        "                    mses.update(mse)\n",
        "\n",
        "        return pred_cnt,gt_cnt"
      ],
      "execution_count": null,
      "outputs": []
    },
    {
      "cell_type": "code",
      "metadata": {
        "colab": {
          "base_uri": "https://localhost:8080/"
        },
        "id": "sN6re_JLcWLe",
        "outputId": "8868a137-4629-40c8-db5b-1018ae9ae8b7"
      },
      "source": [
        "PATH = '/content/drive/MyDrive/GCC_CSV_DataSet/model/TestNet_checkpoint_gcc_data_Whole_aug_withoutBackend.pth'\n",
        "end_epoch = 13\n",
        "start_epoch = 0\n",
        "if (os.path.isfile(PATH))==True:\n",
        "  checkpoint = torch.load(PATH)\n",
        "  model.load_state_dict(checkpoint['model_state_dict'])\n",
        "  optimizer.load_state_dict(checkpoint['optimizer_state_dict'])\n",
        "  start_epoch = checkpoint['epoch']\n",
        "  loss = checkpoint['loss']\n",
        "  print(\"Successfully load the check point\")\n",
        "else:\n",
        "  print(\"No check point Available!!!\")\n",
        "print(end_epoch , start_epoch)"
      ],
      "execution_count": null,
      "outputs": [
        {
          "output_type": "stream",
          "name": "stdout",
          "text": [
            "Successfully load the check point\n",
            "13 13\n"
          ]
        }
      ]
    },
    {
      "cell_type": "code",
      "metadata": {
        "colab": {
          "base_uri": "https://localhost:8080/"
        },
        "id": "0T7Z1ikiidqE",
        "outputId": "65616d44-32c3-4b25-c314-c1bb818875b2"
      },
      "source": [
        "train_mae_file = open(\"/content/drive/MyDrive/GCC_CSV_DataSet/train_mae_part1and0.txt\",\"a\")\n",
        "test_mae_file = open(\"/content/drive/MyDrive/GCC_CSV_DataSet/test_mae_part1and0.txt\",\"a\")\n",
        "train_mae_file.truncate(0)\n",
        "test_mae_file.truncate(0)"
      ],
      "execution_count": null,
      "outputs": [
        {
          "output_type": "execute_result",
          "data": {
            "text/plain": [
              "0"
            ]
          },
          "metadata": {},
          "execution_count": 21
        }
      ]
    },
    {
      "cell_type": "code",
      "metadata": {
        "colab": {
          "base_uri": "https://localhost:8080/"
        },
        "id": "wD8Mk-7MNzTf",
        "outputId": "626739a7-c4ae-48b7-a17d-d34fe711ed2b"
      },
      "source": [
        "for epoch in range(start_epoch,end_epoch):\n",
        "    losses = AverageMeter()\n",
        "    model.train()\n",
        "    train_mae = AverageMeter()\n",
        "    train_mse = AverageMeter()\n",
        "    for i, (img, target) in enumerate(train_loader):\n",
        "\n",
        "        img = img.cuda()\n",
        "        img = Variable(img) \n",
        "        output = model(img)\n",
        "\n",
        "        loss = criterion(output.squeeze(), target.squeeze().cuda())\n",
        "        losses.update(loss.item())\n",
        "        optimizer.zero_grad()\n",
        "        loss.backward()\n",
        "        optimizer.step()\n",
        "\n",
        "        sou_pred_cnt, sou_label_cnt = mae_mse_update(output, target, train_mae, train_mse)\n",
        "        if i % 1000 == 0:\n",
        "            print('Epoch {}, Loss={:.4f} s_gt={:.1f} s_pre={:.1f}, lr={:.4f}'.format(\n",
        "                    epoch, loss.item(), sou_label_cnt,sou_pred_cnt, optimizer.param_groups[0]['lr']*10000))\n",
        "    \n",
        "    #scheduler.step()  \n",
        "    print('train_mae_sou', float(train_mae.avg), epoch)\n",
        "    print('train_mse_sou', float(np.sqrt(train_mse.avg)), epoch)\n",
        "    train_mae_file.write(str(train_mae.avg))\n",
        "    train_mae_file.write(\"\\n\")\n",
        "    torch.save({\n",
        "            'epoch': epoch+1,\n",
        "            'model_state_dict': model.state_dict(),\n",
        "            'optimizer_state_dict': optimizer.state_dict(),\n",
        "            'loss': loss,\n",
        "            }, PATH) \n",
        "    print(\"testing...................\")  \n",
        "    with torch.no_grad():\n",
        "      model.eval()\n",
        "      test_mae = AverageMeter()\n",
        "      test_mse = AverageMeter()\n",
        "      for j, (img_test, target_test) in enumerate(test_loader):\n",
        "          img_test = img_test.cuda()\n",
        "          img_test = Variable(img_test)   \n",
        "          output_test = model(img_test)\n",
        "\n",
        "          sou_pred_cnt_test, sou_label_cnt_test = mae_mse_update(output_test, target_test, test_mae, test_mse)\n",
        "          if j % 100 == 0:\n",
        "            print('Epoch {}, s_gt={:.1f} s_pre={:.1f} '.format(epoch, sou_label_cnt_test,sou_pred_cnt_test))\n",
        "      print('test_mae_sou', float(test_mae.avg), epoch)\n",
        "      print('test_mse_sou', float(np.sqrt(test_mse.avg)), epoch)\n",
        "      test_mae_file.write(str(test_mae.avg))\n",
        "      test_mae_file.write(\"\\n\")\n",
        "\n",
        "train_mae_file.close()\n",
        "test_mae_file.close()\n",
        "MODEL_SAVE_PATH = '/content/drive/MyDrive/GCC_CSV_DataSet/model/TestNetGCC_whole_data_withoutbackend.pth'\n",
        "torch.save(model.state_dict(), MODEL_SAVE_PATH)"
      ],
      "execution_count": null,
      "outputs": [
        {
          "output_type": "stream",
          "name": "stderr",
          "text": [
            "/usr/local/lib/python3.7/dist-packages/torch/nn/functional.py:718: UserWarning: Named tensors and all their associated APIs are an experimental feature and subject to change. Please do not use them for anything important until they are released as stable. (Triggered internally at  /pytorch/c10/core/TensorImpl.h:1156.)\n",
            "  return torch.max_pool2d(input, kernel_size, stride, padding, dilation, ceil_mode)\n",
            "/usr/local/lib/python3.7/dist-packages/torch/nn/functional.py:3825: UserWarning: nn.functional.upsample_bilinear is deprecated. Use nn.functional.interpolate instead.\n",
            "  warnings.warn(\"nn.functional.upsample_bilinear is deprecated. Use nn.functional.interpolate instead.\")\n",
            "/usr/local/lib/python3.7/dist-packages/torch/nn/functional.py:3770: UserWarning: nn.functional.upsample_nearest is deprecated. Use nn.functional.interpolate instead.\n",
            "  warnings.warn(\"nn.functional.upsample_nearest is deprecated. Use nn.functional.interpolate instead.\")\n"
          ]
        },
        {
          "output_type": "stream",
          "name": "stdout",
          "text": [
            "Epoch 11, Loss=10032.2969 s_gt=45.0 s_pre=52.5, lr=0.1000\n",
            "Epoch 11, Loss=43291.6250 s_gt=11.0 s_pre=2.7, lr=0.1000\n",
            "Epoch 11, Loss=11609.5479 s_gt=144.0 s_pre=143.3, lr=0.1000\n",
            "train_mae_sou 34.526746422377904 11\n",
            "train_mse_sou 66.89771945587708 11\n",
            "testing...................\n",
            "Epoch 11, s_gt=1110.9 s_pre=1169.3 \n",
            "test_mae_sou 87.18532108115289 11\n",
            "test_mse_sou 235.70557081647013 11\n",
            "Epoch 12, Loss=12443.0879 s_gt=65.1 s_pre=69.4, lr=0.1000\n",
            "Epoch 12, Loss=53624.8945 s_gt=7.0 s_pre=-10.2, lr=0.1000\n",
            "Epoch 12, Loss=8482.1562 s_gt=121.0 s_pre=145.8, lr=0.1000\n",
            "train_mae_sou 33.75137591089081 12\n",
            "train_mse_sou 66.76562184699041 12\n",
            "testing...................\n",
            "Epoch 12, s_gt=1110.9 s_pre=1168.7 \n",
            "test_mae_sou 55.67941544728547 12\n",
            "test_mse_sou 105.05568045976558 12\n"
          ]
        }
      ]
    },
    {
      "cell_type": "code",
      "metadata": {
        "id": "kZvqFo-9OEoW"
      },
      "source": [
        "        \"\"\"count = count + 1\n",
        "        gt = np.sum(target_test.data.cpu().numpy())\n",
        "        img = img_test.cuda()\n",
        "\n",
        "        pred_map = model(img)\n",
        "\n",
        "        pred_map = pred_map.cpu().data.numpy()[0,0,:,:]\n",
        "        pred = np.sum(pred_map)/100\n",
        "\n",
        "        score['MAE'] += np.abs(gt - pred)\n",
        "        score['MSE'] += (gt - pred)*(gt - pred)\n",
        "      score['MAE'], score['MSE'] = score['MAE'] / count, np.sqrt(score['MSE'] / count)  \n",
        "      print(\"processed   MAE_in: %.2f  MSE_in: %.2f\"  % ( score['MAE'], score['MSE']))\n",
        "      test_mae_file.write(str(score['MAE']))\n",
        "      test_mae_file.write(\"\\n\")\"\"\""
      ],
      "execution_count": null,
      "outputs": []
    },
    {
      "cell_type": "code",
      "metadata": {
        "colab": {
          "base_uri": "https://localhost:8080/"
        },
        "id": "N_ZGUW82emSM",
        "outputId": "f915d41c-9d88-4bcc-a817-c53124f3f554"
      },
      "source": [
        "file2 = open(\"/content/drive/MyDrive/GCC_CSV_DataSet/train_mae_part1and0.txt\",\"r\")\n",
        "file3 = open(\"/content/drive/MyDrive/GCC_CSV_DataSet/test_mae_part1and0.txt\",\"r\")\n",
        "List = file2.readlines()\n",
        "List2 = file3.readlines()\n",
        "epochs=[]\n",
        "y_train = []\n",
        "y_test = []\n",
        "for i_ in range(len(List)):\n",
        "  y_train.append(round(float(List[i_])))\n",
        "  epochs.append(i_)\n",
        "for j_ in range(len(List2)):\n",
        "  y_test.append(round(float(List2[j_])))\n",
        "print(y_train)\n",
        "print(y_test)"
      ],
      "execution_count": null,
      "outputs": [
        {
          "output_type": "stream",
          "name": "stdout",
          "text": [
            "[35, 34]\n",
            "[87, 56]\n"
          ]
        }
      ]
    },
    {
      "cell_type": "code",
      "metadata": {
        "id": "aa5BhlRwM9TQ"
      },
      "source": [
        ""
      ],
      "execution_count": null,
      "outputs": []
    },
    {
      "cell_type": "code",
      "metadata": {
        "id": "QNgHODoPPHhd"
      },
      "source": [
        "train_mae_sou 129.29131359367918 0\n",
        "train_mse_sou 215.00024041455643 0\n",
        "testing...................\n",
        "Epoch 0, s_gt=1110.9 s_pre=1068.0 \n",
        "test_mae_sou 84.33116771445279 0\n",
        "test_mse_sou 202.37494896258247 0\n",
        "Epoch 1, Loss=267616.1875 s_gt=1304.1 s_pre=927.8, lr=0.1000\n",
        "Epoch 1, Loss=47186.9766 s_gt=52.6 s_pre=66.5, lr=0.1000\n",
        "Epoch 1, Loss=4232.2002 s_gt=4.0 s_pre=3.7, lr=0.1000\n",
        "train_mae_sou 70.04495716756173 1\n",
        "train_mse_sou 126.46620986890042 1\n",
        "testing...................\n",
        "Epoch 1, s_gt=1110.9 s_pre=784.3 \n",
        "test_mae_sou 85.11902582227805 1\n",
        "test_mse_sou 196.43098048517604 1\n",
        "Epoch 2, Loss=302057.1875 s_gt=1669.0 s_pre=1030.6, lr=0.1000\n",
        "Epoch 2, Loss=59486.0234 s_gt=224.7 s_pre=242.9, lr=0.1000\n",
        "Epoch 2, Loss=3772.8125 s_gt=3.0 s_pre=8.9, lr=0.1000\n",
        "train_mae_sou 54.89369119181695 2\n",
        "train_mse_sou 104.64495444915656 2\n",
        "testing...................\n",
        "Epoch 2, s_gt=1110.9 s_pre=1024.0 \n",
        "test_mae_sou 107.8544876520342 2\n",
        "test_mse_sou 364.2443759097911 2\n",
        "Epoch 3, Loss=63830.1055 s_gt=16.0 s_pre=21.3, lr=0.1000\n",
        "Epoch 3, Loss=8777.9980 s_gt=128.0 s_pre=126.6, lr=0.1000\n",
        "Epoch 3, Loss=7835.1636 s_gt=33.2 s_pre=54.3, lr=0.1000\n",
        "train_mae_sou 50.172166628879616 3\n",
        "train_mse_sou 101.48990666700881 3\n",
        "testing...................\n",
        "Epoch 3, s_gt=1110.9 s_pre=1138.2 \n",
        "test_mae_sou 69.59344691449417 3\n",
        "test_mse_sou 171.0789664363613 3\n",
        "Epoch 4, Loss=46623.0469 s_gt=15.0 s_pre=28.3, lr=0.1000\n",
        "Epoch 4, Loss=9483.0713 s_gt=123.5 s_pre=130.2, lr=0.1000\n",
        "Epoch 4, Loss=10640.4590 s_gt=37.0 s_pre=56.6, lr=0.1000\n",
        "train_mae_sou 44.59552937503598 4\n",
        "train_mse_sou 89.39420179034686 4\n",
        "testing...................\n",
        "Epoch 4, s_gt=1110.9 s_pre=1201.6 \n",
        "test_mae_sou 62.14019922250902 4\n",
        "test_mse_sou 152.67311957994147 4\n",
        "Epoch 5, Loss=67921.1250 s_gt=17.0 s_pre=34.0, lr=0.1000\n",
        "Epoch 5, Loss=9114.4434 s_gt=128.0 s_pre=98.5, lr=0.1000\n",
        "Epoch 5, Loss=14830.3945 s_gt=174.1 s_pre=180.3, lr=0.1000\n",
        "train_mae_sou 39.90904519076328 5\n",
        "train_mse_sou 78.34376473533541 5\n",
        "testing...................\n",
        "Epoch 5, s_gt=1110.9 s_pre=1059.8 \n",
        "test_mae_sou 53.12763947770474 5\n",
        "test_mse_sou 137.55126047077405 5\n",
        "Epoch 6, Loss=45582.5117 s_gt=10.9 s_pre=24.3, lr=0.1000\n",
        "Epoch 6, Loss=6663.6797 s_gt=107.8 s_pre=100.4, lr=0.1000\n",
        "Epoch 6, Loss=9187.6064 s_gt=83.1 s_pre=64.2, lr=0.1000\n",
        "train_mae_sou 38.06331330066438 6\n",
        "train_mse_sou 75.5750964890217 6\n",
        "testing...................\n",
        "Epoch 6, s_gt=1110.9 s_pre=1015.8 \n",
        "test_mae_sou 61.809994129602444 6\n",
        "test_mse_sou 215.10095730498435 6\n",
        "Epoch 7, Loss=37187.6367 s_gt=15.0 s_pre=24.5, lr=0.1000\n",
        "Epoch 7, Loss=5911.1450 s_gt=19.3 s_pre=0.3, lr=0.1000\n",
        "Epoch 7, Loss=9188.8584 s_gt=86.9 s_pre=65.6, lr=0.1000\n",
        "train_mae_sou 37.425433333490496 7\n",
        "train_mse_sou 73.76498015156285 7\n",
        "testing...................\n",
        "Epoch 7, s_gt=1110.9 s_pre=1153.4 \n",
        "\n",
        "Epoch 8, Loss=92896.5312 s_gt=1250.1 s_pre=1218.8, lr=0.1000\n",
        "Epoch 8, Loss=5151.9033 s_gt=30.9 s_pre=21.8, lr=0.1000\n",
        "Epoch 8, Loss=56216.5625 s_gt=1379.6 s_pre=1397.3, lr=0.1000\n",
        "train_mae_sou 39.47448069457719 8\n",
        "train_mse_sou 79.76326427302446 8\n",
        "testing...................\n",
        "Epoch 8, s_gt=1110.9 s_pre=1116.4 \n",
        "test_mae_sou 71.1580152401499 8\n",
        "test_mse_sou 175.2478784916937 8\n",
        "Epoch 9, Loss=104165.9375 s_gt=1170.5 s_pre=1186.8, lr=0.1000\n",
        "Epoch 9, Loss=26192.1602 s_gt=31.1 s_pre=32.5, lr=0.1000\n",
        "Epoch 9, Loss=60892.4688 s_gt=1145.5 s_pre=1163.5, lr=0.1000\n",
        "train_mae_sou 36.00943699150194 9\n",
        "train_mse_sou 70.9038936762296 9\n",
        "testing...................\n",
        "Epoch 9, s_gt=1110.9 s_pre=1049.4 \n",
        "test_mae_sou 72.5684491889492 9\n",
        "test_mse_sou 121.67140761372904 9\n",
        "Epoch 10, Loss=166127.4219 s_gt=1128.5 s_pre=945.1, lr=0.1000\n",
        "Epoch 10, Loss=5578.7476 s_gt=29.0 s_pre=13.8, lr=0.1000\n",
        "Epoch 10, Loss=38641.4727 s_gt=1231.6 s_pre=1392.6, lr=0.1000\n",
        "train_mae_sou 34.75705304747068 10\n",
        "train_mse_sou 67.54856596435329 10\n",
        "testing...................\n",
        "Epoch 10, s_gt=1110.9 s_pre=1040.0 \n",
        "\n",
        "Epoch 11, Loss=10032.2969 s_gt=45.0 s_pre=52.5, lr=0.1000\n",
        "Epoch 11, Loss=43291.6250 s_gt=11.0 s_pre=2.7, lr=0.1000\n",
        "Epoch 11, Loss=11609.5479 s_gt=144.0 s_pre=143.3, lr=0.1000\n",
        "train_mae_sou 34.526746422377904 11\n",
        "train_mse_sou 66.89771945587708 11\n",
        "testing...................\n",
        "Epoch 11, s_gt=1110.9 s_pre=1169.3 \n",
        "test_mae_sou 87.18532108115289 11\n",
        "test_mse_sou 235.70557081647013 11\n",
        "Epoch 12, Loss=12443.0879 s_gt=65.1 s_pre=69.4, lr=0.1000\n",
        "Epoch 12, Loss=53624.8945 s_gt=7.0 s_pre=-10.2, lr=0.1000\n",
        "Epoch 12, Loss=8482.1562 s_gt=121.0 s_pre=145.8, lr=0.1000\n",
        "train_mae_sou 33.75137591089081 12\n",
        "train_mse_sou 66.76562184699041 12\n",
        "testing...................\n",
        "Epoch 12, s_gt=1110.9 s_pre=1168.7 \n",
        "test_mae_sou 55.67941544728547 12\n",
        "test_mse_sou 105.05568045976558 12\n"
      ],
      "execution_count": null,
      "outputs": []
    },
    {
      "cell_type": "code",
      "metadata": {
        "id": "4_Jc1oKbborH"
      },
      "source": [
        "[129.29131359367918,70.04495716756173,54.89369119181695, 50.17216662887961, 44.59552937503598,39.90904519076328,38.06331330066438,37.425433333490496,39.47448069457719,36.00943699150194,34.75705304747068,34.526746422377904,33.75137591089081]\n",
        "[84.33116771445279,85.11902582227805,107.8544876520342,  69.59344691449417,62.14019922250902,53.12763947770474,61.80999412960244, 58.12451253415524,71.1580152401499,72.5684491889492,69.12673548901234,87.18532108115289,55.67941544728547 ]"
      ],
      "execution_count": null,
      "outputs": []
    },
    {
      "cell_type": "code",
      "metadata": {
        "colab": {
          "base_uri": "https://localhost:8080/",
          "height": 282
        },
        "id": "Ro6NjGHTZTzv",
        "outputId": "8d2fe912-2518-4d20-ef00-992793723596"
      },
      "source": [
        "import matplotlib.pyplot as plt\n",
        "\n",
        "\n",
        "x1 = [1,2,3,4,5,6,7,8,9,10,11,12,13]\n",
        "y1 = [129.29131359367918,70.04495716756173,54.89369119181695, 50.17216662887961, 44.59552937503598,39.90904519076328,38.06331330066438,37.425433333490496,39.47448069457719,36.00943699150194,34.75705304747068,34.526746422377904,33.75137591089081]\n",
        "y2 = [84.33116771445279,85.11902582227805,107.8544876520342,  69.59344691449417,62.14019922250902,53.12763947770474,61.80999412960244, 58.12451253415524,71.1580152401499,72.5684491889492,69.12673548901234,87.18532108115289,55.67941544728547 ]\n",
        "plt.plot(x1, y1)\n",
        "plt.plot(x1, y2)\n",
        "\n",
        "plt.legend([\"Train MAE\", \"Test MAE\"])"
      ],
      "execution_count": null,
      "outputs": [
        {
          "output_type": "execute_result",
          "data": {
            "text/plain": [
              "<matplotlib.legend.Legend at 0x7ef869342d10>"
            ]
          },
          "metadata": {},
          "execution_count": 38
        },
        {
          "output_type": "display_data",
          "data": {
            "image/png": "[encoded data removed]",
            "text/plain": [
              "<Figure size 432x288 with 1 Axes>"
            ]
          },
          "metadata": {
            "needs_background": "light"
          }
        }
      ]
    },
    {
      "cell_type": "code",
      "metadata": {
        "id": "FJkS1b6UHHeM"
      },
      "source": [
        "train_mae_sou 108.48962813966844 0\n",
        "train_mse_sou 200.11962089981992 0\n",
        "test_mae_sou 128.85942962215205 0\n",
        "test_mse_sou 213.14431783909887 0\n",
        "\n",
        "train_mae_sou 67.7162981782003 1\n",
        "train_mse_sou 124.8826184193291 1\n",
        "test_mae_sou 89.46325803053765 1\n",
        "test_mse_sou 178.06799148801042 1\n",
        "\n",
        "train_mae_sou 58.86277042247898 2\n",
        "train_mse_sou 109.64536088697174 2\n",
        "test_mae_sou 108.06623770945139 2\n",
        "test_mse_sou 181.19978192886322 2\n",
        "\n",
        "train_mae_sou 51.12275562032521 3\n",
        "train_mse_sou 95.08664529278737 3\n",
        "test_mae_sou 102.94497794748112 3\n",
        "test_mse_sou 175.28730603443034 3\n",
        "\n",
        "train_mae_sou 46.839496924699766 4\n",
        "train_mse_sou 87.5903498101021 4\n",
        "test_mae_sou 115.71908665310804 4\n",
        "test_mse_sou 234.65589802541544 4\n",
        "\n",
        "train_mae_sou 44.20142215343465 5\n",
        "train_mse_sou 85.34320387633312 5\n",
        "test_mae_sou 68.84179198583726 5\n",
        "test_mse_sou 147.57382552180368 5\n",
        "\n",
        "train_mae_sou 39.54828710717529 6\n",
        "train_mse_sou 75.4396797375224 6\n",
        "test_mae_sou 83.21173518427871 6\n",
        "test_mse_sou 139.84116918045666 6\n",
        "\n",
        "train_mae_sou 39.63207350448308 7\n",
        "train_mse_sou 73.24152038029344 7\n",
        "test_mae_sou 54.34460122623894 7\n",
        "test_mse_sou 129.33054191001648 7\n",
        "\n",
        "train_mae_sou 41.742735190872054 8\n",
        "train_mse_sou 77.91103276641365 8\n",
        "test_mae_sou 66.15885164909808 8\n",
        "test_mse_sou 130.90540161988332 8"
      ],
      "execution_count": null,
      "outputs": []
    },
    {
      "cell_type": "code",
      "metadata": {
        "colab": {
          "base_uri": "https://localhost:8080/",
          "height": 282
        },
        "id": "JBvN2cuaew_I",
        "outputId": "adbf3179-4fb7-4136-d3b9-a135cbd1a288"
      },
      "source": [
        "import matplotlib.pyplot as plt\n",
        "\n",
        "\n",
        "x1 = [1,2,3,4,5,6,7,8,9]\n",
        "y1 = [108 ,67]+[59, 51, 47]+[44, 40, 40 , 41]\n",
        "y2 = [128,89]+[108, 103, 115]+[69, 83, 54,66]\n",
        "plt.plot(x1, y1)\n",
        "plt.plot(x1, y2)\n",
        "\n",
        "plt.legend([\"Train MAE\", \"Test MAE\"])"
      ],
      "execution_count": null,
      "outputs": [
        {
          "output_type": "execute_result",
          "data": {
            "text/plain": [
              "<matplotlib.legend.Legend at 0x7facf5c38450>"
            ]
          },
          "metadata": {},
          "execution_count": 1
        },
        {
          "output_type": "display_data",
          "data": {
            "image/png": "[encoded data removed]",
            "text/plain": [
              "<Figure size 432x288 with 1 Axes>"
            ]
          },
          "metadata": {
            "needs_background": "light"
          }
        }
      ]
    },
    {
      "cell_type": "markdown",
      "metadata": {
        "id": "v0veMdxSUzrk"
      },
      "source": [
        "## Test Images\n"
      ]
    },
    {
      "cell_type": "code",
      "metadata": {
        "colab": {
          "base_uri": "https://localhost:8080/"
        },
        "id": "viHdNrlmhzlS",
        "outputId": "216da8bf-a1f4-47df-86b6-a690d61c683b"
      },
      "source": [
        "model_path = '/content/drive/MyDrive/GCC_CSV_DataSet/model/TestNetGCC_whole_data_withoutbackend.pth'\n",
        "\n",
        "model = TestNet().cuda()\n",
        "# load the trained model\n",
        "model.load_state_dict(torch.load(model_path))\n",
        "#checkpoint = torch.load(PATH)\n",
        "#model.load_state_dict(checkpoint['model_state_dict'])\n",
        "print('successfully load model from', model_path)\n",
        "\n",
        "img_transform=transforms.Compose([transforms.ToTensor(), \n",
        "                                  transforms.Normalize(mean=[0.302234709263, 0.291243076324, 0.269087553024],\n",
        "                                                       std=[0.227743327618, 0.211051672697, 0.184846073389]),\n",
        "                                 ])\n",
        "\n",
        "imgname = '/content/drive/MyDrive/GCC_CSV_DataSet/Part_0/scene_02_0/pngs_544_960/1531124485.png'\n",
        "denname = imgname.replace('pngs_544_960','csv_den_maps_k15_s4_544_960').replace('.png','.csv')\n",
        "den = pd.read_csv(denname, sep=',',header=None).values\n",
        "den = den.astype(np.float32, copy=False)\n",
        "img = Image.open(imgname)\n",
        "if img.mode == 'L':\n",
        "  img = img.convert('RGB')\n",
        "img = img_transform(img)\n",
        "\n",
        "gt = np.sum(den)\n",
        "img = img[None,:,:,:].cuda()\n",
        "\n",
        "pred_map = model(img)\n",
        "\n",
        "pred_map = pred_map.cpu().data.numpy()[0,0,:,:]\n",
        "pred = np.sum(pred_map)/100"
      ],
      "execution_count": null,
      "outputs": [
        {
          "output_type": "stream",
          "name": "stdout",
          "text": [
            "successfully load model from /content/drive/MyDrive/GCC_CSV_DataSet/model/TestNetGCC_whole_data_withoutbackend.pth\n"
          ]
        },
        {
          "output_type": "stream",
          "name": "stderr",
          "text": [
            "/usr/local/lib/python3.7/dist-packages/torch/nn/functional.py:3825: UserWarning: nn.functional.upsample_bilinear is deprecated. Use nn.functional.interpolate instead.\n",
            "  warnings.warn(\"nn.functional.upsample_bilinear is deprecated. Use nn.functional.interpolate instead.\")\n",
            "/usr/local/lib/python3.7/dist-packages/torch/nn/functional.py:3770: UserWarning: nn.functional.upsample_nearest is deprecated. Use nn.functional.interpolate instead.\n",
            "  warnings.warn(\"nn.functional.upsample_nearest is deprecated. Use nn.functional.interpolate instead.\")\n"
          ]
        }
      ]
    },
    {
      "cell_type": "code",
      "metadata": {
        "colab": {
          "base_uri": "https://localhost:8080/"
        },
        "id": "-Sh6L35uWIFt",
        "outputId": "eb976590-5c37-4232-e626-11da54ab124f"
      },
      "source": [
        "print(\"Model Predicted :\",int(pred))\n",
        "print(\"Ground trueth :\",int(gt))"
      ],
      "execution_count": null,
      "outputs": [
        {
          "output_type": "stream",
          "name": "stdout",
          "text": [
            "Model Predicted : 707\n",
            "Ground trueth : 574\n"
          ]
        }
      ]
    },
    {
      "cell_type": "code",
      "metadata": {
        "colab": {
          "base_uri": "https://localhost:8080/",
          "height": 254
        },
        "id": "PsOUgkRgVrM-",
        "outputId": "3c5a14a8-5a6c-4b91-e17d-8d91024a2875"
      },
      "source": [
        "from matplotlib import pyplot as plt\n",
        "pred_map = pred_map/np.max(pred_map+1e-20)\n",
        "\n",
        "den = den/np.max(den+1e-20)\n",
        "\n",
        "\n",
        "den_frame = plt.gca()\n",
        "plt.imshow(den,cmap='jet')\n",
        "den_frame.axes.get_yaxis().set_visible(False)\n",
        "den_frame.axes.get_xaxis().set_visible(False)\n",
        "den_frame.spines['top'].set_visible(False)\n",
        "den_frame.spines['bottom'].set_visible(False)\n",
        "den_frame.spines['left'].set_visible(False)\n",
        "den_frame.spines['right'].set_visible(False)\n",
        "plt.title(\"Ground Trueth Count:\"+str(int(gt)))"
      ],
      "execution_count": null,
      "outputs": [
        {
          "output_type": "execute_result",
          "data": {
            "text/plain": [
              "Text(0.5, 1.0, 'Ground Trueth Count:574')"
            ]
          },
          "metadata": {},
          "execution_count": 68
        },
        {
          "output_type": "display_data",
          "data": {
            "image/png": "[encoded data removed]",
            "text/plain": [
              "<Figure size 432x288 with 1 Axes>"
            ]
          },
          "metadata": {
            "needs_background": "light"
          }
        }
      ]
    },
    {
      "cell_type": "code",
      "metadata": {
        "colab": {
          "base_uri": "https://localhost:8080/",
          "height": 254
        },
        "id": "JGPGYT1bV-jy",
        "outputId": "4b4d2588-8aa6-4f9b-cb79-87d9c2e60e47"
      },
      "source": [
        "pred_frame = plt.gca()\n",
        "plt.imshow(pred_map,cmap='jet')\n",
        "pred_frame.axes.get_yaxis().set_visible(False)\n",
        "pred_frame.axes.get_xaxis().set_visible(False)\n",
        "pred_frame.spines['top'].set_visible(False)\n",
        "pred_frame.spines['bottom'].set_visible(False)\n",
        "pred_frame.spines['left'].set_visible(False)\n",
        "pred_frame.spines['right'].set_visible(False)\n",
        "plt.title(\"Model Predicted Count:\"+str(int(abs(pred))))"
      ],
      "execution_count": null,
      "outputs": [
        {
          "output_type": "execute_result",
          "data": {
            "text/plain": [
              "Text(0.5, 1.0, 'Model Predicted Count:707')"
            ]
          },
          "metadata": {},
          "execution_count": 69
        },
        {
          "output_type": "display_data",
          "data": {
            "image/png": "[encoded data removed]",
            "text/plain": [
              "<Figure size 432x288 with 1 Axes>"
            ]
          },
          "metadata": {
            "needs_background": "light"
          }
        }
      ]
    },
    {
      "cell_type": "code",
      "metadata": {
        "id": "SrxX2fgiWFZ2"
      },
      "source": [
        ""
      ],
      "execution_count": null,
      "outputs": []
    }
  ]
}