{
  "nbformat": 4,
  "nbformat_minor": 0,
  "metadata": {
    "colab": {
      "name": "load  gt as csv and and train the model.ipynb",
      "provenance": [],
      "mount_file_id": "1CpsYMZ-ZSaQTHvuFXF20rT3NoKi3PBlJ",
      "authorship_tag": "ABX9TyNA4Js++abMEeeXYX2uzbJh",
      "include_colab_link": true
    },
    "kernelspec": {
      "name": "python3",
      "display_name": "Python 3"
    },
    "language_info": {
      "name": "python"
    },
    "accelerator": "GPU"
  },
  "cells": [
    {
      "cell_type": "markdown",
      "metadata": {
        "id": "view-in-github",
        "colab_type": "text"
      },
      "source": [
        "<a href=\"https://colab.research.google.com/github/rukmals/crowd-monitoring-system-model-development/blob/main/load_gt_as_csv_and_and_train_the_model.ipynb\" target=\"_parent\"><img src=\"https://colab.research.google.com/assets/colab-badge.svg\" alt=\"Open In Colab\"/></a>"
      ]
    },
    {
      "cell_type": "code",
      "metadata": {
        "id": "LyK7PwmlD-KC"
      },
      "source": [
        "import random\n",
        "import os\n",
        "from PIL import Image,ImageFilter,ImageDraw\n",
        "import numpy as np\n",
        "import h5py\n",
        "from PIL import ImageStat\n",
        "import glob\n",
        "from sklearn.model_selection import train_test_split\n",
        "import json\n",
        "\n",
        "import sys\n",
        "import warnings\n",
        "# import from library\n",
        "import torch\n",
        "import torch.nn as nn\n",
        "from torch.autograd import Variable\n",
        "from torchvision import datasets, transforms\n",
        "import numpy as np\n",
        "import argparse\n",
        "import json\n",
        "import cv2\n",
        "import time\n",
        "from torchvision import models"
      ],
      "execution_count": 1,
      "outputs": []
    },
    {
      "cell_type": "code",
      "metadata": {
        "id": "A-_QQLI1EQ0p"
      },
      "source": [
        "import os\n",
        "import random\n",
        "import pandas as pd\n",
        "import torch\n",
        "import numpy as np\n",
        "from torch.utils.data import Dataset\n",
        "from PIL import Image\n",
        "\n",
        "def load_data(img_path,train = True):\n",
        "    gt_path = img_path.replace('.png','.csv').replace('pngs','gt')\n",
        "    img = Image.open(img_path)\n",
        "    target = pd.read_csv(gt_path, sep=',', header=None).values\n",
        "    target = target.astype(np.float32, copy=False)\n",
        "    target = Image.fromarray(target)\n",
        "    return img,target\n",
        "\n",
        "\n",
        "class ListDataset(Dataset):\n",
        "    def __init__(self, root, shape=None, shuffle=True, main_transform = None , img_transform=None, gt_transform = None, train=False, batch_size=1, num_workers=4):\n",
        "        \"\"\"\n",
        "        if you have different image size, then batch_size must be 1\n",
        "        :param root:\n",
        "        :param shape:\n",
        "        :param shuffle:\n",
        "        :param transform:\n",
        "        :param train:\n",
        "        :param seen:\n",
        "        :param batch_size:\n",
        "        :param num_workers:\n",
        "        \"\"\"\n",
        "        #if train:\n",
        "            #root = root *4\n",
        "        if shuffle:\n",
        "            random.shuffle(root)\n",
        "        \n",
        "        self.nSamples = len(root)\n",
        "        self.lines = root\n",
        "        self.main_transform = main_transform\n",
        "        self.img_transform = img_transform\n",
        "        self.gt_transform = gt_transform\n",
        "        self.train = train\n",
        "        self.shape = shape\n",
        "        self.batch_size = batch_size\n",
        "        self.num_workers = num_workers\n",
        "        \n",
        "    def __len__(self):\n",
        "        return self.nSamples\n",
        "\n",
        "    def __getitem__(self, index):\n",
        "        assert index <= len(self), 'index range error' \n",
        "        \n",
        "        img_path = self.lines[index]\n",
        "        \n",
        "        img,target = load_data(img_path,self.train)\n",
        "\n",
        "        if self.main_transform is not None:\n",
        "            img, target = self.main_transform(img, target)\n",
        "        if self.img_transform is not None:\n",
        "            img = self.img_transform(img)\n",
        "        if self.gt_transform is not None:\n",
        "            target = self.gt_transform(target)   \n",
        "        return img,target"
      ],
      "execution_count": 34,
      "outputs": []
    },
    {
      "cell_type": "code",
      "metadata": {
        "id": "wiODM0y9FmJV"
      },
      "source": [
        "img_list = os.listdir(\"/content/drive/MyDrive/scene_00_0/pngs/\")\n",
        "img_path_list = []\n",
        "for img in img_list:\n",
        "  img_path_list.append(\"/content/drive/MyDrive/scene_00_0/pngs/\"+img)\n"
      ],
      "execution_count": 3,
      "outputs": []
    },
    {
      "cell_type": "code",
      "metadata": {
        "colab": {
          "base_uri": "https://localhost:8080/"
        },
        "id": "TsnzccBTF1Jw",
        "outputId": "b552391e-70c6-47b3-afe2-f6c14921bb41"
      },
      "source": [
        "img_path_list"
      ],
      "execution_count": 4,
      "outputs": [
        {
          "output_type": "execute_result",
          "data": {
            "text/plain": [
              "['/content/drive/MyDrive/scene_00_0/pngs/1536371984.png',\n",
              " '/content/drive/MyDrive/scene_00_0/pngs/1536372385.png',\n",
              " '/content/drive/MyDrive/scene_00_0/pngs/1536373018.png',\n",
              " '/content/drive/MyDrive/scene_00_0/pngs/1536375643.png',\n",
              " '/content/drive/MyDrive/scene_00_0/pngs/1536376505.png',\n",
              " '/content/drive/MyDrive/scene_00_0/pngs/1536380840.png',\n",
              " '/content/drive/MyDrive/scene_00_0/pngs/1537088314.png',\n",
              " '/content/drive/MyDrive/scene_00_0/pngs/1537090238.png',\n",
              " '/content/drive/MyDrive/scene_00_0/pngs/1537086156.png',\n",
              " '/content/drive/MyDrive/scene_00_0/pngs/1537087360.png',\n",
              " '/content/drive/MyDrive/scene_00_0/pngs/1537086763.png',\n",
              " '/content/drive/MyDrive/scene_00_0/pngs/1537084730.png',\n",
              " '/content/drive/MyDrive/scene_00_0/pngs/1536402163.png',\n",
              " '/content/drive/MyDrive/scene_00_0/pngs/1536406080.png',\n",
              " '/content/drive/MyDrive/scene_00_0/pngs/1536399993.png',\n",
              " '/content/drive/MyDrive/scene_00_0/pngs/1536385700.png',\n",
              " '/content/drive/MyDrive/scene_00_0/pngs/1536394468.png',\n",
              " '/content/drive/MyDrive/scene_00_0/pngs/1536382546.png',\n",
              " '/content/drive/MyDrive/scene_00_0/pngs/1536390566.png',\n",
              " '/content/drive/MyDrive/scene_00_0/pngs/1536387950.png',\n",
              " '/content/drive/MyDrive/scene_00_0/pngs/1536387597.png',\n",
              " '/content/drive/MyDrive/scene_00_0/pngs/1536386782.png',\n",
              " '/content/drive/MyDrive/scene_00_0/pngs/1536386507.png',\n",
              " '/content/drive/MyDrive/scene_00_0/pngs/1536391796.png',\n",
              " '/content/drive/MyDrive/scene_00_0/pngs/1536391391.png',\n",
              " '/content/drive/MyDrive/scene_00_0/pngs/1536390232.png',\n",
              " '/content/drive/MyDrive/scene_00_0/pngs/1537259356.png',\n",
              " '/content/drive/MyDrive/scene_00_0/pngs/1537260577.png',\n",
              " '/content/drive/MyDrive/scene_00_0/pngs/1537259040.png',\n",
              " '/content/drive/MyDrive/scene_00_0/pngs/1537258693.png',\n",
              " '/content/drive/MyDrive/scene_00_0/pngs/1537258870.png',\n",
              " '/content/drive/MyDrive/scene_00_0/pngs/1537258519.png',\n",
              " '/content/drive/MyDrive/scene_00_0/pngs/1537258137.png',\n",
              " '/content/drive/MyDrive/scene_00_0/pngs/1537090667.png',\n",
              " '/content/drive/MyDrive/scene_00_0/pngs/1537088853.png',\n",
              " '/content/drive/MyDrive/scene_00_0/pngs/1536389494.png',\n",
              " '/content/drive/MyDrive/scene_00_0/pngs/1536398490.png',\n",
              " '/content/drive/MyDrive/scene_00_0/pngs/1536397093.png',\n",
              " '/content/drive/MyDrive/scene_00_0/pngs/1536396343.png',\n",
              " '/content/drive/MyDrive/scene_00_0/pngs/1536396018.png',\n",
              " '/content/drive/MyDrive/scene_00_0/pngs/1536392209.png',\n",
              " '/content/drive/MyDrive/scene_00_0/pngs/1537258349.png',\n",
              " '/content/drive/MyDrive/scene_00_0/pngs/1536405018.png',\n",
              " '/content/drive/MyDrive/scene_00_0/pngs/1536403611.png',\n",
              " '/content/drive/MyDrive/scene_00_0/pngs/1536401589.png',\n",
              " '/content/drive/MyDrive/scene_00_0/pngs/1536400415.png',\n",
              " '/content/drive/MyDrive/scene_00_0/pngs/1536378742.png',\n",
              " '/content/drive/MyDrive/scene_00_0/pngs/1536376907.png',\n",
              " '/content/drive/MyDrive/scene_00_0/pngs/1537260220.png',\n",
              " '/content/drive/MyDrive/scene_00_0/pngs/1537259780.png']"
            ]
          },
          "metadata": {},
          "execution_count": 4
        }
      ]
    },
    {
      "cell_type": "code",
      "metadata": {
        "id": "RCP9PN1ZF3JL"
      },
      "source": [
        ""
      ],
      "execution_count": 4,
      "outputs": []
    },
    {
      "cell_type": "code",
      "metadata": {
        "id": "1nAV2IPTHDWB"
      },
      "source": [
        ""
      ],
      "execution_count": 4,
      "outputs": []
    },
    {
      "cell_type": "code",
      "metadata": {
        "id": "u_zN3ASOHILg"
      },
      "source": [
        ""
      ],
      "execution_count": 4,
      "outputs": []
    },
    {
      "cell_type": "code",
      "metadata": {
        "id": "nLXilirBI1aX"
      },
      "source": [
        "import torch\n",
        "import torch.nn as nn\n",
        "import torch.nn.functional as F\n",
        "from torchvision import models\n",
        "\n",
        "class Conv2d(nn.Module):\n",
        "    def __init__(self, in_channels, out_channels, kernel_size, \\\n",
        "                stride=1, NL='relu', same_padding=False, bn=False, dilation=1):\n",
        "        super(Conv2d, self).__init__()\n",
        "        padding = int((kernel_size - 1) // 2) if same_padding else 0\n",
        "        self.conv = []\n",
        "        if dilation==1:\n",
        "            self.conv = nn.Conv2d(in_channels, out_channels, kernel_size, stride, padding=padding, dilation=dilation)\n",
        "        else:\n",
        "            self.conv = nn.Conv2d(in_channels, out_channels, kernel_size, stride, padding=dilation, dilation=dilation)\n",
        "        self.bn = nn.BatchNorm2d(out_channels, eps=0.001, momentum=0, affine=True) if bn else nn.Identity()\n",
        "        if NL == 'relu' :\n",
        "            self.relu = nn.ReLU(inplace=True)\n",
        "        elif NL == 'prelu':\n",
        "            self.relu = nn.PReLU()\n",
        "        else:\n",
        "            self.relu = None\n",
        "\n",
        "    def forward(self, x):\n",
        "      x = self.conv(x)\n",
        "      if self.bn is not None:\n",
        "          x = self.bn(x)\n",
        "      if self.relu is not None:\n",
        "          x = self.relu(x)   \n",
        "      return x\n",
        "  \n",
        "# the module definition for the multi-branch in the density head\n",
        "class MultiBranchModule(nn.Module):\n",
        "    def __init__(self, in_channels, sync=False):\n",
        "        super(MultiBranchModule, self).__init__()\n",
        "        self.branch_column1_1 = BasicConv2d(in_channels, in_channels//2, kernel_size=1, sync=sync)\n",
        "        self.branch_column1_2 = BasicConv2d(in_channels//2, in_channels, kernel_size=1, sync=sync)\n",
        "\n",
        "        self.branch_column2_1 = BasicConv2d(in_channels, in_channels//2, kernel_size=1, sync=sync)\n",
        "        self.branch_column2_2 = BasicConv2d(in_channels // 2, in_channels, kernel_size=(3, 3), padding=(1, 1), sync=sync)\n",
        "\n",
        "        self.branch_column3_1 = BasicConv2d(in_channels, in_channels//2, kernel_size=1, sync=sync)\n",
        "        self.branch_column3_2 = BasicConv2d(in_channels // 2, in_channels, kernel_size=5, padding=2, sync=sync)\n",
        "\n",
        "    def forward(self, x):\n",
        "        branch_1 = self.branch_column1_1(x)\n",
        "        branch_1 = self.branch_column1_2(branch_1)\n",
        "\n",
        "        branch_2 = self.branch_column2_1(x)\n",
        "        branch_2 = self.branch_column2_2(branch_2)\n",
        "\n",
        "        branch_3 = self.branch_column3_1(x)\n",
        "        branch_3 = self.branch_column3_2(branch_3)\n",
        "\n",
        "        outputs = [branch_1, branch_2, branch_3, x]\n",
        "        return torch.cat(outputs, 1)\n",
        "\n",
        "# the module definition for the basic conv module\n",
        "class BasicConv2d(nn.Module):\n",
        "\n",
        "    def __init__(self, in_channels, out_channels, sync=False, **kwargs):\n",
        "        super(BasicConv2d, self).__init__()\n",
        "        self.conv = nn.Conv2d(in_channels, out_channels, bias=False, **kwargs)\n",
        "        if sync:\n",
        "            # for sync bn\n",
        "            print('use sync inception')\n",
        "            self.bn = nn.SyncBatchNorm(out_channels, eps=0.001)\n",
        "        else:\n",
        "            self.bn = nn.BatchNorm2d(out_channels, eps=0.001)\n",
        "\n",
        "    def forward(self, x):\n",
        "        x = self.conv(x)\n",
        "        x = self.bn(x)\n",
        "        return F.relu(x, inplace=True)\n",
        "\n",
        "\n",
        "class TestNet(nn.Module):\n",
        "    def __init__(self, pretrained=True):\n",
        "        super(TestNet, self).__init__()\n",
        "        \n",
        "        vgg = models.vgg16_bn(pretrained=pretrained)\n",
        "        \n",
        "        self.backend_feat  = [256,128,64]\n",
        "\n",
        "\n",
        "        # Front End Development VGG - 16 \n",
        "        features = list(vgg.features.children())\n",
        "        # get each stage of the VGG - 16\n",
        "        self.features1 = nn.Sequential(*features[0:6])\n",
        "        self.features2 = nn.Sequential(*features[6:13])\n",
        "        self.features3 = nn.Sequential(*features[13:23])\n",
        "        self.features4 = nn.Sequential(*features[23:33])\n",
        "        self.features5 = nn.Sequential(*features[33:43])\n",
        "\n",
        "        # Front End Development P1 to P5 \n",
        "        self.p5 = nn.Sequential(\n",
        "            Conv2d(512, 1024, 3, same_padding=True, NL='relu'),\n",
        "            Conv2d(1024, 512, 3, same_padding=True, NL='relu'),\n",
        "        )\n",
        "\n",
        "        self.p4 = nn.Sequential(\n",
        "            Conv2d(1024, 512, 3, same_padding=True, NL='relu'),\n",
        "            Conv2d(512, 256, 3, same_padding=True, NL='relu'),\n",
        "        )\n",
        "\n",
        "        self.p3 = nn.Sequential(\n",
        "            Conv2d(512 , 256, 3, same_padding=True, NL='relu'),\n",
        "            Conv2d(256, 128, 3, same_padding=True, NL='relu'),\n",
        "        )\n",
        "\n",
        "        self.p2 = nn.Sequential(\n",
        "            Conv2d(256, 128, 3, same_padding=True, NL='relu'),\n",
        "            Conv2d(128, 64, 3, same_padding=True, NL='relu'),\n",
        "        )\n",
        "\n",
        "        self.p1 = nn.Sequential(\n",
        "            Conv2d(128, 64, 3, same_padding=True, NL='relu'),\n",
        "            Conv2d(64, 64, 3, same_padding=True, NL='relu'),\n",
        "        ) \n",
        "\n",
        "        # Multi-Branch moules\n",
        "        self.multi_branch5 = nn.Sequential(\n",
        "            MultiBranchModule(512),\n",
        "            Conv2d(2048, 1, 1, same_padding=True)\n",
        "        )\n",
        "\n",
        "        self.multi_branch4 = nn.Sequential(\n",
        "            MultiBranchModule(256),\n",
        "            Conv2d(1024, 1, 1, same_padding=True)\n",
        "        )\n",
        "\n",
        "        self.multi_branch3 = nn.Sequential(\n",
        "            MultiBranchModule(128),\n",
        "            Conv2d(512, 1, 1, same_padding=True)\n",
        "        )\n",
        "\n",
        "        self.multi_branch2 = nn.Sequential(\n",
        "            MultiBranchModule(64),\n",
        "            Conv2d(256, 1, 1, same_padding=True)\n",
        "        )\n",
        "\n",
        "        self.multi_branch1 = nn.Sequential(\n",
        "            MultiBranchModule(64),\n",
        "            Conv2d(256, 1, 1, same_padding=True)\n",
        "        )\n",
        "\n",
        "        self.backend = make_layers(self.backend_feat,in_channels = 5,dilation = True)\n",
        "\n",
        "        self.output_layer = nn.Conv2d(64, 1, kernel_size=1)\n",
        "\n",
        "    \n",
        "    \n",
        "    def forward(self, x):\n",
        "        size = x.size()\n",
        "        x1 = self.features1(x)\n",
        "        x2 = self.features2(x1)\n",
        "        x3 = self.features3(x2)\n",
        "        x4 = self.features4(x3)\n",
        "        x5 = self.features5(x4)\n",
        "\n",
        "        # Front End Development P1 to P5 \n",
        "        x = self.p5(x5)\n",
        "        x5_out = x\n",
        "        x = F.upsample_bilinear(x, size=x4.size()[2:])\n",
        "\n",
        "        x = torch.cat([x4, x], 1)\n",
        "        x = self.p4(x)\n",
        "        x4_out = x\n",
        "        x = F.upsample_bilinear(x, size=x3.size()[2:])\n",
        "\n",
        "        x = torch.cat([x3, x], 1)\n",
        "        x = self.p3(x)\n",
        "        x3_out = x\n",
        "        x = F.upsample_bilinear(x, size=x2.size()[2:])\n",
        "\n",
        "        x = torch.cat([x2, x], 1)\n",
        "        x = self.p2(x)\n",
        "        x2_out = x\n",
        "        x = F.upsample_bilinear(x, size=x1.size()[2:])\n",
        "\n",
        "        x = torch.cat([x1, x], 1)\n",
        "        x = self.p1(x)\n",
        "        x1_out = x\n",
        "\n",
        "\n",
        "        # multi-branch predictions\n",
        "        x5_density = self.multi_branch5(x5_out)\n",
        "        x4_density = self.multi_branch4(x4_out)\n",
        "        x3_density = self.multi_branch3(x3_out)\n",
        "        x2_density = self.multi_branch2(x2_out)\n",
        "        x1_density = self.multi_branch1(x1_out)\n",
        "\n",
        "        # upsample the multi-branch predictions to be the same with the input size\n",
        "        x5_density = F.upsample_nearest(x5_density, size=x1.size()[2:])\n",
        "        x4_density = F.upsample_nearest(x4_density, size=x1.size()[2:])\n",
        "        x3_density = F.upsample_nearest(x3_density, size=x1.size()[2:])\n",
        "        x2_density = F.upsample_nearest(x2_density, size=x1.size()[2:])\n",
        "        x1_density = F.upsample_nearest(x1_density, size=x1.size()[2:])\n",
        "\n",
        "\n",
        "        density_map = torch.cat([x5_density, x4_density, x3_density, x2_density, x1_density], 1)\n",
        "\n",
        "\n",
        "        x_out = self.backend(density_map)\n",
        "        density_map_out = self.output_layer(x_out)\n",
        "        return density_map_out\n",
        "        #return density_map\n",
        "                \n",
        "                \n",
        "def make_layers(cfg, in_channels = 3,batch_norm=False,dilation = False):\n",
        "    layers = []\n",
        "    dilation_rates = [2,3,5]\n",
        "    #for v in cfg:\n",
        "    for v in range(len(cfg)):\n",
        "        if cfg[v] == 'M':\n",
        "            layers += [nn.MaxPool2d(kernel_size=2, stride=2)]\n",
        "        else:\n",
        "            conv2d = nn.Conv2d(in_channels, cfg[v], kernel_size=3, padding=dilation_rates[v],dilation = dilation_rates[v])\n",
        "            if batch_norm:\n",
        "                layers += [conv2d, nn.BatchNorm2d(cfg[v]), nn.ReLU(inplace=True)]\n",
        "            else:\n",
        "                layers += [conv2d, nn.ReLU(inplace=True)]\n",
        "            in_channels = cfg[v]\n",
        "    return nn.Sequential(*layers)"
      ],
      "execution_count": 5,
      "outputs": []
    },
    {
      "cell_type": "code",
      "metadata": {
        "id": "Y9sTJym7I8LK"
      },
      "source": [
        "model = TestNet()\n",
        "model = model.cuda()"
      ],
      "execution_count": 6,
      "outputs": []
    },
    {
      "cell_type": "code",
      "metadata": {
        "id": "qoSyUDGrK5va"
      },
      "source": [
        "import numbers\n",
        "import random\n",
        "import numpy as np\n",
        "from PIL import Image, ImageOps, ImageFilter\n",
        "import torch\n",
        "\n",
        "class LabelNormalize(object):\n",
        "    def __init__(self, para):\n",
        "        self.para = para\n",
        "\n",
        "    def __call__(self, tensor):\n",
        "        # tensor = 1./(tensor+self.para).log()\n",
        "        tensor = torch.from_numpy(np.array(tensor))\n",
        "        tensor = tensor*self.para\n",
        "        return tensor\n",
        "\n",
        "# ===============================img tranforms============================\n",
        "\n",
        "class Compose(object):\n",
        "    def __init__(self, transforms):\n",
        "        self.transforms = transforms\n",
        "\n",
        "    def __call__(self, img, mask, bbx=None):\n",
        "        if bbx is None:\n",
        "            for t in self.transforms:\n",
        "                img, mask = t(img, mask)\n",
        "            return img, mask\n",
        "        for t in self.transforms:\n",
        "            img, mask, bbx = t(img, mask, bbx)\n",
        "        return img, mask, bbx\n",
        "\n",
        "class RandomHorizontallyFlip(object):\n",
        "    def __call__(self, img, mask, bbx=None):\n",
        "        if random.random() < 0.5:# 随机生成0-1之间的浮点数 ，每次执行生成的不一样\n",
        "            if bbx is None:\n",
        "                return img.transpose(Image.FLIP_LEFT_RIGHT), mask.transpose(Image.FLIP_LEFT_RIGHT)\n",
        "            w, h = img.size\n",
        "            xmin = w - bbx[:,3]\n",
        "            xmax = w - bbx[:,1]\n",
        "            bbx[:,1] = xmin\n",
        "            bbx[:,3] = xmax\n",
        "            return img.transpose(Image.FLIP_LEFT_RIGHT), mask.transpose(Image.FLIP_LEFT_RIGHT), bbx\n",
        "        if bbx is None:\n",
        "            return img, mask\n",
        "        return img, mask, bbx\n",
        "\n",
        "class RandomCrop(object):\n",
        "    def __init__(self, size, padding=0):\n",
        "        if isinstance(size, numbers.Number):\n",
        "            self.size = (int(size), int(size))\n",
        "        else:\n",
        "            self.size = size\n",
        "        self.padding = padding\n",
        "\n",
        "    def __call__(self, img, mask):\n",
        "        # if self.padding > 0:\n",
        "        #     img = ImageOps.expand(img, border=self.padding, fill=0)\n",
        "        #     mask = ImageOps.expand(mask, border=self.padding, fill=0)\n",
        "        #\n",
        "        # assert img.size == mask.size\n",
        "        w, h = img.size\n",
        "        th, tw  = self.size\n",
        "        if w == tw and h == th:\n",
        "            return img, mask\n",
        "        if w < tw or h < th:\n",
        "            return img.resize((tw, th), Image.BILINEAR), mask.resize((tw, th), Image.NEAREST)\n",
        "\n",
        "        x1 = random.randint(0, w - tw)\n",
        "        y1 = random.randint(0, h - th)\n",
        "        return img.crop((x1, y1, x1 + tw, y1 + th)), mask.crop((x1, y1, x1 + tw, y1 + th))"
      ],
      "execution_count": 35,
      "outputs": []
    },
    {
      "cell_type": "code",
      "metadata": {
        "id": "LM2fL9DwJ0Ne"
      },
      "source": [
        "sou_main_transform = Compose([\n",
        "        RandomCrop((480,480)),\n",
        "        RandomHorizontallyFlip(),\n",
        "        # Rand_Augment()\n",
        "    ])\n",
        "train_loader = torch.utils.data.DataLoader(ListDataset(img_path_list,shuffle=True,\n",
        "                                                                main_transform = sou_main_transform,\n",
        "                                                                img_transform=transforms.Compose([\n",
        "                                                                transforms.ToTensor(), \n",
        "                                                                transforms.Normalize(mean=[0.302234709263, 0.291243076324, 0.269087553024],\n",
        "                                                                                 std=[0.227743327618, 0.211051672697, 0.184846073389]),\n",
        "                                                                ]),\n",
        "                                                                gt_transform = transforms.Compose([\n",
        "                                                                                LabelNormalize(100)\n",
        "                                                                ]),\n",
        "                                                                train=True,\n",
        "                                                                batch_size=1,\n",
        "                                                                num_workers=2),batch_size=1)"
      ],
      "execution_count": 36,
      "outputs": []
    },
    {
      "cell_type": "code",
      "metadata": {
        "colab": {
          "base_uri": "https://localhost:8080/"
        },
        "id": "3c4WvdXUHeDS",
        "outputId": "a5941bdc-4acf-4430-d578-5b0b572c6483"
      },
      "source": [
        "lr = 1e-5\n",
        "criterion = nn.MSELoss(size_average=False).cuda()\n",
        "\n",
        "#optimizer = torch.optim.SGD(model.parameters(), lr,momentum=0.95,weight_decay=5 * 1e-4)\n",
        "\n",
        "optimizer = torch.optim.Adam(model.parameters(), lr=lr, weight_decay=1e-4)\n",
        "\n",
        "scheduler = torch.optim.lr_scheduler.StepLR(optimizer, step_size=2, gamma=0.98)"
      ],
      "execution_count": 37,
      "outputs": [
        {
          "output_type": "stream",
          "name": "stderr",
          "text": [
            "/usr/local/lib/python3.7/dist-packages/torch/nn/_reduction.py:42: UserWarning: size_average and reduce args will be deprecated, please use reduction='sum' instead.\n",
            "  warnings.warn(warning.format(ret))\n"
          ]
        }
      ]
    },
    {
      "cell_type": "code",
      "metadata": {
        "id": "-YVk2l09IwZ6"
      },
      "source": [
        "class AverageMeter(object):\n",
        "    \"\"\"Computes and stores the average and current value\"\"\"\n",
        "\n",
        "    def __init__(self):\n",
        "        self.reset()\n",
        "\n",
        "    def reset(self):\n",
        "        self.cur_val = 0\n",
        "        self.avg = 0\n",
        "        self.sum = 0\n",
        "        self.count = 0\n",
        "\n",
        "    def update(self, cur_val):\n",
        "        self.cur_val = cur_val\n",
        "        self.sum += cur_val\n",
        "        self.count += 1\n",
        "        self.avg = self.sum / self.count"
      ],
      "execution_count": 38,
      "outputs": []
    },
    {
      "cell_type": "code",
      "metadata": {
        "id": "teZkVmj0WODy"
      },
      "source": [
        "   def mae_mse_update(pred,label,maes,mses=None,ssims=None,psnrs=None,losses=None,cls_id=None):\n",
        "        for num in range(pred.size()[0]):\n",
        "            sub_pred = pred[num].data.cpu().squeeze().numpy()/ 100\n",
        "            sub_label = label[num].data.cpu().squeeze().numpy() / 100\n",
        "            pred_cnt = np.sum(sub_pred)\n",
        "            gt_cnt =   np.sum(sub_label)\n",
        "            mae = abs(pred_cnt - gt_cnt)\n",
        "            mse = (pred_cnt - gt_cnt)*(pred_cnt - gt_cnt)\n",
        "\n",
        "            if ssims and psnrs is not None:\n",
        "                ssims.update(get_ssim(sub_label,sub_pred))\n",
        "                psnrs.update(get_psnr(sub_label,sub_pred))\n",
        "\n",
        "            if cls_id is not None:\n",
        "                maes.update(mae,cls_id)\n",
        "                if losses is not None:\n",
        "                    loss = F.mse_loss(pred.detach().squeeze(), label.detach().squeeze())\n",
        "                    losses.update(loss.item(),cls_id)\n",
        "                if mses is not None:\n",
        "                    mses.update(mse,cls_id)\n",
        "            else:\n",
        "                maes.update(mae)\n",
        "                if losses is not None:\n",
        "                    loss = F.mse_loss(pred.detach().squeeze(), label.detach().squeeze())\n",
        "                    losses.update(loss.item())\n",
        "                if mses is not None:\n",
        "                    mses.update(mse)\n",
        "\n",
        "        return pred_cnt,gt_cnt"
      ],
      "execution_count": 39,
      "outputs": []
    },
    {
      "cell_type": "code",
      "metadata": {
        "colab": {
          "base_uri": "https://localhost:8080/"
        },
        "id": "bJCHSJUmJi_0",
        "outputId": "8446cdc7-fedc-4a83-8584-37d2c5c53a94"
      },
      "source": [
        "for epoch in range(0,2):\n",
        "    mae_train = 0\n",
        "    losses = AverageMeter()\n",
        "    batch_time = AverageMeter()\n",
        "    data_time = AverageMeter()\n",
        "    model.train()\n",
        "    end = time.time()\n",
        "    loss_list = []\n",
        "    mae_list =[]\n",
        "    best_predict_mae = 2000\n",
        "    train_mae = AverageMeter()\n",
        "    train_mse = AverageMeter()\n",
        "    for i, (img, target) in enumerate(train_loader):\n",
        "\n",
        "        img = img.cuda()\n",
        "        img = Variable(img)\n",
        "\n",
        "       \n",
        "        output = model(img)\n",
        "\n",
        "        loss = criterion(output.squeeze(), target.squeeze().cuda())\n",
        "        losses.update(loss.item())\n",
        "        optimizer.zero_grad()\n",
        "        loss.backward()\n",
        "        optimizer.step()\n",
        "\n",
        "        batch_time.update(time.time() - end)\n",
        "        end = time.time()\n",
        "\n",
        "\n",
        "        #calculate the MAE values\n",
        "        pred_map = output.data.cpu().numpy()\n",
        "        gt_map = target.data.cpu().numpy()\n",
        "        mae_train += abs(np.sum(pred_map) -np.sum(gt_map))\n",
        "\n",
        "        sou_pred_cnt, sou_label_cnt = mae_mse_update(output, target, train_mae, train_mse)\n",
        "        if i % 10 == 0:\n",
        "            print('Epoch {}, Loss={:.4f} s_gt={:.1f} s_pre={:.1f}, lr={:.4f}'.format(\n",
        "                    epoch, loss.item(), sou_label_cnt,sou_pred_cnt, optimizer.param_groups[0]['lr']*10000))\n",
        "    \n",
        "    scheduler.step()  \n",
        "    mae_list.append(mae_train / len(train_loader))\n",
        "    loss_list.append(loss)\n",
        "    mae_train = mae_train / len(train_loader)\n",
        "    print(' * TRAINING MAE {mae:.3f} '.format(mae=mae_train)) \n",
        "    print('data/train_mae_sou', float(train_mae.avg), epoch)\n",
        "    print('data/train_mse_sou', float(np.sqrt(train_mse.avg)), epoch)\n",
        "MODEL_SAVE_PATH = '/content/drive/MyDrive/GCC_GT/GCC_csv.pth'\n",
        "torch.save(model.state_dict(), MODEL_SAVE_PATH)"
      ],
      "execution_count": 40,
      "outputs": [
        {
          "output_type": "stream",
          "name": "stderr",
          "text": [
            "/usr/local/lib/python3.7/dist-packages/torch/nn/functional.py:3825: UserWarning: nn.functional.upsample_bilinear is deprecated. Use nn.functional.interpolate instead.\n",
            "  warnings.warn(\"nn.functional.upsample_bilinear is deprecated. Use nn.functional.interpolate instead.\")\n",
            "/usr/local/lib/python3.7/dist-packages/torch/nn/functional.py:3770: UserWarning: nn.functional.upsample_nearest is deprecated. Use nn.functional.interpolate instead.\n",
            "  warnings.warn(\"nn.functional.upsample_nearest is deprecated. Use nn.functional.interpolate instead.\")\n"
          ]
        },
        {
          "output_type": "stream",
          "name": "stdout",
          "text": [
            "Epoch 0, Loss=72903.2891 s_gt=1172.7 s_pre=1058.4, lr=0.1000\n",
            "Epoch 0, Loss=99100.1406 s_gt=1485.2 s_pre=1318.4, lr=0.1000\n",
            "Epoch 0, Loss=74801.1250 s_gt=1156.1 s_pre=1360.5, lr=0.1000\n",
            "Epoch 0, Loss=77526.4531 s_gt=1333.0 s_pre=1226.0, lr=0.1000\n",
            "Epoch 0, Loss=103945.4844 s_gt=1524.1 s_pre=1251.2, lr=0.1000\n",
            " * TRAINING MAE 38747.531 \n",
            "data/train_mae_sou 387.47533203125 0\n",
            "data/train_mse_sou 496.4083197654966 0\n",
            "Epoch 1, Loss=150270.1719 s_gt=1768.4 s_pre=1366.7, lr=0.1000\n",
            "Epoch 1, Loss=89526.2969 s_gt=1466.1 s_pre=1471.3, lr=0.1000\n",
            "Epoch 1, Loss=97659.7969 s_gt=1676.1 s_pre=1474.9, lr=0.1000\n",
            "Epoch 1, Loss=63669.5156 s_gt=1226.3 s_pre=1207.1, lr=0.1000\n",
            "Epoch 1, Loss=39548.8359 s_gt=949.1 s_pre=967.5, lr=0.1000\n",
            " * TRAINING MAE 28508.728 \n",
            "data/train_mae_sou 285.08729370117186 1\n",
            "data/train_mse_sou 369.8434028366645 1\n"
          ]
        }
      ]
    },
    {
      "cell_type": "code",
      "metadata": {
        "id": "wGErpV8zjMNf"
      },
      "source": [
        "Epoch 0, Loss=426157.6250 s_gt=1967.1 s_pre=584.5, lr=0.1000\n",
        "Epoch 0, Loss=735640.6875 s_gt=2630.2 s_pre=775.2, lr=0.1000\n",
        "Epoch 0, Loss=634039.1250 s_gt=2721.2 s_pre=1227.1, lr=0.1000\n",
        "Epoch 0, Loss=424226.6875 s_gt=2636.4 s_pre=1881.8, lr=0.1000\n",
        "Epoch 0, Loss=146809.0469 s_gt=1712.4 s_pre=2325.6, lr=0.1000\n",
        " * TRAINING MAE 97249.753 \n",
        "data/train_mae_sou 972.4975268554688 0\n",
        "data/train_mse_sou 1183.4845861760293 0\n",
        "Epoch 1, Loss=160685.7969 s_gt=1967.1 s_pre=2535.7, lr=0.1000\n",
        "Epoch 1, Loss=250596.4375 s_gt=2630.2 s_pre=2878.5, lr=0.1000\n",
        "Epoch 1, Loss=224042.5938 s_gt=2721.2 s_pre=2436.1, lr=0.1000\n",
        "Epoch 1, Loss=185253.2656 s_gt=2636.4 s_pre=2477.8, lr=0.1000\n",
        "Epoch 1, Loss=118613.4141 s_gt=1712.4 s_pre=2481.2, lr=0.1000\n",
        " * TRAINING MAE 57433.325 \n",
        "data/train_mae_sou 574.3331787109375 1\n",
        "data/train_mse_sou 705.4413232824417 1"
      ],
      "execution_count": null,
      "outputs": []
    },
    {
      "cell_type": "code",
      "metadata": {
        "colab": {
          "base_uri": "https://localhost:8080/"
        },
        "id": "7AU-LN2KfQGm",
        "outputId": "362aa0b7-6f30-4e0d-ca0d-c97a948db523"
      },
      "source": [
        "model_path = '/content/drive/MyDrive/GCC_GT/GCC_csv.pth'\n",
        "\n",
        "model = TestNet().cuda()\n",
        "# load the trained model\n",
        "model.load_state_dict(torch.load(model_path))\n",
        "print('successfully load model from', model_path)"
      ],
      "execution_count": 41,
      "outputs": [
        {
          "output_type": "stream",
          "name": "stdout",
          "text": [
            "successfully load model from /content/drive/MyDrive/GCC_GT/GCC_csv.pth\n"
          ]
        }
      ]
    },
    {
      "cell_type": "code",
      "metadata": {
        "colab": {
          "base_uri": "https://localhost:8080/"
        },
        "id": "jLzqYAB0dkrp",
        "outputId": "d59b58b1-3045-4f55-ddcb-3e842618000c"
      },
      "source": [
        "img_transform=transforms.Compose([transforms.ToTensor(), \n",
        "                                  transforms.Normalize(mean=[0.302234709263, 0.291243076324, 0.269087553024],\n",
        "                                                       std=[0.227743327618, 0.211051672697, 0.184846073389]),\n",
        "                                 ])\n",
        "\n",
        "imgname = '/content/drive/MyDrive/scene_00_0/pngs/1536371984.png'\n",
        "denname = imgname.replace('pngs','gt').replace('.png','.csv')\n",
        "den = pd.read_csv(denname, sep=',',header=None).values\n",
        "den = den.astype(np.float32, copy=False)\n",
        "img = Image.open(imgname)\n",
        "if img.mode == 'L':\n",
        "  img = img.convert('RGB')\n",
        "img = img_transform(img)\n",
        "\n",
        "gt = np.sum(den)\n",
        "img = img[None,:,:,:].cuda()\n",
        "\n",
        "pred_map = model(img)\n",
        "\n",
        "pred_map = pred_map.cpu().data.numpy()[0,0,:,:]\n",
        "pred = np.sum(pred_map)/100"
      ],
      "execution_count": 42,
      "outputs": [
        {
          "output_type": "stream",
          "name": "stderr",
          "text": [
            "/usr/local/lib/python3.7/dist-packages/torch/nn/functional.py:3825: UserWarning: nn.functional.upsample_bilinear is deprecated. Use nn.functional.interpolate instead.\n",
            "  warnings.warn(\"nn.functional.upsample_bilinear is deprecated. Use nn.functional.interpolate instead.\")\n",
            "/usr/local/lib/python3.7/dist-packages/torch/nn/functional.py:3770: UserWarning: nn.functional.upsample_nearest is deprecated. Use nn.functional.interpolate instead.\n",
            "  warnings.warn(\"nn.functional.upsample_nearest is deprecated. Use nn.functional.interpolate instead.\")\n"
          ]
        }
      ]
    },
    {
      "cell_type": "code",
      "metadata": {
        "id": "ZtnVwRGYla-l"
      },
      "source": [
        ""
      ],
      "execution_count": null,
      "outputs": []
    },
    {
      "cell_type": "code",
      "metadata": {
        "colab": {
          "base_uri": "https://localhost:8080/",
          "height": 35
        },
        "id": "-_AfW6zBgLWr",
        "outputId": "e70fc4d5-a648-40f3-f4f8-d3fe4b02779d"
      },
      "source": [
        "str(int(pred))"
      ],
      "execution_count": 43,
      "outputs": [
        {
          "output_type": "execute_result",
          "data": {
            "application/vnd.google.colaboratory.intrinsic+json": {
              "type": "string"
            },
            "text/plain": [
              "'2089'"
            ]
          },
          "metadata": {},
          "execution_count": 43
        }
      ]
    },
    {
      "cell_type": "code",
      "metadata": {
        "colab": {
          "base_uri": "https://localhost:8080/",
          "height": 221
        },
        "id": "a8DqZO1-f-Mo",
        "outputId": "a7b4fea9-c267-464e-9354-608fd03dfce4"
      },
      "source": [
        "from matplotlib import pyplot as plt\n",
        "pred_map = pred_map/np.max(pred_map+1e-20)\n",
        "\n",
        "den = den/np.max(den+1e-20)\n",
        "\n",
        "\n",
        "den_frame = plt.gca()\n",
        "plt.imshow(den,cmap='jet')\n",
        "den_frame.axes.get_yaxis().set_visible(False)\n",
        "den_frame.axes.get_xaxis().set_visible(False)\n",
        "den_frame.spines['top'].set_visible(False)\n",
        "den_frame.spines['bottom'].set_visible(False)\n",
        "den_frame.spines['left'].set_visible(False)\n",
        "den_frame.spines['right'].set_visible(False)"
      ],
      "execution_count": 44,
      "outputs": [
        {
          "output_type": "display_data",
          "data": {
            "image/png": "[encoded data removed]",
            "text/plain": [
              "<Figure size 432x288 with 1 Axes>"
            ]
          },
          "metadata": {
            "needs_background": "light"
          }
        }
      ]
    },
    {
      "cell_type": "code",
      "metadata": {
        "colab": {
          "base_uri": "https://localhost:8080/",
          "height": 221
        },
        "id": "-XEnykU0gi9A",
        "outputId": "0a5ca044-3b28-41df-a6eb-4cb2a205eea2"
      },
      "source": [
        "pred_frame = plt.gca()\n",
        "plt.imshow(pred_map,cmap='jet')\n",
        "pred_frame.axes.get_yaxis().set_visible(False)\n",
        "pred_frame.axes.get_xaxis().set_visible(False)\n",
        "pred_frame.spines['top'].set_visible(False)\n",
        "pred_frame.spines['bottom'].set_visible(False)\n",
        "pred_frame.spines['left'].set_visible(False)\n",
        "pred_frame.spines['right'].set_visible(False)"
      ],
      "execution_count": 45,
      "outputs": [
        {
          "output_type": "display_data",
          "data": {
            "image/png": "[encoded data removed]",
            "text/plain": [
              "<Figure size 432x288 with 1 Axes>"
            ]
          },
          "metadata": {
            "needs_background": "light"
          }
        }
      ]
    },
    {
      "cell_type": "code",
      "metadata": {
        "colab": {
          "base_uri": "https://localhost:8080/"
        },
        "id": "VSJ-yRkEJ3dC",
        "outputId": "c764a325-3377-4312-8b81-2ac115b47035"
      },
      "source": [
        "!ln -sf /opt/bin/nvidia-smi /usr/bin/nvidia-smi\n",
        "!pip install gputil\n",
        "!pip install psutil\n",
        "!pip install humanize"
      ],
      "execution_count": 24,
      "outputs": [
        {
          "output_type": "stream",
          "name": "stdout",
          "text": [
            "Collecting gputil\n",
            "  Downloading GPUtil-1.4.0.tar.gz (5.5 kB)\n",
            "Building wheels for collected packages: gputil\n",
            "  Building wheel for gputil (setup.py) ... \u001b[?25l\u001b[?25hdone\n",
            "  Created wheel for gputil: filename=GPUtil-1.4.0-py3-none-any.whl size=7411 sha256=5db2bf0173e22956ecdd5f91aca2299047113d971879c91bfa10b976ee3d325d\n",
            "  Stored in directory: /root/.cache/pip/wheels/6e/f8/83/534c52482d6da64622ddbf72cd93c35d2ef2881b78fd08ff0c\n",
            "Successfully built gputil\n",
            "Installing collected packages: gputil\n",
            "Successfully installed gputil-1.4.0\n",
            "Requirement already satisfied: psutil in /usr/local/lib/python3.7/dist-packages (5.4.8)\n",
            "Requirement already satisfied: humanize in /usr/local/lib/python3.7/dist-packages (0.5.1)\n"
          ]
        }
      ]
    },
    {
      "cell_type": "code",
      "metadata": {
        "colab": {
          "base_uri": "https://localhost:8080/"
        },
        "id": "l15pXipQMi-H",
        "outputId": "6cb93bea-6891-4c0d-a9ed-d5c8908a9739"
      },
      "source": [
        "import psutil\n",
        "import humanize\n",
        "import os\n",
        "import GPUtil as GPU\n",
        "GPUs = GPU.getGPUs()\n",
        "# XXX: only one GPU on Colab and isn’t guaranteed\n",
        "gpu = GPUs[0]\n",
        "def printm():\n",
        " process = psutil.Process(os.getpid())\n",
        " print(\"Gen RAM Free: \" + humanize.naturalsize( psutil.virtual_memory().available ), \" | Proc size: \" + humanize.naturalsize( process.memory_info().rss))\n",
        " print(\"GPU RAM Free: {0:.0f}MB | Used: {1:.0f}MB | Util {2:3.0f}% | Total {3:.0f}MB\".format(gpu.memoryFree, gpu.memoryUsed, gpu.memoryUtil*100, gpu.memoryTotal))\n",
        "printm()"
      ],
      "execution_count": 33,
      "outputs": [
        {
          "output_type": "stream",
          "name": "stdout",
          "text": [
            "Gen RAM Free: 12.3 GB  | Proc size: 3.1 GB\n",
            "GPU RAM Free: 10096MB | Used: 1345MB | Util  12% | Total 11441MB\n"
          ]
        }
      ]
    },
    {
      "cell_type": "code",
      "metadata": {
        "colab": {
          "base_uri": "https://localhost:8080/",
          "height": 137
        },
        "id": "FJf1wIQ0Mmux",
        "outputId": "45adadbe-2c5e-4b78-f92b-4bdeb4590988"
      },
      "source": [
        "import torch, gc\n",
        "#with torch.no_grad():\n",
        "gc.collect()\n",
        "torch.cuda.empty_cache()\n",
        "torch.cuda.memory_summary(device=None, abbreviated=False)\n"
      ],
      "execution_count": 32,
      "outputs": [
        {
          "output_type": "execute_result",
          "data": {
            "application/vnd.google.colaboratory.intrinsic+json": {
              "type": "string"
            },
            "text/plain": [
              "'|===========================================================================|\\n|                  PyTorch CUDA memory summary, device ID 0                 |\\n|---------------------------------------------------------------------------|\\n|            CUDA OOMs: 0            |        cudaMalloc retries: 0         |\\n|===========================================================================|\\n|        Metric         | Cur Usage  | Peak Usage | Tot Alloc  | Tot Freed  |\\n|---------------------------------------------------------------------------|\\n| Allocated memory      |     775 MB |    6789 MB |    2040 GB |    2040 GB |\\n|       from large pool |     743 MB |    6763 MB |    2038 GB |    2037 GB |\\n|       from small pool |      32 MB |      38 MB |       2 GB |       2 GB |\\n|---------------------------------------------------------------------------|\\n| Active memory         |     775 MB |    6789 MB |    2040 GB |    2040 GB |\\n|       from large pool |     743 MB |    6763 MB |    2038 GB |    2037 GB |\\n|       from small pool |      32 MB |      38 MB |       2 GB |       2 GB |\\n|---------------------------------------------------------------------------|\\n| GPU reserved memory   |     878 MB |    8970 MB |    8970 MB |    8092 MB |\\n|       from large pool |     844 MB |    8930 MB |    8930 MB |    8086 MB |\\n|       from small pool |      34 MB |      40 MB |      40 MB |       6 MB |\\n|---------------------------------------------------------------------------|\\n| Non-releasable memory |  105149 KB |  619062 KB |  659259 MB |  659156 MB |\\n|       from large pool |  103344 KB |  617576 KB |  650572 MB |  650471 MB |\\n|       from small pool |    1805 KB |    6132 KB |    8686 MB |    8684 MB |\\n|---------------------------------------------------------------------------|\\n| Allocations           |    1032    |    1341    |  133339    |  132307    |\\n|       from large pool |     107    |     232    |   45144    |   45037    |\\n|       from small pool |     925    |    1213    |   88195    |   87270    |\\n|---------------------------------------------------------------------------|\\n| Active allocs         |    1032    |    1341    |  133339    |  132307    |\\n|       from large pool |     107    |     232    |   45144    |   45037    |\\n|       from small pool |     925    |    1213    |   88195    |   87270    |\\n|---------------------------------------------------------------------------|\\n| GPU reserved segments |      62    |     123    |     123    |      61    |\\n|       from large pool |      45    |     103    |     103    |      58    |\\n|       from small pool |      17    |      20    |      20    |       3    |\\n|---------------------------------------------------------------------------|\\n| Non-releasable allocs |     109    |     111    |   77671    |   77562    |\\n|       from large pool |      20    |      25    |   23420    |   23400    |\\n|       from small pool |      89    |      89    |   54251    |   54162    |\\n|===========================================================================|\\n'"
            ]
          },
          "metadata": {},
          "execution_count": 32
        }
      ]
    },
    {
      "cell_type": "code",
      "metadata": {
        "id": "VWRSCuzBMsgP"
      },
      "source": [
        ""
      ],
      "execution_count": null,
      "outputs": []
    }
  ]
}