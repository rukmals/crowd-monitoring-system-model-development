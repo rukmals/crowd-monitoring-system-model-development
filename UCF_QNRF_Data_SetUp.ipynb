{
  "nbformat": 4,
  "nbformat_minor": 0,
  "metadata": {
    "colab": {
      "name": "UCF_QNRF_Data SetUp.ipynb",
      "provenance": [],
      "collapsed_sections": [],
      "mount_file_id": "10GCvKWcfFx3y3xr2KLO1L8ZLRyc9tBoM",
      "authorship_tag": "ABX9TyMhRknpz1H7unSfZu1Z6GsK",
      "include_colab_link": true
    },
    "kernelspec": {
      "name": "python3",
      "display_name": "Python 3"
    },
    "language_info": {
      "name": "python"
    }
  },
  "cells": [
    {
      "cell_type": "markdown",
      "metadata": {
        "id": "view-in-github",
        "colab_type": "text"
      },
      "source": [
        "<a href=\"https://colab.research.google.com/github/rukmals/crowd-monitoring-system-model-development/blob/main/UCF_QNRF_Data_SetUp.ipynb\" target=\"_parent\"><img src=\"https://colab.research.google.com/assets/colab-badge.svg\" alt=\"Open In Colab\"/></a>"
      ]
    },
    {
      "cell_type": "code",
      "metadata": {
        "colab": {
          "base_uri": "https://localhost:8080/"
        },
        "id": "-AAWAhXfCqCk",
        "outputId": "6efce5b4-d5f0-4fe1-f551-ed71d705ba8d"
      },
      "source": [
        "import numpy as np  # linear algebra\n",
        "import pandas as pd  # data processing, CSV file I/O (e.g. pd.read_csv)\n",
        "\n",
        "import os\n",
        "from tensorflow.keras.preprocessing import image\n",
        "\n",
        "import scipy\n",
        "from scipy.io import loadmat\n",
        "import glob\n",
        "import h5py\n",
        "import time\n",
        "from sklearn.externals.joblib import Parallel, delayed\n",
        "from torchvision import datasets, transforms"
      ],
      "execution_count": 2,
      "outputs": [
        {
          "output_type": "stream",
          "name": "stderr",
          "text": [
            "/usr/local/lib/python3.7/dist-packages/sklearn/externals/joblib/__init__.py:15: FutureWarning: sklearn.externals.joblib is deprecated in 0.21 and will be removed in 0.23. Please import this functionality directly from joblib, which can be installed with: pip install joblib. If this warning is raised when loading pickled models, you may need to re-serialize those models with scikit-learn 0.21+.\n",
            "  warnings.warn(msg, category=FutureWarning)\n"
          ]
        }
      ]
    },
    {
      "cell_type": "code",
      "metadata": {
        "id": "dT8FuVnWCFjs"
      },
      "source": [
        "test_setpath = \"/content/drive/MyDrive/Model_Test_Data/UCF-QNRF/UCF-QNRF_ECCV18/Test\""
      ],
      "execution_count": 3,
      "outputs": []
    },
    {
      "cell_type": "code",
      "metadata": {
        "id": "D_u9dUVoC1Uf"
      },
      "source": [
        "def gaussian_filter_density(gt):\n",
        "    print(gt.shape)\n",
        "    density = np.zeros(gt.shape, dtype=np.float32)\n",
        "    gt_count = np.count_nonzero(gt)\n",
        "    if gt_count == 0:\n",
        "        return density\n",
        "    #print(gt_count)\n",
        "    pts = np.array(list(zip(np.nonzero(gt)[1], np.nonzero(gt)[0])))\n",
        "    leafsize = 2048\n",
        "    # build kdtree\n",
        "    pts_copy = pts.copy()\n",
        "    tree = scipy.spatial.KDTree(pts_copy, leafsize=leafsize)\n",
        "    # query kdtree\n",
        "    distances, locations = tree.query(pts, k=4)\n",
        "    print('generate density...')\n",
        "    for i, pt in enumerate(pts):\n",
        "        pt2d = np.zeros(gt.shape, dtype=np.float32)\n",
        "        pt2d[pt[1], pt[0]] = 1.\n",
        "        if gt_count > 1:\n",
        "            sigma = (distances[i][1] + distances[i][2] + distances[i][3]) * 0.1\n",
        "        else:\n",
        "            sigma = np.average(np.array(gt.shape)) / 2. / 2.  # case: 1 point\n",
        "        density += scipy.ndimage.filters.gaussian_filter(pt2d, sigma, mode='constant')\n",
        "    print('done.')\n",
        "    return density"
      ],
      "execution_count": 4,
      "outputs": []
    },
    {
      "cell_type": "code",
      "metadata": {
        "id": "gHD5AfndDFts"
      },
      "source": [
        "def generate_density_map(img_path):\n",
        "    img_path = \"/content/drive/MyDrive/Model_Test_Data/UCF-QNRF/UCF-QNRF_ECCV18/Test/\"+ img_path\n",
        "    #print(img_path)\n",
        "    mat_path = img_path.replace('.jpg', '.mat').replace('.','_ann.')\n",
        "    #print(mat_path)\n",
        "    mat = scipy.io.loadmat(mat_path)\n",
        "    imgfile = image.load_img(img_path)\n",
        "    img = image.img_to_array(imgfile)\n",
        "    k = np.zeros((img.shape[0], img.shape[1]))\n",
        "    gt = mat[\"annPoints\"]\n",
        "    #print(mat)\n",
        "    #print(gt)\n",
        "    for i in range(0, len(gt)):\n",
        "        if int(gt[i][1]) < img.shape[0] and int(gt[i][0]) < img.shape[1]:\n",
        "            k[int(gt[i][1]), int(gt[i][0])] = 1\n",
        "    k = gaussian_filter_density(k)\n",
        "    output_path = img_path.replace('.jpg', '.h5').replace('Test/','ground-truth-h5/')\n",
        "    output_dir = os.path.dirname(output_path)\n",
        "    os.makedirs(output_dir, exist_ok=True)\n",
        "    print(\"output\", output_path)\n",
        "    with h5py.File(output_path, 'w') as hf:\n",
        "        hf['density'] = k\n",
        "    return img_path"
      ],
      "execution_count": 26,
      "outputs": []
    },
    {
      "cell_type": "code",
      "metadata": {
        "colab": {
          "base_uri": "https://localhost:8080/"
        },
        "id": "eE2KvKKmDMkm",
        "outputId": "b811d396-5fbd-46b5-97b9-88cc8d2a78d1"
      },
      "source": [
        "test_list = os.listdir(test_setpath)\n",
        "print(test_list)"
      ],
      "execution_count": 22,
      "outputs": [
        {
          "output_type": "stream",
          "name": "stdout",
          "text": [
            "['img_0183.jpg', 'img_0045.jpg', 'img_0287_ann.mat', 'img_0242_ann.mat', 'img_0152_ann.mat', 'img_0011.jpg', 'img_0078_ann.mat', 'img_0128_ann.mat', 'img_0221_ann.mat', 'img_0078.jpg', 'img_0135_ann.mat', 'img_0249_ann.mat', 'img_0243_ann.mat', 'img_0088.jpg', 'img_0198_ann.mat', 'img_0257_ann.mat', 'img_0053.jpg', 'img_0220_ann.mat', 'img_0069.jpg', 'img_0174_ann.mat', 'img_0315.jpg', 'img_0111.jpg', 'img_0068.jpg', 'img_0264_ann.mat', 'img_0143.jpg', 'img_0167.jpg', 'img_0244.jpg', 'img_0151_ann.mat', 'img_0097_ann.mat', 'img_0297.jpg', 'img_0093.jpg', 'img_0048.jpg', 'img_0044.jpg', 'img_0260_ann.mat', 'img_0188_ann.mat', 'img_0251.jpg', 'img_0256.jpg', 'img_0329.jpg', 'img_0267_ann.mat', 'img_0223.jpg', 'img_0144.jpg', 'img_0082.jpg', 'img_0318.jpg', 'img_0149_ann.mat', 'img_0096.jpg', 'img_0215_ann.mat', 'img_0086_ann.mat', 'img_0134.jpg', 'img_0122_ann.mat', 'img_0108.jpg', 'img_0201_ann.mat', 'img_0125.jpg', 'img_0148.jpg', 'img_0157.jpg', 'img_0247.jpg', 'img_0138_ann.mat', 'img_0305_ann.mat', 'img_0070.jpg', 'img_0196_ann.mat', 'img_0037_ann.mat', 'img_0319.jpg', 'img_0201.jpg', 'img_0217.jpg', 'img_0210.jpg', 'img_0067_ann.mat', 'img_0211_ann.mat', 'img_0190.jpg', 'img_0216.jpg', 'img_0003_ann.mat', 'img_0248.jpg', 'img_0012_ann.mat', 'img_0268.jpg', 'img_0022_ann.mat', 'img_0220.jpg', 'img_0099_ann.mat', 'img_0331_ann.mat', 'img_0165_ann.mat', 'img_0006_ann.mat', 'img_0112.jpg', 'img_0056_ann.mat', 'img_0243.jpg', 'img_0137.jpg', 'img_0245.jpg', 'img_0104.jpg', 'img_0224.jpg', 'img_0294_ann.mat', 'img_0101_ann.mat', 'img_0291_ann.mat', 'img_0224_ann.mat', 'img_0211.jpg', 'img_0299_ann.mat', 'img_0035.jpg', 'img_0186_ann.mat', 'img_0019_ann.mat', 'img_0324_ann.mat', 'img_0264.jpg', 'img_0329_ann.mat', 'img_0191.jpg', 'img_0177_ann.mat', 'img_0197_ann.mat', 'img_0321.jpg', 'img_0199_ann.mat', 'img_0037.jpg', 'img_0010_ann.mat', 'img_0055_ann.mat', 'img_0045_ann.mat', 'img_0058_ann.mat', 'img_0258_ann.mat', 'img_0263_ann.mat', 'img_0116.jpg', 'img_0228.jpg', 'img_0142_ann.mat', 'img_0103.jpg', 'img_0205_ann.mat', 'img_0144_ann.mat', 'img_0203.jpg', 'img_0290_ann.mat', 'img_0115.jpg', 'img_0332.jpg', 'img_0311.jpg', 'img_0333_ann.mat', 'img_0334_ann.mat', 'img_0189.jpg', 'img_0090.jpg', 'img_0061_ann.mat', 'img_0186.jpg', 'img_0317_ann.mat', 'img_0227.jpg', 'img_0185_ann.mat', 'img_0261_ann.mat', 'img_0094_ann.mat', 'img_0014.jpg', 'img_0253.jpg', 'img_0252_ann.mat', 'img_0131.jpg', 'img_0035_ann.mat', 'img_0316_ann.mat', 'img_0016_ann.mat', 'img_0185.jpg', 'img_0036.jpg', 'img_0006.jpg', 'img_0281.jpg', 'img_0307_ann.mat', 'img_0171.jpg', 'img_0300_ann.mat', 'img_0058.jpg', 'img_0178_ann.mat', 'img_0166_ann.mat', 'img_0283.jpg', 'img_0168_ann.mat', 'img_0109.jpg', 'img_0140_ann.mat', 'img_0150.jpg', 'img_0044_ann.mat', 'img_0127.jpg', 'img_0085_ann.mat', 'img_0161_ann.mat', 'img_0015_ann.mat', 'img_0025_ann.mat', 'img_0154.jpg', 'img_0063_ann.mat', 'img_0121.jpg', 'img_0182.jpg', 'img_0236_ann.mat', 'img_0292.jpg', 'img_0047_ann.mat', 'img_0195_ann.mat', 'img_0086.jpg', 'img_0026.jpg', 'img_0274_ann.mat', 'img_0280_ann.mat', 'img_0092.jpg', 'img_0032.jpg', 'img_0092_ann.mat', 'img_0162_ann.mat', 'img_0123.jpg', 'img_0079_ann.mat', 'img_0100_ann.mat', 'img_0142.jpg', 'img_0225.jpg', 'img_0080.jpg', 'img_0179.jpg', 'img_0026_ann.mat', 'img_0326.jpg', 'img_0291.jpg', 'img_0238_ann.mat', 'img_0166.jpg', 'img_0195.jpg', 'img_0330_ann.mat', 'img_0209.jpg', 'img_0002.jpg', 'img_0051.jpg', 'img_0115_ann.mat', 'img_0303.jpg', 'img_0087.jpg', 'img_0167_ann.mat', 'img_0308_ann.mat', 'img_0101.jpg', 'img_0076_ann.mat', 'img_0281_ann.mat', 'img_0103_ann.mat', 'img_0120_ann.mat', 'img_0096_ann.mat', 'img_0110.jpg', 'img_0088_ann.mat', 'img_0129_ann.mat', 'img_0084.jpg', 'img_0197.jpg', 'img_0206_ann.mat', 'img_0207.jpg', 'img_0136.jpg', 'img_0082_ann.mat', 'img_0323_ann.mat', 'img_0187.jpg', 'img_0286.jpg', 'img_0141_ann.mat', 'img_0270_ann.mat', 'img_0272.jpg', 'img_0300.jpg', 'img_0278.jpg', 'img_0038_ann.mat', 'img_0150_ann.mat', 'img_0181.jpg', 'img_0041.jpg', 'img_0331.jpg', 'img_0267.jpg', 'img_0239.jpg', 'img_0024_ann.mat', 'img_0008_ann.mat', 'img_0063.jpg', 'img_0322_ann.mat', 'img_0227_ann.mat', 'img_0202_ann.mat', 'img_0146_ann.mat', 'img_0036_ann.mat', 'img_0175_ann.mat', 'img_0269_ann.mat', 'img_0121_ann.mat', 'img_0246_ann.mat', 'img_0146.jpg', 'img_0303_ann.mat', 'img_0124_ann.mat', 'img_0159_ann.mat', 'img_0015.jpg', 'img_0219_ann.mat', 'img_0299.jpg', 'img_0294.jpg', 'img_0266_ann.mat', 'img_0196.jpg', 'img_0159.jpg', 'img_0200.jpg', 'img_0113.jpg', 'img_0256_ann.mat', 'img_0034_ann.mat', 'img_0046.jpg', 'img_0240_ann.mat', 'img_0077.jpg', 'img_0152.jpg', 'img_0105.jpg', 'img_0059_ann.mat', 'img_0164.jpg', 'img_0100.jpg', 'img_0295_ann.mat', 'img_0193_ann.mat', 'img_0099.jpg', 'img_0222.jpg', 'img_0042_ann.mat', 'img_0302_ann.mat', 'img_0131_ann.mat', 'img_0265.jpg', 'img_0147.jpg', 'img_0316.jpg', 'img_0255.jpg', 'img_0199.jpg', 'img_0162.jpg', 'img_0083_ann.mat', 'img_0163_ann.mat', 'img_0223_ann.mat', 'img_0271.jpg', 'img_0039.jpg', 'img_0226.jpg', 'img_0011_ann.mat', 'img_0153.jpg', 'img_0230.jpg', 'img_0029.jpg', 'img_0018_ann.mat', 'img_0266.jpg', 'img_0030.jpg', 'img_0276.jpg', 'img_0107.jpg', 'img_0172_ann.mat', 'img_0038.jpg', 'img_0133.jpg', 'img_0064_ann.mat', 'img_0213.jpg', 'img_0094.jpg', 'img_0232_ann.mat', 'img_0111_ann.mat', 'img_0017.jpg', 'img_0218.jpg', 'img_0324.jpg', 'img_0242.jpg', 'img_0002_ann.mat', 'img_0181_ann.mat', 'img_0285.jpg', 'img_0073_ann.mat', 'img_0178.jpg', 'img_0005.jpg', 'img_0284.jpg', 'img_0312.jpg', 'img_0089_ann.mat', 'img_0306_ann.mat', 'img_0208_ann.mat', 'img_0274.jpg', 'img_0334.jpg', 'img_0219.jpg', 'img_0072.jpg', 'img_0194.jpg', 'img_0140.jpg', 'img_0170_ann.mat', 'img_0075.jpg', 'img_0107_ann.mat', 'img_0328.jpg', 'img_0209_ann.mat', 'img_0289.jpg', 'img_0163.jpg', 'img_0298.jpg', 'img_0136_ann.mat', 'img_0278_ann.mat', 'img_0049.jpg', 'img_0066_ann.mat', 'img_0258.jpg', 'img_0231_ann.mat', 'img_0073.jpg', 'img_0170.jpg', 'img_0268_ann.mat', 'img_0040.jpg', 'img_0213_ann.mat', 'img_0108_ann.mat', 'img_0039_ann.mat', 'img_0120.jpg', 'img_0055.jpg', 'img_0184_ann.mat', 'img_0317.jpg', 'img_0005_ann.mat', 'img_0067.jpg', 'img_0090_ann.mat', 'img_0057.jpg', 'img_0302.jpg', 'img_0330.jpg', 'img_0134_ann.mat', 'img_0323.jpg', 'img_0139.jpg', 'img_0050_ann.mat', 'img_0304_ann.mat', 'img_0276_ann.mat', 'img_0214.jpg', 'img_0143_ann.mat', 'img_0260.jpg', 'img_0155_ann.mat', 'img_0259_ann.mat', 'img_0160_ann.mat', 'img_0043.jpg', 'img_0049_ann.mat', 'img_0285_ann.mat', 'img_0060_ann.mat', 'img_0079.jpg', 'img_0022.jpg', 'img_0279_ann.mat', 'img_0233_ann.mat', 'img_0301.jpg', 'img_0064.jpg', 'img_0217_ann.mat', 'img_0098.jpg', 'img_0236.jpg', 'img_0318_ann.mat', 'img_0003.jpg', 'img_0158.jpg', 'img_0023.jpg', 'img_0081.jpg', 'img_0212.jpg', 'img_0326_ann.mat', 'img_0327.jpg', 'img_0312_ann.mat', 'img_0033.jpg', 'img_0123_ann.mat', 'img_0332_ann.mat', 'img_0062.jpg', 'img_0114.jpg', 'img_0156_ann.mat', 'img_0033_ann.mat', 'img_0102.jpg', 'img_0235_ann.mat', 'img_0156.jpg', 'img_0139_ann.mat', 'img_0009_ann.mat', 'img_0314.jpg', 'img_0087_ann.mat', 'img_0153_ann.mat', 'img_0310_ann.mat', 'img_0169_ann.mat', 'img_0138.jpg', 'img_0014_ann.mat', 'img_0208.jpg', 'img_0030_ann.mat', 'img_0053_ann.mat', 'img_0023_ann.mat', 'img_0028.jpg', 'img_0189_ann.mat', 'img_0145.jpg', 'img_0065_ann.mat', 'img_0013_ann.mat', 'img_0027.jpg', 'img_0262_ann.mat', 'img_0097.jpg', 'img_0155.jpg', 'img_0174.jpg', 'img_0241.jpg', 'img_0249.jpg', 'img_0282_ann.mat', 'img_0041_ann.mat', 'img_0085.jpg', 'img_0292_ann.mat', 'img_0171_ann.mat', 'img_0204.jpg', 'img_0081_ann.mat', 'img_0184.jpg', 'img_0293_ann.mat', 'img_0018.jpg', 'img_0218_ann.mat', 'img_0314_ann.mat', 'img_0245_ann.mat', 'img_0188.jpg', 'img_0083.jpg', 'img_0263.jpg', 'img_0321_ann.mat', 'img_0066.jpg', 'img_0200_ann.mat', 'img_0254_ann.mat', 'img_0054_ann.mat', 'img_0333.jpg', 'img_0269.jpg', 'img_0052_ann.mat', 'img_0052.jpg', 'img_0169.jpg', 'img_0075_ann.mat', 'img_0130.jpg', 'img_0042.jpg', 'img_0315_ann.mat', 'img_0235.jpg', 'img_0327_ann.mat', 'img_0077_ann.mat', 'img_0007_ann.mat', 'img_0025.jpg', 'img_0231.jpg', 'img_0001_ann.mat', 'img_0135.jpg', 'img_0157_ann.mat', 'img_0307.jpg', 'img_0102_ann.mat', 'img_0113_ann.mat', 'img_0289_ann.mat', 'img_0198.jpg', 'img_0306.jpg', 'img_0074.jpg', 'img_0126.jpg', 'img_0176_ann.mat', 'img_0297_ann.mat', 'img_0127_ann.mat', 'img_0061.jpg', 'img_0129.jpg', 'img_0194_ann.mat', 'img_0286_ann.mat', 'img_0229.jpg', 'img_0282.jpg', 'img_0076.jpg', 'img_0151.jpg', 'img_0221.jpg', 'img_0028_ann.mat', 'img_0206.jpg', 'img_0309.jpg', 'img_0247_ann.mat', 'img_0298_ann.mat', 'img_0118_ann.mat', 'img_0325.jpg', 'img_0244_ann.mat', 'img_0279.jpg', 'img_0160.jpg', 'img_0057_ann.mat', 'img_0319_ann.mat', 'img_0183_ann.mat', 'img_0175.jpg', 'img_0125_ann.mat', 'img_0259.jpg', 'img_0024.jpg', 'img_0128.jpg', 'img_0232.jpg', 'img_0060.jpg', 'img_0180.jpg', 'img_0204_ann.mat', 'img_0301_ann.mat', 'img_0074_ann.mat', 'img_0047.jpg', 'img_0273.jpg', 'img_0068_ann.mat', 'img_0105_ann.mat', 'img_0020.jpg', 'img_0176.jpg', 'img_0215.jpg', 'img_0191_ann.mat', 'img_0254.jpg', 'img_0147_ann.mat', 'img_0322.jpg', 'img_0027_ann.mat', 'img_0230_ann.mat', 'img_0272_ann.mat', 'img_0241_ann.mat', 'img_0149.jpg', 'img_0154_ann.mat', 'img_0311_ann.mat', 'img_0182_ann.mat', 'img_0056.jpg', 'img_0275_ann.mat', 'img_0237.jpg', 'img_0050.jpg', 'img_0313.jpg', 'img_0069_ann.mat', 'img_0117_ann.mat', 'img_0040_ann.mat', 'img_0192.jpg', 'img_0114_ann.mat', 'img_0012.jpg', 'img_0071.jpg', 'img_0132.jpg', 'img_0119.jpg', 'img_0001.jpg', 'img_0275.jpg', 'img_0034.jpg', 'img_0320.jpg', 'img_0325_ann.mat', 'img_0124.jpg', 'img_0021_ann.mat', 'img_0122.jpg', 'img_0013.jpg', 'img_0234.jpg', 'img_0280.jpg', 'img_0228_ann.mat', 'img_0062_ann.mat', 'img_0031.jpg', 'img_0296_ann.mat', 'img_0104_ann.mat', 'img_0020_ann.mat', 'img_0130_ann.mat', 'img_0262.jpg', 'img_0051_ann.mat', 'img_0148_ann.mat', 'img_0043_ann.mat', 'img_0007.jpg', 'img_0257.jpg', 'img_0293.jpg', 'img_0177.jpg', 'img_0054.jpg', 'img_0261.jpg', 'img_0091_ann.mat', 'img_0251_ann.mat', 'img_0237_ann.mat', 'img_0225_ann.mat', 'img_0126_ann.mat', 'img_0070_ann.mat', 'img_0253_ann.mat', 'img_0137_ann.mat', 'img_0202.jpg', 'img_0305.jpg', 'img_0212_ann.mat', 'img_0222_ann.mat', 'img_0080_ann.mat', 'img_0173_ann.mat', 'img_0295.jpg', 'img_0072_ann.mat', 'img_0192_ann.mat', 'img_0118.jpg', 'img_0240.jpg', 'img_0252.jpg', 'img_0277_ann.mat', 'img_0273_ann.mat', 'img_0093_ann.mat', 'img_0239_ann.mat', 'img_0248_ann.mat', 'img_0308.jpg', 'img_0310.jpg', 'img_0193.jpg', 'img_0048_ann.mat', 'img_0284_ann.mat', 'img_0029_ann.mat', 'img_0110_ann.mat', 'img_0106.jpg', 'img_0117.jpg', 'img_0141.jpg', 'img_0109_ann.mat', 'img_0161.jpg', 'img_0112_ann.mat', 'img_0168.jpg', 'img_0234_ann.mat', 'img_0320_ann.mat', 'img_0233.jpg', 'img_0119_ann.mat', 'img_0019.jpg', 'img_0288_ann.mat', 'img_0290.jpg', 'img_0116_ann.mat', 'img_0179_ann.mat', 'img_0016.jpg', 'img_0004_ann.mat', 'img_0046_ann.mat', 'img_0265_ann.mat', 'img_0106_ann.mat', 'img_0089.jpg', 'img_0203_ann.mat', 'img_0021.jpg', 'img_0288.jpg', 'img_0190_ann.mat', 'img_0210_ann.mat', 'img_0283_ann.mat', 'img_0238.jpg', 'img_0010.jpg', 'img_0214_ann.mat', 'img_0059.jpg', 'img_0017_ann.mat', 'img_0008.jpg', 'img_0173.jpg', 'img_0187_ann.mat', 'img_0226_ann.mat', 'img_0032_ann.mat', 'img_0180_ann.mat', 'img_0287.jpg', 'img_0031_ann.mat', 'img_0250.jpg', 'img_0216_ann.mat', 'img_0084_ann.mat', 'img_0271_ann.mat', 'img_0165.jpg', 'img_0158_ann.mat', 'img_0091.jpg', 'img_0304.jpg', 'img_0164_ann.mat', 'img_0255_ann.mat', 'img_0309_ann.mat', 'img_0207_ann.mat', 'img_0071_ann.mat', 'img_0313_ann.mat', 'img_0095.jpg', 'img_0246.jpg', 'img_0229_ann.mat', 'img_0296.jpg', 'img_0205.jpg', 'img_0172.jpg', 'img_0095_ann.mat', 'img_0270.jpg', 'img_0145_ann.mat', 'img_0132_ann.mat', 'img_0328_ann.mat', 'img_0250_ann.mat', 'img_0098_ann.mat', 'img_0133_ann.mat', 'img_0004.jpg', 'img_0009.jpg', 'img_0277.jpg', 'img_0065.jpg']\n"
          ]
        }
      ]
    },
    {
      "cell_type": "code",
      "metadata": {
        "colab": {
          "base_uri": "https://localhost:8080/"
        },
        "id": "ne7rQND4DZrb",
        "outputId": "53f4e2e2-08c9-4b3e-d73d-67bcfd61ebda"
      },
      "source": [
        "generate_density_map('img_0001.jpg')"
      ],
      "execution_count": null,
      "outputs": [
        {
          "output_type": "stream",
          "name": "stdout",
          "text": [
            "(1875, 2500)\n",
            "generate density...\n"
          ]
        }
      ]
    },
    {
      "cell_type": "code",
      "metadata": {
        "colab": {
          "base_uri": "https://localhost:8080/"
        },
        "id": "vIcTwUCBEaar",
        "outputId": "05d6b04d-a941-4f3c-e5c3-a6e77fecafb7"
      },
      "source": [
        "img_test_list = []\n",
        "for item in test_list:\n",
        "  if '.jpg' in item:\n",
        "    img_test_list.append(item)\n",
        "print(len(img_test_list))"
      ],
      "execution_count": 24,
      "outputs": [
        {
          "output_type": "stream",
          "name": "stdout",
          "text": [
            "334\n"
          ]
        }
      ]
    },
    {
      "cell_type": "code",
      "metadata": {
        "id": "0QK7OMW_LBAQ"
      },
      "source": [
        ""
      ],
      "execution_count": null,
      "outputs": []
    }
  ]
}