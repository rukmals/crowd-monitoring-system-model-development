{
  "nbformat": 4,
  "nbformat_minor": 0,
  "metadata": {
    "colab": {
      "name": "train and test list gcc.ipynb",
      "provenance": [],
      "mount_file_id": "13RkGdTmXydQFZjVWn6UxoYdFLkjAhyNH",
      "authorship_tag": "ABX9TyP27fbrUVDwCI/1bih3040k",
      "include_colab_link": true
    },
    "kernelspec": {
      "name": "python3",
      "display_name": "Python 3"
    },
    "language_info": {
      "name": "python"
    }
  },
  "cells": [
    {
      "cell_type": "markdown",
      "metadata": {
        "id": "view-in-github",
        "colab_type": "text"
      },
      "source": [
        "<a href=\"https://colab.research.google.com/github/rukmals/crowd-monitoring-system-model-development/blob/main/train_and_test_list_gcc.ipynb\" target=\"_parent\"><img src=\"https://colab.research.google.com/assets/colab-badge.svg\" alt=\"Open In Colab\"/></a>"
      ]
    },
    {
      "cell_type": "code",
      "metadata": {
        "id": "lMOD0HEa2Ss6"
      },
      "source": [
        "train_file = \"/content/drive/MyDrive/GCC/train_list.txt\""
      ],
      "execution_count": 2,
      "outputs": []
    },
    {
      "cell_type": "code",
      "metadata": {
        "id": "MFoOg5J32sBb"
      },
      "source": [
        "def extract_image_path_list(image_file):\n",
        "  file_ = open(image_file, 'r')\n",
        "  file_list = file_.readlines()\n",
        "  image_path_list_train = []  \n",
        "  for line in file_list:\n",
        "      image_path_list_train.append((line))\n",
        "  image_path_list = []\n",
        "  for item in image_path_list_train:\n",
        "    item_path = item.strip().split(\" \")\n",
        "    scene = item_path[3][5:]\n",
        "    #print(gcc)\n",
        "    image_path = \"GCC\"+\"/\"+\"Part_\"+item_path[3][11]+\"/\"+scene+\"/\"+\"pngs_544_960/\"+item_path[4]+\".png\"\n",
        "    image_path = image_path.replace(\"GCC\", \"/content/drive/MyDrive/GCC_CSV_DataSet\")\n",
        "    image_path_list.append(image_path)\n",
        "  return image_path_list"
      ],
      "execution_count": 30,
      "outputs": []
    },
    {
      "cell_type": "code",
      "metadata": {
        "id": "-T9n4t9M2_WM"
      },
      "source": [
        "train_list_file = '/content/drive/MyDrive/GCC/train_list.txt'\n",
        "train_data_list= extract_image_path_list(train_list_file)"
      ],
      "execution_count": 35,
      "outputs": []
    },
    {
      "cell_type": "code",
      "metadata": {
        "colab": {
          "base_uri": "https://localhost:8080/"
        },
        "id": "5G_Uyhtn3JuI",
        "outputId": "30c9cbf5-b48b-4ac2-ec4d-5e174ee8645b"
      },
      "source": [
        "len(train_data_list)"
      ],
      "execution_count": 36,
      "outputs": [
        {
          "output_type": "execute_result",
          "data": {
            "text/plain": [
              "11444"
            ]
          },
          "metadata": {},
          "execution_count": 36
        }
      ]
    },
    {
      "cell_type": "code",
      "metadata": {
        "id": "OSPylknj3bT1"
      },
      "source": [
        ""
      ],
      "execution_count": null,
      "outputs": []
    }
  ]
}