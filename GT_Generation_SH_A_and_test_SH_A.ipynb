{
  "nbformat": 4,
  "nbformat_minor": 0,
  "metadata": {
    "colab": {
      "name": "GT_Generation SH_A and test  SH_A.ipynb",
      "provenance": [],
      "include_colab_link": true
    },
    "kernelspec": {
      "name": "python3",
      "display_name": "Python 3"
    },
    "language_info": {
      "name": "python"
    },
    "accelerator": "GPU"
  },
  "cells": [
    {
      "cell_type": "markdown",
      "metadata": {
        "id": "view-in-github",
        "colab_type": "text"
      },
      "source": [
        "<a href=\"https://colab.research.google.com/github/rukmals/crowd-monitoring-system-model-development/blob/main/GT_Generation_SH_A_and_test_SH_A.ipynb\" target=\"_parent\"><img src=\"https://colab.research.google.com/assets/colab-badge.svg\" alt=\"Open In Colab\"/></a>"
      ]
    },
    {
      "cell_type": "code",
      "metadata": {
        "colab": {
          "base_uri": "https://localhost:8080/"
        },
        "id": "8HXoAiuZiOAj",
        "outputId": "83a93b48-ea69-417a-fc7c-e112213e0147"
      },
      "source": [
        "import numpy as np  # linear algebra\n",
        "import pandas as pd  # data processing, CSV file I/O (e.g. pd.read_csv)\n",
        "\n",
        "import os\n",
        "\n",
        "\n",
        "import os\n",
        "from tensorflow.keras.preprocessing import image\n",
        "import numpy as np\n",
        "import scipy\n",
        "from scipy.io import loadmat\n",
        "import glob\n",
        "import h5py\n",
        "import time\n",
        "from sklearn.externals.joblib import Parallel, delayed\n",
        "from torchvision import datasets, transforms\n"
      ],
      "execution_count": 1,
      "outputs": [
        {
          "output_type": "stream",
          "name": "stderr",
          "text": [
            "/usr/local/lib/python3.7/dist-packages/sklearn/externals/joblib/__init__.py:15: FutureWarning: sklearn.externals.joblib is deprecated in 0.21 and will be removed in 0.23. Please import this functionality directly from joblib, which can be installed with: pip install joblib. If this warning is raised when loading pickled models, you may need to re-serialize those models with scikit-learn 0.21+.\n",
            "  warnings.warn(msg, category=FutureWarning)\n"
          ]
        }
      ]
    },
    {
      "cell_type": "code",
      "metadata": {
        "id": "-YY8EPrv9cmW"
      },
      "source": [
        "import random\n",
        "import os\n",
        "from PIL import Image,ImageFilter,ImageDraw\n",
        "import numpy as np\n",
        "import h5py\n",
        "from PIL import ImageStat\n",
        "import glob\n",
        "from sklearn.model_selection import train_test_split\n",
        "import json\n",
        "\n",
        "import sys\n",
        "import warnings\n",
        "# import from library\n",
        "import torch\n",
        "import torch.nn as nn\n",
        "from torch.autograd import Variable\n",
        "from torchvision import datasets, transforms\n",
        "import numpy as np\n",
        "import argparse\n",
        "import json\n",
        "import cv2\n",
        "import time\n",
        "from torchvision import models"
      ],
      "execution_count": 2,
      "outputs": []
    },
    {
      "cell_type": "code",
      "metadata": {
        "colab": {
          "base_uri": "https://localhost:8080/"
        },
        "id": "kfY1YCJjiZku",
        "outputId": "a4e9ca36-bfd3-41bc-978f-0352894eee5b"
      },
      "source": [
        "from google.colab import drive\n",
        "drive.mount('/content/drive')"
      ],
      "execution_count": 3,
      "outputs": [
        {
          "output_type": "stream",
          "name": "stdout",
          "text": [
            "Drive already mounted at /content/drive; to attempt to forcibly remount, call drive.mount(\"/content/drive\", force_remount=True).\n"
          ]
        }
      ]
    },
    {
      "cell_type": "code",
      "metadata": {
        "id": "zE3pSyXakAnJ"
      },
      "source": [
        "def gaussian_filter_density(gt):\n",
        "    print(gt.shape)\n",
        "    density = np.zeros(gt.shape, dtype=np.float32)\n",
        "    gt_count = np.count_nonzero(gt)\n",
        "    if gt_count == 0:\n",
        "        return density\n",
        "    #print(gt_count)\n",
        "    pts = np.array(list(zip(np.nonzero(gt)[1], np.nonzero(gt)[0])))\n",
        "    leafsize = 2048\n",
        "    # build kdtree\n",
        "    pts_copy = pts.copy()\n",
        "    tree = scipy.spatial.KDTree(pts_copy, leafsize=leafsize)\n",
        "    # query kdtree\n",
        "    distances, locations = tree.query(pts, k=4)\n",
        "    print('generate density...')\n",
        "    for i, pt in enumerate(pts):\n",
        "        pt2d = np.zeros(gt.shape, dtype=np.float32)\n",
        "        pt2d[pt[1], pt[0]] = 1.\n",
        "        if gt_count > 1:\n",
        "            sigma = (distances[i][1] + distances[i][2] + distances[i][3]) * 0.1\n",
        "        else:\n",
        "            sigma = np.average(np.array(gt.shape)) / 2. / 2.  # case: 1 point\n",
        "        density += scipy.ndimage.filters.gaussian_filter(pt2d, sigma, mode='constant')\n",
        "    print('done.')\n",
        "    return density"
      ],
      "execution_count": 4,
      "outputs": []
    },
    {
      "cell_type": "code",
      "metadata": {
        "id": "zzFMDB0zkSov"
      },
      "source": [
        "def generate_density_map(img_path):\n",
        "    img_path = \"/content/drive/MyDrive/Model_Test_Data/PartA/test_data/images/\"+ img_path\n",
        "    #print(img_path)\n",
        "    mat_path = img_path.replace('.jpg', '.mat').replace('images', 'ground_truth').replace('IMG_', 'GT_IMG_')\n",
        "    #print(mat_path)\n",
        "    mat = scipy.io.loadmat(mat_path)\n",
        "    imgfile = image.load_img(img_path)\n",
        "    img = image.img_to_array(imgfile)\n",
        "    k = np.zeros((img.shape[0], img.shape[1]))\n",
        "    gt = mat[\"image_info\"][0, 0][0, 0][0]\n",
        "    for i in range(0, len(gt)):\n",
        "        if int(gt[i][1]) < img.shape[0] and int(gt[i][0]) < img.shape[1]:\n",
        "            k[int(gt[i][1]), int(gt[i][0])] = 1\n",
        "    k = gaussian_filter_density(k)\n",
        "    output_path = img_path.replace('.jpg', '.h5').replace('images','ground-truth-h5')\n",
        "    output_dir = os.path.dirname(output_path)\n",
        "    os.makedirs(output_dir, exist_ok=True)\n",
        "    print(\"output\", output_path)\n",
        "    with h5py.File(output_path, 'w') as hf:\n",
        "        hf['density'] = k\n",
        "    return img_path"
      ],
      "execution_count": 5,
      "outputs": []
    },
    {
      "cell_type": "code",
      "metadata": {
        "colab": {
          "base_uri": "https://localhost:8080/"
        },
        "id": "_uJk1EB-ovAg",
        "outputId": "d9d2d7df-1393-4d20-f045-3a10aaa2df5b"
      },
      "source": [
        "test_list = os.listdir(\"/content/drive/MyDrive/Model_Test_Data/PartA/test_data/images\")\n",
        "print(test_list)"
      ],
      "execution_count": null,
      "outputs": [
        {
          "output_type": "stream",
          "name": "stdout",
          "text": [
            "['IMG_110.jpg', 'IMG_108.jpg', 'IMG_10.jpg', 'IMG_102.jpg', 'IMG_105.jpg', 'IMG_103.jpg', 'IMG_100.jpg', 'IMG_101.jpg', 'IMG_11.jpg', 'IMG_104.jpg', 'IMG_1.jpg', 'IMG_107.jpg', 'IMG_106.jpg', 'IMG_109.jpg', 'IMG_116.jpg', 'IMG_126.jpg', 'IMG_112.jpg', 'IMG_113.jpg', 'IMG_120.jpg', 'IMG_127.jpg', 'IMG_119.jpg', 'IMG_117.jpg', 'IMG_114.jpg', 'IMG_12.jpg', 'IMG_123.jpg', 'IMG_124.jpg', 'IMG_115.jpg', 'IMG_118.jpg', 'IMG_111.jpg', 'IMG_125.jpg', 'IMG_121.jpg', 'IMG_128.jpg', 'IMG_122.jpg', 'IMG_14.jpg', 'IMG_151.jpg', 'IMG_153.jpg', 'IMG_144.jpg', 'IMG_147.jpg', 'IMG_130.jpg', 'IMG_129.jpg', 'IMG_142.jpg', 'IMG_138.jpg', 'IMG_131.jpg', 'IMG_15.jpg', 'IMG_135.jpg', 'IMG_148.jpg', 'IMG_134.jpg', 'IMG_140.jpg', 'IMG_150.jpg', 'IMG_152.jpg', 'IMG_136.jpg', 'IMG_133.jpg', 'IMG_132.jpg', 'IMG_13.jpg', 'IMG_141.jpg', 'IMG_137.jpg', 'IMG_149.jpg', 'IMG_143.jpg', 'IMG_145.jpg', 'IMG_139.jpg', 'IMG_146.jpg', 'IMG_172.jpg', 'IMG_157.jpg', 'IMG_169.jpg', 'IMG_167.jpg', 'IMG_16.jpg', 'IMG_171.jpg', 'IMG_156.jpg', 'IMG_176.jpg', 'IMG_160.jpg', 'IMG_159.jpg', 'IMG_162.jpg', 'IMG_158.jpg', 'IMG_154.jpg', 'IMG_166.jpg', 'IMG_173.jpg', 'IMG_174.jpg', 'IMG_175.jpg', 'IMG_168.jpg', 'IMG_170.jpg', 'IMG_161.jpg', 'IMG_163.jpg', 'IMG_17.jpg', 'IMG_164.jpg', 'IMG_165.jpg', 'IMG_155.jpg', 'IMG_180.jpg', 'IMG_178.jpg', 'IMG_177.jpg', 'IMG_18.jpg', 'IMG_182.jpg', 'IMG_179.jpg', 'IMG_181.jpg', 'IMG_24.jpg', 'IMG_26.jpg', 'IMG_20.jpg', 'IMG_2.jpg', 'IMG_28.jpg', 'IMG_21.jpg', 'IMG_25.jpg', 'IMG_23.jpg', 'IMG_19.jpg', 'IMG_27.jpg', 'IMG_22.jpg', 'IMG_33.jpg', 'IMG_4.jpg', 'IMG_45.jpg', 'IMG_32.jpg', 'IMG_36.jpg', 'IMG_44.jpg', 'IMG_30.jpg', 'IMG_31.jpg', 'IMG_34.jpg', 'IMG_38.jpg', 'IMG_39.jpg', 'IMG_29.jpg', 'IMG_37.jpg', 'IMG_46.jpg', 'IMG_3.jpg', 'IMG_42.jpg', 'IMG_48.jpg', 'IMG_41.jpg', 'IMG_43.jpg', 'IMG_40.jpg', 'IMG_35.jpg', 'IMG_49.jpg', 'IMG_47.jpg', 'IMG_7.jpg', 'IMG_68.jpg', 'IMG_59.jpg', 'IMG_51.jpg', 'IMG_58.jpg', 'IMG_54.jpg', 'IMG_74.jpg', 'IMG_50.jpg', 'IMG_64.jpg', 'IMG_6.jpg', 'IMG_55.jpg', 'IMG_75.jpg', 'IMG_70.jpg', 'IMG_5.jpg', 'IMG_61.jpg', 'IMG_72.jpg', 'IMG_57.jpg', 'IMG_52.jpg', 'IMG_66.jpg', 'IMG_65.jpg', 'IMG_56.jpg', 'IMG_67.jpg', 'IMG_60.jpg', 'IMG_73.jpg', 'IMG_63.jpg', 'IMG_62.jpg', 'IMG_53.jpg', 'IMG_76.jpg', 'IMG_71.jpg', 'IMG_69.jpg', 'IMG_8.jpg', 'IMG_84.jpg', 'IMG_81.jpg', 'IMG_80.jpg', 'IMG_79.jpg', 'IMG_87.jpg', 'IMG_83.jpg', 'IMG_82.jpg', 'IMG_85.jpg', 'IMG_78.jpg', 'IMG_86.jpg', 'IMG_77.jpg', 'IMG_99.jpg', 'IMG_9.jpg', 'IMG_88.jpg', 'IMG_97.jpg', 'IMG_98.jpg', 'IMG_92.jpg', 'IMG_90.jpg', 'IMG_93.jpg', 'IMG_95.jpg', 'IMG_89.jpg', 'IMG_96.jpg', 'IMG_91.jpg', 'IMG_94.jpg', 'IMG_151.txt', 'IMG_108.txt', 'IMG_158.txt', 'IMG_107.txt', 'IMG_128.txt', 'IMG_142.txt', 'IMG_13.txt', 'IMG_144.txt', 'IMG_122.txt', 'IMG_136.txt', 'IMG_154.txt', 'IMG_135.txt', 'IMG_127.txt', 'IMG_152.txt', 'IMG_132.txt', 'IMG_12.txt', 'IMG_15.txt', 'IMG_104.txt', 'IMG_149.txt', 'IMG_156.txt', 'IMG_134.txt', 'IMG_115.txt', 'IMG_119.txt', 'IMG_123.txt', 'IMG_16.txt', 'IMG_137.txt', 'IMG_140.txt', 'IMG_10.txt', 'IMG_113.txt', 'IMG_138.txt', 'IMG_110.txt', 'IMG_146.txt', 'IMG_125.txt', 'IMG_130.txt', 'IMG_117.txt', 'IMG_145.txt', 'IMG_100.txt', 'IMG_124.txt', 'IMG_112.txt', 'IMG_118.txt', 'IMG_121.txt', 'IMG_153.txt', 'IMG_102.txt', 'IMG_120.txt', 'IMG_141.txt', 'IMG_111.txt', 'IMG_148.txt', 'IMG_150.txt', 'IMG_101.txt', 'IMG_157.txt', 'IMG_114.txt', 'IMG_106.txt', 'IMG_133.txt', 'IMG_161.txt', 'IMG_139.txt', 'IMG_131.txt', 'IMG_143.txt', 'IMG_129.txt', 'IMG_1.txt', 'IMG_155.txt', 'IMG_14.txt', 'IMG_105.txt', 'IMG_109.txt', 'IMG_126.txt', 'IMG_11.txt', 'IMG_116.txt', 'IMG_103.txt', 'IMG_147.txt', 'IMG_160.txt', 'IMG_159.txt', 'IMG_173.txt', 'IMG_86.txt', 'IMG_19.txt', 'IMG_176.txt', 'IMG_44.txt', 'IMG_162.txt', 'IMG_170.txt', 'IMG_171.txt', 'IMG_35.txt', 'IMG_71.txt', 'IMG_164.txt', 'IMG_175.txt', 'IMG_94.txt', 'IMG_165.txt', 'IMG_61.txt', 'IMG_92.txt', 'IMG_7.txt', 'IMG_91.txt', 'IMG_178.txt', 'IMG_6.txt', 'IMG_50.txt', 'IMG_47.txt', 'IMG_80.txt', 'IMG_182.txt', 'IMG_42.txt', 'IMG_62.txt', 'IMG_38.txt', 'IMG_23.txt', 'IMG_24.txt', 'IMG_76.txt', 'IMG_20.txt', 'IMG_37.txt', 'IMG_69.txt', 'IMG_25.txt', 'IMG_84.txt', 'IMG_89.txt', 'IMG_56.txt', 'IMG_43.txt', 'IMG_172.txt', 'IMG_21.txt', 'IMG_166.txt', 'IMG_34.txt', 'IMG_78.txt', 'IMG_93.txt', 'IMG_68.txt', 'IMG_18.txt', 'IMG_174.txt', 'IMG_30.txt', 'IMG_169.txt', 'IMG_26.txt', 'IMG_46.txt', 'IMG_177.txt', 'IMG_8.txt', 'IMG_3.txt', 'IMG_88.txt', 'IMG_39.txt', 'IMG_75.txt', 'IMG_57.txt', 'IMG_90.txt', 'IMG_51.txt', 'IMG_87.txt', 'IMG_180.txt', 'IMG_65.txt', 'IMG_36.txt', 'IMG_4.txt', 'IMG_82.txt', 'IMG_95.txt', 'IMG_66.txt', 'IMG_59.txt', 'IMG_28.txt', 'IMG_60.txt', 'IMG_97.txt', 'IMG_73.txt', 'IMG_45.txt', 'IMG_29.txt', 'IMG_70.txt', 'IMG_40.txt', 'IMG_67.txt', 'IMG_96.txt', 'IMG_32.txt', 'IMG_98.txt', 'IMG_58.txt', 'IMG_27.txt', 'IMG_163.txt', 'IMG_49.txt', 'IMG_83.txt', 'IMG_79.txt', 'IMG_167.txt', 'IMG_17.txt', 'IMG_33.txt', 'IMG_9.txt', 'IMG_81.txt', 'IMG_77.txt', 'IMG_22.txt', 'IMG_5.txt', 'IMG_53.txt', 'IMG_179.txt', 'IMG_54.txt', 'IMG_168.txt', 'IMG_72.txt', 'IMG_181.txt', 'IMG_74.txt', 'IMG_2.txt', 'IMG_63.txt', 'IMG_64.txt', 'IMG_55.txt', 'IMG_41.txt', 'IMG_85.txt', 'IMG_52.txt', 'IMG_31.txt', 'IMG_99.txt', 'IMG_48.txt']\n"
          ]
        }
      ]
    },
    {
      "cell_type": "code",
      "metadata": {
        "colab": {
          "base_uri": "https://localhost:8080/"
        },
        "id": "V71Kh-gS6OSL",
        "outputId": "14d4aec8-7fd6-4539-caf2-ae1cce376d8a"
      },
      "source": [
        "print(len(test_list))"
      ],
      "execution_count": null,
      "outputs": [
        {
          "output_type": "stream",
          "name": "stdout",
          "text": [
            "364\n"
          ]
        }
      ]
    },
    {
      "cell_type": "code",
      "metadata": {
        "colab": {
          "base_uri": "https://localhost:8080/",
          "height": 136
        },
        "id": "72A8q-Gjr6Gm",
        "outputId": "b09a22b4-d94b-4bfd-ed25-3bf9d7f7e404"
      },
      "source": [
        "generate_density_map('IMG_1.jpg')"
      ],
      "execution_count": null,
      "outputs": [
        {
          "output_type": "stream",
          "name": "stdout",
          "text": [
            "/content/drive/MyDrive/Model_Test_Data/PartA/test_data/images/IMG_1.jpg\n",
            "/content/drive/MyDrive/Model_Test_Data/PartA/test_data/ground_truth/GT_IMG_1.mat\n",
            "(704, 1024)\n",
            "generate density...\n",
            "done.\n",
            "output /content/drive/MyDrive/Model_Test_Data/PartA/test_data/ground-truth-h5/IMG_1.h5\n"
          ]
        },
        {
          "output_type": "execute_result",
          "data": {
            "application/vnd.google.colaboratory.intrinsic+json": {
              "type": "string"
            },
            "text/plain": [
              "'/content/drive/MyDrive/Model_Test_Data/PartA/test_data/images/IMG_1.jpg'"
            ]
          },
          "metadata": {},
          "execution_count": 35
        }
      ]
    },
    {
      "cell_type": "code",
      "metadata": {
        "id": "EhMzPN-ok4Qo"
      },
      "source": [
        "for path in test_list:\n",
        "  generate_density_map(path)"
      ],
      "execution_count": null,
      "outputs": []
    },
    {
      "cell_type": "code",
      "metadata": {
        "colab": {
          "base_uri": "https://localhost:8080/"
        },
        "id": "EROPtCrclXcP",
        "outputId": "a456bc39-95eb-49d0-ec1d-01291b6e6018"
      },
      "source": [
        "gt_test_list = os.listdir(\"/content/drive/MyDrive/Model_Test_Data/PartA/test_data/ground-truth-h5\")\n",
        "print(len(gt_test_list))"
      ],
      "execution_count": 6,
      "outputs": [
        {
          "output_type": "stream",
          "name": "stdout",
          "text": [
            "182\n"
          ]
        }
      ]
    },
    {
      "cell_type": "code",
      "metadata": {
        "id": "JPQua1BT6eDv"
      },
      "source": [
        "import os\n",
        "import random\n",
        "import torch\n",
        "import numpy as np\n",
        "from torch.utils.data import Dataset\n",
        "from PIL import Image\n",
        "\n",
        "def load_data(img_path,train = True):\n",
        "    gt_path = img_path.replace('.jpg','.h5').replace('images','ground-truth-h5')\n",
        "    img = Image.open(img_path).convert('RGB')\n",
        "    gt_file = h5py.File(gt_path, 'r')\n",
        "    target = np.asarray(gt_file['density'])\n",
        "    #target = cv2.resize(target,(int(target.shape[1]/2.25), int(target.shape[0]/2.25)),interpolation = cv2.INTER_CUBIC)\n",
        "    return img,target"
      ],
      "execution_count": 8,
      "outputs": []
    },
    {
      "cell_type": "code",
      "metadata": {
        "id": "uFse2hiK6945"
      },
      "source": [
        "class ListDataset(Dataset):\n",
        "    def __init__(self, root, shape=None, shuffle=True, transform=None,  train=False, batch_size=1, num_workers=4):\n",
        "        \"\"\"\n",
        "        if you have different image size, then batch_size must be 1\n",
        "        :param root:\n",
        "        :param shape:\n",
        "        :param shuffle:\n",
        "        :param transform:\n",
        "        :param train:\n",
        "        :param seen:\n",
        "        :param batch_size:\n",
        "        :param num_workers:\n",
        "        \"\"\"\n",
        "        #if train:\n",
        "            #root = root *4\n",
        "        if shuffle:\n",
        "            random.shuffle(root)\n",
        "        \n",
        "        self.nSamples = len(root)\n",
        "        self.lines = root\n",
        "        self.transform = transform\n",
        "        self.train = train\n",
        "        self.shape = shape\n",
        "        self.batch_size = batch_size\n",
        "        self.num_workers = num_workers\n",
        "        \n",
        "    def __len__(self):\n",
        "        return self.nSamples\n",
        "\n",
        "    def __getitem__(self, index):\n",
        "        assert index <= len(self), 'index range error' \n",
        "        \n",
        "        img_path = self.lines[index]\n",
        "        \n",
        "        img,target = load_data(img_path,self.train)\n",
        "        \n",
        "        #img = 255.0 * F.to_tensor(img)\n",
        "        \n",
        "        #img[0,:,:]=img[0,:,:]-92.8207477031\n",
        "        #img[1,:,:]=img[1,:,:]-95.2757037428\n",
        "        #img[2,:,:]=img[2,:,:]-104.877445883\n",
        "        if self.transform is not None:\n",
        "            img = self.transform(img)\n",
        "        return img,target\n",
        "  "
      ],
      "execution_count": 9,
      "outputs": []
    },
    {
      "cell_type": "code",
      "metadata": {
        "id": "OeNTFYm_7PIG"
      },
      "source": [
        "img_test_list = os.listdir(\"/content/drive/MyDrive/Model_Test_Data/PartA/test_data/images\")\n",
        "img_list = []\n",
        "for img in img_test_list:\n",
        "  if '.jpg' in img:\n",
        "    img_list.append(img)\n"
      ],
      "execution_count": 10,
      "outputs": []
    },
    {
      "cell_type": "code",
      "metadata": {
        "colab": {
          "base_uri": "https://localhost:8080/"
        },
        "id": "wvJlKR9z7p2h",
        "outputId": "8bef36b1-21c1-4e19-a1ad-2d4c12adc69d"
      },
      "source": [
        "len(img_list)"
      ],
      "execution_count": 11,
      "outputs": [
        {
          "output_type": "execute_result",
          "data": {
            "text/plain": [
              "182"
            ]
          },
          "metadata": {},
          "execution_count": 11
        }
      ]
    },
    {
      "cell_type": "code",
      "metadata": {
        "id": "hTqDCMJv7yOH"
      },
      "source": [
        "sh_test_list = []\n",
        "for img_ in img_list:\n",
        "  img_ = \"/content/drive/MyDrive/Model_Test_Data/PartA/test_data/images/\"+img_\n",
        "  sh_test_list.append(img_)"
      ],
      "execution_count": 12,
      "outputs": []
    },
    {
      "cell_type": "code",
      "metadata": {
        "id": "_lEGVMne7Dzn"
      },
      "source": [
        "test_loader = torch.utils.data.DataLoader(ListDataset(sh_test_list,\n",
        "                                  shuffle=False,\n",
        "                                  transform=transforms.Compose([transforms.ToTensor(), transforms.Resize(480),transforms.Normalize(mean=[0.302234709263, 0.291243076324, 0.269087553024],\n",
        "                                                                                                                  std=[0.227743327618, 0.211051672697, 0.184846073389]),\n",
        "                                                                  ]), train=False,batch_size=2,num_workers=2),\n",
        "              batch_size=2)"
      ],
      "execution_count": 13,
      "outputs": []
    },
    {
      "cell_type": "code",
      "metadata": {
        "id": "Za7-7UT19Hvv"
      },
      "source": [
        "import torch\n",
        "import torch.nn as nn\n",
        "import torch.nn.functional as F\n",
        "from torchvision import models\n",
        "\n",
        "class Conv2d(nn.Module):\n",
        "    def __init__(self, in_channels, out_channels, kernel_size, \\\n",
        "                stride=1, NL='relu', same_padding=False, bn=False, dilation=1):\n",
        "        super(Conv2d, self).__init__()\n",
        "        padding = int((kernel_size - 1) // 2) if same_padding else 0\n",
        "        self.conv = []\n",
        "        if dilation==1:\n",
        "            self.conv = nn.Conv2d(in_channels, out_channels, kernel_size, stride, padding=padding, dilation=dilation)\n",
        "        else:\n",
        "            self.conv = nn.Conv2d(in_channels, out_channels, kernel_size, stride, padding=dilation, dilation=dilation)\n",
        "        self.bn = nn.BatchNorm2d(out_channels, eps=0.001, momentum=0, affine=True) if bn else nn.Identity()\n",
        "        if NL == 'relu' :\n",
        "            self.relu = nn.ReLU(inplace=True)\n",
        "        elif NL == 'prelu':\n",
        "            self.relu = nn.PReLU()\n",
        "        else:\n",
        "            self.relu = None\n",
        "\n",
        "    def forward(self, x):\n",
        "      x = self.conv(x)\n",
        "      if self.bn is not None:\n",
        "          x = self.bn(x)\n",
        "      if self.relu is not None:\n",
        "          x = self.relu(x)   \n",
        "      return x\n",
        "  \n",
        "# the module definition for the multi-branch in the density head\n",
        "class MultiBranchModule(nn.Module):\n",
        "    def __init__(self, in_channels, sync=False):\n",
        "        super(MultiBranchModule, self).__init__()\n",
        "        self.branch_column1_1 = BasicConv2d(in_channels, in_channels//2, kernel_size=1, sync=sync)\n",
        "        self.branch_column1_2 = BasicConv2d(in_channels//2, in_channels, kernel_size=1, sync=sync)\n",
        "\n",
        "        self.branch_column2_1 = BasicConv2d(in_channels, in_channels//2, kernel_size=1, sync=sync)\n",
        "        self.branch_column2_2 = BasicConv2d(in_channels // 2, in_channels, kernel_size=(3, 3), padding=(1, 1), sync=sync)\n",
        "\n",
        "        self.branch_column3_1 = BasicConv2d(in_channels, in_channels//2, kernel_size=1, sync=sync)\n",
        "        self.branch_column3_2 = BasicConv2d(in_channels // 2, in_channels, kernel_size=5, padding=2, sync=sync)\n",
        "\n",
        "    def forward(self, x):\n",
        "        branch_1 = self.branch_column1_1(x)\n",
        "        branch_1 = self.branch_column1_2(branch_1)\n",
        "\n",
        "        branch_2 = self.branch_column2_1(x)\n",
        "        branch_2 = self.branch_column2_2(branch_2)\n",
        "\n",
        "        branch_3 = self.branch_column3_1(x)\n",
        "        branch_3 = self.branch_column3_2(branch_3)\n",
        "\n",
        "        outputs = [branch_1, branch_2, branch_3, x]\n",
        "        return torch.cat(outputs, 1)\n",
        "\n",
        "# the module definition for the basic conv module\n",
        "class BasicConv2d(nn.Module):\n",
        "\n",
        "    def __init__(self, in_channels, out_channels, sync=False, **kwargs):\n",
        "        super(BasicConv2d, self).__init__()\n",
        "        self.conv = nn.Conv2d(in_channels, out_channels, bias=False, **kwargs)\n",
        "        if sync:\n",
        "            # for sync bn\n",
        "            print('use sync inception')\n",
        "            self.bn = nn.SyncBatchNorm(out_channels, eps=0.001)\n",
        "        else:\n",
        "            self.bn = nn.BatchNorm2d(out_channels, eps=0.001)\n",
        "\n",
        "    def forward(self, x):\n",
        "        x = self.conv(x)\n",
        "        x = self.bn(x)\n",
        "        return F.relu(x, inplace=True)"
      ],
      "execution_count": 14,
      "outputs": []
    },
    {
      "cell_type": "code",
      "metadata": {
        "id": "2ee_rugF9JZz"
      },
      "source": [
        "class TestNet(nn.Module):\n",
        "    def __init__(self, pretrained=True):\n",
        "        super(TestNet, self).__init__()\n",
        "        \n",
        "        vgg = models.vgg16_bn(pretrained=pretrained)\n",
        "        \n",
        "        self.backend_feat  = [256,128,64]\n",
        "\n",
        "\n",
        "        # Front End Development VGG - 16 \n",
        "        features = list(vgg.features.children())\n",
        "        # get each stage of the VGG - 16\n",
        "        self.features1 = nn.Sequential(*features[0:6])\n",
        "        self.features2 = nn.Sequential(*features[6:13])\n",
        "        self.features3 = nn.Sequential(*features[13:23])\n",
        "        self.features4 = nn.Sequential(*features[23:33])\n",
        "        self.features5 = nn.Sequential(*features[33:43])\n",
        "\n",
        "        # Front End Development P1 to P5 \n",
        "        self.p5 = nn.Sequential(\n",
        "            Conv2d(512, 1024, 3, same_padding=True, NL='relu'),\n",
        "            Conv2d(1024, 512, 3, same_padding=True, NL='relu'),\n",
        "        )\n",
        "\n",
        "        self.p4 = nn.Sequential(\n",
        "            Conv2d(1024, 512, 3, same_padding=True, NL='relu'),\n",
        "            Conv2d(512, 256, 3, same_padding=True, NL='relu'),\n",
        "        )\n",
        "\n",
        "        self.p3 = nn.Sequential(\n",
        "            Conv2d(512 , 256, 3, same_padding=True, NL='relu'),\n",
        "            Conv2d(256, 128, 3, same_padding=True, NL='relu'),\n",
        "        )\n",
        "\n",
        "        self.p2 = nn.Sequential(\n",
        "            Conv2d(256, 128, 3, same_padding=True, NL='relu'),\n",
        "            Conv2d(128, 64, 3, same_padding=True, NL='relu'),\n",
        "        )\n",
        "\n",
        "        self.p1 = nn.Sequential(\n",
        "            Conv2d(128, 64, 3, same_padding=True, NL='relu'),\n",
        "            Conv2d(64, 64, 3, same_padding=True, NL='relu'),\n",
        "        ) \n",
        "\n",
        "        # Multi-Branch moules\n",
        "        self.multi_branch5 = nn.Sequential(\n",
        "            MultiBranchModule(512),\n",
        "            Conv2d(2048, 1, 1, same_padding=True)\n",
        "        )\n",
        "\n",
        "        self.multi_branch4 = nn.Sequential(\n",
        "            MultiBranchModule(256),\n",
        "            Conv2d(1024, 1, 1, same_padding=True)\n",
        "        )\n",
        "\n",
        "        self.multi_branch3 = nn.Sequential(\n",
        "            MultiBranchModule(128),\n",
        "            Conv2d(512, 1, 1, same_padding=True)\n",
        "        )\n",
        "\n",
        "        self.multi_branch2 = nn.Sequential(\n",
        "            MultiBranchModule(64),\n",
        "            Conv2d(256, 1, 1, same_padding=True)\n",
        "        )\n",
        "\n",
        "        self.multi_branch1 = nn.Sequential(\n",
        "            MultiBranchModule(64),\n",
        "            Conv2d(256, 1, 1, same_padding=True)\n",
        "        )\n",
        "\n",
        "        self.backend = make_layers(self.backend_feat,in_channels = 5,dilation = True)\n",
        "\n",
        "        self.output_layer = nn.Conv2d(64, 1, kernel_size=1)\n",
        "\n",
        "    \n",
        "    \n",
        "    def forward(self, x):\n",
        "        size = x.size()\n",
        "        x1 = self.features1(x)\n",
        "        x2 = self.features2(x1)\n",
        "        x3 = self.features3(x2)\n",
        "        x4 = self.features4(x3)\n",
        "        x5 = self.features5(x4)\n",
        "\n",
        "        # Front End Development P1 to P5 \n",
        "        x = self.p5(x5)\n",
        "        x5_out = x\n",
        "        x = F.upsample_bilinear(x, size=x4.size()[2:])\n",
        "\n",
        "        x = torch.cat([x4, x], 1)\n",
        "        x = self.p4(x)\n",
        "        x4_out = x\n",
        "        x = F.upsample_bilinear(x, size=x3.size()[2:])\n",
        "\n",
        "        x = torch.cat([x3, x], 1)\n",
        "        x = self.p3(x)\n",
        "        x3_out = x\n",
        "        x = F.upsample_bilinear(x, size=x2.size()[2:])\n",
        "\n",
        "        x = torch.cat([x2, x], 1)\n",
        "        x = self.p2(x)\n",
        "        x2_out = x\n",
        "        x = F.upsample_bilinear(x, size=x1.size()[2:])\n",
        "\n",
        "        x = torch.cat([x1, x], 1)\n",
        "        x = self.p1(x)\n",
        "        x1_out = x\n",
        "\n",
        "\n",
        "        # multi-branch predictions\n",
        "        x5_density = self.multi_branch5(x5_out)\n",
        "        x4_density = self.multi_branch4(x4_out)\n",
        "        x3_density = self.multi_branch3(x3_out)\n",
        "        x2_density = self.multi_branch2(x2_out)\n",
        "        x1_density = self.multi_branch1(x1_out)\n",
        "\n",
        "        # upsample the multi-branch predictions to be the same with the input size\n",
        "        x5_density = F.upsample_nearest(x5_density, size=x1.size()[2:])\n",
        "        x4_density = F.upsample_nearest(x4_density, size=x1.size()[2:])\n",
        "        x3_density = F.upsample_nearest(x3_density, size=x1.size()[2:])\n",
        "        x2_density = F.upsample_nearest(x2_density, size=x1.size()[2:])\n",
        "        x1_density = F.upsample_nearest(x1_density, size=x1.size()[2:])\n",
        "\n",
        "\n",
        "        density_map = torch.cat([x5_density, x4_density, x3_density, x2_density, x1_density], 1)\n",
        "\n",
        "\n",
        "        x_out = self.backend(density_map)\n",
        "        density_map_out = self.output_layer(x_out)\n",
        "        return density_map_out\n",
        "        #return density_map\n",
        "                \n",
        "                \n",
        "def make_layers(cfg, in_channels = 3,batch_norm=False,dilation = False):\n",
        "    layers = []\n",
        "    dilation_rates = [2,3,5]\n",
        "    #for v in cfg:\n",
        "    for v in range(len(cfg)):\n",
        "        if cfg[v] == 'M':\n",
        "            layers += [nn.MaxPool2d(kernel_size=2, stride=2)]\n",
        "        else:\n",
        "            conv2d = nn.Conv2d(in_channels, cfg[v], kernel_size=3, padding=dilation_rates[v],dilation = dilation_rates[v])\n",
        "            if batch_norm:\n",
        "                layers += [conv2d, nn.BatchNorm2d(cfg[v]), nn.ReLU(inplace=True)]\n",
        "            else:\n",
        "                layers += [conv2d, nn.ReLU(inplace=True)]\n",
        "            in_channels = cfg[v]\n",
        "    return nn.Sequential(*layers)"
      ],
      "execution_count": 15,
      "outputs": []
    },
    {
      "cell_type": "code",
      "metadata": {
        "colab": {
          "base_uri": "https://localhost:8080/"
        },
        "id": "GIv-cF1w8LFW",
        "outputId": "ec0a62e3-981b-489e-b4b8-8b6769d473fa"
      },
      "source": [
        "model_path = '/content/drive/MyDrive/GCC_CSV_DataSet/model/TestNetGCC_whole_data.pth'\n",
        "\n",
        "model = TestNet().cuda()\n",
        "# load the trained model\n",
        "model.load_state_dict(torch.load(model_path))\n",
        "print('successfully load model from', model_path)"
      ],
      "execution_count": 19,
      "outputs": [
        {
          "output_type": "stream",
          "name": "stdout",
          "text": [
            "successfully load model from /content/drive/MyDrive/GCC_CSV_DataSet/model/TestNetGCC_whole_data.pth\n"
          ]
        }
      ]
    },
    {
      "cell_type": "code",
      "metadata": {
        "id": "47dbD48Y8_nX"
      },
      "source": [
        "pred_transform=transforms.Compose([transforms.ToTensor(), transforms.Resize(480), transforms.Normalize(mean=[0.302234709263, 0.291243076324, 0.269087553024],\n",
        "                                                                                                                std=[0.227743327618, 0.211051672697, 0.184846073389]),])\n",
        "\n"
      ],
      "execution_count": 17,
      "outputs": []
    },
    {
      "cell_type": "code",
      "metadata": {
        "colab": {
          "base_uri": "https://localhost:8080/"
        },
        "id": "jTSPvbUr-5_L",
        "outputId": "b604dc78-da9f-4909-b636-c46bb80c9c51"
      },
      "source": [
        "sh_im = Image.open('/content/drive/MyDrive/Model_Test_Data/PartA/test_data/images/IMG_1.jpg')\n",
        "sh_pred = model(pred_transform(sh_im)[None].cuda())"
      ],
      "execution_count": null,
      "outputs": [
        {
          "output_type": "stream",
          "name": "stderr",
          "text": [
            "/usr/local/lib/python3.7/dist-packages/torch/nn/functional.py:718: UserWarning: Named tensors and all their associated APIs are an experimental feature and subject to change. Please do not use them for anything important until they are released as stable. (Triggered internally at  /pytorch/c10/core/TensorImpl.h:1156.)\n",
            "  return torch.max_pool2d(input, kernel_size, stride, padding, dilation, ceil_mode)\n",
            "/usr/local/lib/python3.7/dist-packages/torch/nn/functional.py:3825: UserWarning: nn.functional.upsample_bilinear is deprecated. Use nn.functional.interpolate instead.\n",
            "  warnings.warn(\"nn.functional.upsample_bilinear is deprecated. Use nn.functional.interpolate instead.\")\n",
            "/usr/local/lib/python3.7/dist-packages/torch/nn/functional.py:3770: UserWarning: nn.functional.upsample_nearest is deprecated. Use nn.functional.interpolate instead.\n",
            "  warnings.warn(\"nn.functional.upsample_nearest is deprecated. Use nn.functional.interpolate instead.\")\n"
          ]
        }
      ]
    },
    {
      "cell_type": "code",
      "metadata": {
        "colab": {
          "base_uri": "https://localhost:8080/"
        },
        "id": "6pAGYPy__Hx8",
        "outputId": "aa457b05-4c66-4d4f-92a0-c06e7b19dbab"
      },
      "source": [
        "mae = 0\n",
        "for im_path in sh_test_list:\n",
        "  image = Image.open(im_path).convert('RGB')\n",
        "  #print(image.shape)\n",
        "  output = model(pred_transform(image)[None].cuda())\n",
        "  gt_path = im_path.replace('.jpg','.h5').replace('images','ground-truth-h5')\n",
        "  gt_file = h5py.File(gt_path, 'r')\n",
        "  target = np.asarray(gt_file['density'])\n",
        "  print(\"ground trueth count\", np.sum(target))\n",
        "  output = output.cpu()\n",
        "  output = output.detach().numpy()\n",
        "  print(\"Model Predicted Count\",np.sum(output)/100)\n",
        "  \n",
        "  mae += abs(np.sum(target) -np.sum(output)/100)\n",
        "\n",
        "mae = mae / len(sh_test_list)\n",
        "print(' * TESTING MAE {mae:.3f} '.format(mae=mae))"
      ],
      "execution_count": 20,
      "outputs": [
        {
          "output_type": "stream",
          "name": "stderr",
          "text": [
            "/usr/local/lib/python3.7/dist-packages/torch/nn/functional.py:3825: UserWarning: nn.functional.upsample_bilinear is deprecated. Use nn.functional.interpolate instead.\n",
            "  warnings.warn(\"nn.functional.upsample_bilinear is deprecated. Use nn.functional.interpolate instead.\")\n",
            "/usr/local/lib/python3.7/dist-packages/torch/nn/functional.py:3770: UserWarning: nn.functional.upsample_nearest is deprecated. Use nn.functional.interpolate instead.\n",
            "  warnings.warn(\"nn.functional.upsample_nearest is deprecated. Use nn.functional.interpolate instead.\")\n"
          ]
        },
        {
          "output_type": "stream",
          "name": "stdout",
          "text": [
            "ground trueth count 1017.58057\n",
            "Model Predicted Count 1295.98859375\n",
            "ground trueth count 175.61815\n",
            "Model Predicted Count 86.24294921875\n",
            "ground trueth count 497.06363\n",
            "Model Predicted Count 607.6478125\n",
            "ground trueth count 217.37694\n",
            "Model Predicted Count 177.715078125\n",
            "ground trueth count 257.08725\n",
            "Model Predicted Count 255.19783203125\n",
            "ground trueth count 427.6055\n",
            "Model Predicted Count 827.615546875\n",
            "ground trueth count 383.92606\n",
            "Model Predicted Count 357.740390625\n",
            "ground trueth count 210.39726\n",
            "Model Predicted Count 313.11607421875\n",
            "ground trueth count 1063.9664\n",
            "Model Predicted Count 1369.44734375\n",
            "ground trueth count 1163.238\n",
            "Model Predicted Count 493.467578125\n",
            "ground trueth count 171.82942\n",
            "Model Predicted Count 220.6411328125\n",
            "ground trueth count 292.20493\n",
            "Model Predicted Count 366.540234375\n",
            "ground trueth count 1225.8102\n",
            "Model Predicted Count 814.241015625\n",
            "ground trueth count 373.51428\n",
            "Model Predicted Count 427.908515625\n",
            "ground trueth count 285.33514\n",
            "Model Predicted Count 154.385341796875\n",
            "ground trueth count 437.55542\n",
            "Model Predicted Count 705.921640625\n",
            "ground trueth count 254.88063\n",
            "Model Predicted Count 445.650078125\n",
            "ground trueth count 65.99532\n",
            "Model Predicted Count 228.81279296875\n",
            "ground trueth count 130.56168\n",
            "Model Predicted Count 190.779296875\n",
            "ground trueth count 982.9976\n",
            "Model Predicted Count 754.779140625\n",
            "ground trueth count 245.3326\n",
            "Model Predicted Count 230.24548828125\n",
            "ground trueth count 1588.7798\n",
            "Model Predicted Count 324.5319140625\n",
            "ground trueth count 140.8374\n",
            "Model Predicted Count 191.2194140625\n",
            "ground trueth count 319.36566\n",
            "Model Predicted Count 153.52427734375\n",
            "ground trueth count 111.64411\n",
            "Model Predicted Count 114.90720703125\n",
            "ground trueth count 220.17723\n",
            "Model Predicted Count 147.800771484375\n",
            "ground trueth count 1186.7006\n",
            "Model Predicted Count 322.43732421875\n",
            "ground trueth count 237.53749\n",
            "Model Predicted Count 318.4023828125\n",
            "ground trueth count 448.3899\n",
            "Model Predicted Count 430.8109375\n",
            "ground trueth count 260.2796\n",
            "Model Predicted Count 212.499921875\n",
            "ground trueth count 1204.2681\n",
            "Model Predicted Count 1999.6903125\n",
            "ground trueth count 412.44034\n",
            "Model Predicted Count 377.551796875\n",
            "ground trueth count 1145.509\n",
            "Model Predicted Count 358.8669140625\n",
            "ground trueth count 755.43384\n",
            "Model Predicted Count 577.7754296875\n",
            "ground trueth count 247.96066\n",
            "Model Predicted Count 149.92306640625\n",
            "ground trueth count 392.4957\n",
            "Model Predicted Count 430.0846875\n",
            "ground trueth count 254.70976\n",
            "Model Predicted Count 233.332109375\n",
            "ground trueth count 583.2348\n",
            "Model Predicted Count 1093.144140625\n",
            "ground trueth count 918.2924\n",
            "Model Predicted Count 1256.611953125\n",
            "ground trueth count 295.35873\n",
            "Model Predicted Count 277.93818359375\n",
            "ground trueth count 208.78564\n",
            "Model Predicted Count 146.204990234375\n",
            "ground trueth count 284.85266\n",
            "Model Predicted Count 127.5084375\n",
            "ground trueth count 594.7378\n",
            "Model Predicted Count 517.480234375\n",
            "ground trueth count 334.9111\n",
            "Model Predicted Count 411.33203125\n",
            "ground trueth count 68.211365\n",
            "Model Predicted Count 200.472734375\n",
            "ground trueth count 206.71077\n",
            "Model Predicted Count 222.80658203125\n",
            "ground trueth count 160.93246\n",
            "Model Predicted Count 170.39533203125\n",
            "ground trueth count 88.89336\n",
            "Model Predicted Count 113.077421875\n",
            "ground trueth count 1293.5508\n",
            "Model Predicted Count 738.6946875\n",
            "ground trueth count 270.47882\n",
            "Model Predicted Count 140.0204296875\n",
            "ground trueth count 99.04653\n",
            "Model Predicted Count 168.40177734375\n",
            "ground trueth count 129.81789\n",
            "Model Predicted Count 361.420234375\n",
            "ground trueth count 372.23004\n",
            "Model Predicted Count 264.89162109375\n",
            "ground trueth count 580.9203\n",
            "Model Predicted Count 962.324140625\n",
            "ground trueth count 472.01843\n",
            "Model Predicted Count 626.67109375\n",
            "ground trueth count 481.11554\n",
            "Model Predicted Count 343.7768359375\n",
            "ground trueth count 224.98378\n",
            "Model Predicted Count 349.894453125\n",
            "ground trueth count 348.45786\n",
            "Model Predicted Count 213.94515625\n",
            "ground trueth count 252.16818\n",
            "Model Predicted Count 546.028671875\n",
            "ground trueth count 352.66354\n",
            "Model Predicted Count 448.9390625\n",
            "ground trueth count 476.91812\n",
            "Model Predicted Count 978.341484375\n",
            "ground trueth count 1169.3971\n",
            "Model Predicted Count 1597.47125\n",
            "ground trueth count 389.61166\n",
            "Model Predicted Count 549.69703125\n",
            "ground trueth count 214.82822\n",
            "Model Predicted Count 288.11947265625\n",
            "ground trueth count 107.51276\n",
            "Model Predicted Count 125.01322265625\n",
            "ground trueth count 413.1861\n",
            "Model Predicted Count 804.14671875\n",
            "ground trueth count 232.52945\n",
            "Model Predicted Count 315.854140625\n",
            "ground trueth count 195.77771\n",
            "Model Predicted Count 281.77787109375\n",
            "ground trueth count 212.41875\n",
            "Model Predicted Count 626.5377734375\n",
            "ground trueth count 119.18763\n",
            "Model Predicted Count 196.6608203125\n",
            "ground trueth count 191.80472\n",
            "Model Predicted Count 268.0658984375\n",
            "ground trueth count 215.47945\n",
            "Model Predicted Count 323.3505859375\n",
            "ground trueth count 306.81796\n",
            "Model Predicted Count 832.7690625\n",
            "ground trueth count 484.72757\n",
            "Model Predicted Count 461.7062109375\n",
            "ground trueth count 123.24758\n",
            "Model Predicted Count 277.02828125\n",
            "ground trueth count 477.43127\n",
            "Model Predicted Count 794.605\n",
            "ground trueth count 127.75129\n",
            "Model Predicted Count 109.819140625\n",
            "ground trueth count 440.7134\n",
            "Model Predicted Count 934.68234375\n",
            "ground trueth count 237.83502\n",
            "Model Predicted Count 303.78884765625\n",
            "ground trueth count 663.70416\n",
            "Model Predicted Count 1001.599453125\n",
            "ground trueth count 265.32138\n",
            "Model Predicted Count 624.6584375\n",
            "ground trueth count 161.0757\n",
            "Model Predicted Count 271.33076171875\n",
            "ground trueth count 1147.4834\n",
            "Model Predicted Count 814.425703125\n",
            "ground trueth count 298.135\n",
            "Model Predicted Count 377.4017578125\n",
            "ground trueth count 1577.9174\n",
            "Model Predicted Count 1392.649375\n",
            "ground trueth count 162.17773\n",
            "Model Predicted Count 403.09171875\n",
            "ground trueth count 397.026\n",
            "Model Predicted Count 471.3658203125\n",
            "ground trueth count 542.5228\n",
            "Model Predicted Count 993.07984375\n",
            "ground trueth count 360.14505\n",
            "Model Predicted Count 651.4666015625\n",
            "ground trueth count 225.3106\n",
            "Model Predicted Count 199.339296875\n",
            "ground trueth count 197.64445\n",
            "Model Predicted Count 230.69345703125\n",
            "ground trueth count 397.94012\n",
            "Model Predicted Count 422.3338671875\n",
            "ground trueth count 211.16907\n",
            "Model Predicted Count 213.55041015625\n",
            "ground trueth count 551.4995\n",
            "Model Predicted Count 867.87265625\n",
            "ground trueth count 493.84286\n",
            "Model Predicted Count 275.10232421875\n",
            "ground trueth count 452.25302\n",
            "Model Predicted Count 302.997109375\n",
            "ground trueth count 1105.2463\n",
            "Model Predicted Count 1221.1409375\n",
            "ground trueth count 422.756\n",
            "Model Predicted Count 922.337421875\n",
            "ground trueth count 714.09265\n",
            "Model Predicted Count 731.88921875\n",
            "ground trueth count 241.52519\n",
            "Model Predicted Count 240.108046875\n",
            "ground trueth count 426.90814\n",
            "Model Predicted Count 498.1816796875\n",
            "ground trueth count 228.37857\n",
            "Model Predicted Count 210.986015625\n",
            "ground trueth count 757.57007\n",
            "Model Predicted Count 872.680859375\n",
            "ground trueth count 211.23973\n",
            "Model Predicted Count 482.1410546875\n",
            "ground trueth count 472.35562\n",
            "Model Predicted Count 524.1947265625\n",
            "ground trueth count 166.54193\n",
            "Model Predicted Count 211.4740625\n",
            "ground trueth count 136.58104\n",
            "Model Predicted Count 244.662890625\n",
            "ground trueth count 955.494\n",
            "Model Predicted Count 1205.555546875\n",
            "ground trueth count 1262.1188\n",
            "Model Predicted Count 1690.51828125\n",
            "ground trueth count 360.02533\n",
            "Model Predicted Count 538.858203125\n",
            "ground trueth count 299.8536\n",
            "Model Predicted Count 243.96380859375\n",
            "ground trueth count 243.42487\n",
            "Model Predicted Count 216.348515625\n",
            "ground trueth count 84.752235\n",
            "Model Predicted Count 127.07501953125\n",
            "ground trueth count 714.8893\n",
            "Model Predicted Count 952.616328125\n",
            "ground trueth count 190.62823\n",
            "Model Predicted Count 137.69162109375\n",
            "ground trueth count 307.76044\n",
            "Model Predicted Count 299.10109375\n",
            "ground trueth count 193.97136\n",
            "Model Predicted Count 279.1791015625\n",
            "ground trueth count 377.63895\n",
            "Model Predicted Count 577.330625\n",
            "ground trueth count 297.93268\n",
            "Model Predicted Count 408.7428125\n",
            "ground trueth count 797.33716\n",
            "Model Predicted Count 1334.098125\n",
            "ground trueth count 376.6646\n",
            "Model Predicted Count 275.72458984375\n",
            "ground trueth count 246.90935\n",
            "Model Predicted Count 168.04498046875\n",
            "ground trueth count 117.44873\n",
            "Model Predicted Count 173.7290234375\n",
            "ground trueth count 234.67282\n",
            "Model Predicted Count 297.1689453125\n",
            "ground trueth count 565.353\n",
            "Model Predicted Count 1104.894765625\n",
            "ground trueth count 510.92313\n",
            "Model Predicted Count 518.4686328125\n",
            "ground trueth count 308.17908\n",
            "Model Predicted Count 229.431875\n",
            "ground trueth count 565.5759\n",
            "Model Predicted Count 970.171875\n",
            "ground trueth count 210.90535\n",
            "Model Predicted Count 580.2494921875\n",
            "ground trueth count 465.57\n",
            "Model Predicted Count 860.05078125\n",
            "ground trueth count 293.46448\n",
            "Model Predicted Count 238.137421875\n",
            "ground trueth count 193.19905\n",
            "Model Predicted Count 235.72912109375\n",
            "ground trueth count 526.4408\n",
            "Model Predicted Count 833.846328125\n",
            "ground trueth count 848.2386\n",
            "Model Predicted Count 682.6234375\n",
            "ground trueth count 1001.21265\n",
            "Model Predicted Count 497.3283984375\n",
            "ground trueth count 286.9257\n",
            "Model Predicted Count 409.6715234375\n",
            "ground trueth count 358.87964\n",
            "Model Predicted Count 446.5988671875\n",
            "ground trueth count 146.51698\n",
            "Model Predicted Count 91.810439453125\n",
            "ground trueth count 664.6127\n",
            "Model Predicted Count 625.10203125\n",
            "ground trueth count 408.98007\n",
            "Model Predicted Count 336.225703125\n",
            "ground trueth count 799.2488\n",
            "Model Predicted Count 426.9864453125\n",
            "ground trueth count 190.22192\n",
            "Model Predicted Count 299.0685546875\n",
            "ground trueth count 583.17126\n",
            "Model Predicted Count 556.3919140625\n",
            "ground trueth count 352.79382\n",
            "Model Predicted Count 692.08078125\n",
            "ground trueth count 130.97087\n",
            "Model Predicted Count 178.6092578125\n",
            "ground trueth count 818.8945\n",
            "Model Predicted Count 1451.17984375\n",
            "ground trueth count 213.44844\n",
            "Model Predicted Count 366.882109375\n",
            "ground trueth count 345.22836\n",
            "Model Predicted Count 458.5289453125\n",
            "ground trueth count 191.32611\n",
            "Model Predicted Count 308.51654296875\n",
            "ground trueth count 290.83832\n",
            "Model Predicted Count 746.05625\n",
            "ground trueth count 151.19795\n",
            "Model Predicted Count 279.929921875\n",
            "ground trueth count 1114.8992\n",
            "Model Predicted Count 1028.603046875\n",
            "ground trueth count 332.1628\n",
            "Model Predicted Count 203.35330078125\n",
            "ground trueth count 174.67075\n",
            "Model Predicted Count 435.8729296875\n",
            "ground trueth count 479.42715\n",
            "Model Predicted Count 374.6186328125\n",
            "ground trueth count 598.341\n",
            "Model Predicted Count 908.147109375\n",
            "ground trueth count 159.30164\n",
            "Model Predicted Count 169.2899609375\n",
            "ground trueth count 1323.5518\n",
            "Model Predicted Count 1457.66359375\n",
            "ground trueth count 119.68352\n",
            "Model Predicted Count 203.14923828125\n",
            "ground trueth count 350.43814\n",
            "Model Predicted Count 351.9476171875\n",
            "ground trueth count 155.25705\n",
            "Model Predicted Count 102.562021484375\n",
            "ground trueth count 177.68884\n",
            "Model Predicted Count 178.55650390625\n",
            "ground trueth count 414.25952\n",
            "Model Predicted Count 583.5725\n",
            "ground trueth count 211.93158\n",
            "Model Predicted Count 125.288447265625\n",
            "ground trueth count 214.01727\n",
            "Model Predicted Count 141.44638671875\n",
            "ground trueth count 90.65801\n",
            "Model Predicted Count 87.51474609375\n",
            "ground trueth count 269.53113\n",
            "Model Predicted Count 314.389453125\n",
            "ground trueth count 570.2489\n",
            "Model Predicted Count 567.54453125\n",
            "ground trueth count 204.68532\n",
            "Model Predicted Count 195.52435546875\n",
            "ground trueth count 240.43091\n",
            "Model Predicted Count 224.54548828125\n",
            "ground trueth count 367.93152\n",
            "Model Predicted Count 268.61828125\n",
            "ground trueth count 84.66741\n",
            "Model Predicted Count 84.895888671875\n",
            "ground trueth count 468.91245\n",
            "Model Predicted Count 494.2659765625\n",
            "ground trueth count 146.89885\n",
            "Model Predicted Count 93.341767578125\n",
            "ground trueth count 1358.6504\n",
            "Model Predicted Count 216.1025390625\n",
            "ground trueth count 2244.069\n",
            "Model Predicted Count 961.93453125\n",
            "ground trueth count 250.42401\n",
            "Model Predicted Count 143.165361328125\n",
            "ground trueth count 185.49461\n",
            "Model Predicted Count 184.64298828125\n",
            "ground trueth count 376.90973\n",
            "Model Predicted Count 710.45765625\n",
            "ground trueth count 240.05856\n",
            "Model Predicted Count 167.17615234375\n",
            "ground trueth count 95.6099\n",
            "Model Predicted Count 178.78328125\n",
            "ground trueth count 63.758347\n",
            "Model Predicted Count 152.32376953125\n",
            " * TESTING MAE 185.209 \n"
          ]
        }
      ]
    },
    {
      "cell_type": "code",
      "metadata": {
        "colab": {
          "base_uri": "https://localhost:8080/"
        },
        "id": "qdJ1IbFVIyFt",
        "outputId": "a1296606-f771-495e-efd3-e524f5cb47c7"
      },
      "source": [
        "!ln -sf /opt/bin/nvidia-smi /usr/bin/nvidia-smi\n",
        "!pip install gputil\n",
        "!pip install psutil\n",
        "!pip install humanize"
      ],
      "execution_count": null,
      "outputs": [
        {
          "output_type": "stream",
          "name": "stdout",
          "text": [
            "Collecting gputil\n",
            "  Downloading GPUtil-1.4.0.tar.gz (5.5 kB)\n",
            "Building wheels for collected packages: gputil\n",
            "  Building wheel for gputil (setup.py) ... \u001b[?25l\u001b[?25hdone\n",
            "  Created wheel for gputil: filename=GPUtil-1.4.0-py3-none-any.whl size=7411 sha256=c1c52ebd494bb4a41344a15303a816d9d47a40102e18d143069265e71156ee44\n",
            "  Stored in directory: /root/.cache/pip/wheels/6e/f8/83/534c52482d6da64622ddbf72cd93c35d2ef2881b78fd08ff0c\n",
            "Successfully built gputil\n",
            "Installing collected packages: gputil\n",
            "Successfully installed gputil-1.4.0\n",
            "Requirement already satisfied: psutil in /usr/local/lib/python3.7/dist-packages (5.4.8)\n",
            "Requirement already satisfied: humanize in /usr/local/lib/python3.7/dist-packages (0.5.1)\n"
          ]
        }
      ]
    },
    {
      "cell_type": "code",
      "metadata": {
        "colab": {
          "base_uri": "https://localhost:8080/",
          "height": 363
        },
        "id": "yHn5t6vQAqcG",
        "outputId": "b9fde9c3-d31a-4327-f13a-f98b71e7351a"
      },
      "source": [
        "import psutil\n",
        "import humanize\n",
        "import os\n",
        "import GPUtil as GPU\n",
        "GPUs = GPU.getGPUs()\n",
        "# XXX: only one GPU on Colab and isn’t guaranteed\n",
        "gpu = GPUs[0]\n",
        "def printm():\n",
        " process = psutil.Process(os.getpid())\n",
        " print(\"Gen RAM Free: \" + humanize.naturalsize( psutil.virtual_memory().available ), \" | Proc size: \" + humanize.naturalsize( process.memory_info().rss))\n",
        " print(\"GPU RAM Free: {0:.0f}MB | Used: {1:.0f}MB | Util {2:3.0f}% | Total {3:.0f}MB\".format(gpu.memoryFree, gpu.memoryUsed, gpu.memoryUtil*100, gpu.memoryTotal))\n",
        "printm()\n"
      ],
      "execution_count": 17,
      "outputs": [
        {
          "output_type": "error",
          "ename": "ModuleNotFoundError",
          "evalue": "ignored",
          "traceback": [
            "\u001b[0;31m---------------------------------------------------------------------------\u001b[0m",
            "\u001b[0;31mModuleNotFoundError\u001b[0m                       Traceback (most recent call last)",
            "\u001b[0;32m<ipython-input-17-80753d0f97ec>\u001b[0m in \u001b[0;36m<module>\u001b[0;34m()\u001b[0m\n\u001b[1;32m      2\u001b[0m \u001b[0;32mimport\u001b[0m \u001b[0mhumanize\u001b[0m\u001b[0;34m\u001b[0m\u001b[0;34m\u001b[0m\u001b[0m\n\u001b[1;32m      3\u001b[0m \u001b[0;32mimport\u001b[0m \u001b[0mos\u001b[0m\u001b[0;34m\u001b[0m\u001b[0;34m\u001b[0m\u001b[0m\n\u001b[0;32m----> 4\u001b[0;31m \u001b[0;32mimport\u001b[0m \u001b[0mGPUtil\u001b[0m \u001b[0;32mas\u001b[0m \u001b[0mGPU\u001b[0m\u001b[0;34m\u001b[0m\u001b[0;34m\u001b[0m\u001b[0m\n\u001b[0m\u001b[1;32m      5\u001b[0m \u001b[0mGPUs\u001b[0m \u001b[0;34m=\u001b[0m \u001b[0mGPU\u001b[0m\u001b[0;34m.\u001b[0m\u001b[0mgetGPUs\u001b[0m\u001b[0;34m(\u001b[0m\u001b[0;34m)\u001b[0m\u001b[0;34m\u001b[0m\u001b[0;34m\u001b[0m\u001b[0m\n\u001b[1;32m      6\u001b[0m \u001b[0;31m# XXX: only one GPU on Colab and isn’t guaranteed\u001b[0m\u001b[0;34m\u001b[0m\u001b[0;34m\u001b[0m\u001b[0;34m\u001b[0m\u001b[0m\n",
            "\u001b[0;31mModuleNotFoundError\u001b[0m: No module named 'GPUtil'",
            "",
            "\u001b[0;31m---------------------------------------------------------------------------\u001b[0;32m\nNOTE: If your import is failing due to a missing package, you can\nmanually install dependencies using either !pip or !apt.\n\nTo view examples of installing some common dependencies, click the\n\"Open Examples\" button below.\n\u001b[0;31m---------------------------------------------------------------------------\u001b[0m\n"
          ],
          "errorDetails": {
            "actions": [
              {
                "action": "open_url",
                "actionText": "Open Examples",
                "url": "/notebooks/snippets/importing_libraries.ipynb"
              }
            ]
          }
        }
      ]
    },
    {
      "cell_type": "code",
      "metadata": {
        "colab": {
          "base_uri": "https://localhost:8080/",
          "height": 170
        },
        "id": "0KqsXGvDIrbN",
        "outputId": "5854f0d4-2326-4f12-a052-6b3a855a7474"
      },
      "source": [
        "import torch, gc\n",
        "#with torch.no_grad():\n",
        "gc.collect()\n",
        "torch.cuda.empty_cache()\n",
        "torch.cuda.memory_summary(device=None, abbreviated=False)"
      ],
      "execution_count": 16,
      "outputs": [
        {
          "output_type": "execute_result",
          "data": {
            "application/vnd.google.colaboratory.intrinsic+json": {
              "type": "string"
            },
            "text/plain": [
              "'|===========================================================================|\\n|                  PyTorch CUDA memory summary, device ID 0                 |\\n|---------------------------------------------------------------------------|\\n|            CUDA OOMs: 14           |        cudaMalloc retries: 14        |\\n|===========================================================================|\\n|        Metric         | Cur Usage  | Peak Usage | Tot Alloc  | Tot Freed  |\\n|---------------------------------------------------------------------------|\\n| Allocated memory      |    4672 MB |    9685 MB |   78618 MB |   73946 MB |\\n|       from large pool |    4664 MB |    9677 MB |   78591 MB |   73926 MB |\\n|       from small pool |       7 MB |      13 MB |      26 MB |      19 MB |\\n|---------------------------------------------------------------------------|\\n| Active memory         |    4672 MB |    9685 MB |   78618 MB |   73946 MB |\\n|       from large pool |    4664 MB |    9677 MB |   78591 MB |   73926 MB |\\n|       from small pool |       7 MB |      13 MB |      26 MB |      19 MB |\\n|---------------------------------------------------------------------------|\\n| GPU reserved memory   |    8934 MB |   10692 MB |   15316 MB |    6382 MB |\\n|       from large pool |    8924 MB |   10678 MB |   15298 MB |    6374 MB |\\n|       from small pool |      10 MB |      14 MB |      18 MB |       8 MB |\\n|---------------------------------------------------------------------------|\\n| Non-releasable memory |    4261 MB |    4564 MB |   67407 MB |   63145 MB |\\n|       from large pool |    4259 MB |    4561 MB |   67374 MB |   63115 MB |\\n|       from small pool |       2 MB |       6 MB |      33 MB |      30 MB |\\n|---------------------------------------------------------------------------|\\n| Allocations           |     520    |     736    |    4971    |    4451    |\\n|       from large pool |     142    |     268    |    1861    |    1719    |\\n|       from small pool |     378    |     576    |    3110    |    2732    |\\n|---------------------------------------------------------------------------|\\n| Active allocs         |     520    |     736    |    4971    |    4451    |\\n|       from large pool |     142    |     268    |    1861    |    1719    |\\n|       from small pool |     378    |     576    |    3110    |    2732    |\\n|---------------------------------------------------------------------------|\\n| GPU reserved segments |      81    |     119    |     140    |      59    |\\n|       from large pool |      76    |     114    |     131    |      55    |\\n|       from small pool |       5    |       7    |       9    |       4    |\\n|---------------------------------------------------------------------------|\\n| Non-releasable allocs |     112    |     115    |    2350    |    2238    |\\n|       from large pool |      74    |      83    |     990    |     916    |\\n|       from small pool |      38    |      50    |    1360    |    1322    |\\n|===========================================================================|\\n'"
            ]
          },
          "metadata": {},
          "execution_count": 16
        }
      ]
    },
    {
      "cell_type": "code",
      "metadata": {
        "id": "cK2Dp5ElI5s_"
      },
      "source": [
        ""
      ],
      "execution_count": null,
      "outputs": []
    },
    {
      "cell_type": "code",
      "metadata": {
        "id": "kiRp0fnKVOBR"
      },
      "source": [
        ""
      ],
      "execution_count": null,
      "outputs": []
    }
  ]
}