{
  "nbformat": 4,
  "nbformat_minor": 0,
  "metadata": {
    "colab": {
      "name": "fyp_model_training GCC part_1.ipynb",
      "provenance": [],
      "collapsed_sections": [],
      "authorship_tag": "ABX9TyNOp1zujoGdpvjcQS+J1BQ0",
      "include_colab_link": true
    },
    "kernelspec": {
      "name": "python3",
      "display_name": "Python 3"
    },
    "language_info": {
      "name": "python"
    },
    "widgets": {
      "application/vnd.jupyter.widget-state+json": {
        "744130adb40e4db79e42d12485a48b22": {
          "model_module": "@jupyter-widgets/controls",
          "model_name": "HBoxModel",
          "model_module_version": "1.5.0",
          "state": {
            "_view_name": "HBoxView",
            "_dom_classes": [],
            "_model_name": "HBoxModel",
            "_view_module": "@jupyter-widgets/controls",
            "_model_module_version": "1.5.0",
            "_view_count": null,
            "_view_module_version": "1.5.0",
            "box_style": "",
            "layout": "IPY_MODEL_b77baf612e2043bf88c4f25df5691f1b",
            "_model_module": "@jupyter-widgets/controls",
            "children": [
              "IPY_MODEL_b683dbb59b1c4fb1adf40023d84380ef",
              "IPY_MODEL_92d1507bbcb54beb9f969540a945da6a",
              "IPY_MODEL_4cfe521bd4944bc9859421900b30763d"
            ]
          }
        },
        "b77baf612e2043bf88c4f25df5691f1b": {
          "model_module": "@jupyter-widgets/base",
          "model_name": "LayoutModel",
          "model_module_version": "1.2.0",
          "state": {
            "_view_name": "LayoutView",
            "grid_template_rows": null,
            "right": null,
            "justify_content": null,
            "_view_module": "@jupyter-widgets/base",
            "overflow": null,
            "_model_module_version": "1.2.0",
            "_view_count": null,
            "flex_flow": null,
            "width": null,
            "min_width": null,
            "border": null,
            "align_items": null,
            "bottom": null,
            "_model_module": "@jupyter-widgets/base",
            "top": null,
            "grid_column": null,
            "overflow_y": null,
            "overflow_x": null,
            "grid_auto_flow": null,
            "grid_area": null,
            "grid_template_columns": null,
            "flex": null,
            "_model_name": "LayoutModel",
            "justify_items": null,
            "grid_row": null,
            "max_height": null,
            "align_content": null,
            "visibility": null,
            "align_self": null,
            "height": null,
            "min_height": null,
            "padding": null,
            "grid_auto_rows": null,
            "grid_gap": null,
            "max_width": null,
            "order": null,
            "_view_module_version": "1.2.0",
            "grid_template_areas": null,
            "object_position": null,
            "object_fit": null,
            "grid_auto_columns": null,
            "margin": null,
            "display": null,
            "left": null
          }
        },
        "b683dbb59b1c4fb1adf40023d84380ef": {
          "model_module": "@jupyter-widgets/controls",
          "model_name": "HTMLModel",
          "model_module_version": "1.5.0",
          "state": {
            "_view_name": "HTMLView",
            "style": "IPY_MODEL_a9674597bdd64284bf318d2d1c568344",
            "_dom_classes": [],
            "description": "",
            "_model_name": "HTMLModel",
            "placeholder": "​",
            "_view_module": "@jupyter-widgets/controls",
            "_model_module_version": "1.5.0",
            "value": "100%",
            "_view_count": null,
            "_view_module_version": "1.5.0",
            "description_tooltip": null,
            "_model_module": "@jupyter-widgets/controls",
            "layout": "IPY_MODEL_579b063abe24460c80d27df13409f657"
          }
        },
        "92d1507bbcb54beb9f969540a945da6a": {
          "model_module": "@jupyter-widgets/controls",
          "model_name": "FloatProgressModel",
          "model_module_version": "1.5.0",
          "state": {
            "_view_name": "ProgressView",
            "style": "IPY_MODEL_afd58d2e38a84ae7b31bc220142bfd94",
            "_dom_classes": [],
            "description": "",
            "_model_name": "FloatProgressModel",
            "bar_style": "success",
            "max": 553507836,
            "_view_module": "@jupyter-widgets/controls",
            "_model_module_version": "1.5.0",
            "value": 553507836,
            "_view_count": null,
            "_view_module_version": "1.5.0",
            "orientation": "horizontal",
            "min": 0,
            "description_tooltip": null,
            "_model_module": "@jupyter-widgets/controls",
            "layout": "IPY_MODEL_1de4da7de903464ab267259f8f4f0af1"
          }
        },
        "4cfe521bd4944bc9859421900b30763d": {
          "model_module": "@jupyter-widgets/controls",
          "model_name": "HTMLModel",
          "model_module_version": "1.5.0",
          "state": {
            "_view_name": "HTMLView",
            "style": "IPY_MODEL_d98aea8f0d444a748b211ae7802853c1",
            "_dom_classes": [],
            "description": "",
            "_model_name": "HTMLModel",
            "placeholder": "​",
            "_view_module": "@jupyter-widgets/controls",
            "_model_module_version": "1.5.0",
            "value": " 528M/528M [00:06&lt;00:00, 104MB/s]",
            "_view_count": null,
            "_view_module_version": "1.5.0",
            "description_tooltip": null,
            "_model_module": "@jupyter-widgets/controls",
            "layout": "IPY_MODEL_03fd29c447f04051a763e73278c748ad"
          }
        },
        "a9674597bdd64284bf318d2d1c568344": {
          "model_module": "@jupyter-widgets/controls",
          "model_name": "DescriptionStyleModel",
          "model_module_version": "1.5.0",
          "state": {
            "_view_name": "StyleView",
            "_model_name": "DescriptionStyleModel",
            "description_width": "",
            "_view_module": "@jupyter-widgets/base",
            "_model_module_version": "1.5.0",
            "_view_count": null,
            "_view_module_version": "1.2.0",
            "_model_module": "@jupyter-widgets/controls"
          }
        },
        "579b063abe24460c80d27df13409f657": {
          "model_module": "@jupyter-widgets/base",
          "model_name": "LayoutModel",
          "model_module_version": "1.2.0",
          "state": {
            "_view_name": "LayoutView",
            "grid_template_rows": null,
            "right": null,
            "justify_content": null,
            "_view_module": "@jupyter-widgets/base",
            "overflow": null,
            "_model_module_version": "1.2.0",
            "_view_count": null,
            "flex_flow": null,
            "width": null,
            "min_width": null,
            "border": null,
            "align_items": null,
            "bottom": null,
            "_model_module": "@jupyter-widgets/base",
            "top": null,
            "grid_column": null,
            "overflow_y": null,
            "overflow_x": null,
            "grid_auto_flow": null,
            "grid_area": null,
            "grid_template_columns": null,
            "flex": null,
            "_model_name": "LayoutModel",
            "justify_items": null,
            "grid_row": null,
            "max_height": null,
            "align_content": null,
            "visibility": null,
            "align_self": null,
            "height": null,
            "min_height": null,
            "padding": null,
            "grid_auto_rows": null,
            "grid_gap": null,
            "max_width": null,
            "order": null,
            "_view_module_version": "1.2.0",
            "grid_template_areas": null,
            "object_position": null,
            "object_fit": null,
            "grid_auto_columns": null,
            "margin": null,
            "display": null,
            "left": null
          }
        },
        "afd58d2e38a84ae7b31bc220142bfd94": {
          "model_module": "@jupyter-widgets/controls",
          "model_name": "ProgressStyleModel",
          "model_module_version": "1.5.0",
          "state": {
            "_view_name": "StyleView",
            "_model_name": "ProgressStyleModel",
            "description_width": "",
            "_view_module": "@jupyter-widgets/base",
            "_model_module_version": "1.5.0",
            "_view_count": null,
            "_view_module_version": "1.2.0",
            "bar_color": null,
            "_model_module": "@jupyter-widgets/controls"
          }
        },
        "1de4da7de903464ab267259f8f4f0af1": {
          "model_module": "@jupyter-widgets/base",
          "model_name": "LayoutModel",
          "model_module_version": "1.2.0",
          "state": {
            "_view_name": "LayoutView",
            "grid_template_rows": null,
            "right": null,
            "justify_content": null,
            "_view_module": "@jupyter-widgets/base",
            "overflow": null,
            "_model_module_version": "1.2.0",
            "_view_count": null,
            "flex_flow": null,
            "width": null,
            "min_width": null,
            "border": null,
            "align_items": null,
            "bottom": null,
            "_model_module": "@jupyter-widgets/base",
            "top": null,
            "grid_column": null,
            "overflow_y": null,
            "overflow_x": null,
            "grid_auto_flow": null,
            "grid_area": null,
            "grid_template_columns": null,
            "flex": null,
            "_model_name": "LayoutModel",
            "justify_items": null,
            "grid_row": null,
            "max_height": null,
            "align_content": null,
            "visibility": null,
            "align_self": null,
            "height": null,
            "min_height": null,
            "padding": null,
            "grid_auto_rows": null,
            "grid_gap": null,
            "max_width": null,
            "order": null,
            "_view_module_version": "1.2.0",
            "grid_template_areas": null,
            "object_position": null,
            "object_fit": null,
            "grid_auto_columns": null,
            "margin": null,
            "display": null,
            "left": null
          }
        },
        "d98aea8f0d444a748b211ae7802853c1": {
          "model_module": "@jupyter-widgets/controls",
          "model_name": "DescriptionStyleModel",
          "model_module_version": "1.5.0",
          "state": {
            "_view_name": "StyleView",
            "_model_name": "DescriptionStyleModel",
            "description_width": "",
            "_view_module": "@jupyter-widgets/base",
            "_model_module_version": "1.5.0",
            "_view_count": null,
            "_view_module_version": "1.2.0",
            "_model_module": "@jupyter-widgets/controls"
          }
        },
        "03fd29c447f04051a763e73278c748ad": {
          "model_module": "@jupyter-widgets/base",
          "model_name": "LayoutModel",
          "model_module_version": "1.2.0",
          "state": {
            "_view_name": "LayoutView",
            "grid_template_rows": null,
            "right": null,
            "justify_content": null,
            "_view_module": "@jupyter-widgets/base",
            "overflow": null,
            "_model_module_version": "1.2.0",
            "_view_count": null,
            "flex_flow": null,
            "width": null,
            "min_width": null,
            "border": null,
            "align_items": null,
            "bottom": null,
            "_model_module": "@jupyter-widgets/base",
            "top": null,
            "grid_column": null,
            "overflow_y": null,
            "overflow_x": null,
            "grid_auto_flow": null,
            "grid_area": null,
            "grid_template_columns": null,
            "flex": null,
            "_model_name": "LayoutModel",
            "justify_items": null,
            "grid_row": null,
            "max_height": null,
            "align_content": null,
            "visibility": null,
            "align_self": null,
            "height": null,
            "min_height": null,
            "padding": null,
            "grid_auto_rows": null,
            "grid_gap": null,
            "max_width": null,
            "order": null,
            "_view_module_version": "1.2.0",
            "grid_template_areas": null,
            "object_position": null,
            "object_fit": null,
            "grid_auto_columns": null,
            "margin": null,
            "display": null,
            "left": null
          }
        }
      }
    }
  },
  "cells": [
    {
      "cell_type": "markdown",
      "metadata": {
        "id": "view-in-github",
        "colab_type": "text"
      },
      "source": [
        "<a href=\"https://colab.research.google.com/github/rukmals/crowd-monitoring-system-model-development/blob/main/fyp_model_training_GCC_part_1.ipynb\" target=\"_parent\"><img src=\"https://colab.research.google.com/assets/colab-badge.svg\" alt=\"Open In Colab\"/></a>"
      ]
    },
    {
      "cell_type": "code",
      "metadata": {
        "colab": {
          "base_uri": "https://localhost:8080/"
        },
        "id": "WuiLGmXfDNME",
        "outputId": "e3fc71a3-3fe0-40c1-c66a-374253bb8a7d"
      },
      "source": [
        "from google.colab import drive\n",
        "drive.mount('/content/drive')"
      ],
      "execution_count": 1,
      "outputs": [
        {
          "output_type": "stream",
          "name": "stdout",
          "text": [
            "Mounted at /content/drive\n"
          ]
        }
      ]
    },
    {
      "cell_type": "code",
      "metadata": {
        "colab": {
          "base_uri": "https://localhost:8080/"
        },
        "id": "QEj6Tj3WDeEj",
        "outputId": "a5e3fc5f-3020-467c-918a-c50d670c6e10"
      },
      "source": [
        "!ln -sf /opt/bin/nvidia-smi /usr/bin/nvidia-smi\n",
        "!pip install gputil\n",
        "!pip install psutil\n",
        "!pip install humanize"
      ],
      "execution_count": 2,
      "outputs": [
        {
          "output_type": "stream",
          "name": "stdout",
          "text": [
            "Collecting gputil\n",
            "  Downloading GPUtil-1.4.0.tar.gz (5.5 kB)\n",
            "Building wheels for collected packages: gputil\n",
            "  Building wheel for gputil (setup.py) ... \u001b[?25l\u001b[?25hdone\n",
            "  Created wheel for gputil: filename=GPUtil-1.4.0-py3-none-any.whl size=7411 sha256=2c44ddb56f4931982f47767aa76cbe6e3672ff2ecd4771c8c14586d47ce9b09c\n",
            "  Stored in directory: /root/.cache/pip/wheels/6e/f8/83/534c52482d6da64622ddbf72cd93c35d2ef2881b78fd08ff0c\n",
            "Successfully built gputil\n",
            "Installing collected packages: gputil\n",
            "Successfully installed gputil-1.4.0\n",
            "Requirement already satisfied: psutil in /usr/local/lib/python3.7/dist-packages (5.4.8)\n",
            "Requirement already satisfied: humanize in /usr/local/lib/python3.7/dist-packages (0.5.1)\n"
          ]
        }
      ]
    },
    {
      "cell_type": "code",
      "metadata": {
        "colab": {
          "base_uri": "https://localhost:8080/"
        },
        "id": "I2emlcM4D2oq",
        "outputId": "3a83fb44-6cf0-482c-95e7-b08f7a1d048d"
      },
      "source": [
        "import psutil\n",
        "import humanize\n",
        "import os\n",
        "import GPUtil as GPU\n",
        "GPUs = GPU.getGPUs()\n",
        "# XXX: only one GPU on Colab and isn’t guaranteed\n",
        "gpu = GPUs[0]\n",
        "def printm():\n",
        " process = psutil.Process(os.getpid())\n",
        " print(\"Gen RAM Free: \" + humanize.naturalsize( psutil.virtual_memory().available ), \" | Proc size: \" + humanize.naturalsize( process.memory_info().rss))\n",
        " print(\"GPU RAM Free: {0:.0f}MB | Used: {1:.0f}MB | Util {2:3.0f}% | Total {3:.0f}MB\".format(gpu.memoryFree, gpu.memoryUsed, gpu.memoryUtil*100, gpu.memoryTotal))\n",
        "printm()"
      ],
      "execution_count": 3,
      "outputs": [
        {
          "output_type": "stream",
          "name": "stdout",
          "text": [
            "Gen RAM Free: 26.3 GB  | Proc size: 118.5 MB\n",
            "GPU RAM Free: 16280MB | Used: 0MB | Util   0% | Total 16280MB\n"
          ]
        }
      ]
    },
    {
      "cell_type": "code",
      "metadata": {
        "id": "E1J3L4XKEHyl"
      },
      "source": [
        "import random\n",
        "import os\n",
        "from PIL import Image,ImageFilter,ImageDraw\n",
        "import numpy as np\n",
        "import h5py\n",
        "from PIL import ImageStat\n",
        "import glob\n",
        "from sklearn.model_selection import train_test_split\n",
        "import json\n",
        "\n",
        "import sys\n",
        "import warnings\n",
        "# import from library\n",
        "import torch\n",
        "import torch.nn as nn\n",
        "from torch.autograd import Variable\n",
        "from torchvision import datasets, transforms\n",
        "import numpy as np\n",
        "import argparse\n",
        "import json\n",
        "import cv2\n",
        "import time\n",
        "from torchvision import models"
      ],
      "execution_count": 4,
      "outputs": []
    },
    {
      "cell_type": "code",
      "metadata": {
        "id": "s8P_wNShENMH"
      },
      "source": [
        "import torch\n",
        "import torch.nn as nn\n",
        "import torch.nn.functional as F\n",
        "from torchvision import models\n",
        "\n",
        "class Conv2d(nn.Module):\n",
        "    def __init__(self, in_channels, out_channels, kernel_size, \\\n",
        "                stride=1, NL='relu', same_padding=False, bn=False, dilation=1):\n",
        "        super(Conv2d, self).__init__()\n",
        "        padding = int((kernel_size - 1) // 2) if same_padding else 0\n",
        "        self.conv = []\n",
        "        if dilation==1:\n",
        "            self.conv = nn.Conv2d(in_channels, out_channels, kernel_size, stride, padding=padding, dilation=dilation)\n",
        "        else:\n",
        "            self.conv = nn.Conv2d(in_channels, out_channels, kernel_size, stride, padding=dilation, dilation=dilation)\n",
        "        self.bn = nn.BatchNorm2d(out_channels, eps=0.001, momentum=0, affine=True) if bn else nn.Identity()\n",
        "        if NL == 'relu' :\n",
        "            self.relu = nn.ReLU(inplace=True)\n",
        "        elif NL == 'prelu':\n",
        "            self.relu = nn.PReLU()\n",
        "        else:\n",
        "            self.relu = None\n",
        "\n",
        "    def forward(self, x):\n",
        "      x = self.conv(x)\n",
        "      if self.bn is not None:\n",
        "          x = self.bn(x)\n",
        "      if self.relu is not None:\n",
        "          x = self.relu(x)   \n",
        "      return x\n",
        "  \n",
        "# the module definition for the multi-branch in the density head\n",
        "class MultiBranchModule(nn.Module):\n",
        "    def __init__(self, in_channels, sync=False):\n",
        "        super(MultiBranchModule, self).__init__()\n",
        "        self.branch_column1_1 = BasicConv2d(in_channels, in_channels//2, kernel_size=1, sync=sync)\n",
        "        self.branch_column1_2 = BasicConv2d(in_channels//2, in_channels, kernel_size=1, sync=sync)\n",
        "\n",
        "        self.branch_column2_1 = BasicConv2d(in_channels, in_channels//2, kernel_size=1, sync=sync)\n",
        "        self.branch_column2_2 = BasicConv2d(in_channels // 2, in_channels, kernel_size=(3, 3), padding=(1, 1), sync=sync)\n",
        "\n",
        "        self.branch_column3_1 = BasicConv2d(in_channels, in_channels//2, kernel_size=1, sync=sync)\n",
        "        self.branch_column3_2 = BasicConv2d(in_channels // 2, in_channels, kernel_size=5, padding=2, sync=sync)\n",
        "\n",
        "    def forward(self, x):\n",
        "        branch_1 = self.branch_column1_1(x)\n",
        "        branch_1 = self.branch_column1_2(branch_1)\n",
        "\n",
        "        branch_2 = self.branch_column2_1(x)\n",
        "        branch_2 = self.branch_column2_2(branch_2)\n",
        "\n",
        "        branch_3 = self.branch_column3_1(x)\n",
        "        branch_3 = self.branch_column3_2(branch_3)\n",
        "\n",
        "        outputs = [branch_1, branch_2, branch_3, x]\n",
        "        return torch.cat(outputs, 1)\n",
        "\n",
        "# the module definition for the basic conv module\n",
        "class BasicConv2d(nn.Module):\n",
        "\n",
        "    def __init__(self, in_channels, out_channels, sync=False, **kwargs):\n",
        "        super(BasicConv2d, self).__init__()\n",
        "        self.conv = nn.Conv2d(in_channels, out_channels, bias=False, **kwargs)\n",
        "        if sync:\n",
        "            # for sync bn\n",
        "            print('use sync inception')\n",
        "            self.bn = nn.SyncBatchNorm(out_channels, eps=0.001)\n",
        "        else:\n",
        "            self.bn = nn.BatchNorm2d(out_channels, eps=0.001)\n",
        "\n",
        "    def forward(self, x):\n",
        "        x = self.conv(x)\n",
        "        x = self.bn(x)\n",
        "        return F.relu(x, inplace=True)"
      ],
      "execution_count": 5,
      "outputs": []
    },
    {
      "cell_type": "code",
      "metadata": {
        "id": "j0ZVQXJuEPY9"
      },
      "source": [
        "import os\n",
        "import random\n",
        "import torch\n",
        "import numpy as np\n",
        "from torch.utils.data import Dataset\n",
        "from PIL import Image\n",
        "\n",
        "def load_data(img_path,train = True):\n",
        "    gt_path = img_path.replace('.png','.h5').replace('pngs','GT')\n",
        "    img = Image.open(img_path).convert('RGB')\n",
        "    gt_file = h5py.File(gt_path, 'r')\n",
        "    target = np.asarray(gt_file['density'])\n",
        "    target = cv2.resize(target,(int(target.shape[1]/2.25), int(target.shape[0]/2.25)),interpolation = cv2.INTER_CUBIC)*5.06448\n",
        "    return img,target\n",
        "\"\"\"\n",
        "create a list of file (full directory)\n",
        "\"\"\"\n",
        "\n",
        "def create_training_image_list(data_path):\n",
        "    \"\"\"\n",
        "    create a list of absolutely path of jpg file\n",
        "    :param data_path: must contain subfolder \"images\" with *.png  (example ShanghaiTech/part_A/train_data/)\n",
        "    :return:\n",
        "    \"\"\"\n",
        "    DATA_PATH = data_path\n",
        "    image_path_list = glob.glob(os.path.join(DATA_PATH, \"pngs\", \"*.png\"))\n",
        "    return image_path_list\n",
        "\n",
        "\n",
        "def get_train_val_list(data_path):\n",
        "    DATA_PATH = data_path\n",
        "    scences = ['scene_00_0','scene_00_1','scene_00_2','scene_00_1','scene_01_0','scene_01_1','scene_01_2','scene_01_3',\n",
        "               'scene_02_0','scene_02_1','scene_02_2','scene_02_3','scene_03_0','scene_03_1','scene_03_2','scene_03_3',\n",
        "               'scene_04_0','scene_04_1','scene_04_2','scene_04_3','scene_05_0','scene_05_1','scene_05_2','scene_05_3',\n",
        "               'scene_06_0','scene_06_1','scene_06_2','scene_06_3','scene_07_0','scene_07_1','scene_07_2','scene_07_3',\n",
        "               'scene_08_0','scene_08_1','scene_08_2','scene_08_3','scene_09_0','scene_09_1','scene_09_2','scene_09_3']\n",
        "    image_path_list = []\n",
        "    for scene in scences:\n",
        "      image_path_list += glob.glob(os.path.join(DATA_PATH,scene, \"pngs\", \"*.png\"))\n",
        "    train, val = train_test_split(image_path_list, test_size=0.1)\n",
        "\n",
        "    print(\"train size \", len(train))\n",
        "    print(\"val size \", len(val))\n",
        "    return train, val\n",
        "\n",
        "\n",
        "\n",
        "\n",
        "class ListDataset(Dataset):\n",
        "    def __init__(self, root, shape=None, shuffle=True, transform=None,  train=False, batch_size=1, num_workers=4):\n",
        "        \"\"\"\n",
        "        if you have different image size, then batch_size must be 1\n",
        "        :param root:\n",
        "        :param shape:\n",
        "        :param shuffle:\n",
        "        :param transform:\n",
        "        :param train:\n",
        "        :param seen:\n",
        "        :param batch_size:\n",
        "        :param num_workers:\n",
        "        \"\"\"\n",
        "        #if train:\n",
        "            #root = root *4\n",
        "        if shuffle:\n",
        "            random.shuffle(root)\n",
        "        \n",
        "        self.nSamples = len(root)\n",
        "        self.lines = root\n",
        "        self.transform = transform\n",
        "        self.train = train\n",
        "        self.shape = shape\n",
        "        self.batch_size = batch_size\n",
        "        self.num_workers = num_workers\n",
        "        \n",
        "    def __len__(self):\n",
        "        return self.nSamples\n",
        "\n",
        "    def __getitem__(self, index):\n",
        "        assert index <= len(self), 'index range error' \n",
        "        \n",
        "        img_path = self.lines[index]\n",
        "        \n",
        "        img,target = load_data(img_path,self.train)\n",
        "        \n",
        "        #img = 255.0 * F.to_tensor(img)\n",
        "        \n",
        "        #img[0,:,:]=img[0,:,:]-92.8207477031\n",
        "        #img[1,:,:]=img[1,:,:]-95.2757037428\n",
        "        #img[2,:,:]=img[2,:,:]-104.877445883\n",
        "        if self.transform is not None:\n",
        "            img = self.transform(img)\n",
        "        return img,target\n",
        "  "
      ],
      "execution_count": 6,
      "outputs": []
    },
    {
      "cell_type": "code",
      "metadata": {
        "id": "DHNLkPsbLq9F"
      },
      "source": [
        ""
      ],
      "execution_count": null,
      "outputs": []
    },
    {
      "cell_type": "code",
      "metadata": {
        "id": "JGjwrG19KP4h"
      },
      "source": [
        "class TestNet(nn.Module):\n",
        "    def __init__(self, pretrained=True):\n",
        "        super(TestNet, self).__init__()\n",
        "        \n",
        "        vgg = models.vgg16_bn(pretrained=pretrained)\n",
        "        \n",
        "        self.backend_feat  = [256,128,64]\n",
        "\n",
        "\n",
        "        # Front End Development VGG - 16 \n",
        "        features = list(vgg.features.children())\n",
        "        # get each stage of the VGG - 16\n",
        "        self.features1 = nn.Sequential(*features[0:6])\n",
        "        self.features2 = nn.Sequential(*features[6:13])\n",
        "        self.features3 = nn.Sequential(*features[13:23])\n",
        "        self.features4 = nn.Sequential(*features[23:33])\n",
        "        self.features5 = nn.Sequential(*features[33:43])\n",
        "\n",
        "        # Front End Development P1 to P5 \n",
        "        self.p5 = nn.Sequential(\n",
        "            Conv2d(512, 1024, 3, same_padding=True, NL='relu'),\n",
        "            Conv2d(1024, 512, 3, same_padding=True, NL='relu'),\n",
        "        )\n",
        "\n",
        "        self.p4 = nn.Sequential(\n",
        "            Conv2d(1024, 512, 3, same_padding=True, NL='relu'),\n",
        "            Conv2d(512, 256, 3, same_padding=True, NL='relu'),\n",
        "        )\n",
        "\n",
        "        self.p3 = nn.Sequential(\n",
        "            Conv2d(512 , 256, 3, same_padding=True, NL='relu'),\n",
        "            Conv2d(256, 128, 3, same_padding=True, NL='relu'),\n",
        "        )\n",
        "\n",
        "        self.p2 = nn.Sequential(\n",
        "            Conv2d(256, 128, 3, same_padding=True, NL='relu'),\n",
        "            Conv2d(128, 64, 3, same_padding=True, NL='relu'),\n",
        "        )\n",
        "\n",
        "        self.p1 = nn.Sequential(\n",
        "            Conv2d(128, 64, 3, same_padding=True, NL='relu'),\n",
        "            Conv2d(64, 64, 3, same_padding=True, NL='relu'),\n",
        "        ) \n",
        "\n",
        "        # Multi-Branch moules\n",
        "        self.multi_branch5 = nn.Sequential(\n",
        "            MultiBranchModule(512),\n",
        "            Conv2d(2048, 1, 1, same_padding=True)\n",
        "        )\n",
        "\n",
        "        self.multi_branch4 = nn.Sequential(\n",
        "            MultiBranchModule(256),\n",
        "            Conv2d(1024, 1, 1, same_padding=True)\n",
        "        )\n",
        "\n",
        "        self.multi_branch3 = nn.Sequential(\n",
        "            MultiBranchModule(128),\n",
        "            Conv2d(512, 1, 1, same_padding=True)\n",
        "        )\n",
        "\n",
        "        self.multi_branch2 = nn.Sequential(\n",
        "            MultiBranchModule(64),\n",
        "            Conv2d(256, 1, 1, same_padding=True)\n",
        "        )\n",
        "\n",
        "        self.multi_branch1 = nn.Sequential(\n",
        "            MultiBranchModule(64),\n",
        "            Conv2d(256, 1, 1, same_padding=True)\n",
        "        )\n",
        "\n",
        "        self.backend = make_layers(self.backend_feat,in_channels = 5,dilation = True)\n",
        "\n",
        "        self.output_layer = nn.Conv2d(64, 1, kernel_size=1)\n",
        "\n",
        "    \n",
        "    \n",
        "    def forward(self, x):\n",
        "        size = x.size()\n",
        "        x1 = self.features1(x)\n",
        "        x2 = self.features2(x1)\n",
        "        x3 = self.features3(x2)\n",
        "        x4 = self.features4(x3)\n",
        "        x5 = self.features5(x4)\n",
        "\n",
        "        # Front End Development P1 to P5 \n",
        "        x = self.p5(x5)\n",
        "        x5_out = x\n",
        "        x = F.upsample_bilinear(x, size=x4.size()[2:])\n",
        "\n",
        "        x = torch.cat([x4, x], 1)\n",
        "        x = self.p4(x)\n",
        "        x4_out = x\n",
        "        x = F.upsample_bilinear(x, size=x3.size()[2:])\n",
        "\n",
        "        x = torch.cat([x3, x], 1)\n",
        "        x = self.p3(x)\n",
        "        x3_out = x\n",
        "        x = F.upsample_bilinear(x, size=x2.size()[2:])\n",
        "\n",
        "        x = torch.cat([x2, x], 1)\n",
        "        x = self.p2(x)\n",
        "        x2_out = x\n",
        "        x = F.upsample_bilinear(x, size=x1.size()[2:])\n",
        "\n",
        "        x = torch.cat([x1, x], 1)\n",
        "        x = self.p1(x)\n",
        "        x1_out = x\n",
        "\n",
        "\n",
        "        # multi-branch predictions\n",
        "        x5_density = self.multi_branch5(x5_out)\n",
        "        x4_density = self.multi_branch4(x4_out)\n",
        "        x3_density = self.multi_branch3(x3_out)\n",
        "        x2_density = self.multi_branch2(x2_out)\n",
        "        x1_density = self.multi_branch1(x1_out)\n",
        "\n",
        "        # upsample the multi-branch predictions to be the same with the input size\n",
        "        x5_density = F.upsample_nearest(x5_density, size=x1.size()[2:])\n",
        "        x4_density = F.upsample_nearest(x4_density, size=x1.size()[2:])\n",
        "        x3_density = F.upsample_nearest(x3_density, size=x1.size()[2:])\n",
        "        x2_density = F.upsample_nearest(x2_density, size=x1.size()[2:])\n",
        "        x1_density = F.upsample_nearest(x1_density, size=x1.size()[2:])\n",
        "\n",
        "\n",
        "        density_map = torch.cat([x5_density, x4_density, x3_density, x2_density, x1_density], 1)\n",
        "\n",
        "\n",
        "        x_out = self.backend(density_map)\n",
        "        density_map_out = self.output_layer(x_out)\n",
        "        return density_map_out\n",
        "        #return density_map\n",
        "                \n",
        "                \n",
        "def make_layers(cfg, in_channels = 3,batch_norm=False,dilation = False):\n",
        "    layers = []\n",
        "    dilation_rates = [2,3,5]\n",
        "    #for v in cfg:\n",
        "    for v in range(len(cfg)):\n",
        "        if cfg[v] == 'M':\n",
        "            layers += [nn.MaxPool2d(kernel_size=2, stride=2)]\n",
        "        else:\n",
        "            conv2d = nn.Conv2d(in_channels, cfg[v], kernel_size=3, padding=dilation_rates[v],dilation = dilation_rates[v])\n",
        "            if batch_norm:\n",
        "                layers += [conv2d, nn.BatchNorm2d(cfg[v]), nn.ReLU(inplace=True)]\n",
        "            else:\n",
        "                layers += [conv2d, nn.ReLU(inplace=True)]\n",
        "            in_channels = cfg[v]\n",
        "    return nn.Sequential(*layers)"
      ],
      "execution_count": 7,
      "outputs": []
    },
    {
      "cell_type": "code",
      "metadata": {
        "id": "pKBnfgoLESL7",
        "colab": {
          "base_uri": "https://localhost:8080/",
          "height": 86,
          "referenced_widgets": [
            "744130adb40e4db79e42d12485a48b22",
            "b77baf612e2043bf88c4f25df5691f1b",
            "b683dbb59b1c4fb1adf40023d84380ef",
            "92d1507bbcb54beb9f969540a945da6a",
            "4cfe521bd4944bc9859421900b30763d",
            "a9674597bdd64284bf318d2d1c568344",
            "579b063abe24460c80d27df13409f657",
            "afd58d2e38a84ae7b31bc220142bfd94",
            "1de4da7de903464ab267259f8f4f0af1",
            "d98aea8f0d444a748b211ae7802853c1",
            "03fd29c447f04051a763e73278c748ad"
          ]
        },
        "outputId": "589b20d4-2c2c-429a-a6dc-cd32f390a958"
      },
      "source": [
        "model = TestNet()\n",
        "model = model.cuda()"
      ],
      "execution_count": 8,
      "outputs": [
        {
          "output_type": "stream",
          "name": "stderr",
          "text": [
            "Downloading: \"https://download.pytorch.org/models/vgg16_bn-6c64b313.pth\" to /root/.cache/torch/hub/checkpoints/vgg16_bn-6c64b313.pth\n"
          ]
        },
        {
          "output_type": "display_data",
          "data": {
            "application/vnd.jupyter.widget-view+json": {
              "model_id": "744130adb40e4db79e42d12485a48b22",
              "version_minor": 0,
              "version_major": 2
            },
            "text/plain": [
              "  0%|          | 0.00/528M [00:00<?, ?B/s]"
            ]
          },
          "metadata": {}
        }
      ]
    },
    {
      "cell_type": "code",
      "metadata": {
        "id": "nNRrcqC0M-4V"
      },
      "source": [
        "def get_image_path(file_path):\n",
        "  file_path_list = file_path.split(\" \")\n",
        "  scene = file_path_list[3][4:]\n",
        "  image_number = file_path_list[4]\n",
        "  image_path = \"/content/drive/MyDrive/GCC/\"+\"Part\"+\" \"+scene[7]+scene+\"/\"+\"pngs/\"+image_number+\".png\"\n",
        "  return image_path\n",
        "  \n",
        "def get_image_pathlist(path_list, part):\n",
        "    image_path_list_part_ = []\n",
        "    for line_ in path_list:\n",
        "        if line_.find(part)!=-1:\n",
        "            image_path_list_part_.append(line_)\n",
        "    return image_path_list_part_\n",
        "\n",
        "def extract_image_path_list(image_file, part):\n",
        "  file_ = open(image_file, 'r')\n",
        "  file_list = file_.readlines()\n",
        "  image_path_list_train = []  \n",
        "  for line in file_list:\n",
        "      image_path_list_train.append(get_image_path(line))\n",
        "  train_list = get_image_pathlist(image_path_list_train, part)\n",
        "  print(\"train size: \",len(train_list))\n",
        "  return train_list\n",
        "\n"
      ],
      "execution_count": 14,
      "outputs": []
    },
    {
      "cell_type": "code",
      "metadata": {
        "colab": {
          "base_uri": "https://localhost:8080/"
        },
        "id": "Misi33Cez9lI",
        "outputId": "3679c716-9af5-4e9d-92cf-5ef06f6644c8"
      },
      "source": [
        "train_list = '/content/drive/MyDrive/GCC/train_list.txt'\n",
        "part1_train_list = extract_image_path_list(train_list, \"Part 1\")\n",
        "part1_train_list[0:2]"
      ],
      "execution_count": 20,
      "outputs": [
        {
          "output_type": "stream",
          "name": "stdout",
          "text": [
            "train size:  1160\n"
          ]
        },
        {
          "output_type": "execute_result",
          "data": {
            "text/plain": [
              "['/content/drive/MyDrive/GCC/Part 1/scene_10_0/pngs/1531114771.png',\n",
              " '/content/drive/MyDrive/GCC/Part 1/scene_10_0/pngs/1531114611.png']"
            ]
          },
          "metadata": {},
          "execution_count": 20
        }
      ]
    },
    {
      "cell_type": "code",
      "metadata": {
        "colab": {
          "base_uri": "https://localhost:8080/"
        },
        "id": "9uP3DDdH1KxR",
        "outputId": "dc191837-96c3-4ac1-b27a-356c4a3fea6e"
      },
      "source": [
        "test_list = '/content/drive/MyDrive/GCC/test_list.txt'\n",
        "part1_test_list = extract_image_path_list(test_list, \"Part 1\")\n",
        "part1_test_list[0:2]"
      ],
      "execution_count": 21,
      "outputs": [
        {
          "output_type": "stream",
          "name": "stdout",
          "text": [
            "train size:  385\n"
          ]
        },
        {
          "output_type": "execute_result",
          "data": {
            "text/plain": [
              "['/content/drive/MyDrive/GCC/Part 1/scene_10_0/pngs/1531114578.png',\n",
              " '/content/drive/MyDrive/GCC/Part 1/scene_10_0/pngs/1531114596.png']"
            ]
          },
          "metadata": {},
          "execution_count": 21
        }
      ]
    },
    {
      "cell_type": "code",
      "metadata": {
        "id": "uHAhMTZv1U4L"
      },
      "source": [
        ""
      ],
      "execution_count": null,
      "outputs": []
    },
    {
      "cell_type": "code",
      "metadata": {
        "id": "jzI8wuVaEUat"
      },
      "source": [
        ""
      ],
      "execution_count": 9,
      "outputs": []
    },
    {
      "cell_type": "code",
      "metadata": {
        "id": "ehdefK9bEY8K"
      },
      "source": [
        "train_loader = torch.utils.data.DataLoader(ListDataset(part1_train_list,\n",
        "                                                                shuffle=True,\n",
        "                                                                transform=transforms.Compose([\n",
        "                                                                    transforms.ToTensor(), transforms.Resize(480),transforms.Normalize(mean=[0.302234709263, 0.291243076324, 0.269087553024],\n",
        "                                                                                                                std=[0.227743327618, 0.211051672697, 0.184846073389]),\n",
        "                                                                ]),\n",
        "                                                                train=True,\n",
        "                                                                batch_size=2,\n",
        "                                                                num_workers=2),batch_size=2)"
      ],
      "execution_count": 22,
      "outputs": []
    },
    {
      "cell_type": "code",
      "metadata": {
        "id": "PxXK_cbXEZzI"
      },
      "source": [
        "test_loader = torch.utils.data.DataLoader(ListDataset(part1_test_list,\n",
        "                                  shuffle=False,\n",
        "                                  transform=transforms.Compose([transforms.ToTensor(), transforms.Resize(480),transforms.Normalize(mean=[0.302234709263, 0.291243076324, 0.269087553024],\n",
        "                                                                                                                  std=[0.227743327618, 0.211051672697, 0.184846073389]),\n",
        "                                                                  ]), train=False,batch_size=2,num_workers=2),\n",
        "              batch_size=2)"
      ],
      "execution_count": 23,
      "outputs": []
    },
    {
      "cell_type": "code",
      "metadata": {
        "colab": {
          "base_uri": "https://localhost:8080/"
        },
        "id": "jR0N2HCOEe9D",
        "outputId": "75860b73-31d6-463f-ed82-b24ad01f9330"
      },
      "source": [
        "lr = 1e-5\n",
        "criterion = nn.MSELoss(size_average=False).cuda()\n",
        "\n",
        "#optimizer = torch.optim.SGD(model.parameters(), lr,momentum=0.95,weight_decay=5 * 1e-4)\n",
        "\n",
        "optimizer = torch.optim.Adam(model.parameters(), lr=lr, weight_decay=1e-4)\n",
        "\n",
        "scheduler = torch.optim.lr_scheduler.StepLR(optimizer, step_size=2, gamma=0.98)"
      ],
      "execution_count": 24,
      "outputs": [
        {
          "output_type": "stream",
          "name": "stderr",
          "text": [
            "/usr/local/lib/python3.7/dist-packages/torch/nn/_reduction.py:42: UserWarning: size_average and reduce args will be deprecated, please use reduction='sum' instead.\n",
            "  warnings.warn(warning.format(ret))\n"
          ]
        }
      ]
    },
    {
      "cell_type": "code",
      "metadata": {
        "id": "3onfTCslEfyF"
      },
      "source": [
        "class AverageMeter(object):\n",
        "    \"\"\"Computes and stores the average and current value\"\"\"\n",
        "\n",
        "    def __init__(self):\n",
        "        self.reset()\n",
        "\n",
        "    def reset(self):\n",
        "        self.val = 0\n",
        "        self.avg = 0\n",
        "        self.sum = 0\n",
        "        self.count = 0\n",
        "\n",
        "    def update(self, val, n=1):\n",
        "        self.val = val\n",
        "        self.sum += val * n\n",
        "        self.count += n\n",
        "        self.avg = self.sum / self.count"
      ],
      "execution_count": 25,
      "outputs": []
    },
    {
      "cell_type": "code",
      "metadata": {
        "colab": {
          "base_uri": "https://localhost:8080/"
        },
        "id": "i3ig2hAc5Gd7",
        "outputId": "03d8be15-258a-428a-c783-02b18c29aa63"
      },
      "source": [
        "PATH = '/content/drive/MyDrive/GCC/TestNet_checkpoint_Part1_1.pth'\n",
        "epoch = 24\n",
        "start_epoch = 0\n",
        "if (os.path.isfile(PATH))==True:\n",
        "  checkpoint = torch.load(PATH)\n",
        "  model.load_state_dict(checkpoint['model_state_dict'])\n",
        "  optimizer.load_state_dict(checkpoint['optimizer_state_dict'])\n",
        "  start_epoch = checkpoint['epoch']\n",
        "  loss = checkpoint['loss']\n",
        "  print(\"Successfully load the check point\")\n",
        "else:\n",
        "  print(\"No check point Available!!!\")"
      ],
      "execution_count": 41,
      "outputs": [
        {
          "output_type": "stream",
          "name": "stdout",
          "text": [
            "Successfully load the check point\n"
          ]
        }
      ]
    },
    {
      "cell_type": "code",
      "metadata": {
        "colab": {
          "base_uri": "https://localhost:8080/"
        },
        "id": "krM0fZnpjZol",
        "outputId": "c067a3ae-89b5-4137-a082-227013e7fc1e"
      },
      "source": [
        "print(epoch , start_epoch)"
      ],
      "execution_count": 42,
      "outputs": [
        {
          "output_type": "stream",
          "name": "stdout",
          "text": [
            "24 22\n"
          ]
        }
      ]
    },
    {
      "cell_type": "code",
      "metadata": {
        "id": "CkUJ2hD3i88X"
      },
      "source": [
        "PATH = '/content/drive/MyDrive/GCC/TestNet_checkpoint_Part1_1.pth'"
      ],
      "execution_count": 28,
      "outputs": []
    },
    {
      "cell_type": "code",
      "metadata": {
        "colab": {
          "base_uri": "https://localhost:8080/"
        },
        "id": "etr4AidsEiWX",
        "outputId": "c4b4bbec-de55-47d6-972f-c1ba6a2692ed"
      },
      "source": [
        "for epoch in range(start_epoch,epoch):\n",
        "    mae_train = 0\n",
        "    losses = AverageMeter()\n",
        "    batch_time = AverageMeter()\n",
        "    data_time = AverageMeter()\n",
        "    model.train()\n",
        "    end = time.time()\n",
        "    loss_list = []\n",
        "    mae_list =[]\n",
        "    best_predict_mae = 2000\n",
        "    for i, (img, target) in enumerate(train_loader):\n",
        "\n",
        "        img = img.cuda()\n",
        "        img = Variable(img)\n",
        "\n",
        "        output = model(img)\n",
        "        target = target.type(torch.FloatTensor).unsqueeze(1).cuda()\n",
        "        target = Variable(target)\n",
        "\n",
        "\n",
        "        #backword\n",
        "        loss = criterion(output, target)\n",
        "        losses.update(loss.item(), img.size(0))\n",
        "        optimizer.zero_grad()\n",
        "        loss.backward()\n",
        "        optimizer.step()\n",
        "\n",
        "        batch_time.update(time.time() - end)\n",
        "        end = time.time()\n",
        "\n",
        "\n",
        "        #calculate the MAE values\n",
        "        pred_map = output.data.cpu().numpy()\n",
        "        gt_map = target.data.cpu().numpy()\n",
        "        mae_train += abs(np.sum(pred_map) -np.sum(gt_map))\n",
        "\n",
        "        if i % 50 == 0:\n",
        "            print('Epoch : {}, train MAE : {}'.format(epoch, mae_train/len(train_loader)))\n",
        "            print('Epoch: [{0}][{1}/{2}]\\t'\n",
        "                  'Time {batch_time.val:.3f} ({batch_time.avg:.3f})\\t'\n",
        "                  'Data {data_time.val:.3f} ({data_time.avg:.3f})\\t'\n",
        "                  'Loss {loss.val:.4f} ({loss.avg:.4f})\\t'\n",
        "                .format(\n",
        "                epoch, i, len(train_loader), batch_time=batch_time,\n",
        "                data_time=data_time, loss=losses))\n",
        "    \n",
        "    scheduler.step()  \n",
        "    mae_list.append(mae_train / len(train_loader))\n",
        "    loss_list.append(loss)\n",
        "    mae_train = mae_train / len(train_loader)\n",
        "    print(' * TRAINING MAE {mae:.3f} '.format(mae=mae_train)) \n",
        "    torch.save({\n",
        "            'epoch': epoch+1,\n",
        "            'model_state_dict': model.state_dict(),\n",
        "            'optimizer_state_dict': optimizer.state_dict(),\n",
        "            'loss': loss,\n",
        "            }, PATH)       \n",
        "MODEL_SAVE_PATH = '/content/drive/MyDrive/GCC/GCC_part1.pth'\n",
        "torch.save(model.state_dict(), MODEL_SAVE_PATH)"
      ],
      "execution_count": 43,
      "outputs": [
        {
          "output_type": "stream",
          "name": "stderr",
          "text": [
            "/usr/local/lib/python3.7/dist-packages/torch/nn/functional.py:3825: UserWarning: nn.functional.upsample_bilinear is deprecated. Use nn.functional.interpolate instead.\n",
            "  warnings.warn(\"nn.functional.upsample_bilinear is deprecated. Use nn.functional.interpolate instead.\")\n",
            "/usr/local/lib/python3.7/dist-packages/torch/nn/functional.py:3770: UserWarning: nn.functional.upsample_nearest is deprecated. Use nn.functional.interpolate instead.\n",
            "  warnings.warn(\"nn.functional.upsample_nearest is deprecated. Use nn.functional.interpolate instead.\")\n"
          ]
        },
        {
          "output_type": "stream",
          "name": "stdout",
          "text": [
            "Epoch : 22, train MAE : 0.2730177254512392\n",
            "Epoch: [22][0/580]\tTime 3.666 (3.666)\tData 0.000 (0.000)\tLoss 81.4440 (81.4440)\t\n",
            "Epoch : 22, train MAE : 24.5724340767696\n",
            "Epoch: [22][50/580]\tTime 3.556 (3.571)\tData 0.000 (0.000)\tLoss 1.4684 (28.9733)\t\n",
            "Epoch : 22, train MAE : 37.27109899849727\n",
            "Epoch: [22][100/580]\tTime 3.556 (3.574)\tData 0.000 (0.000)\tLoss 8.7705 (21.1488)\t\n",
            "Epoch : 22, train MAE : 45.407820997567015\n",
            "Epoch: [22][150/580]\tTime 3.558 (3.573)\tData 0.000 (0.000)\tLoss 14.7104 (19.0860)\t\n",
            "Epoch : 22, train MAE : 51.9617439927726\n",
            "Epoch: [22][200/580]\tTime 3.560 (3.572)\tData 0.000 (0.000)\tLoss 1.6820 (17.6153)\t\n",
            "Epoch : 22, train MAE : 57.60586165066423\n",
            "Epoch: [22][250/580]\tTime 3.562 (3.572)\tData 0.000 (0.000)\tLoss 14.3340 (17.3157)\t\n",
            "Epoch : 22, train MAE : 64.02288985416807\n",
            "Epoch: [22][300/580]\tTime 3.558 (3.575)\tData 0.000 (0.000)\tLoss 12.7838 (16.7880)\t\n",
            "Epoch : 22, train MAE : 69.81871560195397\n",
            "Epoch: [22][350/580]\tTime 3.557 (3.577)\tData 0.000 (0.000)\tLoss 0.4004 (17.1408)\t\n",
            "Epoch : 22, train MAE : 76.14745259120546\n",
            "Epoch: [22][400/580]\tTime 3.652 (3.577)\tData 0.000 (0.000)\tLoss 1.3260 (15.8925)\t\n",
            "Epoch : 22, train MAE : 83.623091506958\n",
            "Epoch: [22][450/580]\tTime 3.552 (3.577)\tData 0.000 (0.000)\tLoss 6.7081 (15.3269)\t\n",
            "Epoch : 22, train MAE : 91.13375671649801\n",
            "Epoch: [22][500/580]\tTime 3.557 (3.578)\tData 0.000 (0.000)\tLoss 54.9860 (14.7867)\t\n",
            "Epoch : 22, train MAE : 102.56067507513639\n",
            "Epoch: [22][550/580]\tTime 3.556 (3.578)\tData 0.000 (0.000)\tLoss 9.5970 (14.6350)\t\n",
            " * TRAINING MAE 109.360 \n",
            "Epoch : 23, train MAE : 0.40710659684806033\n",
            "Epoch: [23][0/580]\tTime 3.603 (3.603)\tData 0.000 (0.000)\tLoss 79.1659 (79.1659)\t\n",
            "Epoch : 23, train MAE : 16.32035413281671\n",
            "Epoch: [23][50/580]\tTime 3.557 (3.586)\tData 0.000 (0.000)\tLoss 2.0389 (29.2590)\t\n",
            "Epoch : 23, train MAE : 24.496258979008115\n",
            "Epoch: [23][100/580]\tTime 3.563 (3.583)\tData 0.000 (0.000)\tLoss 8.6882 (21.3772)\t\n",
            "Epoch : 23, train MAE : 30.400337502052043\n",
            "Epoch: [23][150/580]\tTime 3.555 (3.587)\tData 0.000 (0.000)\tLoss 14.7011 (19.2110)\t\n",
            "Epoch : 23, train MAE : 36.57687761372534\n",
            "Epoch: [23][200/580]\tTime 3.663 (3.588)\tData 0.000 (0.000)\tLoss 1.5418 (17.6665)\t\n",
            "Epoch : 23, train MAE : 40.78137778578133\n",
            "Epoch: [23][250/580]\tTime 3.561 (3.587)\tData 0.000 (0.000)\tLoss 14.4267 (17.3375)\t\n",
            "Epoch : 23, train MAE : 48.75845484898008\n",
            "Epoch: [23][300/580]\tTime 3.555 (3.589)\tData 0.000 (0.000)\tLoss 12.9001 (16.7955)\t\n",
            "Epoch : 23, train MAE : 58.85717849073739\n",
            "Epoch: [23][350/580]\tTime 3.558 (3.589)\tData 0.000 (0.000)\tLoss 0.4020 (17.1304)\t\n",
            "Epoch : 23, train MAE : 67.0489404809886\n",
            "Epoch: [23][400/580]\tTime 3.654 (3.588)\tData 0.000 (0.000)\tLoss 1.3098 (15.8728)\t\n",
            "Epoch : 23, train MAE : 73.99683903003562\n",
            "Epoch: [23][450/580]\tTime 3.659 (3.587)\tData 0.000 (0.000)\tLoss 6.4489 (15.2822)\t\n",
            "Epoch : 23, train MAE : 80.03825658600906\n",
            "Epoch: [23][500/580]\tTime 3.562 (3.587)\tData 0.000 (0.000)\tLoss 55.4836 (14.7365)\t\n",
            "Epoch : 23, train MAE : 87.67550882799873\n",
            "Epoch: [23][550/580]\tTime 3.666 (3.586)\tData 0.000 (0.000)\tLoss 9.0260 (14.5553)\t\n",
            " * TRAINING MAE 91.849 \n"
          ]
        }
      ]
    },
    {
      "cell_type": "code",
      "metadata": {
        "colab": {
          "base_uri": "https://localhost:8080/",
          "height": 281
        },
        "id": "X2eEI8JcxR52",
        "outputId": "35dd5ca1-a1c6-4e6b-e8a3-8f30900ae65b"
      },
      "source": [
        "import matplotlib.pyplot as plt\n",
        "import numpy as np\n",
        "def plot(xpoints,ypoints,title):\n",
        "  plt.plot(xpoints, ypoints)\n",
        "  plt.title(title)\n",
        "  plt.show()\n",
        "\n",
        "xpoints = [*range(0, epoch, 1)]\n",
        "ypoints = [1941,476,392,343,323,361,328,292,279,288,268,275,238,114, 92, 89, 84, 95, 93 , 102, 100, 109, 91]\n",
        "plot(xpoints, ypoints, \"TRAINING MAE\")"
      ],
      "execution_count": 44,
      "outputs": [
        {
          "output_type": "display_data",
          "data": {
            "image/png": "[encoded data removed]",
            "text/plain": [
              "<Figure size 432x288 with 1 Axes>"
            ]
          },
          "metadata": {
            "needs_background": "light"
          }
        }
      ]
    },
    {
      "cell_type": "code",
      "metadata": {
        "id": "mVA9skdOR1Ej"
      },
      "source": [
        ""
      ],
      "execution_count": null,
      "outputs": []
    },
    {
      "cell_type": "code",
      "metadata": {
        "colab": {
          "base_uri": "https://localhost:8080/"
        },
        "id": "eomthkNoElj6",
        "outputId": "734790c0-d557-4a1a-f006-81fac06b0b42"
      },
      "source": [
        "model_path = '/content/drive/MyDrive/GCC/GCC_part1.pth'\n",
        "\n",
        "model = TestNet().cuda()\n",
        "# load the trained model\n",
        "model.load_state_dict(torch.load(model_path))\n",
        "print('successfully load model from', model_path)\n",
        "\n",
        "\n",
        "with torch.no_grad():\n",
        "  model.eval()\n",
        "  mae = 0\n",
        "\n",
        "  for i, (img, target) in enumerate(test_loader):\n",
        "      img = img.cuda()\n",
        "      img = Variable(img)   \n",
        "      output = model(img)\n",
        "\n",
        "\n",
        "      pred_map = output.data.cpu().numpy()\n",
        "      gt_map = target.data.cpu().numpy()\n",
        "      print(\"Model Predicted Count\", np.sum(pred_map))\n",
        "      print(\"Ground Trueth Count\", np.sum(gt_map))\n",
        "\n",
        "      mae += abs(np.sum(pred_map) -np.sum(gt_map))\n",
        "\n",
        "  mae = mae / len(test_loader)\n",
        "  print(' * TESTING MAE {mae:.3f} '.format(mae=mae))"
      ],
      "execution_count": 45,
      "outputs": [
        {
          "output_type": "stream",
          "name": "stdout",
          "text": [
            "successfully load model from /content/drive/MyDrive/GCC/GCC_part1.pth\n"
          ]
        },
        {
          "output_type": "stream",
          "name": "stderr",
          "text": [
            "/usr/local/lib/python3.7/dist-packages/torch/nn/functional.py:3825: UserWarning: nn.functional.upsample_bilinear is deprecated. Use nn.functional.interpolate instead.\n",
            "  warnings.warn(\"nn.functional.upsample_bilinear is deprecated. Use nn.functional.interpolate instead.\")\n",
            "/usr/local/lib/python3.7/dist-packages/torch/nn/functional.py:3770: UserWarning: nn.functional.upsample_nearest is deprecated. Use nn.functional.interpolate instead.\n",
            "  warnings.warn(\"nn.functional.upsample_nearest is deprecated. Use nn.functional.interpolate instead.\")\n"
          ]
        },
        {
          "output_type": "stream",
          "name": "stdout",
          "text": [
            "Model Predicted Count 50.05838\n",
            "Ground Trueth Count 142.75102\n",
            "Model Predicted Count 14.758515\n",
            "Ground Trueth Count 160.72224\n",
            "Model Predicted Count 306.49664\n",
            "Ground Trueth Count 326.9262\n",
            "Model Predicted Count 285.93512\n",
            "Ground Trueth Count 430.48\n",
            "Model Predicted Count 243.05273\n",
            "Ground Trueth Count 280.38525\n",
            "Model Predicted Count -19.50903\n",
            "Ground Trueth Count 151.05339\n",
            "Model Predicted Count 0.6026802\n",
            "Ground Trueth Count 168.16994\n",
            "Model Predicted Count -97.98638\n",
            "Ground Trueth Count 72.14069\n",
            "Model Predicted Count -132.31142\n",
            "Ground Trueth Count 25.0146\n",
            "Model Predicted Count 47.99741\n",
            "Ground Trueth Count 211.46396\n",
            "Model Predicted Count 156.25594\n",
            "Ground Trueth Count 304.09363\n",
            "Model Predicted Count 1.4081526\n",
            "Ground Trueth Count 160.05145\n",
            "Model Predicted Count 113.57413\n",
            "Ground Trueth Count 278.636\n",
            "Model Predicted Count -38.68021\n",
            "Ground Trueth Count 144.24098\n",
            "Model Predicted Count 160.14507\n",
            "Ground Trueth Count 347.47336\n",
            "Model Predicted Count 260.3151\n",
            "Ground Trueth Count 429.54706\n",
            "Model Predicted Count 8.363279\n",
            "Ground Trueth Count 190.63576\n",
            "Model Predicted Count -44.87579\n",
            "Ground Trueth Count 127.57386\n",
            "Model Predicted Count 206.42506\n",
            "Ground Trueth Count 349.3903\n",
            "Model Predicted Count 284.17603\n",
            "Ground Trueth Count 438.67618\n",
            "Model Predicted Count 436.40695\n",
            "Ground Trueth Count 572.91223\n",
            "Model Predicted Count 399.8512\n",
            "Ground Trueth Count 572.67426\n",
            "Model Predicted Count 420.04196\n",
            "Ground Trueth Count 607.08826\n",
            "Model Predicted Count -65.73911\n",
            "Ground Trueth Count 123.63937\n",
            "Model Predicted Count -14.750655\n",
            "Ground Trueth Count 138.89133\n",
            "Model Predicted Count 5.1924353\n",
            "Ground Trueth Count 153.63998\n",
            "Model Predicted Count -57.658047\n",
            "Ground Trueth Count 103.255424\n",
            "Model Predicted Count -33.669624\n",
            "Ground Trueth Count 150.17786\n",
            "Model Predicted Count -122.966156\n",
            "Ground Trueth Count 40.27739\n",
            "Model Predicted Count 49.554016\n",
            "Ground Trueth Count 200.51373\n",
            "Model Predicted Count 329.16602\n",
            "Ground Trueth Count 430.95737\n",
            "Model Predicted Count 390.76422\n",
            "Ground Trueth Count 513.11664\n",
            "Model Predicted Count 291.22974\n",
            "Ground Trueth Count 546.34326\n",
            "Model Predicted Count 405.90308\n",
            "Ground Trueth Count 537.31976\n",
            "Model Predicted Count 295.6791\n",
            "Ground Trueth Count 480.27493\n",
            "Model Predicted Count 395.9624\n",
            "Ground Trueth Count 491.41003\n",
            "Model Predicted Count 186.07208\n",
            "Ground Trueth Count 415.0814\n",
            "Model Predicted Count 280.50824\n",
            "Ground Trueth Count 426.03848\n",
            "Model Predicted Count 123.17189\n",
            "Ground Trueth Count 260.38596\n",
            "Model Predicted Count 323.49588\n",
            "Ground Trueth Count 456.02612\n",
            "Model Predicted Count 263.1287\n",
            "Ground Trueth Count 388.8115\n",
            "Model Predicted Count 202.84485\n",
            "Ground Trueth Count 384.14676\n",
            "Model Predicted Count 431.09537\n",
            "Ground Trueth Count 449.41418\n",
            "Model Predicted Count 834.66046\n",
            "Ground Trueth Count 975.6255\n",
            "Model Predicted Count 982.74677\n",
            "Ground Trueth Count 1319.743\n",
            "Model Predicted Count 1047.0388\n",
            "Ground Trueth Count 1204.564\n",
            "Model Predicted Count 1070.537\n",
            "Ground Trueth Count 1227.8315\n",
            "Model Predicted Count 495.1935\n",
            "Ground Trueth Count 703.4088\n",
            "Model Predicted Count 44.673855\n",
            "Ground Trueth Count 253.04495\n",
            "Model Predicted Count 67.8193\n",
            "Ground Trueth Count 253.38127\n",
            "Model Predicted Count 49.034477\n",
            "Ground Trueth Count 257.7412\n",
            "Model Predicted Count 87.076355\n",
            "Ground Trueth Count 253.40956\n",
            "Model Predicted Count 154.43793\n",
            "Ground Trueth Count 281.87958\n",
            "Model Predicted Count 589.64484\n",
            "Ground Trueth Count 823.44995\n",
            "Model Predicted Count 658.7087\n",
            "Ground Trueth Count 918.7142\n",
            "Model Predicted Count 18.697275\n",
            "Ground Trueth Count 175.81723\n",
            "Model Predicted Count 188.92403\n",
            "Ground Trueth Count 360.79306\n",
            "Model Predicted Count 173.07669\n",
            "Ground Trueth Count 374.74597\n",
            "Model Predicted Count 165.25986\n",
            "Ground Trueth Count 369.40164\n",
            "Model Predicted Count 518.46204\n",
            "Ground Trueth Count 633.81494\n",
            "Model Predicted Count 352.48245\n",
            "Ground Trueth Count 476.0289\n",
            "Model Predicted Count 381.23672\n",
            "Ground Trueth Count 524.72876\n",
            "Model Predicted Count 463.2529\n",
            "Ground Trueth Count 604.81055\n",
            "Model Predicted Count 593.16394\n",
            "Ground Trueth Count 625.7064\n",
            "Model Predicted Count 94.85628\n",
            "Ground Trueth Count 217.79779\n",
            "Model Predicted Count 506.5605\n",
            "Ground Trueth Count 557.2354\n",
            "Model Predicted Count 457.5785\n",
            "Ground Trueth Count 511.69043\n",
            "Model Predicted Count 470.333\n",
            "Ground Trueth Count 535.8079\n",
            "Model Predicted Count 253.30806\n",
            "Ground Trueth Count 382.36188\n",
            "Model Predicted Count 263.6917\n",
            "Ground Trueth Count 411.78433\n",
            "Model Predicted Count 381.38254\n",
            "Ground Trueth Count 497.14188\n",
            "Model Predicted Count 776.32214\n",
            "Ground Trueth Count 878.78766\n",
            "Model Predicted Count 568.4569\n",
            "Ground Trueth Count 679.4857\n",
            "Model Predicted Count 433.84927\n",
            "Ground Trueth Count 521.0951\n",
            "Model Predicted Count 315.6836\n",
            "Ground Trueth Count 466.70563\n",
            "Model Predicted Count 88.168396\n",
            "Ground Trueth Count 226.18974\n",
            "Model Predicted Count 210.60216\n",
            "Ground Trueth Count 338.0734\n",
            "Model Predicted Count -129.00912\n",
            "Ground Trueth Count 29.285948\n",
            "Model Predicted Count -16.027061\n",
            "Ground Trueth Count 149.7638\n",
            "Model Predicted Count 93.77964\n",
            "Ground Trueth Count 216.53247\n",
            "Model Predicted Count -13.487389\n",
            "Ground Trueth Count 212.96266\n",
            "Model Predicted Count -6.396727\n",
            "Ground Trueth Count 262.18863\n",
            "Model Predicted Count 2456.347\n",
            "Ground Trueth Count 2360.6997\n",
            "Model Predicted Count 2214.562\n",
            "Ground Trueth Count 2284.7546\n",
            "Model Predicted Count -115.518105\n",
            "Ground Trueth Count 126.32743\n",
            "Model Predicted Count -27.874807\n",
            "Ground Trueth Count 251.35475\n",
            "Model Predicted Count -17.78563\n",
            "Ground Trueth Count 228.71611\n",
            "Model Predicted Count -87.857\n",
            "Ground Trueth Count 38.06878\n",
            "Model Predicted Count -35.076187\n",
            "Ground Trueth Count 98.85835\n",
            "Model Predicted Count 69.048294\n",
            "Ground Trueth Count 188.72249\n",
            "Model Predicted Count 7.328268\n",
            "Ground Trueth Count 157.87434\n",
            "Model Predicted Count 34.624825\n",
            "Ground Trueth Count 224.4895\n",
            "Model Predicted Count 6.1349926\n",
            "Ground Trueth Count 204.81717\n",
            "Model Predicted Count -73.16888\n",
            "Ground Trueth Count 99.77957\n",
            "Model Predicted Count -56.240997\n",
            "Ground Trueth Count 158.03673\n",
            "Model Predicted Count 30.675264\n",
            "Ground Trueth Count 277.00717\n",
            "Model Predicted Count 469.513\n",
            "Ground Trueth Count 578.146\n",
            "Model Predicted Count 847.86615\n",
            "Ground Trueth Count 882.9979\n",
            "Model Predicted Count 1466.3307\n",
            "Ground Trueth Count 1388.0408\n",
            "Model Predicted Count 1509.7592\n",
            "Ground Trueth Count 1420.5621\n",
            "Model Predicted Count 379.61758\n",
            "Ground Trueth Count 499.0674\n",
            "Model Predicted Count 140.04437\n",
            "Ground Trueth Count 331.91885\n",
            "Model Predicted Count 584.7625\n",
            "Ground Trueth Count 711.1078\n",
            "Model Predicted Count 475.67664\n",
            "Ground Trueth Count 585.73193\n",
            "Model Predicted Count 198.53726\n",
            "Ground Trueth Count 357.01346\n",
            "Model Predicted Count 133.48901\n",
            "Ground Trueth Count 300.28033\n",
            "Model Predicted Count 344.01086\n",
            "Ground Trueth Count 424.71497\n",
            "Model Predicted Count 681.08746\n",
            "Ground Trueth Count 671.82904\n",
            "Model Predicted Count 470.86063\n",
            "Ground Trueth Count 603.83075\n",
            "Model Predicted Count 413.9086\n",
            "Ground Trueth Count 514.8253\n",
            "Model Predicted Count 328.9218\n",
            "Ground Trueth Count 468.5234\n",
            "Model Predicted Count 213.50874\n",
            "Ground Trueth Count 350.6674\n",
            "Model Predicted Count 309.46384\n",
            "Ground Trueth Count 460.29013\n",
            "Model Predicted Count 248.42183\n",
            "Ground Trueth Count 403.4988\n",
            "Model Predicted Count 264.04825\n",
            "Ground Trueth Count 426.1526\n",
            "Model Predicted Count 185.31467\n",
            "Ground Trueth Count 362.76517\n",
            "Model Predicted Count 47.65426\n",
            "Ground Trueth Count 222.59328\n",
            "Model Predicted Count 106.87692\n",
            "Ground Trueth Count 271.8464\n",
            "Model Predicted Count -30.47801\n",
            "Ground Trueth Count 132.91531\n",
            "Model Predicted Count 187.71065\n",
            "Ground Trueth Count 346.8298\n",
            "Model Predicted Count 106.52963\n",
            "Ground Trueth Count 242.52603\n",
            "Model Predicted Count 21.132704\n",
            "Ground Trueth Count 175.66237\n",
            "Model Predicted Count 7.91907\n",
            "Ground Trueth Count 159.99554\n",
            "Model Predicted Count -55.207836\n",
            "Ground Trueth Count 87.27631\n",
            "Model Predicted Count 118.26502\n",
            "Ground Trueth Count 268.76743\n",
            "Model Predicted Count -40.624863\n",
            "Ground Trueth Count 102.2193\n",
            "Model Predicted Count 44.893555\n",
            "Ground Trueth Count 170.52736\n",
            "Model Predicted Count -29.741608\n",
            "Ground Trueth Count 109.82522\n",
            "Model Predicted Count 104.86435\n",
            "Ground Trueth Count 275.9594\n",
            "Model Predicted Count 91.13248\n",
            "Ground Trueth Count 244.95589\n",
            "Model Predicted Count 566.85016\n",
            "Ground Trueth Count 712.7514\n",
            "Model Predicted Count 363.95648\n",
            "Ground Trueth Count 417.69495\n",
            "Model Predicted Count 590.0542\n",
            "Ground Trueth Count 684.001\n",
            "Model Predicted Count 556.10815\n",
            "Ground Trueth Count 695.1837\n",
            "Model Predicted Count 409.02567\n",
            "Ground Trueth Count 448.89688\n",
            "Model Predicted Count 472.77628\n",
            "Ground Trueth Count 647.0766\n",
            "Model Predicted Count 243.34123\n",
            "Ground Trueth Count 336.35364\n",
            "Model Predicted Count 425.40314\n",
            "Ground Trueth Count 437.114\n",
            "Model Predicted Count 570.3328\n",
            "Ground Trueth Count 705.4631\n",
            "Model Predicted Count 448.0967\n",
            "Ground Trueth Count 610.9185\n",
            "Model Predicted Count 184.50494\n",
            "Ground Trueth Count 350.43637\n",
            "Model Predicted Count 166.55061\n",
            "Ground Trueth Count 325.49884\n",
            "Model Predicted Count 22.97166\n",
            "Ground Trueth Count 175.64613\n",
            "Model Predicted Count 128.39676\n",
            "Ground Trueth Count 275.88705\n",
            "Model Predicted Count 119.68996\n",
            "Ground Trueth Count 253.23457\n",
            "Model Predicted Count 106.99049\n",
            "Ground Trueth Count 250.4525\n",
            "Model Predicted Count 163.27219\n",
            "Ground Trueth Count 288.7819\n",
            "Model Predicted Count 252.96008\n",
            "Ground Trueth Count 411.52124\n",
            "Model Predicted Count 212.9175\n",
            "Ground Trueth Count 370.12097\n",
            "Model Predicted Count 153.3463\n",
            "Ground Trueth Count 295.93304\n",
            "Model Predicted Count 137.8157\n",
            "Ground Trueth Count 256.0193\n",
            "Model Predicted Count 42.207825\n",
            "Ground Trueth Count 217.67632\n",
            "Model Predicted Count 107.347855\n",
            "Ground Trueth Count 314.38794\n",
            "Model Predicted Count 27.330584\n",
            "Ground Trueth Count 243.05188\n",
            "Model Predicted Count 66.25798\n",
            "Ground Trueth Count 211.56837\n",
            "Model Predicted Count -3.8257499\n",
            "Ground Trueth Count 150.50237\n",
            "Model Predicted Count 177.24991\n",
            "Ground Trueth Count 309.0441\n",
            "Model Predicted Count -18.43412\n",
            "Ground Trueth Count 138.99805\n",
            "Model Predicted Count 189.5419\n",
            "Ground Trueth Count 345.87668\n",
            "Model Predicted Count 32.55246\n",
            "Ground Trueth Count 206.59422\n",
            "Model Predicted Count 173.27515\n",
            "Ground Trueth Count 341.96564\n",
            "Model Predicted Count 36.1301\n",
            "Ground Trueth Count 185.69374\n",
            "Model Predicted Count -44.99399\n",
            "Ground Trueth Count 132.61165\n",
            "Model Predicted Count 34.7134\n",
            "Ground Trueth Count 179.76123\n",
            "Model Predicted Count -28.246256\n",
            "Ground Trueth Count 118.32478\n",
            "Model Predicted Count -69.93375\n",
            "Ground Trueth Count 90.72854\n",
            "Model Predicted Count -18.851519\n",
            "Ground Trueth Count 146.90984\n",
            "Model Predicted Count -114.19808\n",
            "Ground Trueth Count 61.882305\n",
            "Model Predicted Count 501.62784\n",
            "Ground Trueth Count 591.3214\n",
            "Model Predicted Count 809.163\n",
            "Ground Trueth Count 829.3788\n",
            "Model Predicted Count 199.29266\n",
            "Ground Trueth Count 267.8463\n",
            "Model Predicted Count 266.3162\n",
            "Ground Trueth Count 316.51886\n",
            "Model Predicted Count 636.8725\n",
            "Ground Trueth Count 725.6512\n",
            "Model Predicted Count 1051.2444\n",
            "Ground Trueth Count 1033.9524\n",
            "Model Predicted Count 1417.1461\n",
            "Ground Trueth Count 1448.1648\n",
            "Model Predicted Count 707.7281\n",
            "Ground Trueth Count 808.7567\n",
            "Model Predicted Count -60.967808\n",
            "Ground Trueth Count 82.772835\n",
            "Model Predicted Count -128.07559\n",
            "Ground Trueth Count 30.388071\n",
            "Model Predicted Count 1195.3359\n",
            "Ground Trueth Count 1376.7227\n",
            "Model Predicted Count 1486.3525\n",
            "Ground Trueth Count 1685.222\n",
            "Model Predicted Count 581.97986\n",
            "Ground Trueth Count 758.5117\n",
            "Model Predicted Count 598.26886\n",
            "Ground Trueth Count 630.96326\n",
            "Model Predicted Count 338.8255\n",
            "Ground Trueth Count 407.91135\n",
            "Model Predicted Count 589.44275\n",
            "Ground Trueth Count 721.4302\n",
            "Model Predicted Count 157.5258\n",
            "Ground Trueth Count 309.26\n",
            "Model Predicted Count 544.82947\n",
            "Ground Trueth Count 778.31085\n",
            "Model Predicted Count 717.78955\n",
            "Ground Trueth Count 794.35974\n",
            "Model Predicted Count 209.44044\n",
            "Ground Trueth Count 353.3332\n",
            "Model Predicted Count 891.6162\n",
            "Ground Trueth Count 932.06726\n",
            "Model Predicted Count 1658.4846\n",
            "Ground Trueth Count 1770.4084\n",
            "Model Predicted Count 1183.4908\n",
            "Ground Trueth Count 1241.3151\n",
            "Model Predicted Count 952.4188\n",
            "Ground Trueth Count 883.1782\n",
            "Model Predicted Count 396.54504\n",
            "Ground Trueth Count 404.3651\n",
            " * TESTING MAE 142.117 \n"
          ]
        }
      ]
    },
    {
      "cell_type": "code",
      "metadata": {
        "id": "WAvYX-bKAeKq",
        "colab": {
          "base_uri": "https://localhost:8080/"
        },
        "outputId": "32981979-030c-474f-8274-db6b29371fbe"
      },
      "source": [
        "model_path = '/content/drive/MyDrive/GCC/GCC_part1.pth'\n",
        "\n",
        "model = TestNet().cuda()\n",
        "# load the trained model\n",
        "model.load_state_dict(torch.load(model_path))"
      ],
      "execution_count": 69,
      "outputs": [
        {
          "output_type": "execute_result",
          "data": {
            "text/plain": [
              "<All keys matched successfully>"
            ]
          },
          "metadata": {},
          "execution_count": 69
        }
      ]
    },
    {
      "cell_type": "code",
      "metadata": {
        "colab": {
          "base_uri": "https://localhost:8080/",
          "height": 257
        },
        "id": "-zR6NaD3ZPlN",
        "outputId": "90fee4fe-1d76-40f2-f27e-9ff7f0316461"
      },
      "source": [
        "img_path = \"/content/drive/MyDrive/GCC/Part 1/scene_11_3/pngs/1531175876.png\"\n",
        "from matplotlib import pyplot as plt\n",
        "from matplotlib import cm as CM\n",
        "import PIL.Image as Image\n",
        "#now see a sample from ShanghaiA\n",
        "plt.imshow(Image.open(img_path))"
      ],
      "execution_count": 73,
      "outputs": [
        {
          "output_type": "execute_result",
          "data": {
            "text/plain": [
              "<matplotlib.image.AxesImage at 0x7f0c60137f50>"
            ]
          },
          "metadata": {},
          "execution_count": 73
        },
        {
          "output_type": "display_data",
          "data": {
            "image/png": "[encoded data removed]",
            "text/plain": [
              "<Figure size 432x288 with 1 Axes>"
            ]
          },
          "metadata": {
            "needs_background": "light"
          }
        }
      ]
    },
    {
      "cell_type": "code",
      "metadata": {
        "colab": {
          "base_uri": "https://localhost:8080/",
          "height": 257
        },
        "id": "3IMGbv3tZgqr",
        "outputId": "468746ae-7df2-41d3-d1a1-159017daba0a"
      },
      "source": [
        "density_map_path = \"/content/drive/MyDrive/GCC/Part 1/scene_11_3/GT/1531175876.h5\"\n",
        "import h5py\n",
        "gt_file = h5py.File(density_map_path,'r')\n",
        "groundtruth = np.asarray(gt_file['density'])\n",
        "\n",
        "plt.imshow(groundtruth,cmap=CM.jet)"
      ],
      "execution_count": 74,
      "outputs": [
        {
          "output_type": "execute_result",
          "data": {
            "text/plain": [
              "<matplotlib.image.AxesImage at 0x7f09b8327950>"
            ]
          },
          "metadata": {},
          "execution_count": 74
        },
        {
          "output_type": "display_data",
          "data": {
            "image/png": "[encoded data removed]",
            "text/plain": [
              "<Figure size 432x288 with 1 Axes>"
            ]
          },
          "metadata": {
            "needs_background": "light"
          }
        }
      ]
    },
    {
      "cell_type": "code",
      "metadata": {
        "colab": {
          "base_uri": "https://localhost:8080/"
        },
        "id": "IqqM4P9kaXFW",
        "outputId": "3fcbc307-0c52-48df-bce8-c7cd55282f24"
      },
      "source": [
        "np.sum(groundtruth)"
      ],
      "execution_count": 75,
      "outputs": [
        {
          "output_type": "execute_result",
          "data": {
            "text/plain": [
              "97.45222"
            ]
          },
          "metadata": {},
          "execution_count": 75
        }
      ]
    },
    {
      "cell_type": "code",
      "metadata": {
        "id": "a22mYhKCgknv"
      },
      "source": [
        ""
      ],
      "execution_count": 75,
      "outputs": []
    },
    {
      "cell_type": "code",
      "metadata": {
        "id": "unpj21tkadId"
      },
      "source": [
        "im = Image.open(img_path)"
      ],
      "execution_count": 76,
      "outputs": []
    },
    {
      "cell_type": "code",
      "metadata": {
        "id": "94401toHaCRb"
      },
      "source": [
        "pred_transform=transforms.Compose([transforms.ToTensor(), transforms.Resize(480), transforms.Normalize(mean=[0.302234709263, 0.291243076324, 0.269087553024],\n",
        "                                                                                                                std=[0.227743327618, 0.211051672697, 0.184846073389]),])\n",
        "\n"
      ],
      "execution_count": 77,
      "outputs": []
    },
    {
      "cell_type": "code",
      "metadata": {
        "colab": {
          "base_uri": "https://localhost:8080/"
        },
        "id": "YUFMmPGbaoor",
        "outputId": "59ad9fe1-09a8-49c4-85dc-ebc83f27046d"
      },
      "source": [
        "pred = model(pred_transform(im)[None].cuda())"
      ],
      "execution_count": 78,
      "outputs": [
        {
          "output_type": "stream",
          "name": "stderr",
          "text": [
            "/usr/local/lib/python3.7/dist-packages/torch/nn/functional.py:3825: UserWarning: nn.functional.upsample_bilinear is deprecated. Use nn.functional.interpolate instead.\n",
            "  warnings.warn(\"nn.functional.upsample_bilinear is deprecated. Use nn.functional.interpolate instead.\")\n",
            "/usr/local/lib/python3.7/dist-packages/torch/nn/functional.py:3770: UserWarning: nn.functional.upsample_nearest is deprecated. Use nn.functional.interpolate instead.\n",
            "  warnings.warn(\"nn.functional.upsample_nearest is deprecated. Use nn.functional.interpolate instead.\")\n"
          ]
        }
      ]
    },
    {
      "cell_type": "code",
      "metadata": {
        "colab": {
          "base_uri": "https://localhost:8080/"
        },
        "id": "ciGCxB1Waue8",
        "outputId": "b46d5859-a901-4cde-d71f-03e1b1bf39ef"
      },
      "source": [
        "pred = pred.cpu()\n",
        "pred = pred.detach().numpy()\n",
        "np.sum(pred)"
      ],
      "execution_count": 79,
      "outputs": [
        {
          "output_type": "execute_result",
          "data": {
            "text/plain": [
              "348.78214"
            ]
          },
          "metadata": {},
          "execution_count": 79
        }
      ]
    },
    {
      "cell_type": "code",
      "metadata": {
        "colab": {
          "base_uri": "https://localhost:8080/"
        },
        "id": "_BzxHhfaNj3z",
        "outputId": "4d850f2d-a949-4b21-a8f2-3d10fc7dfa53"
      },
      "source": [
        "groundtruth"
      ],
      "execution_count": 53,
      "outputs": [
        {
          "output_type": "execute_result",
          "data": {
            "text/plain": [
              "array([[0.0000000e+00, 0.0000000e+00, 0.0000000e+00, ..., 0.0000000e+00,\n",
              "        0.0000000e+00, 0.0000000e+00],\n",
              "       [0.0000000e+00, 0.0000000e+00, 0.0000000e+00, ..., 0.0000000e+00,\n",
              "        0.0000000e+00, 0.0000000e+00],\n",
              "       [0.0000000e+00, 0.0000000e+00, 0.0000000e+00, ..., 0.0000000e+00,\n",
              "        0.0000000e+00, 0.0000000e+00],\n",
              "       ...,\n",
              "       [0.0000000e+00, 0.0000000e+00, 0.0000000e+00, ..., 5.2409831e-08,\n",
              "        5.1109467e-08, 4.9818805e-08],\n",
              "       [0.0000000e+00, 0.0000000e+00, 0.0000000e+00, ..., 4.8516796e-08,\n",
              "        4.7313019e-08, 4.6118231e-08],\n",
              "       [0.0000000e+00, 0.0000000e+00, 0.0000000e+00, ..., 4.4892605e-08,\n",
              "        4.3778751e-08, 4.2673211e-08]], dtype=float32)"
            ]
          },
          "metadata": {},
          "execution_count": 53
        }
      ]
    },
    {
      "cell_type": "code",
      "metadata": {
        "colab": {
          "base_uri": "https://localhost:8080/"
        },
        "id": "diK7xWKMNgWC",
        "outputId": "96e6fe24-cead-498c-f54f-02fd618d2a78"
      },
      "source": [
        "pred"
      ],
      "execution_count": 65,
      "outputs": [
        {
          "output_type": "execute_result",
          "data": {
            "text/plain": [
              "array([[[[-7.5627491e-04, -2.3324192e-03,  3.8283318e-04, ...,\n",
              "           6.2618032e-04,  8.2938373e-04,  1.4058910e-03],\n",
              "         [-3.3034384e-04, -3.4219660e-03, -2.0026378e-03, ...,\n",
              "           2.2112206e-04,  3.9127097e-04,  8.0212951e-04],\n",
              "         [-2.8449409e-03, -3.4141392e-03, -3.3125281e-05, ...,\n",
              "          -1.0431521e-03,  2.9683858e-04,  1.0756403e-04],\n",
              "         ...,\n",
              "         [-4.1611493e-05, -6.7243353e-04, -2.4365261e-04, ...,\n",
              "           2.1038949e-04,  7.4216351e-04,  3.9860606e-07],\n",
              "         [-8.0530718e-04, -4.6099350e-04, -1.2068003e-03, ...,\n",
              "           6.5881014e-04,  3.7694350e-04,  1.7866567e-03],\n",
              "         [-7.4456632e-04, -7.2891265e-04, -1.6644485e-03, ...,\n",
              "           4.5947731e-04,  1.2358576e-03,  1.7265044e-03]]]],\n",
              "      dtype=float32)"
            ]
          },
          "metadata": {},
          "execution_count": 65
        }
      ]
    },
    {
      "cell_type": "code",
      "metadata": {
        "colab": {
          "base_uri": "https://localhost:8080/"
        },
        "id": "lu-QHk45Msfj",
        "outputId": "dd06fd13-1541-4167-e4e2-d6e45fd1d336"
      },
      "source": [
        ""
      ],
      "execution_count": null,
      "outputs": [
        {
          "output_type": "execute_result",
          "data": {
            "text/plain": [
              "2370.8547"
            ]
          },
          "metadata": {},
          "execution_count": 71
        }
      ]
    },
    {
      "cell_type": "code",
      "metadata": {
        "colab": {
          "base_uri": "https://localhost:8080/"
        },
        "id": "uZNchUWma5Cl",
        "outputId": "8bc77c06-7a10-4401-9852-b79be5acd850"
      },
      "source": [
        "#cv2.imwrite('pred4.jpg',groundtruth)"
      ],
      "execution_count": null,
      "outputs": [
        {
          "output_type": "execute_result",
          "data": {
            "text/plain": [
              "True"
            ]
          },
          "metadata": {},
          "execution_count": 78
        }
      ]
    },
    {
      "cell_type": "code",
      "metadata": {
        "id": "VdwXCFlqPnjP"
      },
      "source": [
        "import matplotlib\n",
        "\n",
        "matplotlib.image.imsave('pred2.png', pred[0][0])"
      ],
      "execution_count": 67,
      "outputs": []
    },
    {
      "cell_type": "code",
      "metadata": {
        "colab": {
          "base_uri": "https://localhost:8080/",
          "height": 257
        },
        "id": "nO8nF1zNAfmQ",
        "outputId": "577ebff7-6ad1-4a36-ab5f-bd876acfe274"
      },
      "source": [
        "import matplotlib.pyplot as plt\n",
        "img_path = \"./pred2.png\"\n",
        "im = Image.open(img_path)\n",
        "plt.imshow(im,cmap=CM.jet)"
      ],
      "execution_count": 68,
      "outputs": [
        {
          "output_type": "execute_result",
          "data": {
            "text/plain": [
              "<matplotlib.image.AxesImage at 0x7f0c604d0850>"
            ]
          },
          "metadata": {},
          "execution_count": 68
        },
        {
          "output_type": "display_data",
          "data": {
            "image/png": "[encoded data removed]",
            "text/plain": [
              "<Figure size 432x288 with 1 Axes>"
            ]
          },
          "metadata": {
            "needs_background": "light"
          }
        }
      ]
    },
    {
      "cell_type": "code",
      "metadata": {
        "colab": {
          "base_uri": "https://localhost:8080/",
          "height": 257
        },
        "id": "OpxEHlDha-d2",
        "outputId": "202789c0-5fcf-4629-d0ac-f08793e02662"
      },
      "source": [
        " \n",
        "#im =  np.asarray(im)\n",
        "plt.imshow(pred[0][0],cmap=CM.jet)"
      ],
      "execution_count": 80,
      "outputs": [
        {
          "output_type": "execute_result",
          "data": {
            "text/plain": [
              "<matplotlib.image.AxesImage at 0x7f09b82db710>"
            ]
          },
          "metadata": {},
          "execution_count": 80
        },
        {
          "output_type": "display_data",
          "data": {
            "image/png": "[encoded data removed]",
            "text/plain": [
              "<Figure size 432x288 with 1 Axes>"
            ]
          },
          "metadata": {
            "needs_background": "light"
          }
        }
      ]
    },
    {
      "cell_type": "code",
      "metadata": {
        "colab": {
          "base_uri": "https://localhost:8080/"
        },
        "id": "-b4IFVV_FASH",
        "outputId": "a28563db-d957-4389-cedd-2dae53d28281"
      },
      "source": [
        "import psutil\n",
        "import humanize\n",
        "import os\n",
        "import GPUtil as GPU\n",
        "GPUs = GPU.getGPUs()\n",
        "# XXX: only one GPU on Colab and isn’t guaranteed\n",
        "gpu = GPUs[0]\n",
        "def printm():\n",
        " process = psutil.Process(os.getpid())\n",
        " print(\"Gen RAM Free: \" + humanize.naturalsize( psutil.virtual_memory().available ), \" | Proc size: \" + humanize.naturalsize( process.memory_info().rss))\n",
        " print(\"GPU RAM Free: {0:.0f}MB | Used: {1:.0f}MB | Util {2:3.0f}% | Total {3:.0f}MB\".format(gpu.memoryFree, gpu.memoryUsed, gpu.memoryUtil*100, gpu.memoryTotal))\n",
        "printm()\n"
      ],
      "execution_count": 81,
      "outputs": [
        {
          "output_type": "stream",
          "name": "stdout",
          "text": [
            "Gen RAM Free: 24.1 GB  | Proc size: 3.3 GB\n",
            "GPU RAM Free: 1575MB | Used: 14705MB | Util  90% | Total 16280MB\n"
          ]
        }
      ]
    },
    {
      "cell_type": "code",
      "metadata": {
        "colab": {
          "base_uri": "https://localhost:8080/",
          "height": 154
        },
        "id": "2bcGs0FwFEX5",
        "outputId": "329ca26c-fd27-4c44-932d-8c42f2be3223"
      },
      "source": [
        "import torch, gc\n",
        "#with torch.no_grad():\n",
        "gc.collect()\n",
        "torch.cuda.empty_cache()\n",
        "torch.cuda.memory_summary(device=None, abbreviated=False)"
      ],
      "execution_count": null,
      "outputs": [
        {
          "output_type": "execute_result",
          "data": {
            "application/vnd.google.colaboratory.intrinsic+json": {
              "type": "string"
            },
            "text/plain": [
              "'|===========================================================================|\\n|                  PyTorch CUDA memory summary, device ID 0                 |\\n|---------------------------------------------------------------------------|\\n|            CUDA OOMs: 1            |        cudaMalloc retries: 3         |\\n|===========================================================================|\\n|        Metric         | Cur Usage  | Peak Usage | Tot Alloc  | Tot Freed  |\\n|---------------------------------------------------------------------------|\\n| Allocated memory      |   12232 MB |   14632 MB |   19368 MB |    7136 MB |\\n|       from large pool |   12224 MB |   14624 MB |   19351 MB |    7127 MB |\\n|       from small pool |       7 MB |       8 MB |      16 MB |       8 MB |\\n|---------------------------------------------------------------------------|\\n| Active memory         |   12232 MB |   14632 MB |   19368 MB |    7136 MB |\\n|       from large pool |   12224 MB |   14624 MB |   19351 MB |    7127 MB |\\n|       from small pool |       7 MB |       8 MB |      16 MB |       8 MB |\\n|---------------------------------------------------------------------------|\\n| GPU reserved memory   |   12284 MB |   15084 MB |   18086 MB |    5802 MB |\\n|       from large pool |   12276 MB |   15076 MB |   18076 MB |    5800 MB |\\n|       from small pool |       8 MB |      10 MB |      10 MB |       2 MB |\\n|---------------------------------------------------------------------------|\\n| Non-releasable memory |   52827 KB |  347841 KB |     918 MB |     866 MB |\\n|       from large pool |   52801 KB |  346511 KB |     901 MB |     850 MB |\\n|       from small pool |      26 KB |    2041 KB |      16 MB |      16 MB |\\n|---------------------------------------------------------------------------|\\n| Allocations           |     536    |     539    |     670    |     134    |\\n|       from large pool |     147    |     153    |     199    |      52    |\\n|       from small pool |     389    |     390    |     471    |      82    |\\n|---------------------------------------------------------------------------|\\n| Active allocs         |     536    |     539    |     670    |     134    |\\n|       from large pool |     147    |     153    |     199    |      52    |\\n|       from small pool |     389    |     390    |     471    |      82    |\\n|---------------------------------------------------------------------------|\\n| GPU reserved segments |      94    |     102    |     105    |      11    |\\n|       from large pool |      90    |      97    |     100    |      10    |\\n|       from small pool |       4    |       5    |       5    |       1    |\\n|---------------------------------------------------------------------------|\\n| Non-releasable allocs |      34    |      36    |     112    |      78    |\\n|       from large pool |      33    |      34    |      64    |      31    |\\n|       from small pool |       1    |       2    |      48    |      47    |\\n|===========================================================================|\\n'"
            ]
          },
          "metadata": {},
          "execution_count": 47
        }
      ]
    },
    {
      "cell_type": "code",
      "metadata": {
        "id": "d3KROr5TJQ8h"
      },
      "source": [
        ""
      ],
      "execution_count": null,
      "outputs": []
    },
    {
      "cell_type": "code",
      "metadata": {
        "id": "RF17BnBjJN9-"
      },
      "source": [
        ""
      ],
      "execution_count": null,
      "outputs": []
    }
  ]
}