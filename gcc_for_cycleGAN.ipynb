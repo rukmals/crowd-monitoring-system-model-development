{
  "nbformat": 4,
  "nbformat_minor": 0,
  "metadata": {
    "colab": {
      "name": "gcc for cycleGAN.ipynb",
      "provenance": [],
      "collapsed_sections": [],
      "mount_file_id": "1qeN5dUDr-vFX6fh1zj1ptd6Af_EIgibd",
      "authorship_tag": "ABX9TyO22JTXQcrc4KP0pLDn/UAZ",
      "include_colab_link": true
    },
    "kernelspec": {
      "name": "python3",
      "display_name": "Python 3"
    },
    "language_info": {
      "name": "python"
    }
  },
  "cells": [
    {
      "cell_type": "markdown",
      "metadata": {
        "id": "view-in-github",
        "colab_type": "text"
      },
      "source": [
        "<a href=\"https://colab.research.google.com/github/rukmals/crowd-monitoring-system-model-development/blob/main/gcc_for_cycleGAN.ipynb\" target=\"_parent\"><img src=\"https://colab.research.google.com/assets/colab-badge.svg\" alt=\"Open In Colab\"/></a>"
      ]
    },
    {
      "cell_type": "code",
      "execution_count": 3,
      "metadata": {
        "colab": {
          "base_uri": "https://localhost:8080/",
          "height": 35
        },
        "id": "P05cnAEBrNLN",
        "outputId": "6b9b5a3f-a2db-469c-e286-87a28e93dc36"
      },
      "outputs": [
        {
          "output_type": "execute_result",
          "data": {
            "application/vnd.google.colaboratory.intrinsic+json": {
              "type": "string"
            },
            "text/plain": [
              "'/content/drive/MyDrive/GccForCycleGAN/train_mae.txt'"
            ]
          },
          "metadata": {},
          "execution_count": 3
        }
      ],
      "source": [
        "import shutil\n",
        "import os\n",
        "src= r'/content/drive/MyDrive/GCC_CSV_DataSet/train_mae.txt'\n",
        "dst = r'/content/drive/MyDrive/GccForCycleGAN/train_mae.txt'\n",
        "shutil.copyfile(src, dst)"
      ]
    },
    {
      "cell_type": "code",
      "source": [
        "def get_image_path(file_path):\n",
        "  file_path_list = file_path.split(\" \")\n",
        "  scene = file_path_list[3][4:]\n",
        "  image_number = file_path_list[4]\n",
        "  image_path = \"/content/drive/MyDrive/GCC_CSV_DataSet/\"+\"Part\"+\"_\"+scene[7]+scene+\"/\"+\"pngs_544_960/\"+image_number+\".png\"\n",
        "  return image_path\n",
        "  \n",
        "def get_image_pathlist(path_list, part):\n",
        "    image_path_list_part_ = []\n",
        "    for line_ in path_list:\n",
        "        if line_.find(part)!=-1:\n",
        "            image_path_list_part_.append(line_)\n",
        "    return image_path_list_part_\n",
        "\n",
        "def extract_image_path_list(image_file, part):\n",
        "  file_ = open(image_file, 'r')\n",
        "  file_list = file_.readlines()\n",
        "  image_path_list_train = []  \n",
        "  for line in file_list:\n",
        "      image_path_list_train.append(get_image_path(line))\n",
        "  train_list = get_image_pathlist(image_path_list_train, part)\n",
        "  print(\"data size: \",len(train_list))\n",
        "  return train_list"
      ],
      "metadata": {
        "id": "N5-CWIcwsL5u"
      },
      "execution_count": 4,
      "outputs": []
    },
    {
      "cell_type": "code",
      "source": [
        "train_list = '/content/drive/MyDrive/GCC/train_list.txt'\n",
        "part0_train_list = extract_image_path_list(train_list, \"Part_0\")\n",
        "part1_train_list = extract_image_path_list(train_list, \"Part_1\")\n",
        "part2_train_list = extract_image_path_list(train_list, \"Part_2\")\n",
        "part3_train_list = extract_image_path_list(train_list, \"Part_3\")\n",
        "part4_train_list = extract_image_path_list(train_list, \"Part_4\")\n",
        "part5_train_list = extract_image_path_list(train_list, \"Part_5\")\n",
        "part6_train_list = extract_image_path_list(train_list, \"Part_6\")\n",
        "part7_train_list = extract_image_path_list(train_list, \"Part_7\")\n",
        "part8_train_list = extract_image_path_list(train_list, \"Part_8\")\n",
        "part9_train_list = extract_image_path_list(train_list, \"Part_9\")"
      ],
      "metadata": {
        "colab": {
          "base_uri": "https://localhost:8080/"
        },
        "id": "TgE4vEXnst3n",
        "outputId": "75eaaadb-24a7-45aa-e3c2-9667fcbfc307"
      },
      "execution_count": 5,
      "outputs": [
        {
          "output_type": "stream",
          "name": "stdout",
          "text": [
            "data size:  1320\n",
            "data size:  1160\n",
            "data size:  1258\n",
            "data size:  1135\n",
            "data size:  1055\n",
            "data size:  1037\n",
            "data size:  1000\n",
            "data size:  1026\n",
            "data size:  992\n",
            "data size:  1461\n"
          ]
        }
      ]
    },
    {
      "cell_type": "code",
      "source": [
        "part0_train_list[0]"
      ],
      "metadata": {
        "colab": {
          "base_uri": "https://localhost:8080/",
          "height": 35
        },
        "id": "xw3El83Is7dL",
        "outputId": "cde668c0-8216-4c94-ffc4-617e18c23c59"
      },
      "execution_count": 6,
      "outputs": [
        {
          "output_type": "execute_result",
          "data": {
            "application/vnd.google.colaboratory.intrinsic+json": {
              "type": "string"
            },
            "text/plain": [
              "'/content/drive/MyDrive/GCC_CSV_DataSet/Part_0/scene_00_0/pngs_544_960/1536400415.png'"
            ]
          },
          "metadata": {},
          "execution_count": 6
        }
      ]
    },
    {
      "cell_type": "code",
      "source": [
        ""
      ],
      "metadata": {
        "id": "5KhCFiO_u7e5"
      },
      "execution_count": 8,
      "outputs": []
    },
    {
      "cell_type": "code",
      "source": [
        ""
      ],
      "metadata": {
        "id": "QTg6L7T3s-gg"
      },
      "execution_count": 8,
      "outputs": []
    },
    {
      "cell_type": "code",
      "source": [
        "test_list = '/content/drive/MyDrive/GCC/test_list.txt'\n",
        "part0_test_list = extract_image_path_list(test_list, \"Part_0\")\n",
        "part1_test_list = extract_image_path_list(test_list, \"Part_1\")\n",
        "part2_test_list = extract_image_path_list(test_list, \"Part_2\")\n",
        "part3_test_list = extract_image_path_list(test_list, \"Part_3\")\n",
        "part4_test_list = extract_image_path_list(test_list, \"Part_4\")\n",
        "part5_test_list = extract_image_path_list(test_list, \"Part_5\")\n",
        "part6_test_list = extract_image_path_list(test_list, \"Part_6\")\n",
        "part7_test_list = extract_image_path_list(test_list, \"Part_7\")\n",
        "part8_test_list = extract_image_path_list(test_list, \"Part_8\")\n",
        "part9_test_list = extract_image_path_list(test_list, \"Part_9\")"
      ],
      "metadata": {
        "colab": {
          "base_uri": "https://localhost:8080/"
        },
        "id": "LiA5ILM2uJQW",
        "outputId": "284b6155-e4d1-4bae-fa25-ebedb3e6708d"
      },
      "execution_count": 9,
      "outputs": [
        {
          "output_type": "stream",
          "name": "stdout",
          "text": [
            "data size:  473\n",
            "data size:  385\n",
            "data size:  415\n",
            "data size:  368\n",
            "data size:  356\n",
            "data size:  335\n",
            "data size:  341\n",
            "data size:  322\n",
            "data size:  335\n",
            "data size:  438\n"
          ]
        }
      ]
    },
    {
      "cell_type": "code",
      "source": [
        "train_data = part0_train_list + part1_train_list+part2_train_list+part3_train_list+part4_train_list+part5_train_list+part6_train_list+part7_train_list+part8_train_list+part9_train_list\n",
        "test_data = part0_test_list + part1_test_list+part2_test_list+part3_test_list+part4_test_list+part5_test_list+part6_test_list+part7_test_list+part8_test_list+part9_test_list"
      ],
      "metadata": {
        "id": "jn9LCMWhvIXX"
      },
      "execution_count": 10,
      "outputs": []
    },
    {
      "cell_type": "code",
      "source": [
        "for img in train_data:\n",
        "  source = img\n",
        "  destination = '/content/drive/MyDrive/GccForCycleGAN/trainA/'+ img[len(img)-14:]\n",
        "  shutil.copyfile(source, destination)\n",
        "#print(destination)"
      ],
      "metadata": {
        "id": "DVGtGk0bvKGs"
      },
      "execution_count": null,
      "outputs": []
    },
    {
      "cell_type": "code",
      "source": [
        "for img in test_data:\n",
        "  source = img\n",
        "  destination = '/content/drive/MyDrive/GccForCycleGAN/testA/'+ img[len(img)-14:]\n",
        "  shutil.copyfile(source, destination)"
      ],
      "metadata": {
        "id": "58mm2ooFwCzM"
      },
      "execution_count": null,
      "outputs": []
    }
  ]
}