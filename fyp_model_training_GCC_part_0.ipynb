{
  "nbformat": 4,
  "nbformat_minor": 0,
  "metadata": {
    "colab": {
      "name": "fyp_model_training GCC part_0.ipynb",
      "provenance": [],
      "collapsed_sections": [],
      "machine_shape": "hm",
      "authorship_tag": "ABX9TyNqvt8fXzQfZ7mwv8HPetvb",
      "include_colab_link": true
    },
    "kernelspec": {
      "name": "python3",
      "display_name": "Python 3"
    },
    "language_info": {
      "name": "python"
    },
    "accelerator": "GPU"
  },
  "cells": [
    {
      "cell_type": "markdown",
      "metadata": {
        "id": "view-in-github",
        "colab_type": "text"
      },
      "source": [
        "<a href=\"https://colab.research.google.com/github/rukmals/crowd-monitoring-system-model-development/blob/main/fyp_model_training_GCC_part_0.ipynb\" target=\"_parent\"><img src=\"https://colab.research.google.com/assets/colab-badge.svg\" alt=\"Open In Colab\"/></a>"
      ]
    },
    {
      "cell_type": "code",
      "metadata": {
        "colab": {
          "base_uri": "https://localhost:8080/"
        },
        "id": "WuiLGmXfDNME",
        "outputId": "e12dde7e-c5aa-42c0-c847-744703d36971"
      },
      "source": [
        "from google.colab import drive\n",
        "drive.mount('/content/drive')"
      ],
      "execution_count": 1,
      "outputs": [
        {
          "output_type": "stream",
          "name": "stdout",
          "text": [
            "Mounted at /content/drive\n"
          ]
        }
      ]
    },
    {
      "cell_type": "code",
      "metadata": {
        "colab": {
          "base_uri": "https://localhost:8080/"
        },
        "id": "QEj6Tj3WDeEj",
        "outputId": "8d762959-527e-402b-eb0d-49e695e025b8"
      },
      "source": [
        "!ln -sf /opt/bin/nvidia-smi /usr/bin/nvidia-smi\n",
        "!pip install gputil\n",
        "!pip install psutil\n",
        "!pip install humanize"
      ],
      "execution_count": 2,
      "outputs": [
        {
          "output_type": "stream",
          "name": "stdout",
          "text": [
            "Collecting gputil\n",
            "  Downloading GPUtil-1.4.0.tar.gz (5.5 kB)\n",
            "Building wheels for collected packages: gputil\n",
            "  Building wheel for gputil (setup.py) ... \u001b[?25l\u001b[?25hdone\n",
            "  Created wheel for gputil: filename=GPUtil-1.4.0-py3-none-any.whl size=7411 sha256=e8c99838295ce888ac4429edeab00a09594799f3cdf0a6bc3c11375af215f921\n",
            "  Stored in directory: /root/.cache/pip/wheels/6e/f8/83/534c52482d6da64622ddbf72cd93c35d2ef2881b78fd08ff0c\n",
            "Successfully built gputil\n",
            "Installing collected packages: gputil\n",
            "Successfully installed gputil-1.4.0\n",
            "Requirement already satisfied: psutil in /usr/local/lib/python3.7/dist-packages (5.4.8)\n",
            "Requirement already satisfied: humanize in /usr/local/lib/python3.7/dist-packages (0.5.1)\n"
          ]
        }
      ]
    },
    {
      "cell_type": "code",
      "metadata": {
        "colab": {
          "base_uri": "https://localhost:8080/"
        },
        "id": "I2emlcM4D2oq",
        "outputId": "992850df-39d0-4186-d670-19aa76843dbd"
      },
      "source": [
        "import psutil\n",
        "import humanize\n",
        "import os\n",
        "import GPUtil as GPU\n",
        "GPUs = GPU.getGPUs()\n",
        "# XXX: only one GPU on Colab and isn’t guaranteed\n",
        "gpu = GPUs[0]\n",
        "def printm():\n",
        " process = psutil.Process(os.getpid())\n",
        " print(\"Gen RAM Free: \" + humanize.naturalsize( psutil.virtual_memory().available ), \" | Proc size: \" + humanize.naturalsize( process.memory_info().rss))\n",
        " print(\"GPU RAM Free: {0:.0f}MB | Used: {1:.0f}MB | Util {2:3.0f}% | Total {3:.0f}MB\".format(gpu.memoryFree, gpu.memoryUsed, gpu.memoryUtil*100, gpu.memoryTotal))\n",
        "printm()"
      ],
      "execution_count": 1,
      "outputs": [
        {
          "output_type": "stream",
          "name": "stdout",
          "text": [
            "Gen RAM Free: 26.2 GB  | Proc size: 117.3 MB\n",
            "GPU RAM Free: 16280MB | Used: 0MB | Util   0% | Total 16280MB\n"
          ]
        }
      ]
    },
    {
      "cell_type": "code",
      "metadata": {
        "id": "E1J3L4XKEHyl"
      },
      "source": [
        "import random\n",
        "import os\n",
        "from PIL import Image,ImageFilter,ImageDraw\n",
        "import numpy as np\n",
        "import h5py\n",
        "from PIL import ImageStat\n",
        "import glob\n",
        "from sklearn.model_selection import train_test_split\n",
        "import json\n",
        "\n",
        "import sys\n",
        "import warnings\n",
        "# import from library\n",
        "import torch\n",
        "import torch.nn as nn\n",
        "from torch.autograd import Variable\n",
        "from torchvision import datasets, transforms\n",
        "import numpy as np\n",
        "import argparse\n",
        "import json\n",
        "import cv2\n",
        "import time\n",
        "from torchvision import models"
      ],
      "execution_count": 2,
      "outputs": []
    },
    {
      "cell_type": "code",
      "metadata": {
        "id": "s8P_wNShENMH"
      },
      "source": [
        "import torch\n",
        "import torch.nn as nn\n",
        "import torch.nn.functional as F\n",
        "from torchvision import models\n",
        "\n",
        "class Conv2d(nn.Module):\n",
        "    def __init__(self, in_channels, out_channels, kernel_size, \\\n",
        "                stride=1, NL='relu', same_padding=False, bn=False, dilation=1):\n",
        "        super(Conv2d, self).__init__()\n",
        "        padding = int((kernel_size - 1) // 2) if same_padding else 0\n",
        "        self.conv = []\n",
        "        if dilation==1:\n",
        "            self.conv = nn.Conv2d(in_channels, out_channels, kernel_size, stride, padding=padding, dilation=dilation)\n",
        "        else:\n",
        "            self.conv = nn.Conv2d(in_channels, out_channels, kernel_size, stride, padding=dilation, dilation=dilation)\n",
        "        self.bn = nn.BatchNorm2d(out_channels, eps=0.001, momentum=0, affine=True) if bn else nn.Identity()\n",
        "        if NL == 'relu' :\n",
        "            self.relu = nn.ReLU(inplace=True)\n",
        "        elif NL == 'prelu':\n",
        "            self.relu = nn.PReLU()\n",
        "        else:\n",
        "            self.relu = None\n",
        "\n",
        "    def forward(self, x):\n",
        "      x = self.conv(x)\n",
        "      if self.bn is not None:\n",
        "          x = self.bn(x)\n",
        "      if self.relu is not None:\n",
        "          x = self.relu(x)   \n",
        "      return x\n",
        "  \n",
        "# the module definition for the multi-branch in the density head\n",
        "class MultiBranchModule(nn.Module):\n",
        "    def __init__(self, in_channels, sync=False):\n",
        "        super(MultiBranchModule, self).__init__()\n",
        "        self.branch_column1_1 = BasicConv2d(in_channels, in_channels//2, kernel_size=1, sync=sync)\n",
        "        self.branch_column1_2 = BasicConv2d(in_channels//2, in_channels, kernel_size=1, sync=sync)\n",
        "\n",
        "        self.branch_column2_1 = BasicConv2d(in_channels, in_channels//2, kernel_size=1, sync=sync)\n",
        "        self.branch_column2_2 = BasicConv2d(in_channels // 2, in_channels, kernel_size=(3, 3), padding=(1, 1), sync=sync)\n",
        "\n",
        "        self.branch_column3_1 = BasicConv2d(in_channels, in_channels//2, kernel_size=1, sync=sync)\n",
        "        self.branch_column3_2 = BasicConv2d(in_channels // 2, in_channels, kernel_size=5, padding=2, sync=sync)\n",
        "\n",
        "    def forward(self, x):\n",
        "        branch_1 = self.branch_column1_1(x)\n",
        "        branch_1 = self.branch_column1_2(branch_1)\n",
        "\n",
        "        branch_2 = self.branch_column2_1(x)\n",
        "        branch_2 = self.branch_column2_2(branch_2)\n",
        "\n",
        "        branch_3 = self.branch_column3_1(x)\n",
        "        branch_3 = self.branch_column3_2(branch_3)\n",
        "\n",
        "        outputs = [branch_1, branch_2, branch_3, x]\n",
        "        return torch.cat(outputs, 1)\n",
        "\n",
        "# the module definition for the basic conv module\n",
        "class BasicConv2d(nn.Module):\n",
        "\n",
        "    def __init__(self, in_channels, out_channels, sync=False, **kwargs):\n",
        "        super(BasicConv2d, self).__init__()\n",
        "        self.conv = nn.Conv2d(in_channels, out_channels, bias=False, **kwargs)\n",
        "        if sync:\n",
        "            # for sync bn\n",
        "            print('use sync inception')\n",
        "            self.bn = nn.SyncBatchNorm(out_channels, eps=0.001)\n",
        "        else:\n",
        "            self.bn = nn.BatchNorm2d(out_channels, eps=0.001)\n",
        "\n",
        "    def forward(self, x):\n",
        "        x = self.conv(x)\n",
        "        x = self.bn(x)\n",
        "        return F.relu(x, inplace=True)"
      ],
      "execution_count": 3,
      "outputs": []
    },
    {
      "cell_type": "code",
      "metadata": {
        "id": "j0ZVQXJuEPY9"
      },
      "source": [
        "import os\n",
        "import random\n",
        "import torch\n",
        "import numpy as np\n",
        "from torch.utils.data import Dataset\n",
        "from PIL import Image\n",
        "\n",
        "def load_data(img_path,train = True):\n",
        "    gt_path = img_path.replace('.png','.h5').replace('pngs','GT')\n",
        "    img = Image.open(img_path).convert('RGB')\n",
        "    gt_file = h5py.File(gt_path, 'r')\n",
        "    target = np.asarray(gt_file['density'])\n",
        "    target = cv2.resize(target,(int(target.shape[1]/2.25), int(target.shape[0]/2.25)),interpolation = cv2.INTER_CUBIC)*5.06448\n",
        "    return img,target\n",
        "\"\"\"\n",
        "create a list of file (full directory)\n",
        "\"\"\"\n",
        "\n",
        "def create_training_image_list(data_path):\n",
        "    \"\"\"\n",
        "    create a list of absolutely path of jpg file\n",
        "    :param data_path: must contain subfolder \"images\" with *.png  (example ShanghaiTech/part_A/train_data/)\n",
        "    :return:\n",
        "    \"\"\"\n",
        "    DATA_PATH = data_path\n",
        "    image_path_list = glob.glob(os.path.join(DATA_PATH, \"pngs\", \"*.png\"))\n",
        "    return image_path_list\n",
        "\n",
        "\n",
        "def get_train_val_list(data_path):\n",
        "    DATA_PATH = data_path\n",
        "    scences = ['scene_00_0','scene_00_1','scene_00_2','scene_00_1','scene_01_0','scene_01_1','scene_01_2','scene_01_3',\n",
        "               'scene_02_0','scene_02_1','scene_02_2','scene_02_3','scene_03_0','scene_03_1','scene_03_2','scene_03_3',\n",
        "               'scene_04_0','scene_04_1','scene_04_2','scene_04_3','scene_05_0','scene_05_1','scene_05_2','scene_05_3',\n",
        "               'scene_06_0','scene_06_1','scene_06_2','scene_06_3','scene_07_0','scene_07_1','scene_07_2','scene_07_3',\n",
        "               'scene_08_0','scene_08_1','scene_08_2','scene_08_3','scene_09_0','scene_09_1','scene_09_2','scene_09_3']\n",
        "    image_path_list = []\n",
        "    for scene in scences:\n",
        "      image_path_list += glob.glob(os.path.join(DATA_PATH,scene, \"pngs\", \"*.png\"))\n",
        "    train, val = train_test_split(image_path_list, test_size=0.1)\n",
        "\n",
        "    print(\"train size \", len(train))\n",
        "    print(\"val size \", len(val))\n",
        "    return train, val\n",
        "\n",
        "\n",
        "\n",
        "\n",
        "class ListDataset(Dataset):\n",
        "    def __init__(self, root, shape=None, shuffle=True, transform=None,  train=False, batch_size=1, num_workers=4):\n",
        "        \"\"\"\n",
        "        if you have different image size, then batch_size must be 1\n",
        "        :param root:\n",
        "        :param shape:\n",
        "        :param shuffle:\n",
        "        :param transform:\n",
        "        :param train:\n",
        "        :param seen:\n",
        "        :param batch_size:\n",
        "        :param num_workers:\n",
        "        \"\"\"\n",
        "        #if train:\n",
        "            #root = root *4\n",
        "        if shuffle:\n",
        "            random.shuffle(root)\n",
        "        \n",
        "        self.nSamples = len(root)\n",
        "        self.lines = root\n",
        "        self.transform = transform\n",
        "        self.train = train\n",
        "        self.shape = shape\n",
        "        self.batch_size = batch_size\n",
        "        self.num_workers = num_workers\n",
        "        \n",
        "    def __len__(self):\n",
        "        return self.nSamples\n",
        "\n",
        "    def __getitem__(self, index):\n",
        "        assert index <= len(self), 'index range error' \n",
        "        \n",
        "        img_path = self.lines[index]\n",
        "        \n",
        "        img,target = load_data(img_path,self.train)\n",
        "        \n",
        "        #img = 255.0 * F.to_tensor(img)\n",
        "        \n",
        "        #img[0,:,:]=img[0,:,:]-92.8207477031\n",
        "        #img[1,:,:]=img[1,:,:]-95.2757037428\n",
        "        #img[2,:,:]=img[2,:,:]-104.877445883\n",
        "        if self.transform is not None:\n",
        "            img = self.transform(img)\n",
        "        return img,target\n",
        "  "
      ],
      "execution_count": 4,
      "outputs": []
    },
    {
      "cell_type": "code",
      "metadata": {
        "id": "DHNLkPsbLq9F"
      },
      "source": [
        ""
      ],
      "execution_count": 4,
      "outputs": []
    },
    {
      "cell_type": "code",
      "metadata": {
        "id": "JGjwrG19KP4h"
      },
      "source": [
        "class TestNet(nn.Module):\n",
        "    def __init__(self, pretrained=True):\n",
        "        super(TestNet, self).__init__()\n",
        "        \n",
        "        vgg = models.vgg16_bn(pretrained=pretrained)\n",
        "        \n",
        "        self.backend_feat  = [256,128,64]\n",
        "\n",
        "\n",
        "        # Front End Development VGG - 16 \n",
        "        features = list(vgg.features.children())\n",
        "        # get each stage of the VGG - 16\n",
        "        self.features1 = nn.Sequential(*features[0:6])\n",
        "        self.features2 = nn.Sequential(*features[6:13])\n",
        "        self.features3 = nn.Sequential(*features[13:23])\n",
        "        self.features4 = nn.Sequential(*features[23:33])\n",
        "        self.features5 = nn.Sequential(*features[33:43])\n",
        "\n",
        "        # Front End Development P1 to P5 \n",
        "        self.p5 = nn.Sequential(\n",
        "            Conv2d(512, 1024, 3, same_padding=True, NL='relu'),\n",
        "            Conv2d(1024, 512, 3, same_padding=True, NL='relu'),\n",
        "        )\n",
        "\n",
        "        self.p4 = nn.Sequential(\n",
        "            Conv2d(1024, 512, 3, same_padding=True, NL='relu'),\n",
        "            Conv2d(512, 256, 3, same_padding=True, NL='relu'),\n",
        "        )\n",
        "\n",
        "        self.p3 = nn.Sequential(\n",
        "            Conv2d(512 , 256, 3, same_padding=True, NL='relu'),\n",
        "            Conv2d(256, 128, 3, same_padding=True, NL='relu'),\n",
        "        )\n",
        "\n",
        "        self.p2 = nn.Sequential(\n",
        "            Conv2d(256, 128, 3, same_padding=True, NL='relu'),\n",
        "            Conv2d(128, 64, 3, same_padding=True, NL='relu'),\n",
        "        )\n",
        "\n",
        "        self.p1 = nn.Sequential(\n",
        "            Conv2d(128, 64, 3, same_padding=True, NL='relu'),\n",
        "            Conv2d(64, 64, 3, same_padding=True, NL='relu'),\n",
        "        ) \n",
        "\n",
        "        # Multi-Branch moules\n",
        "        self.multi_branch5 = nn.Sequential(\n",
        "            MultiBranchModule(512),\n",
        "            Conv2d(2048, 1, 1, same_padding=True)\n",
        "        )\n",
        "\n",
        "        self.multi_branch4 = nn.Sequential(\n",
        "            MultiBranchModule(256),\n",
        "            Conv2d(1024, 1, 1, same_padding=True)\n",
        "        )\n",
        "\n",
        "        self.multi_branch3 = nn.Sequential(\n",
        "            MultiBranchModule(128),\n",
        "            Conv2d(512, 1, 1, same_padding=True)\n",
        "        )\n",
        "\n",
        "        self.multi_branch2 = nn.Sequential(\n",
        "            MultiBranchModule(64),\n",
        "            Conv2d(256, 1, 1, same_padding=True)\n",
        "        )\n",
        "\n",
        "        self.multi_branch1 = nn.Sequential(\n",
        "            MultiBranchModule(64),\n",
        "            Conv2d(256, 1, 1, same_padding=True)\n",
        "        )\n",
        "\n",
        "        self.backend = make_layers(self.backend_feat,in_channels = 5,dilation = True)\n",
        "\n",
        "        self.output_layer = nn.Conv2d(64, 1, kernel_size=1)\n",
        "\n",
        "    \n",
        "    \n",
        "    def forward(self, x):\n",
        "        size = x.size()\n",
        "        x1 = self.features1(x)\n",
        "        x2 = self.features2(x1)\n",
        "        x3 = self.features3(x2)\n",
        "        x4 = self.features4(x3)\n",
        "        x5 = self.features5(x4)\n",
        "\n",
        "        # Front End Development P1 to P5 \n",
        "        x = self.p5(x5)\n",
        "        x5_out = x\n",
        "        x = F.upsample_bilinear(x, size=x4.size()[2:])\n",
        "\n",
        "        x = torch.cat([x4, x], 1)\n",
        "        x = self.p4(x)\n",
        "        x4_out = x\n",
        "        x = F.upsample_bilinear(x, size=x3.size()[2:])\n",
        "\n",
        "        x = torch.cat([x3, x], 1)\n",
        "        x = self.p3(x)\n",
        "        x3_out = x\n",
        "        x = F.upsample_bilinear(x, size=x2.size()[2:])\n",
        "\n",
        "        x = torch.cat([x2, x], 1)\n",
        "        x = self.p2(x)\n",
        "        x2_out = x\n",
        "        x = F.upsample_bilinear(x, size=x1.size()[2:])\n",
        "\n",
        "        x = torch.cat([x1, x], 1)\n",
        "        x = self.p1(x)\n",
        "        x1_out = x\n",
        "\n",
        "\n",
        "        # multi-branch predictions\n",
        "        x5_density = self.multi_branch5(x5_out)\n",
        "        x4_density = self.multi_branch4(x4_out)\n",
        "        x3_density = self.multi_branch3(x3_out)\n",
        "        x2_density = self.multi_branch2(x2_out)\n",
        "        x1_density = self.multi_branch1(x1_out)\n",
        "\n",
        "        # upsample the multi-branch predictions to be the same with the input size\n",
        "        x5_density = F.upsample_nearest(x5_density, size=x1.size()[2:])\n",
        "        x4_density = F.upsample_nearest(x4_density, size=x1.size()[2:])\n",
        "        x3_density = F.upsample_nearest(x3_density, size=x1.size()[2:])\n",
        "        x2_density = F.upsample_nearest(x2_density, size=x1.size()[2:])\n",
        "        x1_density = F.upsample_nearest(x1_density, size=x1.size()[2:])\n",
        "\n",
        "\n",
        "        density_map = torch.cat([x5_density, x4_density, x3_density, x2_density, x1_density], 1)\n",
        "\n",
        "\n",
        "        x_out = self.backend(density_map)\n",
        "        density_map_out = self.output_layer(x_out)\n",
        "        return density_map_out\n",
        "        #return density_map\n",
        "                \n",
        "                \n",
        "def make_layers(cfg, in_channels = 3,batch_norm=False,dilation = False):\n",
        "    layers = []\n",
        "    dilation_rates = [2,3,5]\n",
        "    #for v in cfg:\n",
        "    for v in range(len(cfg)):\n",
        "        if cfg[v] == 'M':\n",
        "            layers += [nn.MaxPool2d(kernel_size=2, stride=2)]\n",
        "        else:\n",
        "            conv2d = nn.Conv2d(in_channels, cfg[v], kernel_size=3, padding=dilation_rates[v],dilation = dilation_rates[v])\n",
        "            if batch_norm:\n",
        "                layers += [conv2d, nn.BatchNorm2d(cfg[v]), nn.ReLU(inplace=True)]\n",
        "            else:\n",
        "                layers += [conv2d, nn.ReLU(inplace=True)]\n",
        "            in_channels = cfg[v]\n",
        "    return nn.Sequential(*layers)"
      ],
      "execution_count": 5,
      "outputs": []
    },
    {
      "cell_type": "code",
      "metadata": {
        "id": "pKBnfgoLESL7"
      },
      "source": [
        "model = TestNet()\n",
        "model = model.cuda()"
      ],
      "execution_count": 6,
      "outputs": []
    },
    {
      "cell_type": "code",
      "metadata": {
        "id": "nNRrcqC0M-4V"
      },
      "source": [
        "def get_image_path(file_path):\n",
        "  file_path_list = file_path.split(\" \")\n",
        "  scene = file_path_list[3][4:]\n",
        "  image_number = file_path_list[4]\n",
        "  image_path = \"/content/drive/MyDrive/GCC/\"+\"Part\"+\" \"+scene[7]+scene+\"/\"+\"pngs/\"+image_number+\".png\"\n",
        "  return image_path\n",
        "  \n",
        "def get_image_pathlist(path_list, part):\n",
        "    image_path_list_part_ = []\n",
        "    for line_ in path_list:\n",
        "        if line_.find(part)!=-1:\n",
        "            image_path_list_part_.append(line_)\n",
        "    return image_path_list_part_\n",
        "\n",
        "def extract_image_path_list(image_file):\n",
        "  file_ = open(image_file, 'r')\n",
        "  file_list = file_.readlines()\n",
        "  image_path_list_train = []  \n",
        "  for line in train_file_list:\n",
        "      image_path_list_train.append(get_image_path(line))\n",
        "  train_list = get_image_pathlist(image_path_list_train, \"Part 0\")\n",
        "  print(\"train size: \",len(train_list))\n",
        "  return train_list\n",
        "\n"
      ],
      "execution_count": null,
      "outputs": []
    },
    {
      "cell_type": "code",
      "metadata": {
        "colab": {
          "base_uri": "https://localhost:8080/"
        },
        "id": "Misi33Cez9lI",
        "outputId": "66bd92d7-146b-46f0-85a9-ed911bcf84aa"
      },
      "source": [
        "train_list = '/content/drive/MyDrive/GCC/train_list.txt'\n",
        "train_file = open(train_list, 'r')\n",
        "\n",
        "train_file_list = train_file.readlines()\n",
        "print(train_file_list[0])\n",
        "def get_image_path(file_path):\n",
        "    file_path_list = file_path.split(\" \")\n",
        "    scene = file_path_list[3][4:]\n",
        "    image_number = file_path_list[4]\n",
        "    image_path = \"/content/drive/MyDrive/GCC/\"+\"Part\"+\" \"+scene[7]+scene+\"/\"+\"pngs/\"+image_number+\".png\"\n",
        "    return image_path\n",
        "image_path_list_train = []  \n",
        "for line in train_file_list:\n",
        "    image_path_list_train.append(get_image_path(line))\n",
        "def get_image_pathlist(path_list, part):\n",
        "    image_path_list_part_ = []\n",
        "    for line_ in path_list:\n",
        "        if line_.find(part)!=-1:\n",
        "            image_path_list_part_.append(line_)\n",
        "    return image_path_list_part_\n",
        "part0_train_list = get_image_pathlist(image_path_list_train, \"Part 0\")\n",
        "print(len(part0_train_list))\n",
        "print(part0_train_list[0:2])\n"
      ],
      "execution_count": 7,
      "outputs": [
        {
          "output_type": "stream",
          "name": "stdout",
          "text": [
            "8 13 0 /GCC/scene_00_0 1536400415 1198\n",
            "\n",
            "1320\n",
            "['/content/drive/MyDrive/GCC/Part 0/scene_00_0/pngs/1536400415.png', '/content/drive/MyDrive/GCC/Part 0/scene_00_0/pngs/1536401589.png']\n"
          ]
        }
      ]
    },
    {
      "cell_type": "code",
      "metadata": {
        "colab": {
          "base_uri": "https://localhost:8080/"
        },
        "id": "9uP3DDdH1KxR",
        "outputId": "6e6109d2-e6e6-481f-c429-41fe9c5bd89a"
      },
      "source": [
        "test_list = '/content/drive/MyDrive/GCC/test_list.txt'\n",
        "test_file = open(test_list, 'r')\n",
        "\n",
        "test_file_list = test_file.readlines()\n",
        "print(test_file_list[0])\n",
        "def get_image_path(file_path):\n",
        "    file_path_list = file_path.split(\" \")\n",
        "    scene = file_path_list[3][4:]\n",
        "    image_number = file_path_list[4]\n",
        "    image_path = \"/content/drive/MyDrive/GCC/\"+\"Part\"+\" \"+scene[7]+scene+\"/\"+\"pngs/\"+image_number+\".png\"\n",
        "    return image_path\n",
        "image_path_list_test = []  \n",
        "for line_test in test_file_list:\n",
        "    image_path_list_test.append(get_image_path(line_test))\n",
        "def get_image_pathlist(path_list, part):\n",
        "    image_path_list_part_ = []\n",
        "    for line_ in path_list:\n",
        "        if line_.find(part)!=-1:\n",
        "            image_path_list_part_.append(line_)\n",
        "    return image_path_list_part_\n",
        "part0_test_list = get_image_pathlist(image_path_list_test, \"Part 0\")\n",
        "print(len(part0_test_list))\n",
        "print(part0_test_list[0:2])\n"
      ],
      "execution_count": 8,
      "outputs": [
        {
          "output_type": "stream",
          "name": "stdout",
          "text": [
            "8 14 2 /GCC/scene_00_0 1536387597 2722\n",
            "\n",
            "473\n",
            "['/content/drive/MyDrive/GCC/Part 0/scene_00_0/pngs/1536387597.png', '/content/drive/MyDrive/GCC/Part 0/scene_00_0/pngs/1536376505.png']\n"
          ]
        }
      ]
    },
    {
      "cell_type": "code",
      "metadata": {
        "id": "uHAhMTZv1U4L"
      },
      "source": [
        ""
      ],
      "execution_count": 8,
      "outputs": []
    },
    {
      "cell_type": "code",
      "metadata": {
        "colab": {
          "base_uri": "https://localhost:8080/"
        },
        "id": "jzI8wuVaEUat",
        "outputId": "507036f5-6897-48e8-aa13-659fa63f1576"
      },
      "source": [
        "path_list_file = \"/content/drive/MyDrive/GCC/all_list.txt\"\n",
        "def get_image_path(file_path):\n",
        "    file_path_list = file_path.split(\" \")\n",
        "    scene = file_path_list[3][4:]\n",
        "    image_number = file_path_list[4]\n",
        "    image_path = \"/content/drive/MyDrive/GCC/\"+\"Part\"+\" \"+scene[7]+scene\n",
        "    return image_path\n",
        "\n",
        "file = open(path_list_file, 'r')\n",
        "\n",
        "file_list = file.readlines()\n",
        "\n",
        "image_path_list = []\n",
        "\n",
        "for line in file_list:\n",
        "    image_path_list.append(get_image_path(line))\n",
        "\n",
        "print(len(image_path_list))\n",
        "\n",
        "\n",
        "def get_image_pathlist(path_list, part):\n",
        "    image_path_list_part_ = []\n",
        "    for line_ in path_list:\n",
        "        if line_.find(part)!=-1:\n",
        "            image_path_list_part_.append(line_)\n",
        "    return image_path_list_part_\n",
        "part_0_list = get_image_pathlist(image_path_list, \"Part 0\")\n",
        "print(len(part_0_list))"
      ],
      "execution_count": 11,
      "outputs": [
        {
          "output_type": "stream",
          "name": "stdout",
          "text": [
            "15212\n",
            "1793\n"
          ]
        }
      ]
    },
    {
      "cell_type": "code",
      "metadata": {
        "id": "ehdefK9bEY8K"
      },
      "source": [
        "train_loader = torch.utils.data.DataLoader(ListDataset(part0_train_list,\n",
        "                                                                shuffle=True,\n",
        "                                                                transform=transforms.Compose([\n",
        "                                                                    transforms.ToTensor(), transforms.Resize(480),transforms.Normalize(mean=[0.302234709263, 0.291243076324, 0.269087553024],\n",
        "                                                                                                                std=[0.227743327618, 0.211051672697, 0.184846073389]),\n",
        "                                                                ]),\n",
        "                                                                train=True,\n",
        "                                                                batch_size=2,\n",
        "                                                                num_workers=2),batch_size=2)"
      ],
      "execution_count": 9,
      "outputs": []
    },
    {
      "cell_type": "code",
      "metadata": {
        "id": "PxXK_cbXEZzI"
      },
      "source": [
        "test_loader = torch.utils.data.DataLoader(ListDataset(part0_test_list,\n",
        "                                  shuffle=False,\n",
        "                                  transform=transforms.Compose([transforms.ToTensor(), transforms.Resize(480),transforms.Normalize(mean=[0.302234709263, 0.291243076324, 0.269087553024],\n",
        "                                                                                                                  std=[0.227743327618, 0.211051672697, 0.184846073389]),\n",
        "                                                                  ]), train=False,batch_size=2,num_workers=2),\n",
        "              batch_size=2)"
      ],
      "execution_count": 10,
      "outputs": []
    },
    {
      "cell_type": "code",
      "metadata": {
        "colab": {
          "base_uri": "https://localhost:8080/"
        },
        "id": "jR0N2HCOEe9D",
        "outputId": "3c15abd0-dd10-4100-b97f-9441c22695ed"
      },
      "source": [
        "lr = 1e-5\n",
        "criterion = nn.MSELoss(size_average=False).cuda()\n",
        "\n",
        "#optimizer = torch.optim.SGD(model.parameters(), lr,momentum=0.95,weight_decay=5 * 1e-4)\n",
        "\n",
        "optimizer = torch.optim.Adam(model.parameters(), lr=lr, weight_decay=1e-4)\n",
        "\n",
        "scheduler = torch.optim.lr_scheduler.StepLR(optimizer, step_size=2, gamma=0.98)"
      ],
      "execution_count": 11,
      "outputs": [
        {
          "output_type": "stream",
          "name": "stderr",
          "text": [
            "/usr/local/lib/python3.7/dist-packages/torch/nn/_reduction.py:42: UserWarning: size_average and reduce args will be deprecated, please use reduction='sum' instead.\n",
            "  warnings.warn(warning.format(ret))\n"
          ]
        }
      ]
    },
    {
      "cell_type": "code",
      "metadata": {
        "id": "3onfTCslEfyF"
      },
      "source": [
        "class AverageMeter(object):\n",
        "    \"\"\"Computes and stores the average and current value\"\"\"\n",
        "\n",
        "    def __init__(self):\n",
        "        self.reset()\n",
        "\n",
        "    def reset(self):\n",
        "        self.val = 0\n",
        "        self.avg = 0\n",
        "        self.sum = 0\n",
        "        self.count = 0\n",
        "\n",
        "    def update(self, val, n=1):\n",
        "        self.val = val\n",
        "        self.sum += val * n\n",
        "        self.count += n\n",
        "        self.avg = self.sum / self.count"
      ],
      "execution_count": 12,
      "outputs": []
    },
    {
      "cell_type": "code",
      "metadata": {
        "colab": {
          "base_uri": "https://localhost:8080/"
        },
        "id": "i3ig2hAc5Gd7",
        "outputId": "3de03701-199c-4258-de5c-ec5295014909"
      },
      "source": [
        "PATH = '/content/drive/MyDrive/GCC/TestNet_checkpoint_Part0_1.pth'\n",
        "epoch = 14\n",
        "start_epoch = 0\n",
        "if (os.path.isfile(PATH))==True:\n",
        "  checkpoint = torch.load(PATH)\n",
        "  model.load_state_dict(checkpoint['model_state_dict'])\n",
        "  optimizer.load_state_dict(checkpoint['optimizer_state_dict'])\n",
        "  start_epoch = checkpoint['epoch']\n",
        "  loss = checkpoint['loss']\n",
        "  print(\"Successfully load the check point\")\n",
        "else:\n",
        "  print(\"No check point Available!!!\")"
      ],
      "execution_count": 28,
      "outputs": [
        {
          "output_type": "stream",
          "name": "stdout",
          "text": [
            "Successfully load the check point\n"
          ]
        }
      ]
    },
    {
      "cell_type": "code",
      "metadata": {
        "colab": {
          "base_uri": "https://localhost:8080/"
        },
        "id": "etr4AidsEiWX",
        "outputId": "2753aba5-1f5f-4304-cf36-e90ad8fedcae"
      },
      "source": [
        "for epoch in range(start_epoch,epoch):\n",
        "    mae_train = 0\n",
        "    losses = AverageMeter()\n",
        "    batch_time = AverageMeter()\n",
        "    data_time = AverageMeter()\n",
        "    model.train()\n",
        "    end = time.time()\n",
        "    loss_list = []\n",
        "    mae_list =[]\n",
        "    best_predict_mae = 2000\n",
        "    for i, (img, target) in enumerate(train_loader):\n",
        "\n",
        "        img = img.cuda()\n",
        "        img = Variable(img)\n",
        "\n",
        "        output = model(img)\n",
        "        target = target.type(torch.FloatTensor).unsqueeze(1).cuda()\n",
        "        target = Variable(target)\n",
        "\n",
        "\n",
        "        #backword\n",
        "        loss = criterion(output, target)\n",
        "        losses.update(loss.item(), img.size(0))\n",
        "        optimizer.zero_grad()\n",
        "        loss.backward()\n",
        "        optimizer.step()\n",
        "\n",
        "        batch_time.update(time.time() - end)\n",
        "        end = time.time()\n",
        "\n",
        "\n",
        "        #calculate the MAE values\n",
        "        pred_map = output.data.cpu().numpy()\n",
        "        gt_map = target.data.cpu().numpy()\n",
        "        mae_train += abs(np.sum(pred_map) -np.sum(gt_map))\n",
        "\n",
        "        if i % 50 == 0:\n",
        "            print('Epoch : {}, train MAE : {}'.format(epoch, mae_train/len(train_loader)))\n",
        "            print('Epoch: [{0}][{1}/{2}]\\t'\n",
        "                  'Time {batch_time.val:.3f} ({batch_time.avg:.3f})\\t'\n",
        "                  'Data {data_time.val:.3f} ({data_time.avg:.3f})\\t'\n",
        "                  'Loss {loss.val:.4f} ({loss.avg:.4f})\\t'\n",
        "                .format(\n",
        "                epoch, i, len(train_loader), batch_time=batch_time,\n",
        "                data_time=data_time, loss=losses))\n",
        "    \n",
        "    scheduler.step()  \n",
        "    mae_list.append(mae_train / len(train_loader))\n",
        "    loss_list.append(loss)\n",
        "    mae_train = mae_train / len(train_loader)\n",
        "    print(' * TRAINING MAE {mae:.3f} '.format(mae=mae_train)) \n",
        "    torch.save({\n",
        "            'epoch': epoch+1,\n",
        "            'model_state_dict': model.state_dict(),\n",
        "            'optimizer_state_dict': optimizer.state_dict(),\n",
        "            'loss': loss,\n",
        "            }, PATH)       \n",
        "MODEL_SAVE_PATH = '/content/drive/MyDrive/GCC/GCC_part0.pth'\n",
        "torch.save(model.state_dict(), MODEL_SAVE_PATH)"
      ],
      "execution_count": 29,
      "outputs": [
        {
          "output_type": "stream",
          "name": "stderr",
          "text": [
            "/usr/local/lib/python3.7/dist-packages/torch/nn/functional.py:3825: UserWarning: nn.functional.upsample_bilinear is deprecated. Use nn.functional.interpolate instead.\n",
            "  warnings.warn(\"nn.functional.upsample_bilinear is deprecated. Use nn.functional.interpolate instead.\")\n",
            "/usr/local/lib/python3.7/dist-packages/torch/nn/functional.py:3770: UserWarning: nn.functional.upsample_nearest is deprecated. Use nn.functional.interpolate instead.\n",
            "  warnings.warn(\"nn.functional.upsample_nearest is deprecated. Use nn.functional.interpolate instead.\")\n"
          ]
        },
        {
          "output_type": "stream",
          "name": "stdout",
          "text": [
            "Epoch : 12, train MAE : 0.29978656190814396\n",
            "Epoch: [12][0/660]\tTime 3.630 (3.630)\tData 0.000 (0.000)\tLoss 71.6490 (71.6490)\t\n",
            "Epoch : 12, train MAE : 17.675760627515388\n",
            "Epoch: [12][50/660]\tTime 3.657 (3.599)\tData 0.000 (0.000)\tLoss 37.9406 (211.2567)\t\n",
            "Epoch : 12, train MAE : 48.85117326216264\n",
            "Epoch: [12][100/660]\tTime 3.657 (3.603)\tData 0.000 (0.000)\tLoss 16.5312 (288.9400)\t\n",
            "Epoch : 12, train MAE : 68.12279457323478\n",
            "Epoch: [12][150/660]\tTime 3.664 (3.606)\tData 0.000 (0.000)\tLoss 2084.1296 (265.1325)\t\n",
            "Epoch : 12, train MAE : 87.20697823726769\n",
            "Epoch: [12][200/660]\tTime 3.564 (3.607)\tData 0.000 (0.000)\tLoss 69.3509 (229.1727)\t\n",
            "Epoch : 12, train MAE : 103.41410599910851\n",
            "Epoch: [12][250/660]\tTime 3.560 (3.606)\tData 0.000 (0.000)\tLoss 15.1952 (229.6830)\t\n",
            "Epoch : 12, train MAE : 122.52206667119806\n",
            "Epoch: [12][300/660]\tTime 3.659 (3.608)\tData 0.000 (0.000)\tLoss 2789.0842 (252.6770)\t\n",
            "Epoch : 12, train MAE : 139.32677152229078\n",
            "Epoch: [12][350/660]\tTime 3.655 (3.609)\tData 0.000 (0.000)\tLoss 8.6251 (255.2471)\t\n",
            "Epoch : 12, train MAE : 153.96422768795128\n",
            "Epoch: [12][400/660]\tTime 3.559 (3.610)\tData 0.000 (0.000)\tLoss 1.0555 (268.8237)\t\n",
            "Epoch : 12, train MAE : 179.2103117278128\n",
            "Epoch: [12][450/660]\tTime 3.561 (3.609)\tData 0.000 (0.000)\tLoss 1.6506 (265.8603)\t\n",
            "Epoch : 12, train MAE : 203.44704100868918\n",
            "Epoch: [12][500/660]\tTime 3.657 (3.609)\tData 0.000 (0.000)\tLoss 3.4683 (274.7926)\t\n",
            "Epoch : 12, train MAE : 222.37299292593292\n",
            "Epoch: [12][550/660]\tTime 3.655 (3.609)\tData 0.000 (0.000)\tLoss 2374.0496 (275.9297)\t\n",
            "Epoch : 12, train MAE : 247.3159879395456\n",
            "Epoch: [12][600/660]\tTime 3.669 (3.610)\tData 0.000 (0.000)\tLoss 2.0223 (281.3407)\t\n",
            "Epoch : 12, train MAE : 270.44644979997116\n",
            "Epoch: [12][650/660]\tTime 3.559 (3.610)\tData 0.000 (0.000)\tLoss 309.5940 (283.8183)\t\n",
            " * TRAINING MAE 275.835 \n",
            "Epoch : 13, train MAE : 0.8598660555752841\n",
            "Epoch: [13][0/660]\tTime 3.668 (3.668)\tData 0.000 (0.000)\tLoss 71.3424 (71.3424)\t\n",
            "Epoch : 13, train MAE : 17.48780656294389\n",
            "Epoch: [13][50/660]\tTime 3.663 (3.616)\tData 0.000 (0.000)\tLoss 36.7442 (207.1207)\t\n",
            "Epoch : 13, train MAE : 43.42888676036488\n",
            "Epoch: [13][100/660]\tTime 3.660 (3.614)\tData 0.000 (0.000)\tLoss 14.7522 (283.8850)\t\n",
            "Epoch : 13, train MAE : 63.25800834424568\n",
            "Epoch: [13][150/660]\tTime 3.658 (3.614)\tData 0.000 (0.000)\tLoss 2050.8938 (260.1028)\t\n",
            "Epoch : 13, train MAE : 81.62862402020079\n",
            "Epoch: [13][200/660]\tTime 3.556 (3.614)\tData 0.000 (0.000)\tLoss 68.5086 (225.3133)\t\n",
            "Epoch : 13, train MAE : 96.22474454243978\n",
            "Epoch: [13][250/660]\tTime 3.557 (3.614)\tData 0.000 (0.000)\tLoss 14.9231 (226.2540)\t\n",
            "Epoch : 13, train MAE : 109.17730334888805\n",
            "Epoch: [13][300/660]\tTime 3.658 (3.615)\tData 0.000 (0.000)\tLoss 2707.1235 (248.9747)\t\n",
            "Epoch : 13, train MAE : 128.06413346492883\n",
            "Epoch: [13][350/660]\tTime 3.665 (3.616)\tData 0.000 (0.000)\tLoss 9.6425 (252.3711)\t\n",
            "Epoch : 13, train MAE : 152.06013332713735\n",
            "Epoch: [13][400/660]\tTime 3.558 (3.616)\tData 0.000 (0.000)\tLoss 1.0469 (266.2722)\t\n",
            "Epoch : 13, train MAE : 165.5650410970052\n",
            "Epoch: [13][450/660]\tTime 3.659 (3.615)\tData 0.000 (0.000)\tLoss 1.4555 (263.3774)\t\n",
            "Epoch : 13, train MAE : 179.26377810853901\n",
            "Epoch: [13][500/660]\tTime 3.657 (3.615)\tData 0.000 (0.000)\tLoss 3.3053 (271.8709)\t\n",
            "Epoch : 13, train MAE : 199.36515574599758\n",
            "Epoch: [13][550/660]\tTime 3.655 (3.615)\tData 0.000 (0.000)\tLoss 2363.1514 (272.9409)\t\n",
            "Epoch : 13, train MAE : 216.81750996907553\n",
            "Epoch: [13][600/660]\tTime 3.659 (3.616)\tData 0.000 (0.000)\tLoss 1.9781 (278.2219)\t\n",
            "Epoch : 13, train MAE : 235.0745653557055\n",
            "Epoch: [13][650/660]\tTime 3.559 (3.615)\tData 0.000 (0.000)\tLoss 305.4471 (280.5473)\t\n",
            " * TRAINING MAE 238.394 \n"
          ]
        }
      ]
    },
    {
      "cell_type": "code",
      "metadata": {
        "colab": {
          "base_uri": "https://localhost:8080/",
          "height": 281
        },
        "id": "X2eEI8JcxR52",
        "outputId": "c7c2baf1-0e3b-4a04-fc94-752d27c7303e"
      },
      "source": [
        "import matplotlib.pyplot as plt\n",
        "import numpy as np\n",
        "def plot(xpoints,ypoints,title):\n",
        "  plt.plot(xpoints, ypoints)\n",
        "  plt.title(title)\n",
        "  plt.show()\n",
        "\n",
        "xpoints = [*range(0, epoch, 1)]\n",
        "ypoints = [1941,476,392,343,323,361,328,292,279,288,268,275,238]\n",
        "plot(xpoints, ypoints, \"TRAINING MAE\")"
      ],
      "execution_count": 30,
      "outputs": [
        {
          "output_type": "display_data",
          "data": {
            "image/png": "[encoded data removed]",
            "text/plain": [
              "<Figure size 432x288 with 1 Axes>"
            ]
          },
          "metadata": {
            "needs_background": "light"
          }
        }
      ]
    },
    {
      "cell_type": "code",
      "metadata": {
        "id": "mVA9skdOR1Ej"
      },
      "source": [
        ""
      ],
      "execution_count": null,
      "outputs": []
    },
    {
      "cell_type": "code",
      "metadata": {
        "colab": {
          "base_uri": "https://localhost:8080/"
        },
        "id": "eomthkNoElj6",
        "outputId": "5c487b1e-44f5-4da7-f539-5666a84e6a37"
      },
      "source": [
        "model_path = '/content/drive/MyDrive/GCC/GCC_part0.pth'\n",
        "\n",
        "model = TestNet().cuda()\n",
        "# load the trained model\n",
        "model.load_state_dict(torch.load(model_path))\n",
        "print('successfully load model from', model_path)\n",
        "\n",
        "\n",
        "with torch.no_grad():\n",
        "  model.eval()\n",
        "  mae = 0\n",
        "\n",
        "  for i, (img, target) in enumerate(test_loader):\n",
        "      img = img.cuda()\n",
        "      img = Variable(img)   \n",
        "      output = model(img)\n",
        "\n",
        "\n",
        "      pred_map = output.data.cpu().numpy()\n",
        "      gt_map = target.data.cpu().numpy()\n",
        "      print(\"Model Predicted Count\", np.sum(pred_map))\n",
        "      print(\"Ground Trueth Count\", np.sum(gt_map))\n",
        "\n",
        "      mae += abs(np.sum(pred_map) -np.sum(gt_map))\n",
        "\n",
        "  mae = mae / len(test_loader)\n",
        "  print(' * TESTING MAE {mae:.3f} '.format(mae=mae))"
      ],
      "execution_count": 32,
      "outputs": [
        {
          "output_type": "stream",
          "name": "stdout",
          "text": [
            "successfully load model from /content/drive/MyDrive/GCC/GCC_part0.pth\n"
          ]
        },
        {
          "output_type": "stream",
          "name": "stderr",
          "text": [
            "/usr/local/lib/python3.7/dist-packages/torch/nn/functional.py:3825: UserWarning: nn.functional.upsample_bilinear is deprecated. Use nn.functional.interpolate instead.\n",
            "  warnings.warn(\"nn.functional.upsample_bilinear is deprecated. Use nn.functional.interpolate instead.\")\n",
            "/usr/local/lib/python3.7/dist-packages/torch/nn/functional.py:3770: UserWarning: nn.functional.upsample_nearest is deprecated. Use nn.functional.interpolate instead.\n",
            "  warnings.warn(\"nn.functional.upsample_nearest is deprecated. Use nn.functional.interpolate instead.\")\n"
          ]
        },
        {
          "output_type": "stream",
          "name": "stdout",
          "text": [
            "Model Predicted Count 4664.6343\n",
            "Ground Trueth Count 4609.734\n",
            "Model Predicted Count 2073.7485\n",
            "Ground Trueth Count 2203.21\n",
            "Model Predicted Count 3731.1458\n",
            "Ground Trueth Count 4400.9756\n",
            "Model Predicted Count 4291.769\n",
            "Ground Trueth Count 4464.7285\n",
            "Model Predicted Count 3557.2512\n",
            "Ground Trueth Count 4365.2036\n",
            "Model Predicted Count 2895.5417\n",
            "Ground Trueth Count 2832.3223\n",
            "Model Predicted Count 4627.8545\n",
            "Ground Trueth Count 5337.3486\n",
            "Model Predicted Count 4165.691\n",
            "Ground Trueth Count 4476.606\n",
            "Model Predicted Count 2904.5034\n",
            "Ground Trueth Count 3336.348\n",
            "Model Predicted Count 5100.5054\n",
            "Ground Trueth Count 4926.468\n",
            "Model Predicted Count 4507.6504\n",
            "Ground Trueth Count 4553.079\n",
            "Model Predicted Count 2360.9587\n",
            "Ground Trueth Count 3400.669\n",
            "Model Predicted Count 3449.0234\n",
            "Ground Trueth Count 3696.3713\n",
            "Model Predicted Count 5482.528\n",
            "Ground Trueth Count 5095.345\n",
            "Model Predicted Count 5827.785\n",
            "Ground Trueth Count 6091.57\n",
            "Model Predicted Count 5026.3203\n",
            "Ground Trueth Count 5574.9126\n",
            "Model Predicted Count 4849.0693\n",
            "Ground Trueth Count 4493.107\n",
            "Model Predicted Count 4718.9624\n",
            "Ground Trueth Count 5339.3853\n",
            "Model Predicted Count 4434.9326\n",
            "Ground Trueth Count 5073.6694\n",
            "Model Predicted Count 3586.9583\n",
            "Ground Trueth Count 3432.1558\n",
            "Model Predicted Count 1521.2883\n",
            "Ground Trueth Count 1824.5857\n",
            "Model Predicted Count 2460.4993\n",
            "Ground Trueth Count 2854.4978\n",
            "Model Predicted Count 3686.9614\n",
            "Ground Trueth Count 3757.4636\n",
            "Model Predicted Count 1815.7883\n",
            "Ground Trueth Count 2296.51\n",
            "Model Predicted Count 1274.6111\n",
            "Ground Trueth Count 1825.1807\n",
            "Model Predicted Count 3171.3293\n",
            "Ground Trueth Count 3072.5315\n",
            "Model Predicted Count 842.30536\n",
            "Ground Trueth Count 764.87665\n",
            "Model Predicted Count 899.8632\n",
            "Ground Trueth Count 803.0693\n",
            "Model Predicted Count 765.45905\n",
            "Ground Trueth Count 746.05054\n",
            "Model Predicted Count 905.0211\n",
            "Ground Trueth Count 904.2827\n",
            "Model Predicted Count 715.57306\n",
            "Ground Trueth Count 703.1974\n",
            "Model Predicted Count 557.71497\n",
            "Ground Trueth Count 524.6243\n",
            "Model Predicted Count 554.59534\n",
            "Ground Trueth Count 349.46677\n",
            "Model Predicted Count 705.46075\n",
            "Ground Trueth Count 692.51587\n",
            "Model Predicted Count 572.21436\n",
            "Ground Trueth Count 425.72418\n",
            "Model Predicted Count 658.1702\n",
            "Ground Trueth Count 660.05054\n",
            "Model Predicted Count 699.53906\n",
            "Ground Trueth Count 620.57556\n",
            "Model Predicted Count 687.07117\n",
            "Ground Trueth Count 672.738\n",
            "Model Predicted Count 634.2543\n",
            "Ground Trueth Count 408.4422\n",
            "Model Predicted Count 761.23755\n",
            "Ground Trueth Count 618.9411\n",
            "Model Predicted Count 659.7632\n",
            "Ground Trueth Count 598.8256\n",
            "Model Predicted Count 702.1539\n",
            "Ground Trueth Count 605.3837\n",
            "Model Predicted Count 635.0066\n",
            "Ground Trueth Count 653.37463\n",
            "Model Predicted Count 687.5698\n",
            "Ground Trueth Count 729.6713\n",
            "Model Predicted Count 719.12225\n",
            "Ground Trueth Count 835.3077\n",
            "Model Predicted Count 600.0876\n",
            "Ground Trueth Count 497.9467\n",
            "Model Predicted Count 680.1791\n",
            "Ground Trueth Count 674.50055\n",
            "Model Predicted Count 482.37402\n",
            "Ground Trueth Count 205.02745\n",
            "Model Predicted Count 1072.6257\n",
            "Ground Trueth Count 1142.3341\n",
            "Model Predicted Count 933.379\n",
            "Ground Trueth Count 945.08826\n",
            "Model Predicted Count 2187.063\n",
            "Ground Trueth Count 2252.3792\n",
            "Model Predicted Count 2087.4177\n",
            "Ground Trueth Count 2453.625\n",
            "Model Predicted Count 2292.7441\n",
            "Ground Trueth Count 2778.0771\n",
            "Model Predicted Count 1150.0344\n",
            "Ground Trueth Count 1154.7441\n",
            "Model Predicted Count 607.26\n",
            "Ground Trueth Count 354.90176\n",
            "Model Predicted Count 519.0397\n",
            "Ground Trueth Count 222.32785\n",
            "Model Predicted Count 589.1053\n",
            "Ground Trueth Count 260.83398\n",
            "Model Predicted Count 678.7367\n",
            "Ground Trueth Count 504.3412\n",
            "Model Predicted Count 760.9905\n",
            "Ground Trueth Count 459.34433\n",
            "Model Predicted Count 711.4528\n",
            "Ground Trueth Count 306.17972\n",
            "Model Predicted Count 1195.5516\n",
            "Ground Trueth Count 1007.6423\n",
            "Model Predicted Count 1004.451\n",
            "Ground Trueth Count 652.27014\n",
            "Model Predicted Count 1122.716\n",
            "Ground Trueth Count 905.00244\n",
            "Model Predicted Count 895.3398\n",
            "Ground Trueth Count 599.4363\n",
            "Model Predicted Count 1799.8685\n",
            "Ground Trueth Count 1863.8247\n",
            "Model Predicted Count 1733.5487\n",
            "Ground Trueth Count 1610.3447\n",
            "Model Predicted Count 682.7991\n",
            "Ground Trueth Count 483.32385\n",
            "Model Predicted Count 719.56024\n",
            "Ground Trueth Count 467.72778\n",
            "Model Predicted Count 793.0201\n",
            "Ground Trueth Count 673.8233\n",
            "Model Predicted Count 731.20703\n",
            "Ground Trueth Count 555.69006\n",
            "Model Predicted Count 850.3945\n",
            "Ground Trueth Count 631.0741\n",
            "Model Predicted Count 1471.044\n",
            "Ground Trueth Count 1450.7761\n",
            "Model Predicted Count 723.73895\n",
            "Ground Trueth Count 357.48413\n",
            "Model Predicted Count 1037.9023\n",
            "Ground Trueth Count 880.92316\n",
            "Model Predicted Count 852.55884\n",
            "Ground Trueth Count 629.7447\n",
            "Model Predicted Count 1035.1127\n",
            "Ground Trueth Count 806.02686\n",
            "Model Predicted Count 1081.5383\n",
            "Ground Trueth Count 855.4061\n",
            "Model Predicted Count 1439.869\n",
            "Ground Trueth Count 1338.308\n",
            "Model Predicted Count 659.5152\n",
            "Ground Trueth Count 339.0511\n",
            "Model Predicted Count 603.22217\n",
            "Ground Trueth Count 259.59552\n",
            "Model Predicted Count 645.637\n",
            "Ground Trueth Count 297.62714\n",
            "Model Predicted Count 674.75946\n",
            "Ground Trueth Count 406.5088\n",
            "Model Predicted Count 684.7332\n",
            "Ground Trueth Count 444.72223\n",
            "Model Predicted Count 611.8219\n",
            "Ground Trueth Count 254.95927\n",
            "Model Predicted Count 1032.27\n",
            "Ground Trueth Count 1133.6658\n",
            "Model Predicted Count 1291.0876\n",
            "Ground Trueth Count 1107.6754\n",
            "Model Predicted Count 875.4932\n",
            "Ground Trueth Count 663.99384\n",
            "Model Predicted Count 646.7243\n",
            "Ground Trueth Count 497.22888\n",
            "Model Predicted Count 672.5797\n",
            "Ground Trueth Count 437.24805\n",
            "Model Predicted Count 558.15015\n",
            "Ground Trueth Count 291.30475\n",
            "Model Predicted Count 656.65186\n",
            "Ground Trueth Count 463.35635\n",
            "Model Predicted Count 1168.2034\n",
            "Ground Trueth Count 930.5446\n",
            "Model Predicted Count 1183.5785\n",
            "Ground Trueth Count 1085.3915\n",
            "Model Predicted Count 1213.8451\n",
            "Ground Trueth Count 1103.8607\n",
            "Model Predicted Count 806.03\n",
            "Ground Trueth Count 666.33673\n",
            "Model Predicted Count 2613.8157\n",
            "Ground Trueth Count 3281.7595\n",
            "Model Predicted Count 2904.1663\n",
            "Ground Trueth Count 3279.6777\n",
            "Model Predicted Count 1550.8944\n",
            "Ground Trueth Count 1705.2451\n",
            "Model Predicted Count 1379.9764\n",
            "Ground Trueth Count 1643.1344\n",
            "Model Predicted Count 1726.0338\n",
            "Ground Trueth Count 2084.2886\n",
            "Model Predicted Count 2598.3374\n",
            "Ground Trueth Count 3590.907\n",
            "Model Predicted Count 3045.7083\n",
            "Ground Trueth Count 3311.2644\n",
            "Model Predicted Count 3968.977\n",
            "Ground Trueth Count 3950.4917\n",
            "Model Predicted Count 5383.926\n",
            "Ground Trueth Count 5732.6216\n",
            "Model Predicted Count 2411.565\n",
            "Ground Trueth Count 2766.7764\n",
            "Model Predicted Count 1212.4587\n",
            "Ground Trueth Count 1505.0612\n",
            "Model Predicted Count 2641.821\n",
            "Ground Trueth Count 3043.101\n",
            "Model Predicted Count 5384.241\n",
            "Ground Trueth Count 5821.2573\n",
            "Model Predicted Count 1409.8082\n",
            "Ground Trueth Count 1739.196\n",
            "Model Predicted Count 786.76056\n",
            "Ground Trueth Count 835.1745\n",
            "Model Predicted Count 2359.7727\n",
            "Ground Trueth Count 2986.2278\n",
            "Model Predicted Count 2622.1423\n",
            "Ground Trueth Count 3284.3162\n",
            "Model Predicted Count 2500.5781\n",
            "Ground Trueth Count 3145.0598\n",
            "Model Predicted Count 2958.1714\n",
            "Ground Trueth Count 3555.023\n",
            "Model Predicted Count 632.29083\n",
            "Ground Trueth Count 539.28046\n",
            "Model Predicted Count 1327.9454\n",
            "Ground Trueth Count 1405.764\n",
            "Model Predicted Count 2449.6628\n",
            "Ground Trueth Count 2871.5923\n",
            "Model Predicted Count 1823.0677\n",
            "Ground Trueth Count 2536.841\n",
            "Model Predicted Count 4995.435\n",
            "Ground Trueth Count 5903.9893\n",
            "Model Predicted Count 3185.548\n",
            "Ground Trueth Count 4264.425\n",
            "Model Predicted Count 1625.9481\n",
            "Ground Trueth Count 1965.0267\n",
            "Model Predicted Count 3196.454\n",
            "Ground Trueth Count 3743.3828\n",
            "Model Predicted Count 3529.084\n",
            "Ground Trueth Count 4126.2266\n",
            "Model Predicted Count 2089.9355\n",
            "Ground Trueth Count 1875.9934\n",
            "Model Predicted Count 2960.256\n",
            "Ground Trueth Count 2999.1694\n",
            "Model Predicted Count 1721.09\n",
            "Ground Trueth Count 1561.9215\n",
            "Model Predicted Count 1502.7297\n",
            "Ground Trueth Count 1396.6439\n",
            "Model Predicted Count 2714.1619\n",
            "Ground Trueth Count 2724.3157\n",
            "Model Predicted Count 2608.7341\n",
            "Ground Trueth Count 2819.1572\n",
            "Model Predicted Count 1126.5553\n",
            "Ground Trueth Count 1058.1196\n",
            "Model Predicted Count 1123.7577\n",
            "Ground Trueth Count 1009.7615\n",
            "Model Predicted Count 1042.9796\n",
            "Ground Trueth Count 958.7958\n",
            "Model Predicted Count 1150.165\n",
            "Ground Trueth Count 1000.3949\n",
            "Model Predicted Count 721.311\n",
            "Ground Trueth Count 414.84476\n",
            "Model Predicted Count 919.9553\n",
            "Ground Trueth Count 790.01447\n",
            "Model Predicted Count 1212.3077\n",
            "Ground Trueth Count 1068.5227\n",
            "Model Predicted Count 1171.0201\n",
            "Ground Trueth Count 1079.7817\n",
            "Model Predicted Count 1558.621\n",
            "Ground Trueth Count 1537.2369\n",
            "Model Predicted Count 2715.103\n",
            "Ground Trueth Count 2524.6165\n",
            "Model Predicted Count 2925.3655\n",
            "Ground Trueth Count 2909.7217\n",
            "Model Predicted Count 2195.0247\n",
            "Ground Trueth Count 2365.9424\n",
            "Model Predicted Count 893.4512\n",
            "Ground Trueth Count 587.64716\n",
            "Model Predicted Count 1552.1589\n",
            "Ground Trueth Count 1276.0631\n",
            "Model Predicted Count 895.95636\n",
            "Ground Trueth Count 706.2216\n",
            "Model Predicted Count 1211.7704\n",
            "Ground Trueth Count 1247.2628\n",
            "Model Predicted Count 873.6066\n",
            "Ground Trueth Count 761.71436\n",
            "Model Predicted Count 730.1379\n",
            "Ground Trueth Count 453.30823\n",
            "Model Predicted Count 642.89575\n",
            "Ground Trueth Count 382.06006\n",
            "Model Predicted Count 748.6453\n",
            "Ground Trueth Count 496.79614\n",
            "Model Predicted Count 1111.2855\n",
            "Ground Trueth Count 1167.0538\n",
            "Model Predicted Count 2690.7668\n",
            "Ground Trueth Count 3013.1812\n",
            "Model Predicted Count 3526.459\n",
            "Ground Trueth Count 4669.471\n",
            "Model Predicted Count 5029.7744\n",
            "Ground Trueth Count 5793.0137\n",
            "Model Predicted Count 4774.3926\n",
            "Ground Trueth Count 6025.252\n",
            "Model Predicted Count 1582.4576\n",
            "Ground Trueth Count 1562.6089\n",
            "Model Predicted Count 1490.3225\n",
            "Ground Trueth Count 1408.3663\n",
            "Model Predicted Count 686.8807\n",
            "Ground Trueth Count 597.33905\n",
            "Model Predicted Count 1142.9204\n",
            "Ground Trueth Count 1133.7756\n",
            "Model Predicted Count 1208.8817\n",
            "Ground Trueth Count 1188.7446\n",
            "Model Predicted Count 1253.6145\n",
            "Ground Trueth Count 1201.5465\n",
            "Model Predicted Count 979.62524\n",
            "Ground Trueth Count 880.08875\n",
            "Model Predicted Count 670.6822\n",
            "Ground Trueth Count 571.77386\n",
            "Model Predicted Count 3373.5864\n",
            "Ground Trueth Count 2842.8416\n",
            "Model Predicted Count 3455.4543\n",
            "Ground Trueth Count 2882.1155\n",
            "Model Predicted Count 3373.7842\n",
            "Ground Trueth Count 2904.2827\n",
            "Model Predicted Count 2690.3738\n",
            "Ground Trueth Count 2953.203\n",
            "Model Predicted Count 4445.457\n",
            "Ground Trueth Count 4331.898\n",
            "Model Predicted Count 3297.9282\n",
            "Ground Trueth Count 2846.3628\n",
            "Model Predicted Count 2647.6248\n",
            "Ground Trueth Count 2504.3315\n",
            "Model Predicted Count 1686.8695\n",
            "Ground Trueth Count 1718.2161\n",
            "Model Predicted Count 1352.6882\n",
            "Ground Trueth Count 1199.0364\n",
            "Model Predicted Count 1136.3737\n",
            "Ground Trueth Count 823.93353\n",
            "Model Predicted Count 1125.3297\n",
            "Ground Trueth Count 915.45447\n",
            "Model Predicted Count 971.8509\n",
            "Ground Trueth Count 844.69934\n",
            "Model Predicted Count 834.0236\n",
            "Ground Trueth Count 527.1394\n",
            "Model Predicted Count 548.0709\n",
            "Ground Trueth Count 62.08433\n",
            "Model Predicted Count 599.54016\n",
            "Ground Trueth Count 237.33841\n",
            "Model Predicted Count 600.7278\n",
            "Ground Trueth Count 226.80936\n",
            "Model Predicted Count 706.3934\n",
            "Ground Trueth Count 334.98734\n",
            "Model Predicted Count 515.0198\n",
            "Ground Trueth Count 202.74634\n",
            "Model Predicted Count 515.39954\n",
            "Ground Trueth Count 170.57356\n",
            "Model Predicted Count 489.06088\n",
            "Ground Trueth Count 72.589806\n",
            "Model Predicted Count 500.5115\n",
            "Ground Trueth Count 176.54277\n",
            "Model Predicted Count 505.9061\n",
            "Ground Trueth Count 100.105194\n",
            "Model Predicted Count 509.24564\n",
            "Ground Trueth Count 62.53969\n",
            "Model Predicted Count 546.82983\n",
            "Ground Trueth Count 211.48557\n",
            "Model Predicted Count 523.3115\n",
            "Ground Trueth Count 18.568829\n",
            "Model Predicted Count 604.4648\n",
            "Ground Trueth Count 137.94234\n",
            "Model Predicted Count 603.5592\n",
            "Ground Trueth Count 165.3712\n",
            "Model Predicted Count 521.22284\n",
            "Ground Trueth Count 86.341064\n",
            "Model Predicted Count 589.66406\n",
            "Ground Trueth Count 232.15819\n",
            "Model Predicted Count 557.08014\n",
            "Ground Trueth Count 239.71304\n",
            "Model Predicted Count 630.02905\n",
            "Ground Trueth Count 157.57823\n",
            "Model Predicted Count 677.41425\n",
            "Ground Trueth Count 284.3531\n",
            "Model Predicted Count 582.3101\n",
            "Ground Trueth Count 182.98338\n",
            "Model Predicted Count 604.5386\n",
            "Ground Trueth Count 182.08336\n",
            "Model Predicted Count 618.3155\n",
            "Ground Trueth Count 258.70258\n",
            "Model Predicted Count 592.26984\n",
            "Ground Trueth Count 189.58684\n",
            "Model Predicted Count 504.12955\n",
            "Ground Trueth Count 133.36247\n",
            "Model Predicted Count 502.99048\n",
            "Ground Trueth Count 191.44797\n",
            "Model Predicted Count 531.2131\n",
            "Ground Trueth Count 110.32487\n",
            "Model Predicted Count 571.9055\n",
            "Ground Trueth Count 149.52774\n",
            "Model Predicted Count 582.84924\n",
            "Ground Trueth Count 151.33234\n",
            "Model Predicted Count 590.22\n",
            "Ground Trueth Count 142.94751\n",
            "Model Predicted Count 585.2488\n",
            "Ground Trueth Count 69.96554\n",
            "Model Predicted Count 563.80194\n",
            "Ground Trueth Count 133.06767\n",
            "Model Predicted Count 448.8867\n",
            "Ground Trueth Count 114.637344\n",
            "Model Predicted Count 535.0467\n",
            "Ground Trueth Count 120.010994\n",
            "Model Predicted Count 556.81494\n",
            "Ground Trueth Count 138.61894\n",
            "Model Predicted Count 765.34906\n",
            "Ground Trueth Count 401.7522\n",
            "Model Predicted Count 561.84595\n",
            "Ground Trueth Count 121.34546\n",
            "Model Predicted Count 550.95795\n",
            "Ground Trueth Count 105.28012\n",
            "Model Predicted Count 504.2798\n",
            "Ground Trueth Count 50.33027\n",
            "Model Predicted Count 541.92816\n",
            "Ground Trueth Count 122.99397\n",
            "Model Predicted Count 566.596\n",
            "Ground Trueth Count 269.39206\n",
            "Model Predicted Count 666.8932\n",
            "Ground Trueth Count 357.0176\n",
            "Model Predicted Count 665.2384\n",
            "Ground Trueth Count 336.49673\n",
            "Model Predicted Count 736.473\n",
            "Ground Trueth Count 321.28842\n",
            "Model Predicted Count 642.09064\n",
            "Ground Trueth Count 303.2349\n",
            "Model Predicted Count 692.28186\n",
            "Ground Trueth Count 311.4887\n",
            "Model Predicted Count 568.9518\n",
            "Ground Trueth Count 154.55745\n",
            "Model Predicted Count 539.35065\n",
            "Ground Trueth Count 55.60104\n",
            "Model Predicted Count 498.40134\n",
            "Ground Trueth Count 201.03336\n",
            "Model Predicted Count 520.57324\n",
            "Ground Trueth Count 127.44438\n",
            "Model Predicted Count 522.12885\n",
            "Ground Trueth Count 124.0474\n",
            "Model Predicted Count 514.2214\n",
            "Ground Trueth Count 118.438866\n",
            "Model Predicted Count 560.1528\n",
            "Ground Trueth Count 306.4015\n",
            "Model Predicted Count 531.6921\n",
            "Ground Trueth Count 62.05634\n",
            "Model Predicted Count 541.49097\n",
            "Ground Trueth Count 125.92257\n",
            "Model Predicted Count 531.02625\n",
            "Ground Trueth Count 121.75545\n",
            "Model Predicted Count 522.2073\n",
            "Ground Trueth Count 81.6242\n",
            "Model Predicted Count 470.37384\n",
            "Ground Trueth Count 16.41682\n",
            "Model Predicted Count 490.85593\n",
            "Ground Trueth Count 59.8843\n",
            "Model Predicted Count 531.1625\n",
            "Ground Trueth Count 167.68596\n",
            "Model Predicted Count 504.01703\n",
            "Ground Trueth Count 111.826096\n",
            "Model Predicted Count 554.7934\n",
            "Ground Trueth Count 166.7647\n",
            "Model Predicted Count 258.9249\n",
            "Ground Trueth Count 55.57468\n",
            " * TESTING MAE 296.668 \n"
          ]
        }
      ]
    },
    {
      "cell_type": "code",
      "metadata": {
        "id": "WAvYX-bKAeKq"
      },
      "source": [
        ""
      ],
      "execution_count": null,
      "outputs": []
    },
    {
      "cell_type": "code",
      "metadata": {
        "colab": {
          "base_uri": "https://localhost:8080/",
          "height": 257
        },
        "id": "-zR6NaD3ZPlN",
        "outputId": "5664ffce-54f4-49e1-b135-fc55ab961a89"
      },
      "source": [
        "img_path = \"/content/drive/MyDrive/GCC/Part 0/scene_00_2/pngs/1536454705.png\"\n",
        "from matplotlib import pyplot as plt\n",
        "from matplotlib import cm as CM\n",
        "import PIL.Image as Image\n",
        "#now see a sample from ShanghaiA\n",
        "plt.imshow(Image.open(img_path))"
      ],
      "execution_count": 44,
      "outputs": [
        {
          "output_type": "execute_result",
          "data": {
            "text/plain": [
              "<matplotlib.image.AxesImage at 0x7f311254d3d0>"
            ]
          },
          "metadata": {},
          "execution_count": 44
        },
        {
          "output_type": "display_data",
          "data": {
            "image/png": "[encoded data removed]",
            "text/plain": [
              "<Figure size 432x288 with 1 Axes>"
            ]
          },
          "metadata": {
            "needs_background": "light"
          }
        }
      ]
    },
    {
      "cell_type": "code",
      "metadata": {
        "colab": {
          "base_uri": "https://localhost:8080/",
          "height": 257
        },
        "id": "3IMGbv3tZgqr",
        "outputId": "ab05bd56-9f48-4998-f3ed-6d8014bfe861"
      },
      "source": [
        "density_map_path = \"/content/drive/MyDrive/GCC/Part 0/scene_00_2/GT/1536454705.h5\"\n",
        "import h5py\n",
        "gt_file = h5py.File(density_map_path,'r')\n",
        "groundtruth = np.asarray(gt_file['density'])\n",
        "\n",
        "plt.imshow(groundtruth,cmap=CM.jet)"
      ],
      "execution_count": 45,
      "outputs": [
        {
          "output_type": "execute_result",
          "data": {
            "text/plain": [
              "<matplotlib.image.AxesImage at 0x7f311253bc90>"
            ]
          },
          "metadata": {},
          "execution_count": 45
        },
        {
          "output_type": "display_data",
          "data": {
            "image/png": "[encoded data removed]",
            "text/plain": [
              "<Figure size 432x288 with 1 Axes>"
            ]
          },
          "metadata": {
            "needs_background": "light"
          }
        }
      ]
    },
    {
      "cell_type": "code",
      "metadata": {
        "colab": {
          "base_uri": "https://localhost:8080/"
        },
        "id": "IqqM4P9kaXFW",
        "outputId": "e4c6853d-51aa-41bf-eca6-03bb3376b64d"
      },
      "source": [
        "np.sum(groundtruth)"
      ],
      "execution_count": 46,
      "outputs": [
        {
          "output_type": "execute_result",
          "data": {
            "text/plain": [
              "3184.4624"
            ]
          },
          "metadata": {},
          "execution_count": 46
        }
      ]
    },
    {
      "cell_type": "code",
      "metadata": {
        "colab": {
          "base_uri": "https://localhost:8080/"
        },
        "id": "a22mYhKCgknv",
        "outputId": "6116384f-6e79-4805-db35-08c5ee49fbc5"
      },
      "source": [
        "img , target = load_data(img_path)\n",
        "print(target.shape)"
      ],
      "execution_count": 54,
      "outputs": [
        {
          "output_type": "stream",
          "name": "stdout",
          "text": [
            "(60, 106)\n"
          ]
        }
      ]
    },
    {
      "cell_type": "code",
      "metadata": {
        "id": "unpj21tkadId"
      },
      "source": [
        "im = Image.open(img_path)"
      ],
      "execution_count": 47,
      "outputs": []
    },
    {
      "cell_type": "code",
      "metadata": {
        "id": "94401toHaCRb"
      },
      "source": [
        "pred_transform=transforms.Compose([transforms.ToTensor(), transforms.Resize(480), transforms.Normalize(mean=[0.302234709263, 0.291243076324, 0.269087553024],\n",
        "                                                                                                                std=[0.227743327618, 0.211051672697, 0.184846073389]),])\n",
        "\n"
      ],
      "execution_count": 48,
      "outputs": []
    },
    {
      "cell_type": "code",
      "metadata": {
        "colab": {
          "base_uri": "https://localhost:8080/"
        },
        "id": "YUFMmPGbaoor",
        "outputId": "b5a28521-9abb-4493-8ea5-1e5be0998d99"
      },
      "source": [
        "pred = model(pred_transform(im)[None].cuda())"
      ],
      "execution_count": 49,
      "outputs": [
        {
          "output_type": "stream",
          "name": "stderr",
          "text": [
            "/usr/local/lib/python3.7/dist-packages/torch/nn/functional.py:3825: UserWarning: nn.functional.upsample_bilinear is deprecated. Use nn.functional.interpolate instead.\n",
            "  warnings.warn(\"nn.functional.upsample_bilinear is deprecated. Use nn.functional.interpolate instead.\")\n",
            "/usr/local/lib/python3.7/dist-packages/torch/nn/functional.py:3770: UserWarning: nn.functional.upsample_nearest is deprecated. Use nn.functional.interpolate instead.\n",
            "  warnings.warn(\"nn.functional.upsample_nearest is deprecated. Use nn.functional.interpolate instead.\")\n"
          ]
        }
      ]
    },
    {
      "cell_type": "code",
      "metadata": {
        "colab": {
          "base_uri": "https://localhost:8080/"
        },
        "id": "ciGCxB1Waue8",
        "outputId": "e21ffab3-8c0b-4b27-93a6-176e30b2c3ec"
      },
      "source": [
        "pred = pred.cpu()\n",
        "pred = pred.detach().numpy()\n",
        "np.sum(pred)"
      ],
      "execution_count": 50,
      "outputs": [
        {
          "output_type": "execute_result",
          "data": {
            "text/plain": [
              "3009.0217"
            ]
          },
          "metadata": {},
          "execution_count": 50
        }
      ]
    },
    {
      "cell_type": "code",
      "metadata": {
        "colab": {
          "base_uri": "https://localhost:8080/"
        },
        "id": "_BzxHhfaNj3z",
        "outputId": "15994b40-4a77-44f4-812a-5f550835703a"
      },
      "source": [
        "groundtruth"
      ],
      "execution_count": 51,
      "outputs": [
        {
          "output_type": "execute_result",
          "data": {
            "text/plain": [
              "array([[0.0000000e+00, 0.0000000e+00, 0.0000000e+00, ..., 0.0000000e+00,\n",
              "        0.0000000e+00, 0.0000000e+00],\n",
              "       [0.0000000e+00, 0.0000000e+00, 0.0000000e+00, ..., 0.0000000e+00,\n",
              "        0.0000000e+00, 0.0000000e+00],\n",
              "       [0.0000000e+00, 0.0000000e+00, 0.0000000e+00, ..., 0.0000000e+00,\n",
              "        0.0000000e+00, 0.0000000e+00],\n",
              "       ...,\n",
              "       [0.0000000e+00, 0.0000000e+00, 0.0000000e+00, ..., 5.2409831e-08,\n",
              "        5.1109467e-08, 4.9818805e-08],\n",
              "       [0.0000000e+00, 0.0000000e+00, 0.0000000e+00, ..., 4.8516796e-08,\n",
              "        4.7313019e-08, 4.6118231e-08],\n",
              "       [0.0000000e+00, 0.0000000e+00, 0.0000000e+00, ..., 4.4892605e-08,\n",
              "        4.3778751e-08, 4.2673211e-08]], dtype=float32)"
            ]
          },
          "metadata": {},
          "execution_count": 51
        }
      ]
    },
    {
      "cell_type": "code",
      "metadata": {
        "colab": {
          "base_uri": "https://localhost:8080/"
        },
        "id": "diK7xWKMNgWC",
        "outputId": "0dcad947-8f58-4a99-9a54-856c2bf9747e"
      },
      "source": [
        "pred"
      ],
      "execution_count": 52,
      "outputs": [
        {
          "output_type": "execute_result",
          "data": {
            "text/plain": [
              "array([[[[ 3.81453335e-03,  5.11147827e-03,  6.52057678e-03, ...,\n",
              "           1.07878335e-02,  8.05202127e-03,  4.75881249e-03],\n",
              "         [-4.69990075e-04,  5.23500144e-04,  1.91953406e-03, ...,\n",
              "           4.96625528e-03,  4.72262129e-03,  3.10812145e-03],\n",
              "         [-1.13850459e-03,  2.13613734e-03,  4.02751192e-03, ...,\n",
              "          -1.20736286e-03, -2.18690559e-03, -2.38532946e-03],\n",
              "         ...,\n",
              "         [ 3.08582559e-03,  4.23628092e-03,  1.77929550e-03, ...,\n",
              "          -4.97523695e-04, -8.69650394e-04, -3.59461084e-03],\n",
              "         [ 3.75371054e-03,  4.76416573e-03,  1.13580003e-03, ...,\n",
              "          -3.37172300e-04, -2.49825045e-03, -1.29161403e-03],\n",
              "         [ 2.24416703e-03,  3.80702317e-03,  4.78319824e-04, ...,\n",
              "          -3.99377197e-04, -2.20127404e-05, -2.05792487e-04]]]],\n",
              "      dtype=float32)"
            ]
          },
          "metadata": {},
          "execution_count": 52
        }
      ]
    },
    {
      "cell_type": "code",
      "metadata": {
        "colab": {
          "base_uri": "https://localhost:8080/"
        },
        "id": "lu-QHk45Msfj",
        "outputId": "dd06fd13-1541-4167-e4e2-d6e45fd1d336"
      },
      "source": [
        "np.sum(groundtruth)"
      ],
      "execution_count": 71,
      "outputs": [
        {
          "output_type": "execute_result",
          "data": {
            "text/plain": [
              "2370.8547"
            ]
          },
          "metadata": {},
          "execution_count": 71
        }
      ]
    },
    {
      "cell_type": "code",
      "metadata": {
        "colab": {
          "base_uri": "https://localhost:8080/"
        },
        "id": "uZNchUWma5Cl",
        "outputId": "8bc77c06-7a10-4401-9852-b79be5acd850"
      },
      "source": [
        "#cv2.imwrite('pred4.jpg',groundtruth)"
      ],
      "execution_count": 78,
      "outputs": [
        {
          "output_type": "execute_result",
          "data": {
            "text/plain": [
              "True"
            ]
          },
          "metadata": {},
          "execution_count": 78
        }
      ]
    },
    {
      "cell_type": "code",
      "metadata": {
        "id": "VdwXCFlqPnjP"
      },
      "source": [
        "import matplotlib\n",
        "\n",
        "matplotlib.image.imsave('pred1.png', pred[0][0])"
      ],
      "execution_count": 53,
      "outputs": []
    },
    {
      "cell_type": "code",
      "metadata": {
        "colab": {
          "base_uri": "https://localhost:8080/",
          "height": 257
        },
        "id": "nO8nF1zNAfmQ",
        "outputId": "00e35c17-ebcd-46fc-a600-57fb94386435"
      },
      "source": [
        "import matplotlib.pyplot as plt\n",
        "img_path = \"./pred1.png\"\n",
        "im = Image.open(img_path)\n",
        "plt.imshow(im,cmap=CM.jet)"
      ],
      "execution_count": 59,
      "outputs": [
        {
          "output_type": "execute_result",
          "data": {
            "text/plain": [
              "<matplotlib.image.AxesImage at 0x7f311221dc90>"
            ]
          },
          "metadata": {},
          "execution_count": 59
        },
        {
          "output_type": "display_data",
          "data": {
            "image/png": "[encoded data removed]",
            "text/plain": [
              "<Figure size 432x288 with 1 Axes>"
            ]
          },
          "metadata": {
            "needs_background": "light"
          }
        }
      ]
    },
    {
      "cell_type": "code",
      "metadata": {
        "colab": {
          "base_uri": "https://localhost:8080/",
          "height": 257
        },
        "id": "OpxEHlDha-d2",
        "outputId": "a974cecc-8edc-46d9-8ea8-368f47b39d9f"
      },
      "source": [
        " \n",
        "#im =  np.asarray(im)\n",
        "plt.imshow(pred[0][0],cmap=CM.jet)"
      ],
      "execution_count": 58,
      "outputs": [
        {
          "output_type": "execute_result",
          "data": {
            "text/plain": [
              "<matplotlib.image.AxesImage at 0x7f31122b0890>"
            ]
          },
          "metadata": {},
          "execution_count": 58
        },
        {
          "output_type": "display_data",
          "data": {
            "image/png": "[encoded data removed]",
            "text/plain": [
              "<Figure size 432x288 with 1 Axes>"
            ]
          },
          "metadata": {
            "needs_background": "light"
          }
        }
      ]
    },
    {
      "cell_type": "code",
      "metadata": {
        "colab": {
          "base_uri": "https://localhost:8080/"
        },
        "id": "-b4IFVV_FASH",
        "outputId": "216899ee-be92-4e98-bc43-66e5867de829"
      },
      "source": [
        "import psutil\n",
        "import humanize\n",
        "import os\n",
        "import GPUtil as GPU\n",
        "GPUs = GPU.getGPUs()\n",
        "# XXX: only one GPU on Colab and isn’t guaranteed\n",
        "gpu = GPUs[0]\n",
        "def printm():\n",
        " process = psutil.Process(os.getpid())\n",
        " print(\"Gen RAM Free: \" + humanize.naturalsize( psutil.virtual_memory().available ), \" | Proc size: \" + humanize.naturalsize( process.memory_info().rss))\n",
        " print(\"GPU RAM Free: {0:.0f}MB | Used: {1:.0f}MB | Util {2:3.0f}% | Total {3:.0f}MB\".format(gpu.memoryFree, gpu.memoryUsed, gpu.memoryUtil*100, gpu.memoryTotal))\n",
        "printm()\n"
      ],
      "execution_count": 55,
      "outputs": [
        {
          "output_type": "stream",
          "name": "stdout",
          "text": [
            "Gen RAM Free: 24.1 GB  | Proc size: 3.7 GB\n",
            "GPU RAM Free: 2343MB | Used: 13937MB | Util  86% | Total 16280MB\n"
          ]
        }
      ]
    },
    {
      "cell_type": "code",
      "metadata": {
        "colab": {
          "base_uri": "https://localhost:8080/",
          "height": 154
        },
        "id": "2bcGs0FwFEX5",
        "outputId": "329ca26c-fd27-4c44-932d-8c42f2be3223"
      },
      "source": [
        "import torch, gc\n",
        "#with torch.no_grad():\n",
        "gc.collect()\n",
        "torch.cuda.empty_cache()\n",
        "torch.cuda.memory_summary(device=None, abbreviated=False)"
      ],
      "execution_count": 47,
      "outputs": [
        {
          "output_type": "execute_result",
          "data": {
            "application/vnd.google.colaboratory.intrinsic+json": {
              "type": "string"
            },
            "text/plain": [
              "'|===========================================================================|\\n|                  PyTorch CUDA memory summary, device ID 0                 |\\n|---------------------------------------------------------------------------|\\n|            CUDA OOMs: 1            |        cudaMalloc retries: 3         |\\n|===========================================================================|\\n|        Metric         | Cur Usage  | Peak Usage | Tot Alloc  | Tot Freed  |\\n|---------------------------------------------------------------------------|\\n| Allocated memory      |   12232 MB |   14632 MB |   19368 MB |    7136 MB |\\n|       from large pool |   12224 MB |   14624 MB |   19351 MB |    7127 MB |\\n|       from small pool |       7 MB |       8 MB |      16 MB |       8 MB |\\n|---------------------------------------------------------------------------|\\n| Active memory         |   12232 MB |   14632 MB |   19368 MB |    7136 MB |\\n|       from large pool |   12224 MB |   14624 MB |   19351 MB |    7127 MB |\\n|       from small pool |       7 MB |       8 MB |      16 MB |       8 MB |\\n|---------------------------------------------------------------------------|\\n| GPU reserved memory   |   12284 MB |   15084 MB |   18086 MB |    5802 MB |\\n|       from large pool |   12276 MB |   15076 MB |   18076 MB |    5800 MB |\\n|       from small pool |       8 MB |      10 MB |      10 MB |       2 MB |\\n|---------------------------------------------------------------------------|\\n| Non-releasable memory |   52827 KB |  347841 KB |     918 MB |     866 MB |\\n|       from large pool |   52801 KB |  346511 KB |     901 MB |     850 MB |\\n|       from small pool |      26 KB |    2041 KB |      16 MB |      16 MB |\\n|---------------------------------------------------------------------------|\\n| Allocations           |     536    |     539    |     670    |     134    |\\n|       from large pool |     147    |     153    |     199    |      52    |\\n|       from small pool |     389    |     390    |     471    |      82    |\\n|---------------------------------------------------------------------------|\\n| Active allocs         |     536    |     539    |     670    |     134    |\\n|       from large pool |     147    |     153    |     199    |      52    |\\n|       from small pool |     389    |     390    |     471    |      82    |\\n|---------------------------------------------------------------------------|\\n| GPU reserved segments |      94    |     102    |     105    |      11    |\\n|       from large pool |      90    |      97    |     100    |      10    |\\n|       from small pool |       4    |       5    |       5    |       1    |\\n|---------------------------------------------------------------------------|\\n| Non-releasable allocs |      34    |      36    |     112    |      78    |\\n|       from large pool |      33    |      34    |      64    |      31    |\\n|       from small pool |       1    |       2    |      48    |      47    |\\n|===========================================================================|\\n'"
            ]
          },
          "metadata": {},
          "execution_count": 47
        }
      ]
    },
    {
      "cell_type": "code",
      "metadata": {
        "id": "d3KROr5TJQ8h"
      },
      "source": [
        ""
      ],
      "execution_count": 57,
      "outputs": []
    },
    {
      "cell_type": "code",
      "metadata": {
        "id": "RF17BnBjJN9-"
      },
      "source": [
        ""
      ],
      "execution_count": null,
      "outputs": []
    }
  ]
}