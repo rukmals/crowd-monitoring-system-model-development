{
  "nbformat": 4,
  "nbformat_minor": 0,
  "metadata": {
    "colab": {
      "name": "GT_Generation SH_A and test  SH_A.ipynb",
      "provenance": [],
      "include_colab_link": true
    },
    "kernelspec": {
      "name": "python3",
      "display_name": "Python 3"
    },
    "language_info": {
      "name": "python"
    },
    "accelerator": "GPU"
  },
  "cells": [
    {
      "cell_type": "markdown",
      "metadata": {
        "id": "view-in-github",
        "colab_type": "text"
      },
      "source": [
        "<a href=\"https://colab.research.google.com/github/rukmals/crowd-monitoring-system-model-development/blob/main/GT_Generation_SH_B_and_test_SH_B.ipynb\" target=\"_parent\"><img src=\"https://colab.research.google.com/assets/colab-badge.svg\" alt=\"Open In Colab\"/></a>"
      ]
    },
    {
      "cell_type": "code",
      "metadata": {
        "colab": {
          "base_uri": "https://localhost:8080/"
        },
        "id": "8HXoAiuZiOAj",
        "outputId": "c919e4b2-0cfd-4626-fbf8-9d5a4437df05"
      },
      "source": [
        "import numpy as np  # linear algebra\n",
        "import pandas as pd  # data processing, CSV file I/O (e.g. pd.read_csv)\n",
        "\n",
        "import os\n",
        "\n",
        "\n",
        "import os\n",
        "from tensorflow.keras.preprocessing import image\n",
        "import numpy as np\n",
        "import scipy\n",
        "from scipy.io import loadmat\n",
        "import glob\n",
        "import h5py\n",
        "import time\n",
        "from sklearn.externals.joblib import Parallel, delayed\n",
        "from torchvision import datasets, transforms\n"
      ],
      "execution_count": 1,
      "outputs": [
        {
          "output_type": "stream",
          "name": "stderr",
          "text": [
            "/usr/local/lib/python3.7/dist-packages/sklearn/externals/joblib/__init__.py:15: FutureWarning: sklearn.externals.joblib is deprecated in 0.21 and will be removed in 0.23. Please import this functionality directly from joblib, which can be installed with: pip install joblib. If this warning is raised when loading pickled models, you may need to re-serialize those models with scikit-learn 0.21+.\n",
            "  warnings.warn(msg, category=FutureWarning)\n"
          ]
        }
      ]
    },
    {
      "cell_type": "code",
      "metadata": {
        "id": "-YY8EPrv9cmW"
      },
      "source": [
        "import random\n",
        "import os\n",
        "from PIL import Image,ImageFilter,ImageDraw\n",
        "import numpy as np\n",
        "import h5py\n",
        "from PIL import ImageStat\n",
        "import glob\n",
        "from sklearn.model_selection import train_test_split\n",
        "import json\n",
        "\n",
        "import sys\n",
        "import warnings\n",
        "# import from library\n",
        "import torch\n",
        "import torch.nn as nn\n",
        "from torch.autograd import Variable\n",
        "from torchvision import datasets, transforms\n",
        "import numpy as np\n",
        "import argparse\n",
        "import json\n",
        "import cv2\n",
        "import time\n",
        "from torchvision import models"
      ],
      "execution_count": 2,
      "outputs": []
    },
    {
      "cell_type": "code",
      "metadata": {
        "colab": {
          "base_uri": "https://localhost:8080/"
        },
        "id": "kfY1YCJjiZku",
        "outputId": "a27faa73-44ab-4c38-820e-97bc4ebc29fa"
      },
      "source": [
        "from google.colab import drive\n",
        "drive.mount('/content/drive')"
      ],
      "execution_count": 3,
      "outputs": [
        {
          "output_type": "stream",
          "name": "stdout",
          "text": [
            "Mounted at /content/drive\n"
          ]
        }
      ]
    },
    {
      "cell_type": "code",
      "metadata": {
        "id": "zE3pSyXakAnJ"
      },
      "source": [
        "def gaussian_filter_density(gt):\n",
        "    print(gt.shape)\n",
        "    density = np.zeros(gt.shape, dtype=np.float32)\n",
        "    gt_count = np.count_nonzero(gt)\n",
        "    if gt_count == 0:\n",
        "        return density\n",
        "    #print(gt_count)\n",
        "    pts = np.array(list(zip(np.nonzero(gt)[1], np.nonzero(gt)[0])))\n",
        "    leafsize = 2048\n",
        "    # build kdtree\n",
        "    pts_copy = pts.copy()\n",
        "    tree = scipy.spatial.KDTree(pts_copy, leafsize=leafsize)\n",
        "    # query kdtree\n",
        "    distances, locations = tree.query(pts, k=4)\n",
        "    print('generate density...')\n",
        "    for i, pt in enumerate(pts):\n",
        "        pt2d = np.zeros(gt.shape, dtype=np.float32)\n",
        "        pt2d[pt[1], pt[0]] = 1.\n",
        "        if gt_count > 1:\n",
        "            sigma = (distances[i][1] + distances[i][2] + distances[i][3]) * 0.1\n",
        "        else:\n",
        "            sigma = np.average(np.array(gt.shape)) / 2. / 2.  # case: 1 point\n",
        "        density += scipy.ndimage.filters.gaussian_filter(pt2d, sigma, mode='constant')\n",
        "    print('done.')\n",
        "    return density"
      ],
      "execution_count": null,
      "outputs": []
    },
    {
      "cell_type": "code",
      "metadata": {
        "id": "zzFMDB0zkSov"
      },
      "source": [
        "def generate_density_map(img_path):\n",
        "    img_path = \"/content/drive/MyDrive/Model_Test_Data/PartA/test_data/images/\"+ img_path\n",
        "    #print(img_path)\n",
        "    mat_path = img_path.replace('.jpg', '.mat').replace('images', 'ground_truth').replace('IMG_', 'GT_IMG_')\n",
        "    #print(mat_path)\n",
        "    mat = scipy.io.loadmat(mat_path)\n",
        "    imgfile = image.load_img(img_path)\n",
        "    img = image.img_to_array(imgfile)\n",
        "    k = np.zeros((img.shape[0], img.shape[1]))\n",
        "    gt = mat[\"image_info\"][0, 0][0, 0][0]\n",
        "    for i in range(0, len(gt)):\n",
        "        if int(gt[i][1]) < img.shape[0] and int(gt[i][0]) < img.shape[1]:\n",
        "            k[int(gt[i][1]), int(gt[i][0])] = 1\n",
        "    k = gaussian_filter_density(k)\n",
        "    output_path = img_path.replace('.jpg', '.h5').replace('images','ground-truth-h5')\n",
        "    output_dir = os.path.dirname(output_path)\n",
        "    os.makedirs(output_dir, exist_ok=True)\n",
        "    print(\"output\", output_path)\n",
        "    with h5py.File(output_path, 'w') as hf:\n",
        "        hf['density'] = k\n",
        "    return img_path"
      ],
      "execution_count": null,
      "outputs": []
    },
    {
      "cell_type": "code",
      "metadata": {
        "colab": {
          "base_uri": "https://localhost:8080/"
        },
        "id": "_uJk1EB-ovAg",
        "outputId": "d9d2d7df-1393-4d20-f045-3a10aaa2df5b"
      },
      "source": [
        "test_list = os.listdir(\"/content/drive/MyDrive/Model_Test_Data/PartA/test_data/images\")\n",
        "print(test_list)"
      ],
      "execution_count": null,
      "outputs": [
        {
          "output_type": "stream",
          "name": "stdout",
          "text": [
            "['IMG_110.jpg', 'IMG_108.jpg', 'IMG_10.jpg', 'IMG_102.jpg', 'IMG_105.jpg', 'IMG_103.jpg', 'IMG_100.jpg', 'IMG_101.jpg', 'IMG_11.jpg', 'IMG_104.jpg', 'IMG_1.jpg', 'IMG_107.jpg', 'IMG_106.jpg', 'IMG_109.jpg', 'IMG_116.jpg', 'IMG_126.jpg', 'IMG_112.jpg', 'IMG_113.jpg', 'IMG_120.jpg', 'IMG_127.jpg', 'IMG_119.jpg', 'IMG_117.jpg', 'IMG_114.jpg', 'IMG_12.jpg', 'IMG_123.jpg', 'IMG_124.jpg', 'IMG_115.jpg', 'IMG_118.jpg', 'IMG_111.jpg', 'IMG_125.jpg', 'IMG_121.jpg', 'IMG_128.jpg', 'IMG_122.jpg', 'IMG_14.jpg', 'IMG_151.jpg', 'IMG_153.jpg', 'IMG_144.jpg', 'IMG_147.jpg', 'IMG_130.jpg', 'IMG_129.jpg', 'IMG_142.jpg', 'IMG_138.jpg', 'IMG_131.jpg', 'IMG_15.jpg', 'IMG_135.jpg', 'IMG_148.jpg', 'IMG_134.jpg', 'IMG_140.jpg', 'IMG_150.jpg', 'IMG_152.jpg', 'IMG_136.jpg', 'IMG_133.jpg', 'IMG_132.jpg', 'IMG_13.jpg', 'IMG_141.jpg', 'IMG_137.jpg', 'IMG_149.jpg', 'IMG_143.jpg', 'IMG_145.jpg', 'IMG_139.jpg', 'IMG_146.jpg', 'IMG_172.jpg', 'IMG_157.jpg', 'IMG_169.jpg', 'IMG_167.jpg', 'IMG_16.jpg', 'IMG_171.jpg', 'IMG_156.jpg', 'IMG_176.jpg', 'IMG_160.jpg', 'IMG_159.jpg', 'IMG_162.jpg', 'IMG_158.jpg', 'IMG_154.jpg', 'IMG_166.jpg', 'IMG_173.jpg', 'IMG_174.jpg', 'IMG_175.jpg', 'IMG_168.jpg', 'IMG_170.jpg', 'IMG_161.jpg', 'IMG_163.jpg', 'IMG_17.jpg', 'IMG_164.jpg', 'IMG_165.jpg', 'IMG_155.jpg', 'IMG_180.jpg', 'IMG_178.jpg', 'IMG_177.jpg', 'IMG_18.jpg', 'IMG_182.jpg', 'IMG_179.jpg', 'IMG_181.jpg', 'IMG_24.jpg', 'IMG_26.jpg', 'IMG_20.jpg', 'IMG_2.jpg', 'IMG_28.jpg', 'IMG_21.jpg', 'IMG_25.jpg', 'IMG_23.jpg', 'IMG_19.jpg', 'IMG_27.jpg', 'IMG_22.jpg', 'IMG_33.jpg', 'IMG_4.jpg', 'IMG_45.jpg', 'IMG_32.jpg', 'IMG_36.jpg', 'IMG_44.jpg', 'IMG_30.jpg', 'IMG_31.jpg', 'IMG_34.jpg', 'IMG_38.jpg', 'IMG_39.jpg', 'IMG_29.jpg', 'IMG_37.jpg', 'IMG_46.jpg', 'IMG_3.jpg', 'IMG_42.jpg', 'IMG_48.jpg', 'IMG_41.jpg', 'IMG_43.jpg', 'IMG_40.jpg', 'IMG_35.jpg', 'IMG_49.jpg', 'IMG_47.jpg', 'IMG_7.jpg', 'IMG_68.jpg', 'IMG_59.jpg', 'IMG_51.jpg', 'IMG_58.jpg', 'IMG_54.jpg', 'IMG_74.jpg', 'IMG_50.jpg', 'IMG_64.jpg', 'IMG_6.jpg', 'IMG_55.jpg', 'IMG_75.jpg', 'IMG_70.jpg', 'IMG_5.jpg', 'IMG_61.jpg', 'IMG_72.jpg', 'IMG_57.jpg', 'IMG_52.jpg', 'IMG_66.jpg', 'IMG_65.jpg', 'IMG_56.jpg', 'IMG_67.jpg', 'IMG_60.jpg', 'IMG_73.jpg', 'IMG_63.jpg', 'IMG_62.jpg', 'IMG_53.jpg', 'IMG_76.jpg', 'IMG_71.jpg', 'IMG_69.jpg', 'IMG_8.jpg', 'IMG_84.jpg', 'IMG_81.jpg', 'IMG_80.jpg', 'IMG_79.jpg', 'IMG_87.jpg', 'IMG_83.jpg', 'IMG_82.jpg', 'IMG_85.jpg', 'IMG_78.jpg', 'IMG_86.jpg', 'IMG_77.jpg', 'IMG_99.jpg', 'IMG_9.jpg', 'IMG_88.jpg', 'IMG_97.jpg', 'IMG_98.jpg', 'IMG_92.jpg', 'IMG_90.jpg', 'IMG_93.jpg', 'IMG_95.jpg', 'IMG_89.jpg', 'IMG_96.jpg', 'IMG_91.jpg', 'IMG_94.jpg', 'IMG_151.txt', 'IMG_108.txt', 'IMG_158.txt', 'IMG_107.txt', 'IMG_128.txt', 'IMG_142.txt', 'IMG_13.txt', 'IMG_144.txt', 'IMG_122.txt', 'IMG_136.txt', 'IMG_154.txt', 'IMG_135.txt', 'IMG_127.txt', 'IMG_152.txt', 'IMG_132.txt', 'IMG_12.txt', 'IMG_15.txt', 'IMG_104.txt', 'IMG_149.txt', 'IMG_156.txt', 'IMG_134.txt', 'IMG_115.txt', 'IMG_119.txt', 'IMG_123.txt', 'IMG_16.txt', 'IMG_137.txt', 'IMG_140.txt', 'IMG_10.txt', 'IMG_113.txt', 'IMG_138.txt', 'IMG_110.txt', 'IMG_146.txt', 'IMG_125.txt', 'IMG_130.txt', 'IMG_117.txt', 'IMG_145.txt', 'IMG_100.txt', 'IMG_124.txt', 'IMG_112.txt', 'IMG_118.txt', 'IMG_121.txt', 'IMG_153.txt', 'IMG_102.txt', 'IMG_120.txt', 'IMG_141.txt', 'IMG_111.txt', 'IMG_148.txt', 'IMG_150.txt', 'IMG_101.txt', 'IMG_157.txt', 'IMG_114.txt', 'IMG_106.txt', 'IMG_133.txt', 'IMG_161.txt', 'IMG_139.txt', 'IMG_131.txt', 'IMG_143.txt', 'IMG_129.txt', 'IMG_1.txt', 'IMG_155.txt', 'IMG_14.txt', 'IMG_105.txt', 'IMG_109.txt', 'IMG_126.txt', 'IMG_11.txt', 'IMG_116.txt', 'IMG_103.txt', 'IMG_147.txt', 'IMG_160.txt', 'IMG_159.txt', 'IMG_173.txt', 'IMG_86.txt', 'IMG_19.txt', 'IMG_176.txt', 'IMG_44.txt', 'IMG_162.txt', 'IMG_170.txt', 'IMG_171.txt', 'IMG_35.txt', 'IMG_71.txt', 'IMG_164.txt', 'IMG_175.txt', 'IMG_94.txt', 'IMG_165.txt', 'IMG_61.txt', 'IMG_92.txt', 'IMG_7.txt', 'IMG_91.txt', 'IMG_178.txt', 'IMG_6.txt', 'IMG_50.txt', 'IMG_47.txt', 'IMG_80.txt', 'IMG_182.txt', 'IMG_42.txt', 'IMG_62.txt', 'IMG_38.txt', 'IMG_23.txt', 'IMG_24.txt', 'IMG_76.txt', 'IMG_20.txt', 'IMG_37.txt', 'IMG_69.txt', 'IMG_25.txt', 'IMG_84.txt', 'IMG_89.txt', 'IMG_56.txt', 'IMG_43.txt', 'IMG_172.txt', 'IMG_21.txt', 'IMG_166.txt', 'IMG_34.txt', 'IMG_78.txt', 'IMG_93.txt', 'IMG_68.txt', 'IMG_18.txt', 'IMG_174.txt', 'IMG_30.txt', 'IMG_169.txt', 'IMG_26.txt', 'IMG_46.txt', 'IMG_177.txt', 'IMG_8.txt', 'IMG_3.txt', 'IMG_88.txt', 'IMG_39.txt', 'IMG_75.txt', 'IMG_57.txt', 'IMG_90.txt', 'IMG_51.txt', 'IMG_87.txt', 'IMG_180.txt', 'IMG_65.txt', 'IMG_36.txt', 'IMG_4.txt', 'IMG_82.txt', 'IMG_95.txt', 'IMG_66.txt', 'IMG_59.txt', 'IMG_28.txt', 'IMG_60.txt', 'IMG_97.txt', 'IMG_73.txt', 'IMG_45.txt', 'IMG_29.txt', 'IMG_70.txt', 'IMG_40.txt', 'IMG_67.txt', 'IMG_96.txt', 'IMG_32.txt', 'IMG_98.txt', 'IMG_58.txt', 'IMG_27.txt', 'IMG_163.txt', 'IMG_49.txt', 'IMG_83.txt', 'IMG_79.txt', 'IMG_167.txt', 'IMG_17.txt', 'IMG_33.txt', 'IMG_9.txt', 'IMG_81.txt', 'IMG_77.txt', 'IMG_22.txt', 'IMG_5.txt', 'IMG_53.txt', 'IMG_179.txt', 'IMG_54.txt', 'IMG_168.txt', 'IMG_72.txt', 'IMG_181.txt', 'IMG_74.txt', 'IMG_2.txt', 'IMG_63.txt', 'IMG_64.txt', 'IMG_55.txt', 'IMG_41.txt', 'IMG_85.txt', 'IMG_52.txt', 'IMG_31.txt', 'IMG_99.txt', 'IMG_48.txt']\n"
          ]
        }
      ]
    },
    {
      "cell_type": "code",
      "metadata": {
        "colab": {
          "base_uri": "https://localhost:8080/"
        },
        "id": "V71Kh-gS6OSL",
        "outputId": "14d4aec8-7fd6-4539-caf2-ae1cce376d8a"
      },
      "source": [
        "print(len(test_list))"
      ],
      "execution_count": null,
      "outputs": [
        {
          "output_type": "stream",
          "name": "stdout",
          "text": [
            "364\n"
          ]
        }
      ]
    },
    {
      "cell_type": "code",
      "metadata": {
        "colab": {
          "base_uri": "https://localhost:8080/",
          "height": 136
        },
        "id": "72A8q-Gjr6Gm",
        "outputId": "b09a22b4-d94b-4bfd-ed25-3bf9d7f7e404"
      },
      "source": [
        "generate_density_map('IMG_1.jpg')"
      ],
      "execution_count": null,
      "outputs": [
        {
          "output_type": "stream",
          "name": "stdout",
          "text": [
            "/content/drive/MyDrive/Model_Test_Data/PartA/test_data/images/IMG_1.jpg\n",
            "/content/drive/MyDrive/Model_Test_Data/PartA/test_data/ground_truth/GT_IMG_1.mat\n",
            "(704, 1024)\n",
            "generate density...\n",
            "done.\n",
            "output /content/drive/MyDrive/Model_Test_Data/PartA/test_data/ground-truth-h5/IMG_1.h5\n"
          ]
        },
        {
          "output_type": "execute_result",
          "data": {
            "application/vnd.google.colaboratory.intrinsic+json": {
              "type": "string"
            },
            "text/plain": [
              "'/content/drive/MyDrive/Model_Test_Data/PartA/test_data/images/IMG_1.jpg'"
            ]
          },
          "metadata": {},
          "execution_count": 35
        }
      ]
    },
    {
      "cell_type": "code",
      "metadata": {
        "id": "EhMzPN-ok4Qo"
      },
      "source": [
        "for path in test_list:\n",
        "  generate_density_map(path)"
      ],
      "execution_count": null,
      "outputs": []
    },
    {
      "cell_type": "code",
      "metadata": {
        "colab": {
          "base_uri": "https://localhost:8080/"
        },
        "id": "EROPtCrclXcP",
        "outputId": "7ec1f11b-4ab0-4873-95bf-46c3125219a2"
      },
      "source": [
        "gt_test_list = os.listdir(\"/content/drive/MyDrive/Model_Test_Data/PartA/test_data/ground-truth-h5\")\n",
        "print(len(gt_test_list))"
      ],
      "execution_count": 4,
      "outputs": [
        {
          "output_type": "stream",
          "name": "stdout",
          "text": [
            "182\n"
          ]
        }
      ]
    },
    {
      "cell_type": "code",
      "metadata": {
        "id": "JPQua1BT6eDv"
      },
      "source": [
        "import os\n",
        "import random\n",
        "import torch\n",
        "import numpy as np\n",
        "from torch.utils.data import Dataset\n",
        "from PIL import Image\n",
        "\n",
        "def load_data(img_path,train = True):\n",
        "    gt_path = img_path.replace('.jpg','.h5').replace('images','ground-truth-h5')\n",
        "    img = Image.open(img_path).convert('RGB')\n",
        "    gt_file = h5py.File(gt_path, 'r')\n",
        "    target = np.asarray(gt_file['density'])\n",
        "    #target = cv2.resize(target,(int(target.shape[1]/2.25), int(target.shape[0]/2.25)),interpolation = cv2.INTER_CUBIC)\n",
        "    return img,target"
      ],
      "execution_count": 5,
      "outputs": []
    },
    {
      "cell_type": "code",
      "metadata": {
        "id": "uFse2hiK6945"
      },
      "source": [
        "class ListDataset(Dataset):\n",
        "    def __init__(self, root, shape=None, shuffle=True, transform=None,  train=False, batch_size=1, num_workers=4):\n",
        "        \"\"\"\n",
        "        if you have different image size, then batch_size must be 1\n",
        "        :param root:\n",
        "        :param shape:\n",
        "        :param shuffle:\n",
        "        :param transform:\n",
        "        :param train:\n",
        "        :param seen:\n",
        "        :param batch_size:\n",
        "        :param num_workers:\n",
        "        \"\"\"\n",
        "        #if train:\n",
        "            #root = root *4\n",
        "        if shuffle:\n",
        "            random.shuffle(root)\n",
        "        \n",
        "        self.nSamples = len(root)\n",
        "        self.lines = root\n",
        "        self.transform = transform\n",
        "        self.train = train\n",
        "        self.shape = shape\n",
        "        self.batch_size = batch_size\n",
        "        self.num_workers = num_workers\n",
        "        \n",
        "    def __len__(self):\n",
        "        return self.nSamples\n",
        "\n",
        "    def __getitem__(self, index):\n",
        "        assert index <= len(self), 'index range error' \n",
        "        \n",
        "        img_path = self.lines[index]\n",
        "        \n",
        "        img,target = load_data(img_path,self.train)\n",
        "        \n",
        "        #img = 255.0 * F.to_tensor(img)\n",
        "        \n",
        "        #img[0,:,:]=img[0,:,:]-92.8207477031\n",
        "        #img[1,:,:]=img[1,:,:]-95.2757037428\n",
        "        #img[2,:,:]=img[2,:,:]-104.877445883\n",
        "        if self.transform is not None:\n",
        "            img = self.transform(img)\n",
        "        return img,target\n",
        "  "
      ],
      "execution_count": 6,
      "outputs": []
    },
    {
      "cell_type": "code",
      "metadata": {
        "id": "OeNTFYm_7PIG"
      },
      "source": [
        "img_test_list = os.listdir(\"/content/drive/MyDrive/Model_Test_Data/PartB/test_data/images\")\n",
        "img_list = []\n",
        "for img in img_test_list:\n",
        "  if '.jpg' in img:\n",
        "    img_list.append(img)\n"
      ],
      "execution_count": 15,
      "outputs": []
    },
    {
      "cell_type": "code",
      "metadata": {
        "id": "9ZfHl0Clq3DV"
      },
      "source": [
        "img_list.remove(\"IMG_239 (1).jpg\")"
      ],
      "execution_count": 24,
      "outputs": []
    },
    {
      "cell_type": "code",
      "metadata": {
        "colab": {
          "base_uri": "https://localhost:8080/"
        },
        "id": "wvJlKR9z7p2h",
        "outputId": "2ea76f00-a8a0-4070-b313-6e455f75fe03"
      },
      "source": [
        "len(img_list)"
      ],
      "execution_count": 25,
      "outputs": [
        {
          "output_type": "execute_result",
          "data": {
            "text/plain": [
              "316"
            ]
          },
          "metadata": {},
          "execution_count": 25
        }
      ]
    },
    {
      "cell_type": "code",
      "metadata": {
        "id": "hTqDCMJv7yOH"
      },
      "source": [
        "sh_test_list = []\n",
        "for img_ in img_list:\n",
        "  img_ = \"/content/drive/MyDrive/Model_Test_Data/PartB/test_data/images/\"+img_\n",
        "  sh_test_list.append(img_)"
      ],
      "execution_count": 26,
      "outputs": []
    },
    {
      "cell_type": "code",
      "metadata": {
        "id": "3-svDT8aq_8M",
        "outputId": "028cad42-eaeb-4550-a1f8-d9757bcdedc0",
        "colab": {
          "base_uri": "https://localhost:8080/"
        }
      },
      "source": [
        "len(sh_test_list)"
      ],
      "execution_count": 27,
      "outputs": [
        {
          "output_type": "execute_result",
          "data": {
            "text/plain": [
              "316"
            ]
          },
          "metadata": {},
          "execution_count": 27
        }
      ]
    },
    {
      "cell_type": "code",
      "metadata": {
        "id": "_lEGVMne7Dzn"
      },
      "source": [
        "test_loader = torch.utils.data.DataLoader(ListDataset(sh_test_list,\n",
        "                                  shuffle=False,\n",
        "                                  transform=transforms.Compose([transforms.ToTensor(), transforms.Resize(480),transforms.Normalize(mean=[0.302234709263, 0.291243076324, 0.269087553024],\n",
        "                                                                                                                  std=[0.227743327618, 0.211051672697, 0.184846073389]),\n",
        "                                                                  ]), train=False,batch_size=2,num_workers=2),\n",
        "              batch_size=2)"
      ],
      "execution_count": 18,
      "outputs": []
    },
    {
      "cell_type": "code",
      "metadata": {
        "id": "Za7-7UT19Hvv"
      },
      "source": [
        "import torch\n",
        "import torch.nn as nn\n",
        "import torch.nn.functional as F\n",
        "from torchvision import models\n",
        "\n",
        "class Conv2d(nn.Module):\n",
        "    def __init__(self, in_channels, out_channels, kernel_size, \\\n",
        "                stride=1, NL='relu', same_padding=False, bn=False, dilation=1):\n",
        "        super(Conv2d, self).__init__()\n",
        "        padding = int((kernel_size - 1) // 2) if same_padding else 0\n",
        "        self.conv = []\n",
        "        if dilation==1:\n",
        "            self.conv = nn.Conv2d(in_channels, out_channels, kernel_size, stride, padding=padding, dilation=dilation)\n",
        "        else:\n",
        "            self.conv = nn.Conv2d(in_channels, out_channels, kernel_size, stride, padding=dilation, dilation=dilation)\n",
        "        self.bn = nn.BatchNorm2d(out_channels, eps=0.001, momentum=0, affine=True) if bn else nn.Identity()\n",
        "        if NL == 'relu' :\n",
        "            self.relu = nn.ReLU(inplace=True)\n",
        "        elif NL == 'prelu':\n",
        "            self.relu = nn.PReLU()\n",
        "        else:\n",
        "            self.relu = None\n",
        "\n",
        "    def forward(self, x):\n",
        "      x = self.conv(x)\n",
        "      if self.bn is not None:\n",
        "          x = self.bn(x)\n",
        "      if self.relu is not None:\n",
        "          x = self.relu(x)   \n",
        "      return x\n",
        "  \n",
        "# the module definition for the multi-branch in the density head\n",
        "class MultiBranchModule(nn.Module):\n",
        "    def __init__(self, in_channels, sync=False):\n",
        "        super(MultiBranchModule, self).__init__()\n",
        "        self.branch_column1_1 = BasicConv2d(in_channels, in_channels//2, kernel_size=1, sync=sync)\n",
        "        self.branch_column1_2 = BasicConv2d(in_channels//2, in_channels, kernel_size=1, sync=sync)\n",
        "\n",
        "        self.branch_column2_1 = BasicConv2d(in_channels, in_channels//2, kernel_size=1, sync=sync)\n",
        "        self.branch_column2_2 = BasicConv2d(in_channels // 2, in_channels, kernel_size=(3, 3), padding=(1, 1), sync=sync)\n",
        "\n",
        "        self.branch_column3_1 = BasicConv2d(in_channels, in_channels//2, kernel_size=1, sync=sync)\n",
        "        self.branch_column3_2 = BasicConv2d(in_channels // 2, in_channels, kernel_size=5, padding=2, sync=sync)\n",
        "\n",
        "    def forward(self, x):\n",
        "        branch_1 = self.branch_column1_1(x)\n",
        "        branch_1 = self.branch_column1_2(branch_1)\n",
        "\n",
        "        branch_2 = self.branch_column2_1(x)\n",
        "        branch_2 = self.branch_column2_2(branch_2)\n",
        "\n",
        "        branch_3 = self.branch_column3_1(x)\n",
        "        branch_3 = self.branch_column3_2(branch_3)\n",
        "\n",
        "        outputs = [branch_1, branch_2, branch_3, x]\n",
        "        return torch.cat(outputs, 1)\n",
        "\n",
        "# the module definition for the basic conv module\n",
        "class BasicConv2d(nn.Module):\n",
        "\n",
        "    def __init__(self, in_channels, out_channels, sync=False, **kwargs):\n",
        "        super(BasicConv2d, self).__init__()\n",
        "        self.conv = nn.Conv2d(in_channels, out_channels, bias=False, **kwargs)\n",
        "        if sync:\n",
        "            # for sync bn\n",
        "            print('use sync inception')\n",
        "            self.bn = nn.SyncBatchNorm(out_channels, eps=0.001)\n",
        "        else:\n",
        "            self.bn = nn.BatchNorm2d(out_channels, eps=0.001)\n",
        "\n",
        "    def forward(self, x):\n",
        "        x = self.conv(x)\n",
        "        x = self.bn(x)\n",
        "        return F.relu(x, inplace=True)"
      ],
      "execution_count": 19,
      "outputs": []
    },
    {
      "cell_type": "code",
      "metadata": {
        "id": "2ee_rugF9JZz"
      },
      "source": [
        "class TestNet(nn.Module):\n",
        "    def __init__(self, pretrained=True):\n",
        "        super(TestNet, self).__init__()\n",
        "        \n",
        "        vgg = models.vgg16_bn(pretrained=pretrained)\n",
        "        \n",
        "        self.backend_feat  = [256,128,64]\n",
        "\n",
        "\n",
        "        # Front End Development VGG - 16 \n",
        "        features = list(vgg.features.children())\n",
        "        # get each stage of the VGG - 16\n",
        "        self.features1 = nn.Sequential(*features[0:6])\n",
        "        self.features2 = nn.Sequential(*features[6:13])\n",
        "        self.features3 = nn.Sequential(*features[13:23])\n",
        "        self.features4 = nn.Sequential(*features[23:33])\n",
        "        self.features5 = nn.Sequential(*features[33:43])\n",
        "\n",
        "        # Front End Development P1 to P5 \n",
        "        self.p5 = nn.Sequential(\n",
        "            Conv2d(512, 1024, 3, same_padding=True, NL='relu'),\n",
        "            Conv2d(1024, 512, 3, same_padding=True, NL='relu'),\n",
        "        )\n",
        "\n",
        "        self.p4 = nn.Sequential(\n",
        "            Conv2d(1024, 512, 3, same_padding=True, NL='relu'),\n",
        "            Conv2d(512, 256, 3, same_padding=True, NL='relu'),\n",
        "        )\n",
        "\n",
        "        self.p3 = nn.Sequential(\n",
        "            Conv2d(512 , 256, 3, same_padding=True, NL='relu'),\n",
        "            Conv2d(256, 128, 3, same_padding=True, NL='relu'),\n",
        "        )\n",
        "\n",
        "        self.p2 = nn.Sequential(\n",
        "            Conv2d(256, 128, 3, same_padding=True, NL='relu'),\n",
        "            Conv2d(128, 64, 3, same_padding=True, NL='relu'),\n",
        "        )\n",
        "\n",
        "        self.p1 = nn.Sequential(\n",
        "            Conv2d(128, 64, 3, same_padding=True, NL='relu'),\n",
        "            Conv2d(64, 64, 3, same_padding=True, NL='relu'),\n",
        "        ) \n",
        "\n",
        "        # Multi-Branch moules\n",
        "        self.multi_branch5 = nn.Sequential(\n",
        "            MultiBranchModule(512),\n",
        "            Conv2d(2048, 1, 1, same_padding=True)\n",
        "        )\n",
        "\n",
        "        self.multi_branch4 = nn.Sequential(\n",
        "            MultiBranchModule(256),\n",
        "            Conv2d(1024, 1, 1, same_padding=True)\n",
        "        )\n",
        "\n",
        "        self.multi_branch3 = nn.Sequential(\n",
        "            MultiBranchModule(128),\n",
        "            Conv2d(512, 1, 1, same_padding=True)\n",
        "        )\n",
        "\n",
        "        self.multi_branch2 = nn.Sequential(\n",
        "            MultiBranchModule(64),\n",
        "            Conv2d(256, 1, 1, same_padding=True)\n",
        "        )\n",
        "\n",
        "        self.multi_branch1 = nn.Sequential(\n",
        "            MultiBranchModule(64),\n",
        "            Conv2d(256, 1, 1, same_padding=True)\n",
        "        )\n",
        "\n",
        "        self.backend = make_layers(self.backend_feat,in_channels = 5,dilation = True)\n",
        "\n",
        "        self.output_layer = nn.Conv2d(64, 1, kernel_size=1)\n",
        "\n",
        "    \n",
        "    \n",
        "    def forward(self, x):\n",
        "        size = x.size()\n",
        "        x1 = self.features1(x)\n",
        "        x2 = self.features2(x1)\n",
        "        x3 = self.features3(x2)\n",
        "        x4 = self.features4(x3)\n",
        "        x5 = self.features5(x4)\n",
        "\n",
        "        # Front End Development P1 to P5 \n",
        "        x = self.p5(x5)\n",
        "        x5_out = x\n",
        "        x = F.upsample_bilinear(x, size=x4.size()[2:])\n",
        "\n",
        "        x = torch.cat([x4, x], 1)\n",
        "        x = self.p4(x)\n",
        "        x4_out = x\n",
        "        x = F.upsample_bilinear(x, size=x3.size()[2:])\n",
        "\n",
        "        x = torch.cat([x3, x], 1)\n",
        "        x = self.p3(x)\n",
        "        x3_out = x\n",
        "        x = F.upsample_bilinear(x, size=x2.size()[2:])\n",
        "\n",
        "        x = torch.cat([x2, x], 1)\n",
        "        x = self.p2(x)\n",
        "        x2_out = x\n",
        "        x = F.upsample_bilinear(x, size=x1.size()[2:])\n",
        "\n",
        "        x = torch.cat([x1, x], 1)\n",
        "        x = self.p1(x)\n",
        "        x1_out = x\n",
        "\n",
        "\n",
        "        # multi-branch predictions\n",
        "        x5_density = self.multi_branch5(x5_out)\n",
        "        x4_density = self.multi_branch4(x4_out)\n",
        "        x3_density = self.multi_branch3(x3_out)\n",
        "        x2_density = self.multi_branch2(x2_out)\n",
        "        x1_density = self.multi_branch1(x1_out)\n",
        "\n",
        "        # upsample the multi-branch predictions to be the same with the input size\n",
        "        x5_density = F.upsample_nearest(x5_density, size=x1.size()[2:])\n",
        "        x4_density = F.upsample_nearest(x4_density, size=x1.size()[2:])\n",
        "        x3_density = F.upsample_nearest(x3_density, size=x1.size()[2:])\n",
        "        x2_density = F.upsample_nearest(x2_density, size=x1.size()[2:])\n",
        "        x1_density = F.upsample_nearest(x1_density, size=x1.size()[2:])\n",
        "\n",
        "\n",
        "        density_map = torch.cat([x5_density, x4_density, x3_density, x2_density, x1_density], 1)\n",
        "\n",
        "\n",
        "        x_out = self.backend(density_map)\n",
        "        density_map_out = self.output_layer(x_out)\n",
        "        return density_map_out\n",
        "        #return density_map\n",
        "                \n",
        "                \n",
        "def make_layers(cfg, in_channels = 3,batch_norm=False,dilation = False):\n",
        "    layers = []\n",
        "    dilation_rates = [2,3,5]\n",
        "    #for v in cfg:\n",
        "    for v in range(len(cfg)):\n",
        "        if cfg[v] == 'M':\n",
        "            layers += [nn.MaxPool2d(kernel_size=2, stride=2)]\n",
        "        else:\n",
        "            conv2d = nn.Conv2d(in_channels, cfg[v], kernel_size=3, padding=dilation_rates[v],dilation = dilation_rates[v])\n",
        "            if batch_norm:\n",
        "                layers += [conv2d, nn.BatchNorm2d(cfg[v]), nn.ReLU(inplace=True)]\n",
        "            else:\n",
        "                layers += [conv2d, nn.ReLU(inplace=True)]\n",
        "            in_channels = cfg[v]\n",
        "    return nn.Sequential(*layers)"
      ],
      "execution_count": 20,
      "outputs": []
    },
    {
      "cell_type": "code",
      "metadata": {
        "colab": {
          "base_uri": "https://localhost:8080/"
        },
        "id": "GIv-cF1w8LFW",
        "outputId": "219e070f-27ac-4dbe-f9f5-b4941925f1c0"
      },
      "source": [
        "model_path = '/content/drive/MyDrive/GCC_CSV_DataSet/model/TestNetGCC_whole_data_withbackend.pth'\n",
        "\n",
        "model = TestNet().cuda()\n",
        "# load the trained model\n",
        "model.load_state_dict(torch.load(model_path))\n",
        "print('successfully load model from', model_path)"
      ],
      "execution_count": 21,
      "outputs": [
        {
          "output_type": "stream",
          "name": "stdout",
          "text": [
            "successfully load model from /content/drive/MyDrive/GCC_CSV_DataSet/model/TestNetGCC_whole_data_withbackend.pth\n"
          ]
        }
      ]
    },
    {
      "cell_type": "code",
      "metadata": {
        "id": "47dbD48Y8_nX"
      },
      "source": [
        "pred_transform=transforms.Compose([transforms.ToTensor(), transforms.Resize(480), transforms.Normalize(mean=[0.302234709263, 0.291243076324, 0.269087553024],\n",
        "                                                                                                                std=[0.227743327618, 0.211051672697, 0.184846073389]),])\n",
        "\n"
      ],
      "execution_count": 22,
      "outputs": []
    },
    {
      "cell_type": "code",
      "metadata": {
        "colab": {
          "base_uri": "https://localhost:8080/"
        },
        "id": "jTSPvbUr-5_L",
        "outputId": "b604dc78-da9f-4909-b636-c46bb80c9c51"
      },
      "source": [
        "sh_im = Image.open('/content/drive/MyDrive/Model_Test_Data/PartA/test_data/images/IMG_1.jpg')\n",
        "sh_pred = model(pred_transform(sh_im)[None].cuda())"
      ],
      "execution_count": null,
      "outputs": [
        {
          "output_type": "stream",
          "name": "stderr",
          "text": [
            "/usr/local/lib/python3.7/dist-packages/torch/nn/functional.py:718: UserWarning: Named tensors and all their associated APIs are an experimental feature and subject to change. Please do not use them for anything important until they are released as stable. (Triggered internally at  /pytorch/c10/core/TensorImpl.h:1156.)\n",
            "  return torch.max_pool2d(input, kernel_size, stride, padding, dilation, ceil_mode)\n",
            "/usr/local/lib/python3.7/dist-packages/torch/nn/functional.py:3825: UserWarning: nn.functional.upsample_bilinear is deprecated. Use nn.functional.interpolate instead.\n",
            "  warnings.warn(\"nn.functional.upsample_bilinear is deprecated. Use nn.functional.interpolate instead.\")\n",
            "/usr/local/lib/python3.7/dist-packages/torch/nn/functional.py:3770: UserWarning: nn.functional.upsample_nearest is deprecated. Use nn.functional.interpolate instead.\n",
            "  warnings.warn(\"nn.functional.upsample_nearest is deprecated. Use nn.functional.interpolate instead.\")\n"
          ]
        }
      ]
    },
    {
      "cell_type": "code",
      "metadata": {
        "colab": {
          "base_uri": "https://localhost:8080/"
        },
        "id": "6pAGYPy__Hx8",
        "outputId": "c20ae2c6-d711-46a6-adda-59a5f99d5b0f"
      },
      "source": [
        "mae = 0\n",
        "for im_path in sh_test_list:\n",
        "  image = Image.open(im_path).convert('RGB')\n",
        "  #print(image.shape)\n",
        "  output = model(pred_transform(image)[None].cuda())\n",
        "  gt_path = im_path.replace('.jpg','.h5').replace('images','ground-truth-h5')\n",
        "  gt_file = h5py.File(gt_path, 'r')\n",
        "  target = np.asarray(gt_file['density'])\n",
        "  print(\"ground trueth count\", np.sum(target))\n",
        "  output = output.cpu()\n",
        "  output = output.detach().numpy()\n",
        "  print(\"Model Predicted Count\",np.sum(output)/100)\n",
        "  \n",
        "  mae += abs(np.sum(target) -np.sum(output)/100)\n",
        "\n",
        "mae = mae / len(sh_test_list)\n",
        "print(' * TESTING MAE {mae:.3f} '.format(mae=mae))"
      ],
      "execution_count": 28,
      "outputs": [
        {
          "output_type": "stream",
          "name": "stderr",
          "text": [
            "/usr/local/lib/python3.7/dist-packages/torch/nn/functional.py:3825: UserWarning: nn.functional.upsample_bilinear is deprecated. Use nn.functional.interpolate instead.\n",
            "  warnings.warn(\"nn.functional.upsample_bilinear is deprecated. Use nn.functional.interpolate instead.\")\n",
            "/usr/local/lib/python3.7/dist-packages/torch/nn/functional.py:3770: UserWarning: nn.functional.upsample_nearest is deprecated. Use nn.functional.interpolate instead.\n",
            "  warnings.warn(\"nn.functional.upsample_nearest is deprecated. Use nn.functional.interpolate instead.\")\n"
          ]
        },
        {
          "output_type": "stream",
          "name": "stdout",
          "text": [
            "ground trueth count 172.99678\n",
            "Model Predicted Count 182.751171875\n",
            "ground trueth count 21.089602\n",
            "Model Predicted Count 18.167713623046875\n",
            "ground trueth count 33.12424\n",
            "Model Predicted Count 30.04722412109375\n",
            "ground trueth count 64.97026\n",
            "Model Predicted Count 93.914111328125\n",
            "ground trueth count 156.47859\n",
            "Model Predicted Count 143.89033203125\n",
            "ground trueth count 53.26684\n",
            "Model Predicted Count 72.0537548828125\n",
            "ground trueth count 41.2734\n",
            "Model Predicted Count 44.1030615234375\n",
            "ground trueth count 470.27805\n",
            "Model Predicted Count 635.7169921875\n",
            "ground trueth count 160.92084\n",
            "Model Predicted Count 188.71787109375\n",
            "ground trueth count 216.71764\n",
            "Model Predicted Count 297.42931640625\n",
            "ground trueth count 103.04705\n",
            "Model Predicted Count 110.851240234375\n",
            "ground trueth count 156.65094\n",
            "Model Predicted Count 166.39474609375\n",
            "ground trueth count 132.69264\n",
            "Model Predicted Count 135.035751953125\n",
            "ground trueth count 17.747625\n",
            "Model Predicted Count 24.57567138671875\n",
            "ground trueth count 302.12555\n",
            "Model Predicted Count 263.8147265625\n",
            "ground trueth count 43.918083\n",
            "Model Predicted Count 58.2341455078125\n",
            "ground trueth count 100.53064\n",
            "Model Predicted Count 101.6965234375\n",
            "ground trueth count 126.09301\n",
            "Model Predicted Count 192.01828125\n",
            "ground trueth count 178.91074\n",
            "Model Predicted Count 275.66349609375\n",
            "ground trueth count 201.80551\n",
            "Model Predicted Count 258.99576171875\n",
            "ground trueth count 37.403755\n",
            "Model Predicted Count 51.0959228515625\n",
            "ground trueth count 144.58171\n",
            "Model Predicted Count 152.989833984375\n",
            "ground trueth count 141.70612\n",
            "Model Predicted Count 130.695703125\n",
            "ground trueth count 170.03862\n",
            "Model Predicted Count 139.831630859375\n",
            "ground trueth count 502.9125\n",
            "Model Predicted Count 592.743046875\n",
            "ground trueth count 66.5012\n",
            "Model Predicted Count 80.235595703125\n",
            "ground trueth count 47.57452\n",
            "Model Predicted Count 48.786640625\n",
            "ground trueth count 52.657825\n",
            "Model Predicted Count 56.4613916015625\n",
            "ground trueth count 62.62307\n",
            "Model Predicted Count 73.9703955078125\n",
            "ground trueth count 163.29704\n",
            "Model Predicted Count 143.037041015625\n",
            "ground trueth count 53.06145\n",
            "Model Predicted Count 53.1629248046875\n",
            "ground trueth count 70.31636\n",
            "Model Predicted Count 98.878818359375\n",
            "ground trueth count 29.417793\n",
            "Model Predicted Count 26.1349853515625\n",
            "ground trueth count 44.93991\n",
            "Model Predicted Count 43.7652294921875\n",
            "ground trueth count 142.61313\n",
            "Model Predicted Count 165.08564453125\n",
            "ground trueth count 75.53449\n",
            "Model Predicted Count 82.208583984375\n",
            "ground trueth count 156.5211\n",
            "Model Predicted Count 152.589853515625\n",
            "ground trueth count 132.56813\n",
            "Model Predicted Count 163.1801171875\n",
            "ground trueth count 112.99884\n",
            "Model Predicted Count 103.0394140625\n",
            "ground trueth count 115.471855\n",
            "Model Predicted Count 140.374873046875\n",
            "ground trueth count 66.361496\n",
            "Model Predicted Count 79.25578125\n",
            "ground trueth count 114.73415\n",
            "Model Predicted Count 142.36033203125\n",
            "ground trueth count 27.828218\n",
            "Model Predicted Count 28.1605615234375\n",
            "ground trueth count 128.66205\n",
            "Model Predicted Count 153.5995703125\n",
            "ground trueth count 196.06589\n",
            "Model Predicted Count 211.75107421875\n",
            "ground trueth count 141.4771\n",
            "Model Predicted Count 148.24025390625\n",
            "ground trueth count 32.121964\n",
            "Model Predicted Count 30.67139404296875\n",
            "ground trueth count 68.52043\n",
            "Model Predicted Count 83.575947265625\n",
            "ground trueth count 20.735344\n",
            "Model Predicted Count 31.23699951171875\n",
            "ground trueth count 246.08884\n",
            "Model Predicted Count 334.640078125\n",
            "ground trueth count 55.369694\n",
            "Model Predicted Count 67.76701171875\n",
            "ground trueth count 239.15462\n",
            "Model Predicted Count 292.14400390625\n",
            "ground trueth count 65.622215\n",
            "Model Predicted Count 103.046279296875\n",
            "ground trueth count 56.482704\n",
            "Model Predicted Count 61.7634619140625\n",
            "ground trueth count 245.76643\n",
            "Model Predicted Count 393.6699609375\n",
            "ground trueth count 44.817482\n",
            "Model Predicted Count 48.7981396484375\n",
            "ground trueth count 51.538033\n",
            "Model Predicted Count 81.756943359375\n",
            "ground trueth count 116.412895\n",
            "Model Predicted Count 128.14697265625\n",
            "ground trueth count 144.44516\n",
            "Model Predicted Count 157.238291015625\n",
            "ground trueth count 166.20653\n",
            "Model Predicted Count 175.97265625\n",
            "ground trueth count 291.06662\n",
            "Model Predicted Count 376.851953125\n",
            "ground trueth count 493.45804\n",
            "Model Predicted Count 633.9644921875\n",
            "ground trueth count 459.2259\n",
            "Model Predicted Count 529.426484375\n",
            "ground trueth count 84.976524\n",
            "Model Predicted Count 119.059873046875\n",
            "ground trueth count 42.599266\n",
            "Model Predicted Count 49.9608984375\n",
            "ground trueth count 38.490593\n",
            "Model Predicted Count 46.6960693359375\n",
            "ground trueth count 257.5392\n",
            "Model Predicted Count 292.52609375\n",
            "ground trueth count 87.937874\n",
            "Model Predicted Count 115.365830078125\n",
            "ground trueth count 114.01151\n",
            "Model Predicted Count 124.633291015625\n",
            "ground trueth count 43.79727\n",
            "Model Predicted Count 46.500732421875\n",
            "ground trueth count 49.989445\n",
            "Model Predicted Count 68.21060546875\n",
            "ground trueth count 67.75463\n",
            "Model Predicted Count 62.340068359375\n",
            "ground trueth count 57.262222\n",
            "Model Predicted Count 80.99353515625\n",
            "ground trueth count 118.33696\n",
            "Model Predicted Count 104.3635546875\n",
            "ground trueth count 164.98573\n",
            "Model Predicted Count 217.9541015625\n",
            "ground trueth count 166.65761\n",
            "Model Predicted Count 152.49642578125\n",
            "ground trueth count 52.80738\n",
            "Model Predicted Count 49.3570947265625\n",
            "ground trueth count 293.6315\n",
            "Model Predicted Count 341.034609375\n",
            "ground trueth count 12.53433\n",
            "Model Predicted Count 10.76626708984375\n",
            "ground trueth count 65.776794\n",
            "Model Predicted Count 69.1475830078125\n",
            "ground trueth count 122.72498\n",
            "Model Predicted Count 175.21822265625\n",
            "ground trueth count 140.96468\n",
            "Model Predicted Count 169.4105859375\n",
            "ground trueth count 100.397804\n",
            "Model Predicted Count 88.99509765625\n",
            "ground trueth count 41.05891\n",
            "Model Predicted Count 53.57658203125\n",
            "ground trueth count 9.443878\n",
            "Model Predicted Count 5.0235302734375\n",
            "ground trueth count 39.021294\n",
            "Model Predicted Count 35.62676513671875\n",
            "ground trueth count 72.7649\n",
            "Model Predicted Count 82.78234375\n",
            "ground trueth count 225.10805\n",
            "Model Predicted Count 214.8350390625\n",
            "ground trueth count 17.317997\n",
            "Model Predicted Count 23.99495849609375\n",
            "ground trueth count 96.63585\n",
            "Model Predicted Count 126.840283203125\n",
            "ground trueth count 233.38963\n",
            "Model Predicted Count 210.74490234375\n",
            "ground trueth count 58.059357\n",
            "Model Predicted Count 57.390869140625\n",
            "ground trueth count 242.92873\n",
            "Model Predicted Count 234.03275390625\n",
            "ground trueth count 180.35274\n",
            "Model Predicted Count 232.18287109375\n",
            "ground trueth count 102.97569\n",
            "Model Predicted Count 105.146982421875\n",
            "ground trueth count 183.50833\n",
            "Model Predicted Count 186.19267578125\n",
            "ground trueth count 35.030888\n",
            "Model Predicted Count 49.1352099609375\n",
            "ground trueth count 52.895588\n",
            "Model Predicted Count 59.6159619140625\n",
            "ground trueth count 157.8909\n",
            "Model Predicted Count 195.9440234375\n",
            "ground trueth count 97.610146\n",
            "Model Predicted Count 137.22458984375\n",
            "ground trueth count 274.18323\n",
            "Model Predicted Count 390.8007421875\n",
            "ground trueth count 299.42303\n",
            "Model Predicted Count 272.93208984375\n",
            "ground trueth count 86.529305\n",
            "Model Predicted Count 95.128046875\n",
            "ground trueth count 165.22356\n",
            "Model Predicted Count 203.0824609375\n",
            "ground trueth count 54.147266\n",
            "Model Predicted Count 47.343525390625\n",
            "ground trueth count 210.30305\n",
            "Model Predicted Count 220.39751953125\n",
            "ground trueth count 56.45203\n",
            "Model Predicted Count 62.415908203125\n",
            "ground trueth count 8.420844\n",
            "Model Predicted Count 24.680771484375\n",
            "ground trueth count 99.366104\n",
            "Model Predicted Count 127.132861328125\n",
            "ground trueth count 88.0287\n",
            "Model Predicted Count 93.267373046875\n",
            "ground trueth count 83.443756\n",
            "Model Predicted Count 118.92408203125\n",
            "ground trueth count 46.654003\n",
            "Model Predicted Count 47.6249951171875\n",
            "ground trueth count 47.852955\n",
            "Model Predicted Count 57.4513525390625\n",
            "ground trueth count 13.667174\n",
            "Model Predicted Count 7.893961791992187\n",
            "ground trueth count 125.920525\n",
            "Model Predicted Count 125.13865234375\n",
            "ground trueth count 174.11285\n",
            "Model Predicted Count 174.31712890625\n",
            "ground trueth count 52.823143\n",
            "Model Predicted Count 49.6268896484375\n",
            "ground trueth count 185.76202\n",
            "Model Predicted Count 162.1537890625\n",
            "ground trueth count 144.78076\n",
            "Model Predicted Count 159.525869140625\n",
            "ground trueth count 147.5452\n",
            "Model Predicted Count 138.433681640625\n",
            "ground trueth count 101.37309\n",
            "Model Predicted Count 151.6064453125\n",
            "ground trueth count 68.3749\n",
            "Model Predicted Count 77.553974609375\n",
            "ground trueth count 83.24381\n",
            "Model Predicted Count 98.93888671875\n",
            "ground trueth count 32.232616\n",
            "Model Predicted Count 15.00955322265625\n",
            "ground trueth count 48.96371\n",
            "Model Predicted Count 53.7233544921875\n",
            "ground trueth count 86.41542\n",
            "Model Predicted Count 88.9492578125\n",
            "ground trueth count 135.17993\n",
            "Model Predicted Count 136.1946875\n",
            "ground trueth count 133.447\n",
            "Model Predicted Count 162.002724609375\n",
            "ground trueth count 154.62599\n",
            "Model Predicted Count 222.7718359375\n",
            "ground trueth count 280.87775\n",
            "Model Predicted Count 339.723671875\n",
            "ground trueth count 46.667767\n",
            "Model Predicted Count 59.51455078125\n",
            "ground trueth count 444.17093\n",
            "Model Predicted Count 372.9010546875\n",
            "ground trueth count 66.25476\n",
            "Model Predicted Count 69.767451171875\n",
            "ground trueth count 105.018074\n",
            "Model Predicted Count 111.9903125\n",
            "ground trueth count 67.89371\n",
            "Model Predicted Count 64.081142578125\n",
            "ground trueth count 297.62106\n",
            "Model Predicted Count 380.054765625\n",
            "ground trueth count 142.49495\n",
            "Model Predicted Count 219.976953125\n",
            "ground trueth count 69.76304\n",
            "Model Predicted Count 84.74267578125\n",
            "ground trueth count 150.86171\n",
            "Model Predicted Count 139.047041015625\n",
            "ground trueth count 257.6029\n",
            "Model Predicted Count 257.66060546875\n",
            "ground trueth count 90.67259\n",
            "Model Predicted Count 91.107431640625\n",
            "ground trueth count 136.60849\n",
            "Model Predicted Count 157.96619140625\n",
            "ground trueth count 157.7507\n",
            "Model Predicted Count 146.3490625\n",
            "ground trueth count 59.96057\n",
            "Model Predicted Count 68.297490234375\n",
            "ground trueth count 94.11827\n",
            "Model Predicted Count 136.558681640625\n",
            "ground trueth count 237.8558\n",
            "Model Predicted Count 207.04966796875\n",
            "ground trueth count 25.695475\n",
            "Model Predicted Count 49.776884765625\n",
            "ground trueth count 75.96022\n",
            "Model Predicted Count 92.16796875\n",
            "ground trueth count 124.434555\n",
            "Model Predicted Count 130.536357421875\n",
            "ground trueth count 88.76168\n",
            "Model Predicted Count 82.186240234375\n",
            "ground trueth count 320.0335\n",
            "Model Predicted Count 278.2921875\n",
            "ground trueth count 191.23065\n",
            "Model Predicted Count 278.4413671875\n",
            "ground trueth count 208.18813\n",
            "Model Predicted Count 240.9225390625\n",
            "ground trueth count 178.09097\n",
            "Model Predicted Count 187.3533984375\n",
            "ground trueth count 91.90443\n",
            "Model Predicted Count 92.740703125\n",
            "ground trueth count 47.557743\n",
            "Model Predicted Count 56.290625\n",
            "ground trueth count 164.42355\n",
            "Model Predicted Count 161.83302734375\n",
            "ground trueth count 74.82866\n",
            "Model Predicted Count 84.965634765625\n",
            "ground trueth count 139.30435\n",
            "Model Predicted Count 230.084140625\n",
            "ground trueth count 84.819084\n",
            "Model Predicted Count 109.014814453125\n",
            "ground trueth count 172.3258\n",
            "Model Predicted Count 205.31552734375\n",
            "ground trueth count 101.580215\n",
            "Model Predicted Count 188.4431640625\n",
            "ground trueth count 98.65683\n",
            "Model Predicted Count 90.781611328125\n",
            "ground trueth count 83.25593\n",
            "Model Predicted Count 104.876015625\n",
            "ground trueth count 372.68796\n",
            "Model Predicted Count 526.7585546875\n",
            "ground trueth count 268.03595\n",
            "Model Predicted Count 317.82654296875\n",
            "ground trueth count 101.858444\n",
            "Model Predicted Count 101.48212890625\n",
            "ground trueth count 23.042204\n",
            "Model Predicted Count 24.62922607421875\n",
            "ground trueth count 56.8815\n",
            "Model Predicted Count 86.42650390625\n",
            "ground trueth count 213.55737\n",
            "Model Predicted Count 194.49826171875\n",
            "ground trueth count 29.591345\n",
            "Model Predicted Count 20.7571484375\n",
            "ground trueth count 123.93102\n",
            "Model Predicted Count 173.050078125\n",
            "ground trueth count 86.46574\n",
            "Model Predicted Count 110.800595703125\n",
            "ground trueth count 45.704388\n",
            "Model Predicted Count 64.9439013671875\n",
            "ground trueth count 191.03653\n",
            "Model Predicted Count 209.71228515625\n",
            "ground trueth count 48.84656\n",
            "Model Predicted Count 56.9613916015625\n",
            "ground trueth count 128.75214\n",
            "Model Predicted Count 169.226875\n",
            "ground trueth count 50.106308\n",
            "Model Predicted Count 52.627548828125\n",
            "ground trueth count 82.801834\n",
            "Model Predicted Count 91.327861328125\n",
            "ground trueth count 180.8547\n",
            "Model Predicted Count 197.06392578125\n",
            "ground trueth count 34.782997\n",
            "Model Predicted Count 35.3832275390625\n",
            "ground trueth count 92.96467\n",
            "Model Predicted Count 84.788076171875\n",
            "ground trueth count 32.34244\n",
            "Model Predicted Count 46.5792822265625\n",
            "ground trueth count 136.61745\n",
            "Model Predicted Count 120.467265625\n",
            "ground trueth count 56.96647\n",
            "Model Predicted Count 90.536181640625\n",
            "ground trueth count 54.886448\n",
            "Model Predicted Count 69.2812255859375\n",
            "ground trueth count 75.60373\n",
            "Model Predicted Count 83.534619140625\n",
            "ground trueth count 23.191471\n",
            "Model Predicted Count 29.92600341796875\n",
            "ground trueth count 50.08883\n",
            "Model Predicted Count 56.799755859375\n",
            "ground trueth count 300.52945\n",
            "Model Predicted Count 366.7234375\n",
            "ground trueth count 137.79485\n",
            "Model Predicted Count 129.40212890625\n",
            "ground trueth count 203.34142\n",
            "Model Predicted Count 236.969375\n",
            "ground trueth count 189.71057\n",
            "Model Predicted Count 187.240625\n",
            "ground trueth count 159.09926\n",
            "Model Predicted Count 172.35126953125\n",
            "ground trueth count 57.417175\n",
            "Model Predicted Count 76.123515625\n",
            "ground trueth count 84.2782\n",
            "Model Predicted Count 99.09869140625\n",
            "ground trueth count 35.75904\n",
            "Model Predicted Count 57.25212890625\n",
            "ground trueth count 64.02053\n",
            "Model Predicted Count 56.8812890625\n",
            "ground trueth count 52.293156\n",
            "Model Predicted Count 90.38666015625\n",
            "ground trueth count 86.393295\n",
            "Model Predicted Count 114.345068359375\n",
            "ground trueth count 144.62703\n",
            "Model Predicted Count 166.18458984375\n",
            "ground trueth count 195.03535\n",
            "Model Predicted Count 184.7125390625\n",
            "ground trueth count 56.276405\n",
            "Model Predicted Count 59.99455078125\n",
            "ground trueth count 51.138676\n",
            "Model Predicted Count 80.0727490234375\n",
            "ground trueth count 34.91503\n",
            "Model Predicted Count 42.78380859375\n",
            "ground trueth count 21.762672\n",
            "Model Predicted Count 26.60483154296875\n",
            "ground trueth count 221.17638\n",
            "Model Predicted Count 207.6244921875\n",
            "ground trueth count 17.652971\n",
            "Model Predicted Count 20.357178955078126\n",
            "ground trueth count 64.91945\n",
            "Model Predicted Count 93.60505859375\n",
            "ground trueth count 85.95706\n",
            "Model Predicted Count 84.41119140625\n",
            "ground trueth count 175.2342\n",
            "Model Predicted Count 192.45263671875\n",
            "ground trueth count 42.86865\n",
            "Model Predicted Count 42.0711279296875\n",
            "ground trueth count 87.1395\n",
            "Model Predicted Count 107.36724609375\n",
            "ground trueth count 113.489494\n",
            "Model Predicted Count 102.936103515625\n",
            "ground trueth count 87.58605\n",
            "Model Predicted Count 101.131591796875\n",
            "ground trueth count 321.04398\n",
            "Model Predicted Count 407.68140625\n",
            "ground trueth count 41.153393\n",
            "Model Predicted Count 48.6080615234375\n",
            "ground trueth count 24.249628\n",
            "Model Predicted Count 39.97837890625\n",
            "ground trueth count 61.31544\n",
            "Model Predicted Count 71.5028857421875\n",
            "ground trueth count 200.47281\n",
            "Model Predicted Count 203.03892578125\n",
            "ground trueth count 149.80562\n",
            "Model Predicted Count 174.2084375\n",
            "ground trueth count 94.94301\n",
            "Model Predicted Count 112.259052734375\n",
            "ground trueth count 57.417614\n",
            "Model Predicted Count 64.0131787109375\n",
            "ground trueth count 189.97939\n",
            "Model Predicted Count 181.25982421875\n",
            "ground trueth count 48.112255\n",
            "Model Predicted Count 52.6738623046875\n",
            "ground trueth count 30.133343\n",
            "Model Predicted Count 32.06817626953125\n",
            "ground trueth count 170.87364\n",
            "Model Predicted Count 248.79978515625\n",
            "ground trueth count 76.739235\n",
            "Model Predicted Count 79.291201171875\n",
            "ground trueth count 64.63494\n",
            "Model Predicted Count 97.431123046875\n",
            "ground trueth count 108.209625\n",
            "Model Predicted Count 111.714091796875\n",
            "ground trueth count 42.55957\n",
            "Model Predicted Count 56.2342333984375\n",
            "ground trueth count 221.86891\n",
            "Model Predicted Count 247.29267578125\n",
            "ground trueth count 198.61226\n",
            "Model Predicted Count 190.05138671875\n",
            "ground trueth count 90.52791\n",
            "Model Predicted Count 97.628974609375\n",
            "ground trueth count 173.19588\n",
            "Model Predicted Count 216.6560546875\n",
            "ground trueth count 61.78208\n",
            "Model Predicted Count 100.397919921875\n",
            "ground trueth count 46.697617\n",
            "Model Predicted Count 46.0526611328125\n",
            "ground trueth count 54.31454\n",
            "Model Predicted Count 51.9699072265625\n",
            "ground trueth count 26.833769\n",
            "Model Predicted Count 27.86834228515625\n",
            "ground trueth count 50.66639\n",
            "Model Predicted Count 63.0151025390625\n",
            "ground trueth count 41.90292\n",
            "Model Predicted Count 36.32604248046875\n",
            "ground trueth count 49.57179\n",
            "Model Predicted Count 54.5331494140625\n",
            "ground trueth count 191.80528\n",
            "Model Predicted Count 205.50865234375\n",
            "ground trueth count 422.205\n",
            "Model Predicted Count 442.838046875\n",
            "ground trueth count 163.95859\n",
            "Model Predicted Count 213.85982421875\n",
            "ground trueth count 37.454765\n",
            "Model Predicted Count 35.14282958984375\n",
            "ground trueth count 39.32774\n",
            "Model Predicted Count 65.868056640625\n",
            "ground trueth count 154.02292\n",
            "Model Predicted Count 226.610859375\n",
            "ground trueth count 89.29734\n",
            "Model Predicted Count 107.561142578125\n",
            "ground trueth count 43.948017\n",
            "Model Predicted Count 57.1345849609375\n",
            "ground trueth count 83.65422\n",
            "Model Predicted Count 76.1912255859375\n",
            "ground trueth count 102.00571\n",
            "Model Predicted Count 123.842392578125\n",
            "ground trueth count 31.076519\n",
            "Model Predicted Count 22.72607421875\n",
            "ground trueth count 329.60385\n",
            "Model Predicted Count 338.68765625\n",
            "ground trueth count 36.698708\n",
            "Model Predicted Count 46.2240673828125\n",
            "ground trueth count 27.03773\n",
            "Model Predicted Count 33.27326904296875\n",
            "ground trueth count 67.88705\n",
            "Model Predicted Count 76.3998681640625\n",
            "ground trueth count 84.819824\n",
            "Model Predicted Count 103.527822265625\n",
            "ground trueth count 151.62318\n",
            "Model Predicted Count 135.943642578125\n",
            "ground trueth count 183.5982\n",
            "Model Predicted Count 232.83228515625\n",
            "ground trueth count 32.935738\n",
            "Model Predicted Count 27.11267333984375\n",
            "ground trueth count 260.8042\n",
            "Model Predicted Count 382.5940625\n",
            "ground trueth count 79.88578\n",
            "Model Predicted Count 82.10603515625\n",
            "ground trueth count 78.57657\n",
            "Model Predicted Count 69.107822265625\n",
            "ground trueth count 44.503754\n",
            "Model Predicted Count 55.477412109375\n",
            "ground trueth count 53.441147\n",
            "Model Predicted Count 49.903193359375\n",
            "ground trueth count 23.336298\n",
            "Model Predicted Count 18.503729248046874\n",
            "ground trueth count 91.55054\n",
            "Model Predicted Count 109.185537109375\n",
            "ground trueth count 77.50017\n",
            "Model Predicted Count 71.5386669921875\n",
            "ground trueth count 185.78818\n",
            "Model Predicted Count 200.2398828125\n",
            "ground trueth count 76.18901\n",
            "Model Predicted Count 64.271650390625\n",
            "ground trueth count 30.250963\n",
            "Model Predicted Count 32.248720703125\n",
            "ground trueth count 44.634884\n",
            "Model Predicted Count 40.634638671875\n",
            "ground trueth count 192.03545\n",
            "Model Predicted Count 238.64884765625\n",
            "ground trueth count 403.2402\n",
            "Model Predicted Count 624.19125\n",
            "ground trueth count 57.08738\n",
            "Model Predicted Count 68.9340673828125\n",
            "ground trueth count 226.79413\n",
            "Model Predicted Count 266.290390625\n",
            "ground trueth count 47.164818\n",
            "Model Predicted Count 58.2556005859375\n",
            "ground trueth count 164.28893\n",
            "Model Predicted Count 224.62056640625\n",
            "ground trueth count 106.83117\n",
            "Model Predicted Count 125.2420703125\n",
            "ground trueth count 53.92906\n",
            "Model Predicted Count 71.5963330078125\n",
            "ground trueth count 172.23111\n",
            "Model Predicted Count 167.609375\n",
            "ground trueth count 90.69054\n",
            "Model Predicted Count 126.203408203125\n",
            "ground trueth count 43.339233\n",
            "Model Predicted Count 47.0961181640625\n",
            "ground trueth count 43.38076\n",
            "Model Predicted Count 47.069794921875\n",
            "ground trueth count 188.30641\n",
            "Model Predicted Count 255.61716796875\n",
            "ground trueth count 50.343033\n",
            "Model Predicted Count 52.3910302734375\n",
            "ground trueth count 258.45523\n",
            "Model Predicted Count 206.449375\n",
            "ground trueth count 538.1336\n",
            "Model Predicted Count 645.280703125\n",
            "ground trueth count 88.60863\n",
            "Model Predicted Count 91.128232421875\n",
            "ground trueth count 88.60684\n",
            "Model Predicted Count 79.416015625\n",
            "ground trueth count 212.12685\n",
            "Model Predicted Count 205.943515625\n",
            "ground trueth count 117.49258\n",
            "Model Predicted Count 90.44154296875\n",
            "ground trueth count 277.31372\n",
            "Model Predicted Count 259.1887890625\n",
            "ground trueth count 58.63535\n",
            "Model Predicted Count 55.5879296875\n",
            "ground trueth count 465.6679\n",
            "Model Predicted Count 447.0751171875\n",
            "ground trueth count 40.70603\n",
            "Model Predicted Count 51.8705517578125\n",
            "ground trueth count 127.29127\n",
            "Model Predicted Count 103.147158203125\n",
            "ground trueth count 52.385715\n",
            "Model Predicted Count 57.33171875\n",
            "ground trueth count 58.24729\n",
            "Model Predicted Count 65.141201171875\n",
            "ground trueth count 47.96912\n",
            "Model Predicted Count 55.7833837890625\n",
            "ground trueth count 54.161697\n",
            "Model Predicted Count 65.900087890625\n",
            "ground trueth count 20.714314\n",
            "Model Predicted Count 85.11908203125\n",
            "ground trueth count 161.51198\n",
            "Model Predicted Count 140.376689453125\n",
            "ground trueth count 51.572605\n",
            "Model Predicted Count 64.8553662109375\n",
            "ground trueth count 34.70074\n",
            "Model Predicted Count 42.009580078125\n",
            "ground trueth count 88.66416\n",
            "Model Predicted Count 98.452705078125\n",
            "ground trueth count 193.8328\n",
            "Model Predicted Count 182.15787109375\n",
            "ground trueth count 59.16315\n",
            "Model Predicted Count 57.246806640625\n",
            "ground trueth count 211.18245\n",
            "Model Predicted Count 222.54736328125\n",
            "ground trueth count 44.724964\n",
            "Model Predicted Count 50.8365625\n",
            "ground trueth count 206.32407\n",
            "Model Predicted Count 228.119921875\n",
            "ground trueth count 48.056164\n",
            "Model Predicted Count 42.2095263671875\n",
            "ground trueth count 239.9705\n",
            "Model Predicted Count 256.4200390625\n",
            "ground trueth count 103.79366\n",
            "Model Predicted Count 146.8322265625\n",
            "ground trueth count 111.790985\n",
            "Model Predicted Count 115.98380859375\n",
            " * TESTING MAE 22.641 \n"
          ]
        }
      ]
    },
    {
      "cell_type": "code",
      "metadata": {
        "colab": {
          "base_uri": "https://localhost:8080/"
        },
        "id": "qdJ1IbFVIyFt",
        "outputId": "a1296606-f771-495e-efd3-e524f5cb47c7"
      },
      "source": [
        "!ln -sf /opt/bin/nvidia-smi /usr/bin/nvidia-smi\n",
        "!pip install gputil\n",
        "!pip install psutil\n",
        "!pip install humanize"
      ],
      "execution_count": null,
      "outputs": [
        {
          "output_type": "stream",
          "name": "stdout",
          "text": [
            "Collecting gputil\n",
            "  Downloading GPUtil-1.4.0.tar.gz (5.5 kB)\n",
            "Building wheels for collected packages: gputil\n",
            "  Building wheel for gputil (setup.py) ... \u001b[?25l\u001b[?25hdone\n",
            "  Created wheel for gputil: filename=GPUtil-1.4.0-py3-none-any.whl size=7411 sha256=c1c52ebd494bb4a41344a15303a816d9d47a40102e18d143069265e71156ee44\n",
            "  Stored in directory: /root/.cache/pip/wheels/6e/f8/83/534c52482d6da64622ddbf72cd93c35d2ef2881b78fd08ff0c\n",
            "Successfully built gputil\n",
            "Installing collected packages: gputil\n",
            "Successfully installed gputil-1.4.0\n",
            "Requirement already satisfied: psutil in /usr/local/lib/python3.7/dist-packages (5.4.8)\n",
            "Requirement already satisfied: humanize in /usr/local/lib/python3.7/dist-packages (0.5.1)\n"
          ]
        }
      ]
    },
    {
      "cell_type": "code",
      "metadata": {
        "colab": {
          "base_uri": "https://localhost:8080/",
          "height": 363
        },
        "id": "yHn5t6vQAqcG",
        "outputId": "b9fde9c3-d31a-4327-f13a-f98b71e7351a"
      },
      "source": [
        "import psutil\n",
        "import humanize\n",
        "import os\n",
        "import GPUtil as GPU\n",
        "GPUs = GPU.getGPUs()\n",
        "# XXX: only one GPU on Colab and isn’t guaranteed\n",
        "gpu = GPUs[0]\n",
        "def printm():\n",
        " process = psutil.Process(os.getpid())\n",
        " print(\"Gen RAM Free: \" + humanize.naturalsize( psutil.virtual_memory().available ), \" | Proc size: \" + humanize.naturalsize( process.memory_info().rss))\n",
        " print(\"GPU RAM Free: {0:.0f}MB | Used: {1:.0f}MB | Util {2:3.0f}% | Total {3:.0f}MB\".format(gpu.memoryFree, gpu.memoryUsed, gpu.memoryUtil*100, gpu.memoryTotal))\n",
        "printm()\n"
      ],
      "execution_count": null,
      "outputs": [
        {
          "output_type": "error",
          "ename": "ModuleNotFoundError",
          "evalue": "ignored",
          "traceback": [
            "\u001b[0;31m---------------------------------------------------------------------------\u001b[0m",
            "\u001b[0;31mModuleNotFoundError\u001b[0m                       Traceback (most recent call last)",
            "\u001b[0;32m<ipython-input-17-80753d0f97ec>\u001b[0m in \u001b[0;36m<module>\u001b[0;34m()\u001b[0m\n\u001b[1;32m      2\u001b[0m \u001b[0;32mimport\u001b[0m \u001b[0mhumanize\u001b[0m\u001b[0;34m\u001b[0m\u001b[0;34m\u001b[0m\u001b[0m\n\u001b[1;32m      3\u001b[0m \u001b[0;32mimport\u001b[0m \u001b[0mos\u001b[0m\u001b[0;34m\u001b[0m\u001b[0;34m\u001b[0m\u001b[0m\n\u001b[0;32m----> 4\u001b[0;31m \u001b[0;32mimport\u001b[0m \u001b[0mGPUtil\u001b[0m \u001b[0;32mas\u001b[0m \u001b[0mGPU\u001b[0m\u001b[0;34m\u001b[0m\u001b[0;34m\u001b[0m\u001b[0m\n\u001b[0m\u001b[1;32m      5\u001b[0m \u001b[0mGPUs\u001b[0m \u001b[0;34m=\u001b[0m \u001b[0mGPU\u001b[0m\u001b[0;34m.\u001b[0m\u001b[0mgetGPUs\u001b[0m\u001b[0;34m(\u001b[0m\u001b[0;34m)\u001b[0m\u001b[0;34m\u001b[0m\u001b[0;34m\u001b[0m\u001b[0m\n\u001b[1;32m      6\u001b[0m \u001b[0;31m# XXX: only one GPU on Colab and isn’t guaranteed\u001b[0m\u001b[0;34m\u001b[0m\u001b[0;34m\u001b[0m\u001b[0;34m\u001b[0m\u001b[0m\n",
            "\u001b[0;31mModuleNotFoundError\u001b[0m: No module named 'GPUtil'",
            "",
            "\u001b[0;31m---------------------------------------------------------------------------\u001b[0;32m\nNOTE: If your import is failing due to a missing package, you can\nmanually install dependencies using either !pip or !apt.\n\nTo view examples of installing some common dependencies, click the\n\"Open Examples\" button below.\n\u001b[0;31m---------------------------------------------------------------------------\u001b[0m\n"
          ],
          "errorDetails": {
            "actions": [
              {
                "action": "open_url",
                "actionText": "Open Examples",
                "url": "/notebooks/snippets/importing_libraries.ipynb"
              }
            ]
          }
        }
      ]
    },
    {
      "cell_type": "code",
      "metadata": {
        "colab": {
          "base_uri": "https://localhost:8080/",
          "height": 170
        },
        "id": "0KqsXGvDIrbN",
        "outputId": "5854f0d4-2326-4f12-a052-6b3a855a7474"
      },
      "source": [
        "import torch, gc\n",
        "#with torch.no_grad():\n",
        "gc.collect()\n",
        "torch.cuda.empty_cache()\n",
        "torch.cuda.memory_summary(device=None, abbreviated=False)"
      ],
      "execution_count": null,
      "outputs": [
        {
          "output_type": "execute_result",
          "data": {
            "application/vnd.google.colaboratory.intrinsic+json": {
              "type": "string"
            },
            "text/plain": [
              "'|===========================================================================|\\n|                  PyTorch CUDA memory summary, device ID 0                 |\\n|---------------------------------------------------------------------------|\\n|            CUDA OOMs: 14           |        cudaMalloc retries: 14        |\\n|===========================================================================|\\n|        Metric         | Cur Usage  | Peak Usage | Tot Alloc  | Tot Freed  |\\n|---------------------------------------------------------------------------|\\n| Allocated memory      |    4672 MB |    9685 MB |   78618 MB |   73946 MB |\\n|       from large pool |    4664 MB |    9677 MB |   78591 MB |   73926 MB |\\n|       from small pool |       7 MB |      13 MB |      26 MB |      19 MB |\\n|---------------------------------------------------------------------------|\\n| Active memory         |    4672 MB |    9685 MB |   78618 MB |   73946 MB |\\n|       from large pool |    4664 MB |    9677 MB |   78591 MB |   73926 MB |\\n|       from small pool |       7 MB |      13 MB |      26 MB |      19 MB |\\n|---------------------------------------------------------------------------|\\n| GPU reserved memory   |    8934 MB |   10692 MB |   15316 MB |    6382 MB |\\n|       from large pool |    8924 MB |   10678 MB |   15298 MB |    6374 MB |\\n|       from small pool |      10 MB |      14 MB |      18 MB |       8 MB |\\n|---------------------------------------------------------------------------|\\n| Non-releasable memory |    4261 MB |    4564 MB |   67407 MB |   63145 MB |\\n|       from large pool |    4259 MB |    4561 MB |   67374 MB |   63115 MB |\\n|       from small pool |       2 MB |       6 MB |      33 MB |      30 MB |\\n|---------------------------------------------------------------------------|\\n| Allocations           |     520    |     736    |    4971    |    4451    |\\n|       from large pool |     142    |     268    |    1861    |    1719    |\\n|       from small pool |     378    |     576    |    3110    |    2732    |\\n|---------------------------------------------------------------------------|\\n| Active allocs         |     520    |     736    |    4971    |    4451    |\\n|       from large pool |     142    |     268    |    1861    |    1719    |\\n|       from small pool |     378    |     576    |    3110    |    2732    |\\n|---------------------------------------------------------------------------|\\n| GPU reserved segments |      81    |     119    |     140    |      59    |\\n|       from large pool |      76    |     114    |     131    |      55    |\\n|       from small pool |       5    |       7    |       9    |       4    |\\n|---------------------------------------------------------------------------|\\n| Non-releasable allocs |     112    |     115    |    2350    |    2238    |\\n|       from large pool |      74    |      83    |     990    |     916    |\\n|       from small pool |      38    |      50    |    1360    |    1322    |\\n|===========================================================================|\\n'"
            ]
          },
          "metadata": {},
          "execution_count": 16
        }
      ]
    },
    {
      "cell_type": "code",
      "metadata": {
        "id": "cK2Dp5ElI5s_"
      },
      "source": [
        ""
      ],
      "execution_count": null,
      "outputs": []
    },
    {
      "cell_type": "code",
      "metadata": {
        "id": "kiRp0fnKVOBR"
      },
      "source": [
        ""
      ],
      "execution_count": null,
      "outputs": []
    }
  ]
}